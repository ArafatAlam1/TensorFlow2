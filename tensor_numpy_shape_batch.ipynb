{
  "nbformat": 4,
  "nbformat_minor": 0,
  "metadata": {
    "colab": {
      "name": "tensor_numpy_shape_batch.ipynb",
      "provenance": [],
      "collapsed_sections": [],
      "include_colab_link": true
    },
    "kernelspec": {
      "name": "python3",
      "display_name": "Python 3"
    }
  },
  "cells": [
    {
      "cell_type": "markdown",
      "metadata": {
        "id": "view-in-github",
        "colab_type": "text"
      },
      "source": [
        "<a href=\"https://colab.research.google.com/github/raqueeb/TensorFlow2/blob/master/tensor_numpy_shape_batch.ipynb\" target=\"_parent\"><img src=\"https://colab.research.google.com/assets/colab-badge.svg\" alt=\"Open In Colab\"/></a>"
      ]
    },
    {
      "cell_type": "markdown",
      "metadata": {
        "id": "yjx49CwPUtSP",
        "colab_type": "text"
      },
      "source": [
        "## নিউরাল নেটওয়ার্কে ডাটা কিভাবে থাকে?\n",
        "(খসড়া)\n",
        "\n",
        "নিউরাল নেটওয়ার্কে কিভাবে ডাটা রিপ্রেজেন্টেশন হয় সেটা হাতেকলমে দেখলে ব্যাপারটা আরো পরিস্কার হবে। “শূন্য থেকে পাইথন মেশিন লার্নিং” বইটাতে এই ব্যাপারে ধারণা দিলেও সেটাকে একটু অন্যভাবে এখানে আলাপ করতে চাচ্ছি। নিউরাল নেটওয়ার্কে যখন ডাটাকে স্টোর করতে গিয়ে যে অনেক ডাইমেনশনের ‘নামপাই’ অথবা ‘টেন্সরফ্লো’তে n সংখ্যক অ্যারে ব্যবহার করছি সেটাকে আমরা ‘টেন্সর’ বলতে পারি। এই ‘টেন্সর’ হচ্ছে ডিপ লার্নিং এর একটা বেসিক অংশ যাকে গুগল ‘টেন্সর’ এর ‘ফ্লো’ মানে গতিধারা দিয়ে টেন্সরফ্লো বলে ডিপ লার্নিং লাইব্রেরি তৈরি করেছে। ঠিক ধরেছেন, টেনসর এর ফ্লো। আমাদের ডাটা কন্টেইনার হচ্ছে এই ‘টেন্সর’ যা প্রায় সব সময় সংখ্যা নিয়ে কাজ করে। কম্পিউটার তো আর সংখ্যা ছাড়া কিছু চেনে না। কেরাস এর জনক ‘ফ্রাঁসোয়া শোলে’ এর একটা অসাধারণ বই আছে এই ধারণাগুলোকে নিয়ে। বর্তমান ‘টেন্সরফ্লো’ নতুন ফিচার নিয়ে এই বইটা কাভার না করলেও অনেক কিছু জিনিস জানতে আমি প্রায় ফেরত যাই ওই “ডিপ লার্নিং উইথ পাইথন” বইটাতে। কিছুটা পুরনো তবে এখনো কাজে লাগে। সেখান থেকে কিছু ধারনা নিয়েছি এখানে।"
      ]
    },
    {
      "cell_type": "markdown",
      "metadata": {
        "id": "-wfD_5eOxMVG",
        "colab_type": "text"
      },
      "source": [
        "‘নামপাই’ এবং ‘টেন্সরফ্লো’ এর ‘টেন্সর’ প্রায় একই জিনিস। দুটোই N ডাইমেনশন অ্যারে লাইব্রেরি। নামপাই স্বয়ংক্রিয়ভাবে ডেরিভেটিভ কম্পিউট করতে পারে না। এর পাশাপাশি জিপিইউ ব্যবহার করতে পারে না। তাছাড়া দুটোর কাজ প্রায় একই। যেদুটো কাজ পারছেনা নামপাই, সেগুলো আমাদের কাজে এগুলো এমুহুর্তে লাগবে না। এছাড়া ‘টেন্সরফ্লো’তে নামপাই বলে আলাদা মেথড আছে যা দেখাবো সামনে।  \n",
        "\n",
        "### ১. স্কেলার (০ ডাইমেনশনের ‘টেন্সর’) \n",
        "\n",
        "যেই টেন্সরে একটা মাত্র সংখ্যা থাকে সেটাকে আমরা স্কেলার টেন্সর বলতে পারি। একে ০ ডাইমেনশন টেন্সর বলা হচ্ছে যেখানে ০ এক্সিস মানে ০ দিকে এর ডাইমেনশন আছে। আমরা নামপাই টেন্সরে এক্সিস দেখতে পারি ndim অ্যাট্রিবিউট দিয়ে। একটা টেন্সরে এক্সিসের সংখ্যাকে আমরা অনেক সময় রেঙ্ক “rank” বলি। "
      ]
    },
    {
      "cell_type": "code",
      "metadata": {
        "id": "jdWuhV9_Un1s",
        "colab_type": "code",
        "outputId": "7839783b-a326-4195-ad0c-fb2d6bb34723",
        "colab": {
          "base_uri": "https://localhost:8080/",
          "height": 35
        }
      },
      "source": [
        "import numpy as np\n",
        "ক = np.array(12)\n",
        "ক"
      ],
      "execution_count": 1,
      "outputs": [
        {
          "output_type": "execute_result",
          "data": {
            "text/plain": [
              "array(12)"
            ]
          },
          "metadata": {
            "tags": []
          },
          "execution_count": 1
        }
      ]
    },
    {
      "cell_type": "code",
      "metadata": {
        "id": "dMkmYaHOVQrR",
        "colab_type": "code",
        "outputId": "0370b287-68f5-44fc-bb0a-12d781900878",
        "colab": {
          "base_uri": "https://localhost:8080/",
          "height": 35
        }
      },
      "source": [
        "ক.ndim"
      ],
      "execution_count": 2,
      "outputs": [
        {
          "output_type": "execute_result",
          "data": {
            "text/plain": [
              "0"
            ]
          },
          "metadata": {
            "tags": []
          },
          "execution_count": 2
        }
      ]
    },
    {
      "cell_type": "markdown",
      "metadata": {
        "id": "iJ77_EG_q4Yo",
        "colab_type": "text"
      },
      "source": [
        "### ২. ভেক্টর (১ ডাইমেনশনের ‘টেন্সর’) \n",
        "\n",
        "সংখ্যার অ্যারেকে আমরা ভেক্টর বা ১ ডাইমেনশন টেন্সর বলি। এখানে আমরা চারটা সংখ্যার অ্যারেকে নিয়ে একটা এক ডাইমেনশনের ‘টেন্সর’ তৈরি করেছি।"
      ]
    },
    {
      "cell_type": "code",
      "metadata": {
        "id": "R8VLwZNoyEGi",
        "colab_type": "code",
        "colab": {
          "base_uri": "https://localhost:8080/",
          "height": 35
        },
        "outputId": "e37a56c8-8dd5-45d1-f836-3122d7ed77df"
      },
      "source": [
        "খ = np.array([12, 3, 6, 14])\n",
        "খ"
      ],
      "execution_count": 3,
      "outputs": [
        {
          "output_type": "execute_result",
          "data": {
            "text/plain": [
              "array([12,  3,  6, 14])"
            ]
          },
          "metadata": {
            "tags": []
          },
          "execution_count": 3
        }
      ]
    },
    {
      "cell_type": "code",
      "metadata": {
        "id": "vV8d5Xc7yLVc",
        "colab_type": "code",
        "colab": {
          "base_uri": "https://localhost:8080/",
          "height": 35
        },
        "outputId": "e78f373f-a68f-45e5-d581-3a933710a9c4"
      },
      "source": [
        "খ.ndim"
      ],
      "execution_count": 4,
      "outputs": [
        {
          "output_type": "execute_result",
          "data": {
            "text/plain": [
              "1"
            ]
          },
          "metadata": {
            "tags": []
          },
          "execution_count": 4
        }
      ]
    },
    {
      "cell_type": "markdown",
      "metadata": {
        "id": "4Z7IWRudyWMd",
        "colab_type": "text"
      },
      "source": [
        "### ৩. ম্যাট্রিক্স, দুই ডাইমেনশন এর ‘টেন্সর’\n",
        "\n",
        "আগে আমরা যেই ভেক্টর নিয়ে আলাপ করেছিলাম সেই ভেক্টরের অ্যারেকে আমরা ম্যাট্রিক্স বলতে পারি। এটা দুই ডাইমেনশন এর ‘টেন্সর’। একটা ম্যাট্রিক্সে দুটো এক্সিস থাকে যাকে আমরা ‘সারি’ এবং ‘কলাম’ দিয়ে ডিফাইন করতে পারি। নিচের উদাহরণটা দেখুন, এখানে প্রথম এক্সিস হচ্ছে ‘সারি’ আর পরের এক্সিসটা হচ্ছে ‘কলাম’।"
      ]
    },
    {
      "cell_type": "code",
      "metadata": {
        "id": "tZzug4icq5AF",
        "colab_type": "code",
        "outputId": "00e0a5f3-e705-4000-ecdd-eb625e1fc469",
        "colab": {
          "base_uri": "https://localhost:8080/",
          "height": 69
        }
      },
      "source": [
        "গ = np.array([[5, 78, 2, 34, 0],\n",
        "              [6, 79, 3, 35, 1],\n",
        "              [7, 80, 4, 36, 2]])\n",
        "গ"
      ],
      "execution_count": 5,
      "outputs": [
        {
          "output_type": "execute_result",
          "data": {
            "text/plain": [
              "array([[ 5, 78,  2, 34,  0],\n",
              "       [ 6, 79,  3, 35,  1],\n",
              "       [ 7, 80,  4, 36,  2]])"
            ]
          },
          "metadata": {
            "tags": []
          },
          "execution_count": 5
        }
      ]
    },
    {
      "cell_type": "code",
      "metadata": {
        "id": "SkJZks0frJAa",
        "colab_type": "code",
        "outputId": "0cb69586-a39a-44a2-cfe3-efc57fce9f11",
        "colab": {
          "base_uri": "https://localhost:8080/",
          "height": 35
        }
      },
      "source": [
        "গ.ndim"
      ],
      "execution_count": 6,
      "outputs": [
        {
          "output_type": "execute_result",
          "data": {
            "text/plain": [
              "2"
            ]
          },
          "metadata": {
            "tags": []
          },
          "execution_count": 6
        }
      ]
    },
    {
      "cell_type": "code",
      "metadata": {
        "id": "pp_Wp_ptBwNn",
        "colab_type": "code",
        "colab": {
          "base_uri": "https://localhost:8080/",
          "height": 52
        },
        "outputId": "82dbc7a8-261a-4cde-e251-dc8fd77ad2aa"
      },
      "source": [
        "# পাশাপাশি একটু সরাসরি টেন্সরফ্লোতে দেখি \n",
        "# টেন্সরফ্লো ২.x সিলেক্ট করি\n",
        "%tensorflow_version 2.x\n",
        "import tensorflow as tf\n",
        "# একটা কনস্ট্যান্ট টেন্সর বানাই, যেটা পাল্টাবে না\n",
        "ঘ = tf.constant([[3, 2],\n",
        "                 [5, 2]])\n",
        "\n",
        "# ভ্যারিয়েবল টেন্সর, যেটা পাল্টাবে, মানে .Variable\n",
        "ঙ = tf.Variable([[3, 2],\n",
        "                 [5, 2],\n",
        "                 [5, 2]])\n",
        "# tf.shape(ঘ)\n",
        "# আমরা শেপ দেখি\n",
        "tf.shape(ঙ)"
      ],
      "execution_count": 7,
      "outputs": [
        {
          "output_type": "stream",
          "text": [
            "TensorFlow 2.x selected.\n"
          ],
          "name": "stdout"
        },
        {
          "output_type": "execute_result",
          "data": {
            "text/plain": [
              "<tf.Tensor: shape=(2,), dtype=int32, numpy=array([3, 2], dtype=int32)>"
            ]
          },
          "metadata": {
            "tags": []
          },
          "execution_count": 7
        }
      ]
    },
    {
      "cell_type": "code",
      "metadata": {
        "id": "il_dIA2MFBK3",
        "colab_type": "code",
        "colab": {
          "base_uri": "https://localhost:8080/",
          "height": 52
        },
        "outputId": "aba38120-4304-4b6d-86aa-fa1e35e79484"
      },
      "source": [
        "# আরেকটা উদাহরণ\n",
        "চ = tf.constant([[1.0, 2.0, 3.0], \n",
        "                 [4.0, 5.0, 6.0]])\n",
        "print(চ.get_shape())\n",
        "print(চ.shape.dims)"
      ],
      "execution_count": 8,
      "outputs": [
        {
          "output_type": "stream",
          "text": [
            "(2, 3)\n",
            "[Dimension(2), Dimension(3)]\n"
          ],
          "name": "stdout"
        }
      ]
    },
    {
      "cell_type": "markdown",
      "metadata": {
        "id": "mLN2MVpayme4",
        "colab_type": "text"
      },
      "source": [
        "### ৪. ৩ ডাইমেনশন এবং তার বেশি ডাইমেনশনের ‘টেন্সর’\n",
        "\n",
        "আমরা যখন এরকম কয়েকটা ম্যাট্রিক্সকে আগের মতো একটা অ্যারেতে ফেলতে চাই তখন সেটা তিন ডাইমেনশনের টেন্সর হয়ে যায়। এ ধরনের ছবিগুলো আমরা দেখেছিলাম “শূন্য থেকে পাইথন মেশিন লার্নিং” বইটাতে। এর এক্সিস তিনটা। এভাবে আমরা চার ডাইমেনশনের টেন্সর তৈরি করতে পারি। বিশেষ করে আমাদের ‘কম্পিউটার ভিশন’ রিলেটেড সমস্যাগুলো যা ছবি নিয়ে কাজ করে - সেগুলো চার ডাইমেনশন এর হয়ে থাকে। ডিপ লার্নিং এ আমরা সাধারণত শূন্য থেকে চার ডাইমেনশন নিয়ে কথা বলব। যখন সেটা ভিডিও হবে তখন সেটা পাঁচ ডাইমেনশনে চলে যাবে।\n"
      ]
    },
    {
      "cell_type": "code",
      "metadata": {
        "id": "dI2AdtrbrRWm",
        "colab_type": "code",
        "colab": {}
      },
      "source": [
        "ছ = np.array([[[5, 78, 2, 34, 0],\n",
        "              [6, 79, 3, 35, 1],\n",
        "              [7, 80, 4, 36, 2]],\n",
        "              \n",
        "              [[5, 78, 2, 34, 0],\n",
        "              [6, 79, 3, 35, 1],\n",
        "              [7, 80, 4, 36, 2]],\n",
        "              \n",
        "              [[5, 78, 2, 34, 0],\n",
        "              [6, 79, 3, 35, 1],\n",
        "              [7, 80, 4, 36, 2]]])"
      ],
      "execution_count": 0,
      "outputs": []
    },
    {
      "cell_type": "code",
      "metadata": {
        "id": "9ztmJYzVrlIb",
        "colab_type": "code",
        "outputId": "558cb679-91bb-4eb5-8681-6070de748f08",
        "colab": {
          "base_uri": "https://localhost:8080/",
          "height": 208
        }
      },
      "source": [
        "ছ"
      ],
      "execution_count": 10,
      "outputs": [
        {
          "output_type": "execute_result",
          "data": {
            "text/plain": [
              "array([[[ 5, 78,  2, 34,  0],\n",
              "        [ 6, 79,  3, 35,  1],\n",
              "        [ 7, 80,  4, 36,  2]],\n",
              "\n",
              "       [[ 5, 78,  2, 34,  0],\n",
              "        [ 6, 79,  3, 35,  1],\n",
              "        [ 7, 80,  4, 36,  2]],\n",
              "\n",
              "       [[ 5, 78,  2, 34,  0],\n",
              "        [ 6, 79,  3, 35,  1],\n",
              "        [ 7, 80,  4, 36,  2]]])"
            ]
          },
          "metadata": {
            "tags": []
          },
          "execution_count": 10
        }
      ]
    },
    {
      "cell_type": "code",
      "metadata": {
        "id": "XNkWIJqIrwa7",
        "colab_type": "code",
        "outputId": "e5542cfd-8e58-4800-902b-f99069d50ffe",
        "colab": {
          "base_uri": "https://localhost:8080/",
          "height": 35
        }
      },
      "source": [
        "ছ.ndim"
      ],
      "execution_count": 11,
      "outputs": [
        {
          "output_type": "execute_result",
          "data": {
            "text/plain": [
              "3"
            ]
          },
          "metadata": {
            "tags": []
          },
          "execution_count": 11
        }
      ]
    },
    {
      "cell_type": "markdown",
      "metadata": {
        "id": "E1nxd_MZywsk",
        "colab_type": "text"
      },
      "source": [
        "### শেপ (shape)\n",
        "\n",
        "এটা ইন্টিজার এর তৈরি করা একটা “টুপল” (tuple) যা একটা টেন্সরের প্রতিটা এক্সিসে কত ডাইমেনশন আছে। আগের ভেক্টরে শেপ ছিল (৫, ), ম্যাট্রিক্স উদাহরণে শেপ (৩, ৫) পাশাপাশি তিন ডাইমেনশনের এর টেন্সরে শেপ ছিল (৩,৩,৫) আর স্কেলার (), মানে খালি শেপ। \n",
        "\n",
        "(১) ভেক্টর ডাটা - (samples, features)\n",
        "\n",
        "(২) টাইমসিরিজ/ সিকোয়েন্স ডাটা ৩D - (samples, timesteps, features)\n",
        "\n",
        "(৩) ইমেজ ডাটা, যেমন এমনিস্ট ৪D - (samples, height, width, channels) অথবা (samples, channels, height, width) \n",
        "\n",
        "(৪) ভিডিও ডাটা ৫D - (samples, frames, height, width, channels) অথবা (samples, frames, channels, height, width)\n",
        "\n",
        "### ইমেজ ডাটা শেপ\n",
        "\n",
        "সাধারণতঃ ইমেজে তিনটা ডাইমেনশন হয়, দৈর্ঘ্য, প্রস্থ এবং কালার চ্যানেল। আমাদের এমনিস্ট ডাটাসেট নিয়ে কাজ করতে গেলে একটা মজার জিনিস হয়। যেহেতু এটা গ্রে-স্কেল এর মানে হচ্ছে কালার চ্যানেল একটা দিয়েই হয়ে যায়। এর মানে ২D টেন্সরে হয়ে যাবার কথা। তবে কনভেনশন অনুযায়ী ইমেজ যেহেতু ৩D, সেখানে ১ ডাইমেনশন কালার চ্যানেল ব্যবহার হবে গ্রে-স্কেল ইমেজের জন্য। কালারের জন্য ৩। \n",
        "\n",
        "ধরুন, ৩২টা ২৮ × ২৮ পিক্সেলের গ্রে-স্কেল ইমেজ স্টোর করা যাবে যেই টেন্সরে তার শেপ (৩২, ২৮, ২৮, ১) অথবা কালারের জন্য শেপ গিয়ে দাড়াবে (৩২, ২৮, ২৮, ১)তে।\n"
      ]
    },
    {
      "cell_type": "markdown",
      "metadata": {
        "id": "sRxp7sChGrzp",
        "colab_type": "text"
      },
      "source": [
        "<img src=\"https://raw.githubusercontent.com/raqueeb/deep_learning_book/master/assets/image-channel.png\"> চিত্রঃ ৪D ইমেজ ডাটা টেন্সর এর উদাহরণ"
      ]
    },
    {
      "cell_type": "code",
      "metadata": {
        "id": "9mJ3lq5BGsoc",
        "colab_type": "code",
        "colab": {
          "base_uri": "https://localhost:8080/",
          "height": 156
        },
        "outputId": "76a91073-3285-49cb-97b0-825851e33c71"
      },
      "source": [
        "# টেন্সর শেপকে পাল্টে অন্য শেপে আনা, লাগবে এমনিস্ট ডাটাসেটে\n",
        "টেন্সর = tf.constant([[3, 2],\n",
        "                      [5, 2],\n",
        "                      [9, 5],\n",
        "                      [1, 3]])\n",
        "\n",
        "# টেন্সরকে সারি, কলাম ধরে পাল্টাই: shape = [rows, columns]\n",
        "শেপ_টেন্সর = tf.reshape(tensor = টেন্সর,\n",
        "                             shape = [1, 8])\n",
        "\n",
        "print(('টেন্সর রিশেপিং এর আগে:\\n{0}').format(\n",
        "    টেন্সর.numpy()\n",
        "))\n",
        "print(('\\nটেন্সর রিশেপিং এর পরে:\\n{0}').format(\n",
        "    শেপ_টেন্সর.numpy()\n",
        "))"
      ],
      "execution_count": 12,
      "outputs": [
        {
          "output_type": "stream",
          "text": [
            "টেন্সর রিশেপিং এর আগে:\n",
            "[[3 2]\n",
            " [5 2]\n",
            " [9 5]\n",
            " [1 3]]\n",
            "\n",
            "টেন্সর রিশেপিং এর পরে:\n",
            "[[3 2 5 2 9 5 1 3]]\n"
          ],
          "name": "stdout"
        }
      ]
    },
    {
      "cell_type": "code",
      "metadata": {
        "id": "yH6NekvOsAY2",
        "colab_type": "code",
        "colab": {}
      },
      "source": [
        "import tensorflow as tf\n",
        "from tensorflow import keras\n",
        "ফ্যাশন_এমনিস্ট = tf.keras.datasets.fashion_mnist\n",
        "#(train_images, train_labels), (test_images, test_labels) = ফ্যাশন_এমনিস্ট.load_data()\n",
        "(ট্রেনিং_ইমেজ, ট্রেনিং_লেবেল), (টেস্ট_ইমেজ, টেস্ট_লেবেল) = ফ্যাশন_এমনিস্ট.load_data()"
      ],
      "execution_count": 0,
      "outputs": []
    },
    {
      "cell_type": "code",
      "metadata": {
        "id": "OjXjO5t7udXj",
        "colab_type": "code",
        "outputId": "b4fb2763-2d3b-4cf5-c7bb-7cbde6285ddf",
        "colab": {
          "base_uri": "https://localhost:8080/",
          "height": 35
        }
      },
      "source": [
        "print(ট্রেনিং_ইমেজ.ndim)"
      ],
      "execution_count": 14,
      "outputs": [
        {
          "output_type": "stream",
          "text": [
            "3\n"
          ],
          "name": "stdout"
        }
      ]
    },
    {
      "cell_type": "code",
      "metadata": {
        "id": "CO5-XC64UBBX",
        "colab_type": "code",
        "colab": {
          "base_uri": "https://localhost:8080/",
          "height": 35
        },
        "outputId": "4cb99645-efa0-47a8-a235-71077038e8a4"
      },
      "source": [
        "print(ট্রেনিং_ইমেজ.shape)"
      ],
      "execution_count": 15,
      "outputs": [
        {
          "output_type": "stream",
          "text": [
            "(60000, 28, 28)\n"
          ],
          "name": "stdout"
        }
      ]
    },
    {
      "cell_type": "code",
      "metadata": {
        "id": "4LSleoeAUY1w",
        "colab_type": "code",
        "colab": {
          "base_uri": "https://localhost:8080/",
          "height": 35
        },
        "outputId": "f18a941e-5e48-4346-e595-43b325082a2a"
      },
      "source": [
        "পরিক্ষা_ইমেজ১ = ট্রেনিং_ইমেজ[10:100]\n",
        "print(পরিক্ষা_ইমেজ১.shape)\n"
      ],
      "execution_count": 17,
      "outputs": [
        {
          "output_type": "stream",
          "text": [
            "(90, 28, 28)\n"
          ],
          "name": "stdout"
        }
      ]
    },
    {
      "cell_type": "code",
      "metadata": {
        "id": "4gs_XIAcW68M",
        "colab_type": "code",
        "colab": {
          "base_uri": "https://localhost:8080/",
          "height": 35
        },
        "outputId": "27f82677-901d-42d1-8f1f-017b3705e708"
      },
      "source": [
        "পরিক্ষা_ইমেজ২ = ট্রেনিং_ইমেজ[10:100, :, :]\n",
        "পরিক্ষা_ইমেজ২.shape"
      ],
      "execution_count": 18,
      "outputs": [
        {
          "output_type": "execute_result",
          "data": {
            "text/plain": [
              "(90, 28, 28)"
            ]
          },
          "metadata": {
            "tags": []
          },
          "execution_count": 18
        }
      ]
    },
    {
      "cell_type": "code",
      "metadata": {
        "id": "qoGs_e_YXbXC",
        "colab_type": "code",
        "colab": {
          "base_uri": "https://localhost:8080/",
          "height": 35
        },
        "outputId": "e9a5d14e-359d-4a31-a394-9da5ac59c067"
      },
      "source": [
        "পরিক্ষা_ইমেজ৩ = ট্রেনিং_ইমেজ[10:100, 0:28, 0:28]\n",
        "পরিক্ষা_ইমেজ৩.shape"
      ],
      "execution_count": 19,
      "outputs": [
        {
          "output_type": "execute_result",
          "data": {
            "text/plain": [
              "(90, 28, 28)"
            ]
          },
          "metadata": {
            "tags": []
          },
          "execution_count": 19
        }
      ]
    }
  ]
}