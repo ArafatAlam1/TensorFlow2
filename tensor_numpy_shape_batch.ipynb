{
  "nbformat": 4,
  "nbformat_minor": 0,
  "metadata": {
    "colab": {
      "name": "tensor_numpy_shape_batch.ipynb",
      "provenance": [],
      "collapsed_sections": [],
      "include_colab_link": true
    },
    "kernelspec": {
      "name": "python3",
      "display_name": "Python 3"
    }
  },
  "cells": [
    {
      "cell_type": "markdown",
      "metadata": {
        "id": "view-in-github",
        "colab_type": "text"
      },
      "source": [
        "<a href=\"https://colab.research.google.com/github/raqueeb/TensorFlow2/blob/master/tensor_numpy_shape_batch.ipynb\" target=\"_parent\"><img src=\"https://colab.research.google.com/assets/colab-badge.svg\" alt=\"Open In Colab\"/></a>"
      ]
    },
    {
      "cell_type": "markdown",
      "metadata": {
        "id": "yjx49CwPUtSP",
        "colab_type": "text"
      },
      "source": [
        "## নিউরাল নেটওয়ার্কে ডাটা কিভাবে থাকে?\n",
        "(খসড়া)\n",
        "\n",
        "নিউরাল নেটওয়ার্কে কিভাবে ডাটা রিপ্রেজেন্টেশন হয় সেটা হাতেকলমে দেখলে ব্যাপারটা আরো পরিস্কার হবে। “শূন্য থেকে পাইথন মেশিন লার্নিং” বইটাতে এই ব্যাপারে ধারণা দিলেও সেটাকে একটু অন্যভাবে এখানে আলাপ করতে চাচ্ছি। নিউরাল নেটওয়ার্কে যখন ডাটাকে স্টোর করতে গিয়ে যে অনেক ডাইমেনশনের ‘নামপাই’ অথবা ‘টেন্সরফ্লো’তে n সংখ্যক অ্যারে ব্যবহার করছি সেটাকে আমরা ‘টেন্সর’ বলতে পারি। এই ‘টেন্সর’ হচ্ছে ডিপ লার্নিং এর একটা বেসিক অংশ যাকে গুগল ‘টেন্সর’ এর ‘ফ্লো’ মানে টেন্সরের গতিধারা দিয়ে 'টেন্সরফ্লো' বলে একটা ডিপ লার্নিং লাইব্রেরি তৈরি করেছে। আবারো বলছি, টেন্সর এর ফ্লো। \n",
        "\n",
        "আমাদের ডাটা কন্টেইনার হচ্ছে এই ‘টেন্সর’ যা প্রায় সব সময় সংখ্যা নিয়ে কাজ করে। কম্পিউটার তো আর সংখ্যা ছাড়া কিছু চেনে না। কেরাস এর জনক ‘ফ্রাঁসোয়া শোলে’ এর একটা অসাধারণ বই আছে এই ধারণাগুলোকে নিয়ে। বর্তমান ‘টেন্সরফ্লো’ এর নতুন ফিচারগুলো এই বইটাতে কাভার না করলেও অনেক বেসিক জিনিস জানতে আমি প্রায় ফেরত যাই ওই “ডিপ লার্নিং উইথ পাইথন” বইটাতে। কিছুটা পুরনো তবে এখনো কাজে লাগে। সেখান থেকে কিছু ধারনা নিয়েছি এখানে।"
      ]
    },
    {
      "cell_type": "markdown",
      "metadata": {
        "id": "-wfD_5eOxMVG",
        "colab_type": "text"
      },
      "source": [
        "‘নামপাই’ এবং ‘টেন্সরফ্লো’ এর ‘টেন্সর’ প্রায় একই জিনিস। দুটোই N ডাইমেনশন অ্যারে লাইব্রেরি। নামপাই স্বয়ংক্রিয়ভাবে ডেরিভেটিভ কম্পিউট করতে পারে না। এর পাশাপাশি জিপিইউ ব্যবহার করতে পারে না। তাছাড়া দুটোর কাজ প্রায় একই। যেদুটো কাজ পারছেনা নামপাই, সেগুলো আমাদের কাজে এগুলো এমুহুর্তে লাগবে না। এছাড়া ‘টেন্সরফ্লো’তে নামপাই বলে আলাদা মেথড আছে যা দেখাবো সামনে।  \n",
        "\n",
        "### ১. স্কেলার (০ ডাইমেনশনের ‘টেন্সর’) \n",
        "\n",
        "যেই টেন্সরে একটা মাত্র সংখ্যা থাকে সেটাকে আমরা স্কেলার টেন্সর বলতে পারি। একে ০ ডাইমেনশন টেন্সর বলা হচ্ছে যেখানে ০ এক্সিস মানে ০ দিকে এর ডাইমেনশন আছে। আমরা নামপাই টেন্সরে এক্সিস দেখতে পারি ndim অ্যাট্রিবিউট দিয়ে। একটা টেন্সরে এক্সিসের সংখ্যাকে আমরা অনেক সময় রেঙ্ক “rank” বলি। "
      ]
    },
    {
      "cell_type": "code",
      "metadata": {
        "id": "jdWuhV9_Un1s",
        "colab_type": "code",
        "outputId": "a08be040-5b0b-4c05-fbf4-d541f08d07b5",
        "colab": {
          "base_uri": "https://localhost:8080/",
          "height": 35
        }
      },
      "source": [
        "import numpy as np\n",
        "ক = np.array(12)\n",
        "ক"
      ],
      "execution_count": 1,
      "outputs": [
        {
          "output_type": "execute_result",
          "data": {
            "text/plain": [
              "array(12)"
            ]
          },
          "metadata": {
            "tags": []
          },
          "execution_count": 1
        }
      ]
    },
    {
      "cell_type": "code",
      "metadata": {
        "id": "dMkmYaHOVQrR",
        "colab_type": "code",
        "outputId": "27938946-5bf2-4998-9ed3-e29ea31b94c9",
        "colab": {
          "base_uri": "https://localhost:8080/",
          "height": 35
        }
      },
      "source": [
        "ক.ndim"
      ],
      "execution_count": 2,
      "outputs": [
        {
          "output_type": "execute_result",
          "data": {
            "text/plain": [
              "0"
            ]
          },
          "metadata": {
            "tags": []
          },
          "execution_count": 2
        }
      ]
    },
    {
      "cell_type": "markdown",
      "metadata": {
        "id": "iJ77_EG_q4Yo",
        "colab_type": "text"
      },
      "source": [
        "### ২. ভেক্টর (১ ডাইমেনশনের ‘টেন্সর’) \n",
        "\n",
        "সংখ্যার অ্যারেকে আমরা ভেক্টর বা ১ ডাইমেনশন টেন্সর বলি। এখানে আমরা চারটা সংখ্যার অ্যারেকে নিয়ে একটা এক ডাইমেনশনের ‘টেন্সর’ তৈরি করেছি।"
      ]
    },
    {
      "cell_type": "code",
      "metadata": {
        "id": "R8VLwZNoyEGi",
        "colab_type": "code",
        "outputId": "8dc5be9c-2eb1-4603-fbed-338adda9724d",
        "colab": {
          "base_uri": "https://localhost:8080/",
          "height": 35
        }
      },
      "source": [
        "খ = np.array([12, 3, 6, 14])\n",
        "খ"
      ],
      "execution_count": 3,
      "outputs": [
        {
          "output_type": "execute_result",
          "data": {
            "text/plain": [
              "array([12,  3,  6, 14])"
            ]
          },
          "metadata": {
            "tags": []
          },
          "execution_count": 3
        }
      ]
    },
    {
      "cell_type": "code",
      "metadata": {
        "id": "vV8d5Xc7yLVc",
        "colab_type": "code",
        "outputId": "342c922a-5f00-40e6-c6e4-c9a662c681ff",
        "colab": {
          "base_uri": "https://localhost:8080/",
          "height": 35
        }
      },
      "source": [
        "খ.ndim"
      ],
      "execution_count": 4,
      "outputs": [
        {
          "output_type": "execute_result",
          "data": {
            "text/plain": [
              "1"
            ]
          },
          "metadata": {
            "tags": []
          },
          "execution_count": 4
        }
      ]
    },
    {
      "cell_type": "markdown",
      "metadata": {
        "id": "4Z7IWRudyWMd",
        "colab_type": "text"
      },
      "source": [
        "### ৩. ম্যাট্রিক্স, দুই ডাইমেনশন এর ‘টেন্সর’\n",
        "\n",
        "আগে আমরা যেই ভেক্টর নিয়ে আলাপ করেছিলাম সেই ভেক্টরের অ্যারেকে আমরা ম্যাট্রিক্স বলতে পারি। এটা দুই ডাইমেনশন এর ‘টেন্সর’। একটা ম্যাট্রিক্সে দুটো এক্সিস থাকে যাকে আমরা ‘সারি’ এবং ‘কলাম’ দিয়ে ডিফাইন করতে পারি। নিচের উদাহরণটা দেখুন, এখানে প্রথম এক্সিস হচ্ছে ‘সারি’ আর পরের এক্সিসটা হচ্ছে ‘কলাম’।"
      ]
    },
    {
      "cell_type": "code",
      "metadata": {
        "id": "tZzug4icq5AF",
        "colab_type": "code",
        "outputId": "f39f8e73-cbc9-4f26-9605-0bce231cd05d",
        "colab": {
          "base_uri": "https://localhost:8080/",
          "height": 69
        }
      },
      "source": [
        "গ = np.array([[5, 78, 2, 34, 0],\n",
        "              [6, 79, 3, 35, 1],\n",
        "              [7, 80, 4, 36, 2]])\n",
        "গ"
      ],
      "execution_count": 5,
      "outputs": [
        {
          "output_type": "execute_result",
          "data": {
            "text/plain": [
              "array([[ 5, 78,  2, 34,  0],\n",
              "       [ 6, 79,  3, 35,  1],\n",
              "       [ 7, 80,  4, 36,  2]])"
            ]
          },
          "metadata": {
            "tags": []
          },
          "execution_count": 5
        }
      ]
    },
    {
      "cell_type": "code",
      "metadata": {
        "id": "SkJZks0frJAa",
        "colab_type": "code",
        "outputId": "0b08eb56-7d7a-449c-8a8d-73135cd2dffa",
        "colab": {
          "base_uri": "https://localhost:8080/",
          "height": 35
        }
      },
      "source": [
        "গ.ndim"
      ],
      "execution_count": 6,
      "outputs": [
        {
          "output_type": "execute_result",
          "data": {
            "text/plain": [
              "2"
            ]
          },
          "metadata": {
            "tags": []
          },
          "execution_count": 6
        }
      ]
    },
    {
      "cell_type": "code",
      "metadata": {
        "id": "pp_Wp_ptBwNn",
        "colab_type": "code",
        "outputId": "35012840-98ce-4586-ec79-832b427e86bb",
        "colab": {
          "base_uri": "https://localhost:8080/",
          "height": 52
        }
      },
      "source": [
        "# পাশাপাশি একটু সরাসরি টেন্সরফ্লোতে দেখি \n",
        "# টেন্সরফ্লো ২.x সিলেক্ট করি\n",
        "%tensorflow_version 2.x\n",
        "import tensorflow as tf\n",
        "# একটা কনস্ট্যান্ট টেন্সর বানাই, যেটা পাল্টাবে না\n",
        "ঘ = tf.constant([[3, 2],\n",
        "                 [5, 2]])\n",
        "\n",
        "# ভ্যারিয়েবল টেন্সর, যেটা পাল্টাবে, মানে .Variable\n",
        "ঙ = tf.Variable([[3, 2],\n",
        "                 [5, 2],\n",
        "                 [5, 2]])\n",
        "# tf.shape(ঘ)\n",
        "# আমরা শেপ দেখি\n",
        "tf.shape(ঙ)"
      ],
      "execution_count": 7,
      "outputs": [
        {
          "output_type": "stream",
          "text": [
            "TensorFlow 2.x selected.\n"
          ],
          "name": "stdout"
        },
        {
          "output_type": "execute_result",
          "data": {
            "text/plain": [
              "<tf.Tensor: shape=(2,), dtype=int32, numpy=array([3, 2], dtype=int32)>"
            ]
          },
          "metadata": {
            "tags": []
          },
          "execution_count": 7
        }
      ]
    },
    {
      "cell_type": "code",
      "metadata": {
        "id": "il_dIA2MFBK3",
        "colab_type": "code",
        "outputId": "7cd906a4-5082-4963-da76-08531b6b4f3d",
        "colab": {
          "base_uri": "https://localhost:8080/",
          "height": 52
        }
      },
      "source": [
        "# আরেকটা উদাহরণ\n",
        "চ = tf.constant([[1.0, 2.0, 3.0], \n",
        "                 [4.0, 5.0, 6.0]])\n",
        "print(চ.get_shape())\n",
        "print(চ.shape.dims)"
      ],
      "execution_count": 8,
      "outputs": [
        {
          "output_type": "stream",
          "text": [
            "(2, 3)\n",
            "[Dimension(2), Dimension(3)]\n"
          ],
          "name": "stdout"
        }
      ]
    },
    {
      "cell_type": "markdown",
      "metadata": {
        "id": "Mky3clnidodE",
        "colab_type": "text"
      },
      "source": [
        "## টেন্সরফ্লো ২.x এ কিভাবে টেন্সর অবজেক্টকে নামপাই অ্যারেতে কনভার্ট করা যায়?\n",
        "\n",
        "যেহেতু ইগার একজিকিউশন যেহেতু ডিফল্ট হিসেবে চালু থাকে, সেকারণে .numpy()কে টেন্সর অবজেক্টে কল করলেই সেটা পাওয়া যাবে। তারা একই মেমরি শেয়ার করে। একটা পাল্টালে আরেকটা পাল্টাবে।"
      ]
    },
    {
      "cell_type": "code",
      "metadata": {
        "id": "V2Q2rPqFfHio",
        "colab_type": "code",
        "outputId": "f2feb7e2-2768-49c5-9b28-667c660be70c",
        "colab": {
          "base_uri": "https://localhost:8080/",
          "height": 52
        }
      },
      "source": [
        "ল = tf.constant([[1, 2], [3, 4]])                 \n",
        "র = tf.add(ল, 1)\n",
        "\n",
        "ল.numpy()"
      ],
      "execution_count": 9,
      "outputs": [
        {
          "output_type": "execute_result",
          "data": {
            "text/plain": [
              "array([[1, 2],\n",
              "       [3, 4]], dtype=int32)"
            ]
          },
          "metadata": {
            "tags": []
          },
          "execution_count": 9
        }
      ]
    },
    {
      "cell_type": "code",
      "metadata": {
        "id": "rZDpizQHfMjc",
        "colab_type": "code",
        "outputId": "6f04b093-248a-4b11-c61f-cfa9577ffdb0",
        "colab": {
          "base_uri": "https://localhost:8080/",
          "height": 52
        }
      },
      "source": [
        "র.numpy()"
      ],
      "execution_count": 10,
      "outputs": [
        {
          "output_type": "execute_result",
          "data": {
            "text/plain": [
              "array([[2, 3],\n",
              "       [4, 5]], dtype=int32)"
            ]
          },
          "metadata": {
            "tags": []
          },
          "execution_count": 10
        }
      ]
    },
    {
      "cell_type": "code",
      "metadata": {
        "id": "FDVke7glfQ0z",
        "colab_type": "code",
        "outputId": "0675c7c8-ff8e-4c95-80df-ecfd307b9161",
        "colab": {
          "base_uri": "https://localhost:8080/",
          "height": 52
        }
      },
      "source": [
        "tf.multiply(ল, র).numpy()\n"
      ],
      "execution_count": 11,
      "outputs": [
        {
          "output_type": "execute_result",
          "data": {
            "text/plain": [
              "array([[ 2,  6],\n",
              "       [12, 20]], dtype=int32)"
            ]
          },
          "metadata": {
            "tags": []
          },
          "execution_count": 11
        }
      ]
    },
    {
      "cell_type": "markdown",
      "metadata": {
        "id": "mLN2MVpayme4",
        "colab_type": "text"
      },
      "source": [
        "### ৪. ৩ ডাইমেনশন এবং তার বেশি ডাইমেনশনের ‘টেন্সর’\n",
        "\n",
        "আমরা যখন এরকম কয়েকটা ম্যাট্রিক্সকে আগের মতো একটা অ্যারেতে ফেলতে চাই তখন সেটা তিন ডাইমেনশনের টেন্সর হয়ে যায়। এ ধরনের ছবিগুলো আমরা দেখেছিলাম “শূন্য থেকে পাইথন মেশিন লার্নিং” বইটাতে। এর এক্সিস তিনটা। এভাবে আমরা চার ডাইমেনশনের টেন্সর তৈরি করতে পারি। বিশেষ করে আমাদের ‘কম্পিউটার ভিশন’ রিলেটেড সমস্যাগুলো যা ছবি নিয়ে কাজ করে - সেগুলো চার ডাইমেনশন এর হয়ে থাকে। ডিপ লার্নিং এ আমরা সাধারণত: শূন্য থেকে চার ডাইমেনশন নিয়ে কথা বলব। যখন সেটা ভিডিও হবে তখন সেটা পাঁচ ডাইমেনশনে চলে যাবে।\n"
      ]
    },
    {
      "cell_type": "code",
      "metadata": {
        "id": "dI2AdtrbrRWm",
        "colab_type": "code",
        "colab": {}
      },
      "source": [
        "ছ = np.array([[[5, 78, 2, 34, 0],\n",
        "              [6, 79, 3, 35, 1],\n",
        "              [7, 80, 4, 36, 2]],\n",
        "              \n",
        "              [[5, 78, 2, 34, 0],\n",
        "              [6, 79, 3, 35, 1],\n",
        "              [7, 80, 4, 36, 2]],\n",
        "              \n",
        "              [[5, 78, 2, 34, 0],\n",
        "              [6, 79, 3, 35, 1],\n",
        "              [7, 80, 4, 36, 2]]])"
      ],
      "execution_count": 0,
      "outputs": []
    },
    {
      "cell_type": "code",
      "metadata": {
        "id": "9ztmJYzVrlIb",
        "colab_type": "code",
        "outputId": "48d6fd00-0c99-4596-dc02-ab7fddeb1f28",
        "colab": {
          "base_uri": "https://localhost:8080/",
          "height": 208
        }
      },
      "source": [
        "ছ"
      ],
      "execution_count": 13,
      "outputs": [
        {
          "output_type": "execute_result",
          "data": {
            "text/plain": [
              "array([[[ 5, 78,  2, 34,  0],\n",
              "        [ 6, 79,  3, 35,  1],\n",
              "        [ 7, 80,  4, 36,  2]],\n",
              "\n",
              "       [[ 5, 78,  2, 34,  0],\n",
              "        [ 6, 79,  3, 35,  1],\n",
              "        [ 7, 80,  4, 36,  2]],\n",
              "\n",
              "       [[ 5, 78,  2, 34,  0],\n",
              "        [ 6, 79,  3, 35,  1],\n",
              "        [ 7, 80,  4, 36,  2]]])"
            ]
          },
          "metadata": {
            "tags": []
          },
          "execution_count": 13
        }
      ]
    },
    {
      "cell_type": "code",
      "metadata": {
        "id": "XNkWIJqIrwa7",
        "colab_type": "code",
        "outputId": "a61e4cbf-d025-48bb-df3c-a154fc6ecd70",
        "colab": {
          "base_uri": "https://localhost:8080/",
          "height": 35
        }
      },
      "source": [
        "ছ.ndim"
      ],
      "execution_count": 14,
      "outputs": [
        {
          "output_type": "execute_result",
          "data": {
            "text/plain": [
              "3"
            ]
          },
          "metadata": {
            "tags": []
          },
          "execution_count": 14
        }
      ]
    },
    {
      "cell_type": "markdown",
      "metadata": {
        "id": "E1nxd_MZywsk",
        "colab_type": "text"
      },
      "source": [
        "### শেপ (shape)\n",
        "\n",
        "এটা ইন্টিজার দিয়ে তৈরি করা একটা “টুপল” (tuple) যা বলে দেয় একটা টেন্সরের প্রতিটা এক্সিসে কত ডাইমেনশন আছে। আগের উদাহরণগুলোতে ভেক্টরে শেপ ছিল (৫, ), ম্যাট্রিক্স উদাহরণে শেপ (৩, ৫) পাশাপাশি তিন ডাইমেনশনের এর টেন্সরে শেপ ছিল (৩,৩,৫) আর স্কেলার (), মানে খালি শেপ। \n",
        "\n",
        "(১) ভেক্টর ডাটা - (samples, features)\n",
        "\n",
        "(২) টাইমসিরিজ/ সিকোয়েন্স ডাটা ৩D - (samples, timesteps, features)\n",
        "\n",
        "(৩) ইমেজ ডাটা, যেমন এমনিস্ট ৪D - (samples, height, width, channels) অথবা (samples, channels, height, width) \n",
        "\n",
        "(৪) ভিডিও ডাটা ৫D - (samples, frames, height, width, channels) অথবা (samples, frames, channels, height, width)\n",
        "\n",
        "### ইমেজ ডাটা শেপ\n",
        "\n",
        "সাধারণতঃ ইমেজে তিনটা ডাইমেনশন হয়, দৈর্ঘ্য, প্রস্থ এবং কালার চ্যানেল। আমাদের এমনিস্ট ডাটাসেট নিয়ে কাজ করতে গেলে একটা মজার জিনিস হয়। যেহেতু এটা গ্রে-স্কেল এর মানে হচ্ছে কালার চ্যানেল একটা দিয়েই হয়ে যায়। এর মানে ২D টেন্সরে হয়ে যাবার কথা। তবে কনভেনশন অনুযায়ী ইমেজ যেহেতু ৩D, সেখানে ১ ডাইমেনশন কালার চ্যানেল ব্যবহার হবে গ্রে-স্কেল ইমেজের জন্য। কালারের জন্য ৩। \n",
        "\n",
        "ধরুন, একটা ব্যাচে ১২৮টা ২৮ × ২৮ পিক্সেলের গ্রে-স্কেল ইমেজ স্টোর করা যাবে যেই টেন্সরে তার শেপ (১২৮, ২৮, ২৮, ১) অথবা কালারের জন্য শেপ গিয়ে দাড়াবে (১২৮, ২৮, ২৮, ৩)তে।\n"
      ]
    },
    {
      "cell_type": "markdown",
      "metadata": {
        "id": "sRxp7sChGrzp",
        "colab_type": "text"
      },
      "source": [
        "<img src=\"https://raw.githubusercontent.com/raqueeb/deep_learning_book/master/assets/image-channel.png\"> চিত্রঃ ৪D ইমেজ ডাটা টেন্সর এর উদাহরণ"
      ]
    },
    {
      "cell_type": "code",
      "metadata": {
        "id": "9mJ3lq5BGsoc",
        "colab_type": "code",
        "outputId": "e95ce7d1-3ec4-4803-e9e4-8420e2447577",
        "colab": {
          "base_uri": "https://localhost:8080/",
          "height": 156
        }
      },
      "source": [
        "# টেন্সর শেপকে পাল্টে অন্য শেপে আনা, লাগবে এমনিস্ট ডাটাসেটে\n",
        "টেন্সর = tf.constant([[3, 2],\n",
        "                      [5, 2],\n",
        "                      [9, 5],\n",
        "                      [1, 3]])\n",
        "\n",
        "# টেন্সরকে সারি, কলাম ধরে পাল্টাই: shape = [rows, columns]\n",
        "শেপ_টেন্সর = tf.reshape(tensor = টেন্সর,\n",
        "                             shape = [1, 8])\n",
        "\n",
        "print(('টেন্সর রিশেপিং এর আগে:\\n{0}').format(\n",
        "    টেন্সর.numpy()\n",
        "))\n",
        "print(('\\nটেন্সর রিশেপিং এর পরে:\\n{0}').format(\n",
        "    শেপ_টেন্সর.numpy()\n",
        "))"
      ],
      "execution_count": 15,
      "outputs": [
        {
          "output_type": "stream",
          "text": [
            "টেন্সর রিশেপিং এর আগে:\n",
            "[[3 2]\n",
            " [5 2]\n",
            " [9 5]\n",
            " [1 3]]\n",
            "\n",
            "টেন্সর রিশেপিং এর পরে:\n",
            "[[3 2 5 2 9 5 1 3]]\n"
          ],
          "name": "stdout"
        }
      ]
    },
    {
      "cell_type": "markdown",
      "metadata": {
        "id": "pIBMqXdrHeEr",
        "colab_type": "text"
      },
      "source": [
        "## টেন্সরের ম্যাট্রিক্স মাল্টিপ্লিকেশন"
      ]
    },
    {
      "cell_type": "code",
      "metadata": {
        "id": "SUbh5-Y4H5ei",
        "colab_type": "code",
        "outputId": "e0a477a6-093e-4c0f-f199-96469c859f84",
        "colab": {
          "base_uri": "https://localhost:8080/",
          "height": 69
        }
      },
      "source": [
        "# উদাহরণের জন্য ম্যাট্রিক্স \"ঝ\"\n",
        "ঝ = tf.constant([[3, 7],\n",
        "                 [1, 9]])\n",
        "\n",
        "# উদাহরণের জন্য ভেক্টর \"ঞ\" \n",
        "ঞ = tf.constant([[5],\n",
        "                 [2]])\n",
        "\n",
        "# ম্যাট্রিক্স মাল্টিপ্লিকেশন \"ঝ\" এবং \"ঞ\"\n",
        "ঝঞ = tf.matmul(ঝ, ঞ)\n",
        "\n",
        "print(('\"ঝ\" এবং \"ঞ\" এর ম্যাট্রিক্স মাল্টিপ্লিকেশন দিয়ে নতুন টেন্সর:\\n{0}').format(\n",
        "    ঝঞ\n",
        "))"
      ],
      "execution_count": 16,
      "outputs": [
        {
          "output_type": "stream",
          "text": [
            "\"ঝ\" এবং \"ঞ\" এর ম্যাট্রিক্স মাল্টিপ্লিকেশন দিয়ে নতুন টেন্সর:\n",
            "[[29]\n",
            " [23]]\n"
          ],
          "name": "stdout"
        }
      ]
    },
    {
      "cell_type": "markdown",
      "metadata": {
        "id": "s4PI7G7RN4ar",
        "colab_type": "text"
      },
      "source": [
        "## আমাদের ফ্যাশন এমনিস্ট ডাটাসেটের ডাইমেনশন, অ্যারের শেপ "
      ]
    },
    {
      "cell_type": "code",
      "metadata": {
        "id": "yH6NekvOsAY2",
        "colab_type": "code",
        "colab": {}
      },
      "source": [
        "import tensorflow as tf\n",
        "from tensorflow import keras\n",
        "\n",
        "ফ্যাশন_এমনিস্ট = tf.keras.datasets.fashion_mnist\n",
        "(ট্রেনিং_ইমেজ, ট্রেনিং_লেবেল), (টেস্ট_ইমেজ, টেস্ট_লেবেল) = ফ্যাশন_এমনিস্ট.load_data()"
      ],
      "execution_count": 0,
      "outputs": []
    },
    {
      "cell_type": "code",
      "metadata": {
        "id": "OjXjO5t7udXj",
        "colab_type": "code",
        "outputId": "c231b3db-5fbc-4d2f-884b-12ac72934cf4",
        "colab": {
          "base_uri": "https://localhost:8080/",
          "height": 35
        }
      },
      "source": [
        "print(ট্রেনিং_ইমেজ.ndim)"
      ],
      "execution_count": 18,
      "outputs": [
        {
          "output_type": "stream",
          "text": [
            "3\n"
          ],
          "name": "stdout"
        }
      ]
    },
    {
      "cell_type": "markdown",
      "metadata": {
        "id": "oZhWY_pBhNmw",
        "colab_type": "text"
      },
      "source": [
        "তিনটা ডাইমেনশন: (ইমেজ সংখ্যা, দৈর্ঘ্য় মানে পিক্সেল সংখ্যা, প্রস্থ মানে পিক্সেল সংখ্যা)"
      ]
    },
    {
      "cell_type": "code",
      "metadata": {
        "id": "CO5-XC64UBBX",
        "colab_type": "code",
        "outputId": "2e824d10-5a75-4500-b194-a4b0acc24518",
        "colab": {
          "base_uri": "https://localhost:8080/",
          "height": 35
        }
      },
      "source": [
        "print(ট্রেনিং_ইমেজ.shape)"
      ],
      "execution_count": 19,
      "outputs": [
        {
          "output_type": "stream",
          "text": [
            "(60000, 28, 28)\n"
          ],
          "name": "stdout"
        }
      ]
    },
    {
      "cell_type": "markdown",
      "metadata": {
        "id": "QrxSbJtNOnf8",
        "colab_type": "text"
      },
      "source": [
        "শুরু এবং শেষ ইনডেক্স দিয়ে স্লাইসের ভেতরে আগের মতো দেখা। ১০ থেকে ১০০তম, তবে ১০০তম ইমেজ বাদে। আমাদের শেপের অ্যারে কি হতে পারে?\n"
      ]
    },
    {
      "cell_type": "code",
      "metadata": {
        "id": "4LSleoeAUY1w",
        "colab_type": "code",
        "outputId": "4feb86e6-3c55-44c0-9749-ac0f5caa2713",
        "colab": {
          "base_uri": "https://localhost:8080/",
          "height": 35
        }
      },
      "source": [
        "পরিক্ষা_ইমেজ১ = ট্রেনিং_ইমেজ[10:100]\n",
        "print(পরিক্ষা_ইমেজ১.shape)\n"
      ],
      "execution_count": 20,
      "outputs": [
        {
          "output_type": "stream",
          "text": [
            "(90, 28, 28)\n"
          ],
          "name": "stdout"
        }
      ]
    },
    {
      "cell_type": "code",
      "metadata": {
        "id": "4gs_XIAcW68M",
        "colab_type": "code",
        "outputId": "dc0f9f99-a22f-4e4e-dfe6-f0cf66413cda",
        "colab": {
          "base_uri": "https://localhost:8080/",
          "height": 35
        }
      },
      "source": [
        "পরিক্ষা_ইমেজ২ = ট্রেনিং_ইমেজ[10:100, :, :]\n",
        "পরিক্ষা_ইমেজ২.shape"
      ],
      "execution_count": 21,
      "outputs": [
        {
          "output_type": "execute_result",
          "data": {
            "text/plain": [
              "(90, 28, 28)"
            ]
          },
          "metadata": {
            "tags": []
          },
          "execution_count": 21
        }
      ]
    },
    {
      "cell_type": "code",
      "metadata": {
        "id": "qoGs_e_YXbXC",
        "colab_type": "code",
        "outputId": "25feafe7-d671-49dd-e0bd-c3043c13bc64",
        "colab": {
          "base_uri": "https://localhost:8080/",
          "height": 35
        }
      },
      "source": [
        "পরিক্ষা_ইমেজ৩ = ট্রেনিং_ইমেজ[10:100, 0:28, 0:28]\n",
        "পরিক্ষা_ইমেজ৩.shape"
      ],
      "execution_count": 22,
      "outputs": [
        {
          "output_type": "execute_result",
          "data": {
            "text/plain": [
              "(90, 28, 28)"
            ]
          },
          "metadata": {
            "tags": []
          },
          "execution_count": 22
        }
      ]
    },
    {
      "cell_type": "markdown",
      "metadata": {
        "id": "Qqej7aPdELvR",
        "colab_type": "text"
      },
      "source": [
        "### ডাটা ব্যাচ\n",
        "\n",
        "আমরা যখন ডিপ লার্নিংয়ে ডাটা টেন্সরের প্রথম এক্সিস (যাকে বলছি এক্সিস ০, কারণ ইনডেক্সিং শুরু হয় ০ থেকে) নিয়ে কাজ করি সেটাকে samples এক্সিস অথবা samples ডাইমেনশন বলি। আমাদের ফ্যাশন এমনিস্ট ডাটাসেটে এই samples হচ্ছে ড্রেস/জুতার ছবিগুলো।\n",
        "\n",
        "তবে পাইপলাইন অপটিমাইজেশনের কারণে ডিপ লার্নিং পুরো ডাটাসেট নিয়ে কাজ না করে সেটাকে ছোট ছোট ব্যাচে ভাগ করে ট্রেনিং করে।\n",
        "\n",
        "আমাদের এমনিস্ট উদাহরণে যদি একটা ব্যাচ সাইজ ১২৮টা করে ইমেজ হয়, তাহলে এভাবে হতে পারে:"
      ]
    },
    {
      "cell_type": "code",
      "metadata": {
        "id": "o7-7PqigTCNb",
        "colab_type": "code",
        "colab": {}
      },
      "source": [
        "ব্যাচ = ট্রেনিং_ইমেজ[:128]"
      ],
      "execution_count": 0,
      "outputs": []
    },
    {
      "cell_type": "markdown",
      "metadata": {
        "id": "bfs6egrjTPWq",
        "colab_type": "text"
      },
      "source": [
        "পরের ব্যাচ"
      ]
    },
    {
      "cell_type": "code",
      "metadata": {
        "id": "SECs9ASiTSbn",
        "colab_type": "code",
        "colab": {}
      },
      "source": [
        "ব্যাচ = ট্রেনিং_ইমেজ[128:256]"
      ],
      "execution_count": 0,
      "outputs": []
    },
    {
      "cell_type": "code",
      "metadata": {
        "id": "-77fvK7PT_OS",
        "colab_type": "code",
        "outputId": "b29e98af-3277-4994-ca06-36471f5bad95",
        "colab": {
          "base_uri": "https://localhost:8080/",
          "height": 867
        }
      },
      "source": [
        "ব্যাচ"
      ],
      "execution_count": 25,
      "outputs": [
        {
          "output_type": "execute_result",
          "data": {
            "text/plain": [
              "array([[[0, 0, 0, ..., 0, 0, 0],\n",
              "        [0, 0, 0, ..., 0, 0, 0],\n",
              "        [0, 0, 0, ..., 0, 0, 0],\n",
              "        ...,\n",
              "        [0, 0, 0, ..., 0, 0, 0],\n",
              "        [0, 0, 0, ..., 0, 0, 0],\n",
              "        [0, 0, 0, ..., 0, 0, 0]],\n",
              "\n",
              "       [[0, 0, 0, ..., 0, 0, 0],\n",
              "        [0, 0, 0, ..., 0, 0, 0],\n",
              "        [0, 0, 0, ..., 0, 0, 0],\n",
              "        ...,\n",
              "        [0, 0, 0, ..., 0, 0, 0],\n",
              "        [0, 0, 0, ..., 0, 0, 0],\n",
              "        [0, 0, 0, ..., 0, 0, 0]],\n",
              "\n",
              "       [[0, 0, 0, ..., 0, 0, 0],\n",
              "        [0, 0, 0, ..., 0, 0, 0],\n",
              "        [0, 0, 0, ..., 0, 0, 0],\n",
              "        ...,\n",
              "        [0, 0, 0, ..., 0, 0, 0],\n",
              "        [0, 0, 0, ..., 0, 0, 0],\n",
              "        [0, 0, 0, ..., 0, 0, 0]],\n",
              "\n",
              "       ...,\n",
              "\n",
              "       [[0, 0, 0, ..., 0, 0, 0],\n",
              "        [0, 0, 0, ..., 0, 0, 0],\n",
              "        [0, 0, 0, ..., 0, 0, 0],\n",
              "        ...,\n",
              "        [0, 0, 0, ..., 0, 0, 0],\n",
              "        [0, 0, 0, ..., 0, 0, 0],\n",
              "        [0, 0, 0, ..., 0, 0, 0]],\n",
              "\n",
              "       [[0, 0, 0, ..., 0, 0, 0],\n",
              "        [0, 0, 0, ..., 0, 0, 0],\n",
              "        [0, 0, 0, ..., 0, 0, 0],\n",
              "        ...,\n",
              "        [0, 0, 0, ..., 0, 0, 0],\n",
              "        [0, 0, 0, ..., 0, 0, 0],\n",
              "        [0, 0, 0, ..., 0, 0, 0]],\n",
              "\n",
              "       [[0, 0, 0, ..., 0, 0, 0],\n",
              "        [0, 0, 0, ..., 0, 0, 0],\n",
              "        [0, 0, 0, ..., 0, 0, 0],\n",
              "        ...,\n",
              "        [0, 0, 0, ..., 0, 0, 0],\n",
              "        [0, 0, 0, ..., 0, 0, 0],\n",
              "        [0, 0, 0, ..., 0, 0, 0]]], dtype=uint8)"
            ]
          },
          "metadata": {
            "tags": []
          },
          "execution_count": 25
        }
      ]
    },
    {
      "cell_type": "markdown",
      "metadata": {
        "id": "iAZwumqkTckt",
        "colab_type": "text"
      },
      "source": [
        "nতম ব্যাচ হলে;\n",
        "\n",
        "ব্যাচ = ট্রেনিং_ইমেজ[128 * n:128 * (n + 1)]\n",
        "\n",
        "আমরা যখন একটা ব্যাচ টেন্সর নিয়ে কাজ করবো, সেখানে প্রথম এক্সিস (এক্সিস ০)কে বলি \"ব্যাচ এক্সিস\" বা \"ব্যাচ ডাইমেনশন\"।"
      ]
    }
  ]
}