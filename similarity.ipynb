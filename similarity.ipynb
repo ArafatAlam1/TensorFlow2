{
  "nbformat": 4,
  "nbformat_minor": 0,
  "metadata": {
    "colab": {
      "name": "similarity.ipynb",
      "provenance": [],
      "include_colab_link": true
    },
    "kernelspec": {
      "name": "python3",
      "display_name": "Python 3"
    },
    "language_info": {
      "codemirror_mode": {
        "name": "ipython",
        "version": 3
      },
      "file_extension": ".py",
      "mimetype": "text/x-python",
      "name": "python",
      "nbconvert_exporter": "python",
      "pygments_lexer": "ipython3",
      "version": "3.6.8"
    },
    "accelerator": "GPU"
  },
  "cells": [
    {
      "cell_type": "markdown",
      "metadata": {
        "id": "view-in-github",
        "colab_type": "text"
      },
      "source": [
        "<a href=\"https://colab.research.google.com/github/raqueeb/TensorFlow2/blob/master/similarity.ipynb\" target=\"_parent\"><img src=\"https://colab.research.google.com/assets/colab-badge.svg\" alt=\"Open In Colab\"/></a>"
      ]
    },
    {
      "cell_type": "markdown",
      "metadata": {
        "id": "QEx9dAerBzOm",
        "colab_type": "text"
      },
      "source": [
        "## শব্দের সিমিলারিটি, কাছাকাছি অর্থ, লাইকলিহুড - সঙ্গে ফাস্টটেক্সট এবং ওয়ার্ড২ভেক"
      ]
    },
    {
      "cell_type": "markdown",
      "metadata": {
        "id": "GGHVTUqrC5AP",
        "colab_type": "text"
      },
      "source": [
        "যেহেতু ভাষা একটা ‘কমপ্লেক্স’ জিনিস, সেকারণে ডিপ লার্নিং অ্যাপ্লিকেশনে এই এই কমপ্লেক্সিটির  সমস্যাগুলোকে কাটিয়ে ওঠার জন্য এই জিনিসটা আমাদের কাজের একটা ভালো ক্যান্ডিডেট। প্রতিটা শব্দের সাথে আরেকটা শব্দের সম্পর্ক এবং তার সিমিলারিটি অথবা সেই শব্দের সাথে কাছাকাছি শব্দগুলো কোন ডাইমেনশনে আছে সেটাও একটা ভালো দেখার বিষয়। যখন ‘ন্যাচারাল ল্যাঙ্গুয়েজ প্রসেসিং’ বোঝা শুরু করলাম, তখন বাংলায় এই ব্যাপারটা একদম অনুপস্থিত ছিল। বাংলায় এখনো কাজ দেখা কঠিন। এর পাশাপাশি শব্দ সিমিলারিটি অথবা কোন শব্দের কাছাকাছি কতগুলো শব্দ কাজ করছে, অথবা লিংক প্রেডিকশন - সেগুলো দেখার মত সেরকম রিসোর্স এখনো কম। তবে ডিপ লার্নিং অ্যাপ্লিকেশন আসার পর থেকে দু বাংলায় আমাদের ভাষা নিয়ে কাজ শুরু হয়েছে। কিছু রিসার্চ পেপার পাওয়া যায় তবে সেগুলোর ডাটাসেট সেভাবে উন্মুক্ত নয়। কেউ যদি কোনো কাজ শুরু করতে চায়, তাকে কেঁচে গণ্ডূষ করে শুরু করতে হবে। সে দিক থেকে আমাদের জন্য এই প্রি-ট্রেইনড মডেলই ভালো।\n",
        "\n",
        "পাইথনের জন্য ‘স্পেসি’ এর মতো খুব ভালো দুটো এপ্লিকেশন আছে আমাদের হাতে। সেখানে ‘এনএলটিকে’ পুরনো হলেও ‘স্পেসি’ বেশ কাজের। তবে এ মুহূর্তে ‘স্পেসি’ এর বাংলা মডিউলটা আপডেট না থাকাতে সেটা কিছুটা কম্প্যাটিবিলিটি সমস্যায় আছে। সে কারণে আমরা ফিরে যাচ্ছি ওয়ার্ল্ড২ভেক এবং ফাস্টটেক্সটে। দুটো মডেল অবাক করার মতো। এ দুটো প্রি-ট্রেইনড মডেল অনেক বড় হলেও এর কাজকে দেখানোর জন্য বেশ কিছু ‘প্রি-প্রসেসিং’ আগে থেকে করে রাখা হয়েছে। ‘প্রি-প্রসেসিং’ একাই একটা আলাদা জগত, তবে সেটা ‘ডিপ লার্নিং’ এর মত ততটা কমপ্লেক্স নয়। আমি ধারণা করি কাজ করতে করতে প্রি-প্রসেসিং শিখে যাবেন আপনি। \n",
        "\n",
        "আমরা যেহেতু অল্প সল্প ন্যাচারাল ল্যাংগুয়েজ প্রসেসিং নিয়ে কাজ করছি, শব্দগুলোর ‘সিমিলারিটি’ এবং কাছাকাছি অর্থ এবং রিপ্রেজেন্টেশন পাশাপাশি হওয়াতে আমরা কিছু কাজ দেখাতে পারি। আমাদের একটা টার্গেট শব্দ থাকলে ওই শব্দটাকে ঘিরে যে পাশাপাশি একই ধরনের শব্দগুলো আছে সেগুলোকে খালি চোখে দেখলে কিন্তু বিশ্বাস হবে। নিউরাল নেটওয়ার্কের হিডেন লেয়ারগুলো যেহেতু আমাদের শব্দ রিপ্রেজেন্টেশনকে এনকোড করে, সে কারণে আমরা এই ন্যাচারাল ল্যাংগুয়েজ প্রসেসিং অ্যাপ্লিকেশনকে অনেকটাই ছেড়ে দিচ্ছি নিউরাল নেটওয়ার্কের ওপর। এই দুটোকে আবার কনভার্জ করার জন্য দরকার কিছু বিশেষায়িত ফ্রেমওয়ার্ক। এর জন্য একটা ভালো ফ্রেমওয়ার্ক হচ্ছে ‘জেনসিম’। আসলেইএকটা অসাধারণ ফ্রেমওয়ার্ক। তবে, শুরুতেই ‘ওয়ার্ড২ভেক’। মানে ওয়ার্ড টু ভেক্টর। \n",
        "\n",
        "<img src=\"https://raw.githubusercontent.com/raqueeb/deep_learning_book/master/assets/similar.png\"> চিত্রঃ কাছাকাছি অর্থ এবং রিপ্রেজেন্টেশন\n",
        "\n",
        "## স্কিপ-গ্রাম\n",
        "\n",
        "বেশি কমপ্লেক্সিটিতে না যেয়ে বলতে পারি ওয়ার্ড২ভেক দুভাবে কাজ করে। একটাকে আমরা বলি স্কিপ-গ্রাম, মানে যার কাজ হচ্ছে বাক্যের কনটেক্সট প্রেডিক্ট করে শব্দ নিয়ে কাজ করা। এদিকে আরেকটা হচ্ছে  ‘কন্টিনিউয়াস ব্যাগ অফ ওয়ার্ডস’। স্কিপ-গ্রাম এ আমাদের টার্গেট শব্দ যখন ইনপুট হিসেবে দেওয়া হয় - তখন তার আশেপাশের টার্গেট শব্দগুলো হচ্ছে আউটপুট। উদাহরণ হিসেবে বলা যায় একটা বাক্য, - “আমি এখন বই পড়ছি”, এর ইনপুট শব্দ যদি “বই” হয়, তাহলে তার আউটপুট হবে “আমি” “এখন”, এবং “পড়ছি”। আমাদের এখানে উইন্ডো সাইজ হচ্ছে ৪। এখানে ইনপুট এবং আউটপুট ডাটা একই ডাইমেনশনে থাকবে, অবশ্যই ‘ওয়ান হট এনকোডিং’ এ থাকবে। এই নেটওয়ার্কে একটা হিডেন লেয়ার যার ডাইমেনশন সমান হবে ‘এম্বেডিং সাইজ এর উপর, - যা আসলে ইনপুট এবং আউটপুট ভেক্টর সাইজের ছোট হবে। আউটপুট লেয়ার এর শেষে একটা ‘সফটম্যাক্স’ অ্যাক্টিভেশন ফাংশন প্রতিটা আউটপুট ফ্যাক্টরের এলিমেন্ট গুলোর উপর অ্যাপ্লাই করা থাকবে যাতে প্রবাবিলিটি ডিস্ট্রিবিউশনে ‘লাইকলিহুড’ মানে কন্টেক্সটুয়ালের কাছাকাছি শব্দগুলো আসবে এখানে।\n",
        "\n",
        "<img src=\"https://raw.githubusercontent.com/raqueeb/deep_learning_book/master/assets/skip.png\"> চিত্রঃ ইনপুট লেয়ার থেকে আউটপুট লেয়ারে \n",
        "\n",
        "আবার, আমাদের স্কিপ-গ্রামে ভোকাবুলারি সাইজ থেকে তার রিপ্রেজেন্টেশন ডাইমেনশন কমে আসে হিডেন লেয়ারে। পাশাপাশি আমাদের ভেক্টরগুলো অনেকটাই অর্থবহ হয় যখন শব্দগুলোর মধ্যে অংকের রিলেশনশিপ বা সম্পর্ককে ঠিকমতো বুঝতে পারি। একটা শব্দ থেকে আরেকটা শব্দকে যোগ অথবা বিয়োগ এব্যাপারগুলো বোঝা যাবে যখন আমরা সেগুলো এখন হাতে কলমে দেখব। এখানে একটা ছবি দেখুন।\n",
        "\n",
        "## ‘কন্টিনিউয়াস ব্যাগ অফ ওয়ার্ডস’\n",
        "\n",
        "ওয়ার্ড২ভেক এর আরেকটা ধারণা হচ্ছে ‘কন্টিনিউয়াস ব্যাগ অফ ওয়ার্ডস’, যা অনেকটাই স্কিপ-গ্রাম এর মত তবে এটা ইনপুট এবং আউটপুটকে পাল্টে দেয়। ব্যাপারটা এরকম, আমরা একটা ‘কন্টেক্সট’ দেবো সেখানে আমরা জানতে চাইব কোন শব্দটার সবচেয়ে বেশি ‘লাইকলিহুড’ অথবা ‘প্রবাবিলিটি’ থাকবে সবার আগে আসার। এই দুটো সিস্টেমের মধ্যে সবচেয়ে বড় পার্থক্য হচ্ছে যেভাবে শব্দের ভেক্টরগুলো জেনারেট হয়। ‘কন্টিনিউয়াস ব্যাগ অফ ওয়ার্ডে’ টার্গেট শব্দের সব উদাহরণগুলো নেটওয়ার্কে ফিড করানো হয় যা আসলে সেগুলোর গড় করে হিডেন লেয়ার থেকে এক্সট্রাক্ট করে। আমাদের সব ধরনের বাক্যের মধ্যে কিভাবে গড় করা যায় সেটা বের করা খুব একটা সমস্যা নয়। একটা ছবি দেখি। \n",
        "\n",
        "<img src=\"https://raw.githubusercontent.com/raqueeb/deep_learning_book/master/assets/cbow.png\"> চিত্রঃ ইনপুট লেয়ার থেকে আউটপুট লেয়ারে কমে আসছে\n",
        "\n",
        "এগুলো না বুঝলে সমস্যা নেই, কারণ সবকিছুই দেখব হাতে-কলমে সামনে। শুরুতে বেশকিছু প্রি-প্রসেসিং ব্যবহার করে যতিচিহ্ন, ইমোজি, ম্যাপ সিম্বল, স্পেশাল ক্যারেক্টার, ফেলে দেয়া হয়েছে ভালোভাবে বোঝার জন্য। এগুলো রেগুলার এক্সপ্রেশন এর কাজ। "
      ]
    },
    {
      "cell_type": "code",
      "metadata": {
        "colab_type": "code",
        "id": "css35ZIlIesJ",
        "colab": {}
      },
      "source": [
        "import re\n",
        "import os\n",
        "import glob\n",
        "import string\n",
        "\n",
        "## দুটো মডেল দেখি 'জেনসিম' ফ্রেমওয়ার্ক দিয়ে\n",
        "from gensim.models import Word2Vec\n",
        "from gensim.models import FastText"
      ],
      "execution_count": 0,
      "outputs": []
    },
    {
      "cell_type": "markdown",
      "metadata": {
        "id": "mmcRCrb8CbjQ",
        "colab_type": "text"
      },
      "source": [
        "আমাদের এই টেক্সট ফাইলটা দেখে নিতে পারেন। প্রতিটা লাইনে একটা করে বাংলা বাক্য আছে। বাংলা উইকিপিডিয়া থেকে নেয়া। প্রি-প্রসেসিং করে নিয়েছি আগেই। এখানে সহায়তা দিয়েছেন তারেক আল মুনতাসির।"
      ]
    },
    {
      "cell_type": "code",
      "metadata": {
        "id": "EeyJuXl_KAzj",
        "colab_type": "code",
        "outputId": "5caf6427-6afb-4741-c593-750bc31bd0ed",
        "colab": {
          "base_uri": "https://localhost:8080/",
          "height": 315
        }
      },
      "source": [
        "!wget https://github.com/raqueeb/datasets/raw/master/bnwiki-texts.zip"
      ],
      "execution_count": 9,
      "outputs": [
        {
          "output_type": "stream",
          "text": [
            "--2019-12-11 12:59:04--  https://github.com/raqueeb/datasets/raw/master/bnwiki-texts.zip\n",
            "Resolving github.com (github.com)... 13.250.177.223\n",
            "Connecting to github.com (github.com)|13.250.177.223|:443... connected.\n",
            "HTTP request sent, awaiting response... 302 Found\n",
            "Location: https://raw.githubusercontent.com/raqueeb/datasets/master/bnwiki-texts.zip [following]\n",
            "--2019-12-11 12:59:05--  https://raw.githubusercontent.com/raqueeb/datasets/master/bnwiki-texts.zip\n",
            "Resolving raw.githubusercontent.com (raw.githubusercontent.com)... 151.101.0.133, 151.101.64.133, 151.101.128.133, ...\n",
            "Connecting to raw.githubusercontent.com (raw.githubusercontent.com)|151.101.0.133|:443... connected.\n",
            "HTTP request sent, awaiting response... 200 OK\n",
            "Length: 61696513 (59M) [application/zip]\n",
            "Saving to: ‘bnwiki-texts.zip.1’\n",
            "\n",
            "bnwiki-texts.zip.1  100%[===================>]  58.84M   235MB/s    in 0.3s    \n",
            "\n",
            "2019-12-11 12:59:05 (235 MB/s) - ‘bnwiki-texts.zip.1’ saved [61696513/61696513]\n",
            "\n"
          ],
          "name": "stdout"
        }
      ]
    },
    {
      "cell_type": "code",
      "metadata": {
        "id": "f0UbGF4HNDM7",
        "colab_type": "code",
        "outputId": "a74d4059-61a9-4643-868f-8aeb91cd7d45",
        "colab": {
          "base_uri": "https://localhost:8080/",
          "height": 139
        }
      },
      "source": [
        "!ls -al"
      ],
      "execution_count": 10,
      "outputs": [
        {
          "output_type": "stream",
          "text": [
            "total 120524\n",
            "drwxr-xr-x 1 root root     4096 Dec 11 12:59 .\n",
            "drwxr-xr-x 1 root root     4096 Dec 11 12:54 ..\n",
            "-rw-r--r-- 1 root root 61696513 Dec 11 12:58 bnwiki-texts.zip\n",
            "-rw-r--r-- 1 root root 61696513 Dec 11 12:59 bnwiki-texts.zip.1\n",
            "drwxr-xr-x 1 root root     4096 Dec  6 16:53 .config\n",
            "drwxr-xr-x 1 root root     4096 Dec  6 16:53 sample_data\n"
          ],
          "name": "stdout"
        }
      ]
    },
    {
      "cell_type": "code",
      "metadata": {
        "id": "eqj1LzMqygcn",
        "colab_type": "code",
        "outputId": "749390fb-96d5-4c4a-8597-743c3b4e6a3b",
        "colab": {
          "base_uri": "https://localhost:8080/",
          "height": 52
        }
      },
      "source": [
        "!unzip bnwiki-texts.zip"
      ],
      "execution_count": 11,
      "outputs": [
        {
          "output_type": "stream",
          "text": [
            "Archive:  bnwiki-texts.zip\n",
            "  inflating: bnwiki-texts-preprocessed.txt  \n"
          ],
          "name": "stdout"
        }
      ]
    },
    {
      "cell_type": "code",
      "metadata": {
        "id": "lw0wsKOtOJhC",
        "colab_type": "code",
        "colab": {}
      },
      "source": [
        "# বাড়তি ওয়ার্নিং ফেলে দিচ্ছি, আপনাদের কাজের সময় লাগবে না \n",
        "import warnings\n",
        "warnings.filterwarnings(\"ignore\")"
      ],
      "execution_count": 0,
      "outputs": []
    },
    {
      "cell_type": "code",
      "metadata": {
        "id": "kUES-_k9vAI2",
        "colab_type": "code",
        "colab": {}
      },
      "source": [
        "preprocessed_text_file_path = 'bnwiki-texts-preprocessed.txt'"
      ],
      "execution_count": 0,
      "outputs": []
    },
    {
      "cell_type": "code",
      "metadata": {
        "id": "wpbNqMMjvAI-",
        "colab_type": "code",
        "colab": {}
      },
      "source": [
        "lines_from_file = []\n",
        "with open(preprocessed_text_file_path, encoding='utf8') as text_file:\n",
        "    for line in text_file:\n",
        "        lines_from_file.append(line)"
      ],
      "execution_count": 0,
      "outputs": []
    },
    {
      "cell_type": "markdown",
      "metadata": {
        "id": "0629wIhUeo4U",
        "colab_type": "text"
      },
      "source": [
        "কতগুলো লাইন আছে এই ফাইলে?"
      ]
    },
    {
      "cell_type": "code",
      "metadata": {
        "id": "0wD_U3zBaqnv",
        "colab_type": "code",
        "outputId": "ffbb7622-9751-4e34-e1e7-8fd18ede6e21",
        "colab": {
          "base_uri": "https://localhost:8080/",
          "height": 35
        }
      },
      "source": [
        "len(lines_from_file)"
      ],
      "execution_count": 15,
      "outputs": [
        {
          "output_type": "execute_result",
          "data": {
            "text/plain": [
              "1363435"
            ]
          },
          "metadata": {
            "tags": []
          },
          "execution_count": 15
        }
      ]
    },
    {
      "cell_type": "markdown",
      "metadata": {
        "id": "hH9Y4ylRvAJG",
        "colab_type": "text"
      },
      "source": [
        "আমাদের জেনসিম ওয়ার্ড২ভেক এবং ফাস্টটেক্সট শব্দের লিস্ট আশা করে একেকটা বাক্য/প্রতিটা লাইনে। যেমন, [[\"আমি\", \"এখন\", \"বইটি\", \"পরছি\"],[\"বইটি\", \"অনেক\", \"ভাল\"]]\n"
      ]
    },
    {
      "cell_type": "code",
      "metadata": {
        "id": "9GVytXpevAJI",
        "colab_type": "code",
        "colab": {}
      },
      "source": [
        "tokenized_lines = []\n",
        "for single_line in lines_from_file:\n",
        "    tokenized_lines.append(single_line.split())"
      ],
      "execution_count": 0,
      "outputs": []
    },
    {
      "cell_type": "code",
      "metadata": {
        "id": "Pyfc1xS6vAJN",
        "colab_type": "code",
        "outputId": "5ec47624-f4a1-46f1-a4bd-0ce7005bf0cd",
        "colab": {
          "base_uri": "https://localhost:8080/",
          "height": 35
        }
      },
      "source": [
        "print(len(tokenized_lines))"
      ],
      "execution_count": 17,
      "outputs": [
        {
          "output_type": "stream",
          "text": [
            "1363435\n"
          ],
          "name": "stdout"
        }
      ]
    },
    {
      "cell_type": "code",
      "metadata": {
        "colab_type": "code",
        "id": "LOSqlC-5Ies-",
        "outputId": "6f00de6a-5af7-4b27-880e-ec77f4b7909d",
        "colab": {
          "base_uri": "https://localhost:8080/",
          "height": 55
        }
      },
      "source": [
        "print(tokenized_lines[0])"
      ],
      "execution_count": 18,
      "outputs": [
        {
          "output_type": "stream",
          "text": [
            "['বাংলা', 'ভাষা', 'বাংলা', 'ভাষা', 'বাংলা', 'ভাষা', 'বাঙলা', 'বাঙ্গলা', 'তথা', 'বাঙ্গালা', 'নামগুলোতেও', 'পরিচিত', 'একটি', 'ইন্দো', 'আর্য', 'ভাষা', 'যা', 'দক্ষিণ', 'এশিয়ার', 'বাঙালি', 'জাতির', 'প্রধান', 'কথ্য', 'ও', 'লেখ্য', 'ভাষা']\n"
          ],
          "name": "stdout"
        }
      ]
    },
    {
      "cell_type": "code",
      "metadata": {
        "colab_type": "code",
        "id": "qK9XVTfWIetC",
        "colab": {}
      },
      "source": [
        "# শুরুর মডেল ওয়ার্ড২ভেক, ৫ থেকে ১০ মিনিট লাগতে পারে\n",
        "\n",
        "model = Word2Vec(tokenized_lines, size=200, window=5, min_count=10)"
      ],
      "execution_count": 0,
      "outputs": []
    },
    {
      "cell_type": "code",
      "metadata": {
        "id": "F6MgKNt6EOzo",
        "colab_type": "code",
        "colab": {}
      },
      "source": [
        "# পরের মডেল ফাস্টটেক্সট, এখানে একই সময় বা কিছুটা বেশি\n",
        "\n",
        "fasttext_model = FastText(tokenized_lines, size=200, window=5, min_count=10)"
      ],
      "execution_count": 0,
      "outputs": []
    },
    {
      "cell_type": "code",
      "metadata": {
        "colab_type": "code",
        "outputId": "33645810-2e78-4e72-ac8e-8a5bfae616b7",
        "id": "8MUnrU8svJT4",
        "colab": {
          "base_uri": "https://localhost:8080/",
          "height": 607
        }
      },
      "source": [
        "# model.wv মানে মডেলের ওয়ার্ড ভেক্টর \n",
        "# ('বাংলা') এর বিশাল ডাইমেনশন\n",
        "vector_a = fasttext_model.wv.get_vector('বাংলা')\n",
        "print(vector_a)"
      ],
      "execution_count": 42,
      "outputs": [
        {
          "output_type": "stream",
          "text": [
            "[ 2.2011163  -1.4753153  -0.8712491   1.3019878  -0.913293    3.6934288\n",
            "  1.9594321  -1.4417082  -0.33282146 -0.2395397   0.70289266  2.2183647\n",
            " -3.0125296  -0.2275535  -2.4331527   1.0041833   0.899219   -0.54734176\n",
            " -4.594177    0.36330977 -0.82378024  0.46859723  0.78922445 -0.44730848\n",
            "  1.6642339  -1.541863    0.9649421  -1.6809591  -0.82032514  0.44186103\n",
            " -0.86680037 -1.2037404  -2.059589   -0.6029321  -0.70918685 -1.5390344\n",
            "  1.7038411   1.8315961   0.8795279  -0.626877    2.090821   -1.4170175\n",
            " -0.73475903 -0.4128304  -1.0018651   0.01477415  1.8428161  -2.230339\n",
            " -0.97722465 -0.4960797  -1.1756318  -2.0533476   1.6342531   4.7725163\n",
            "  2.3507776  -1.3215325  -0.308126   -0.8690382  -2.4757466  -1.6881745\n",
            " -0.713051   -0.49200457 -1.0599453  -0.16472745  0.83970505  0.0402002\n",
            " -0.07182062  1.8280481  -0.7947923  -0.29865158 -0.22351979 -1.0867082\n",
            "  0.7571606  -0.93985337 -1.5453279  -2.598642    0.2464715  -1.4046273\n",
            " -2.0676942   3.0897393   1.5921682   1.5476453   0.961313    1.3296508\n",
            " -0.20393997  2.6817439   2.1231163  -2.5386767  -1.2687471  -0.15914373\n",
            " -2.5108423  -0.52971876  0.8783929   1.7498392  -1.2437476   2.4800742\n",
            "  0.8610012   2.1336863   0.9099734   3.316665   -1.2515017   1.099396\n",
            " -1.6092911  -1.2929269  -0.6829627   1.2827624   3.100686    1.2116249\n",
            "  1.2664055  -1.0803831  -1.2932278   1.5872301   1.2945472   1.0427772\n",
            " -2.1325724  -1.4186722   1.6349204   1.4164981   3.2600322   0.5355174\n",
            " -2.1048162   1.099694   -1.3371623   1.3877456  -0.5735624  -1.8607196\n",
            "  2.030999    1.1334713  -3.9943366  -0.7575244   0.14409263 -2.497269\n",
            " -1.5854648   0.4976067  -0.47791737 -3.7081468  -1.9464717   2.4589899\n",
            " -0.9348372  -4.1272945   0.8883947   0.3921346   1.05773     1.9413742\n",
            " -1.8621306  -0.10470553  3.3287039   0.91546255 -1.5623167  -1.4291769\n",
            "  3.4900682   0.93608624  0.16935822 -1.5176414  -3.1166189  -0.3315329\n",
            " -0.19470951  0.91111565 -1.7212386   1.6392286   0.77341723  1.7469847\n",
            " -0.37584716  1.0283458   2.2132857  -1.5247875  -1.4290186   1.6158527\n",
            " -1.3998544   0.67482185  1.3119805  -3.07172    -0.92216796  1.1432824\n",
            "  1.7496542  -1.2001332  -2.492305   -2.2779322   0.5779582   0.10283063\n",
            "  0.70563567 -1.2733102  -0.07061154  0.9383333  -1.9831461  -0.92538863\n",
            "  1.9015504   2.2945068  -0.04372172 -1.7028489   1.2576373   1.7683284\n",
            " -0.29481062  0.4753261  -1.1648694  -1.9487969  -2.2787116   0.9518903\n",
            "  3.367008    0.10777942]\n"
          ],
          "name": "stdout"
        }
      ]
    },
    {
      "cell_type": "code",
      "metadata": {
        "colab_type": "code",
        "id": "7ICb0qLSIetF",
        "outputId": "02d1c1a6-0e34-4662-fec9-559a62cf5078",
        "colab": {
          "base_uri": "https://localhost:8080/",
          "height": 121
        }
      },
      "source": [
        "# শুরুতে ওয়ার্ড২ভেক ব্যবহার করছি, model এসেছে  ওয়ার্ড২ভেক\n",
        "print(\"ছেলে শব্দটার সবচেয়ে কাছাকাছি শব্দ কি?\")\n",
        "model.wv.most_similar('ছেলে', topn=5)"
      ],
      "execution_count": 45,
      "outputs": [
        {
          "output_type": "stream",
          "text": [
            "ছেলে শব্দটার সবচেয়ে কাছাকাছি শব্দ কি?\n"
          ],
          "name": "stdout"
        },
        {
          "output_type": "execute_result",
          "data": {
            "text/plain": [
              "[('মেয়ে', 0.8722741603851318),\n",
              " ('বোন', 0.793586254119873),\n",
              " ('ভাই', 0.7739415168762207),\n",
              " ('কন্যা', 0.7096402645111084),\n",
              " ('পুত্র', 0.6952965259552002)]"
            ]
          },
          "metadata": {
            "tags": []
          },
          "execution_count": 45
        }
      ]
    },
    {
      "cell_type": "markdown",
      "metadata": {
        "id": "TYxJekyefvgD",
        "colab_type": "text"
      },
      "source": [
        "আমার পছন্দ ফাস্টটেক্সট, দেখি তাদের রেজাল্ট। "
      ]
    },
    {
      "cell_type": "code",
      "metadata": {
        "id": "CwFmlgLAFXwr",
        "colab_type": "code",
        "outputId": "27a67f55-4128-4ad0-c030-032fcc64538c",
        "colab": {
          "base_uri": "https://localhost:8080/",
          "height": 121
        }
      },
      "source": [
        "print(\"ফাস্টটেক্সট উদাহরণ: ছেলে শব্দটার সবচেয়ে কাছাকাছি শব্দ কি?\")\n",
        "fasttext_model.wv.most_similar('ছেলে', topn=5)"
      ],
      "execution_count": 46,
      "outputs": [
        {
          "output_type": "stream",
          "text": [
            "ফাস্টটেক্সট উদাহরণ: ছেলে শব্দটার সবচেয়ে কাছাকাছি শব্দ কি?\n"
          ],
          "name": "stdout"
        },
        {
          "output_type": "execute_result",
          "data": {
            "text/plain": [
              "[('ছেলেমেয়ে', 0.8521428108215332),\n",
              " ('ছেলেরাই', 0.7924610376358032),\n",
              " ('মেয়ে', 0.7811962366104126),\n",
              " ('ছেলেটা', 0.7789328098297119),\n",
              " ('ছেলেবন্ধু', 0.7660925388336182)]"
            ]
          },
          "metadata": {
            "tags": []
          },
          "execution_count": 46
        }
      ]
    },
    {
      "cell_type": "code",
      "metadata": {
        "id": "EOXeHPU7DDaX",
        "colab_type": "code",
        "colab": {
          "base_uri": "https://localhost:8080/",
          "height": 121
        },
        "outputId": "6f113a35-7d54-4b2a-99f3-04a17c445be6"
      },
      "source": [
        "print(\"এখানে দেখি, রাজা + মহিলা - পুরুষ =?\")\n",
        "model.wv.most_similar(positive=['রাজা', 'মহিলা'], negative=['পুরুষ'], topn=5)"
      ],
      "execution_count": 47,
      "outputs": [
        {
          "output_type": "stream",
          "text": [
            "এখানে দেখি, রাজা + মহিলা - পুরুষ =?\n"
          ],
          "name": "stdout"
        },
        {
          "output_type": "execute_result",
          "data": {
            "text/plain": [
              "[('মহারাজা', 0.6273707151412964),\n",
              " ('রাণী', 0.5325778722763062),\n",
              " ('জিগমে', 0.5272931456565857),\n",
              " ('বাহাদুর', 0.5262842178344727),\n",
              " ('ওয়াংচুক', 0.5177974700927734)]"
            ]
          },
          "metadata": {
            "tags": []
          },
          "execution_count": 47
        }
      ]
    },
    {
      "cell_type": "code",
      "metadata": {
        "colab_type": "code",
        "id": "vlf8VWhEIetJ",
        "outputId": "60e3fa5b-acc6-4ee6-ef5d-09826b6925cd",
        "colab": {
          "base_uri": "https://localhost:8080/",
          "height": 121
        }
      },
      "source": [
        "print(\"এখানে দেখি, বাবা + মেয়ে - ছেলে =?\")\n",
        "model.wv.most_similar(positive=['বাবা', 'মেয়ে'], negative=['ছেলে'], topn=5)"
      ],
      "execution_count": 48,
      "outputs": [
        {
          "output_type": "stream",
          "text": [
            "এখানে দেখি, বাবা + মেয়ে - ছেলে =?\n"
          ],
          "name": "stdout"
        },
        {
          "output_type": "execute_result",
          "data": {
            "text/plain": [
              "[('মা', 0.6909376382827759),\n",
              " ('পিতা', 0.6672737002372742),\n",
              " ('দাদা', 0.6321698427200317),\n",
              " ('পিতামাতা', 0.6192115545272827),\n",
              " ('দাদী', 0.6028451919555664)]"
            ]
          },
          "metadata": {
            "tags": []
          },
          "execution_count": 48
        }
      ]
    },
    {
      "cell_type": "code",
      "metadata": {
        "id": "K2eHIpTQG25f",
        "colab_type": "code",
        "outputId": "f8474e72-f65f-4b1b-adf7-1f223914e4fe",
        "colab": {
          "base_uri": "https://localhost:8080/",
          "height": 884
        }
      },
      "source": [
        "print(model.wv['বাংলাদেশ'])"
      ],
      "execution_count": 49,
      "outputs": [
        {
          "output_type": "stream",
          "text": [
            "[ 3.5175005e-01  3.5167916e+00 -8.2838011e-01 -5.8582139e-01\n",
            "  8.2927364e-01 -1.9085555e+00 -5.2661431e-01  8.8325924e-01\n",
            "  1.8423069e+00 -7.5236207e-01 -2.4113244e-01  6.7613208e-01\n",
            " -1.7582563e+00 -1.7517366e+00 -3.1391819e+00 -1.3519890e+00\n",
            " -1.2018234e+00  5.9455526e-01 -1.0334700e+00 -9.5708691e-02\n",
            " -2.4539235e-01 -5.6788063e-01 -1.1662605e+00 -2.5026450e+00\n",
            "  1.6963079e+00  1.2565662e+00 -5.1293796e-01 -1.2249382e+00\n",
            "  6.2069851e-01 -3.6332136e-01 -7.1257943e-01  1.0550103e+00\n",
            "  2.3354582e-01 -1.4666082e+00 -1.3898696e+00 -6.1608940e-01\n",
            "  4.2960305e-02 -8.5373920e-01  4.8195649e-02 -1.0037018e+00\n",
            "  9.2394251e-01 -1.0669137e-01  8.6057514e-01  2.0017660e+00\n",
            " -1.4657514e+00  1.7304352e-01  3.2732213e+00 -8.6938165e-02\n",
            " -6.6414014e-02 -1.0127971e+00 -5.2252638e-01 -3.0017877e-01\n",
            "  1.3909240e+00  2.4159439e+00  1.9104222e+00 -3.7269467e-01\n",
            " -3.0272299e-01  1.7083523e-01 -5.2547371e-01 -1.6476020e+00\n",
            " -6.9910705e-01 -2.8813062e+00 -1.6957984e+00 -6.7164683e-01\n",
            "  7.8718203e-01  1.0401855e+00 -1.1637603e+00 -1.0477982e+00\n",
            " -3.0580301e+00 -2.7774959e+00  4.8192900e-01  1.6385007e+00\n",
            " -1.0695683e+00 -2.8823587e-01 -1.8634632e+00  6.7248029e-01\n",
            " -1.7277703e+00 -1.6932863e+00 -4.6267586e+00  2.7873659e+00\n",
            "  5.2554780e-01  1.1374357e+00  1.5728639e+00 -6.0665506e-01\n",
            " -6.4596117e-01 -2.8673369e-01  2.6873764e-01  2.6355404e-01\n",
            "  9.4173604e-01 -2.8239741e+00 -1.2334297e+00 -1.8996533e+00\n",
            "  1.7074579e-01 -9.6971530e-01  6.3801301e-01  4.2398778e-01\n",
            "  2.3348627e+00  1.3319948e-01 -8.4560132e-01  1.9113507e+00\n",
            " -1.6602517e+00 -1.5289801e+00  2.2502997e+00 -4.1008240e-01\n",
            " -5.3888567e-02 -5.8563435e-01  1.3029828e+00 -7.4390239e-01\n",
            " -2.4715016e+00 -8.1062806e-01  3.5918370e-01 -1.0954930e+00\n",
            "  9.5084566e-01  5.1613343e-01 -2.9321376e-02 -3.3103310e-02\n",
            " -1.9021250e-01  7.5122142e-01 -1.2560045e+00 -5.8777934e-01\n",
            "  3.3960146e-01 -7.8343874e-01 -5.3840470e-01  1.6615113e+00\n",
            "  1.1461337e+00 -1.6777890e+00  2.7067368e+00  4.3662611e-01\n",
            "  3.6113131e-01  1.3999900e+00  3.4523070e-01  1.4669323e+00\n",
            " -1.1984971e+00 -2.6041100e+00 -5.0606884e-02  1.1478919e+00\n",
            " -1.3802292e+00  4.8875591e-01  1.4062258e+00  1.6726009e+00\n",
            " -1.3935132e+00 -6.6472948e-01 -1.5015886e+00 -4.5257778e+00\n",
            "  1.7141893e+00  1.0703421e+00  1.2170081e+00 -1.9342827e+00\n",
            " -6.6832566e-01 -4.0133429e-01  1.7745560e+00  2.3664794e+00\n",
            " -2.8550157e-01 -2.2391398e+00 -1.5594759e+00  5.6263822e-01\n",
            "  6.5348260e-03  1.2585287e+00  2.0219443e+00  3.1535628e-01\n",
            "  1.8658019e+00  2.1467033e-01  2.7419281e-01  4.0560460e-01\n",
            " -1.2338208e+00  8.3840257e-01 -3.7574160e-01  1.0622298e+00\n",
            "  9.9578047e-01  8.4684724e-01  4.1595068e+00  1.2033191e+00\n",
            "  7.8306580e-01  9.1519886e-01 -1.1769331e+00  1.1523346e+00\n",
            " -2.3079891e+00 -2.4403840e-02  1.1760567e+00  2.9940202e+00\n",
            "  4.1148117e-01  2.9839618e+00 -1.3783984e+00 -2.2160747e+00\n",
            "  2.5915927e-03 -3.1959646e+00 -1.4280597e+00  1.5458279e+00\n",
            " -2.0521519e+00 -8.8035502e-02 -2.8428781e-01  1.4819075e+00\n",
            " -2.2055440e+00 -1.0224847e+00 -3.6977160e-01  1.9620166e+00\n",
            " -1.1723319e+00 -1.5807976e-01 -6.3894469e-01  1.1937269e+00]\n"
          ],
          "name": "stdout"
        }
      ]
    },
    {
      "cell_type": "code",
      "metadata": {
        "colab_type": "code",
        "id": "vJz_u8ZQIetL",
        "outputId": "bac0c83f-14cc-453e-d9fd-bf6d4f41ede4",
        "colab": {
          "base_uri": "https://localhost:8080/",
          "height": 52
        }
      },
      "source": [
        "print('এখানে কোন শব্দটা যাচ্ছে না বাকিদের সাথে?')\n",
        "model.wv.doesnt_match(\"ঢাকা রাজশাহী রংপুর নজরুল\".split())"
      ],
      "execution_count": 50,
      "outputs": [
        {
          "output_type": "stream",
          "text": [
            "এখানে কোন শব্দটা যাচ্ছে না বাকিদের সাথে?\n"
          ],
          "name": "stdout"
        },
        {
          "output_type": "execute_result",
          "data": {
            "text/plain": [
              "'নজরুল'"
            ]
          },
          "metadata": {
            "tags": []
          },
          "execution_count": 50
        }
      ]
    },
    {
      "cell_type": "code",
      "metadata": {
        "id": "Es7_9BJ2Mudn",
        "colab_type": "code",
        "outputId": "d943fac0-5963-444d-bfa1-2c01248aca12",
        "colab": {
          "base_uri": "https://localhost:8080/",
          "height": 35
        }
      },
      "source": [
        "print(model.wv.similarity('শিক্ষা', 'শিক্ষিত'))"
      ],
      "execution_count": 52,
      "outputs": [
        {
          "output_type": "stream",
          "text": [
            "0.40105462\n"
          ],
          "name": "stdout"
        }
      ]
    },
    {
      "cell_type": "code",
      "metadata": {
        "id": "WDfvR_yUHZmY",
        "colab_type": "code",
        "outputId": "cc5b59a1-9d18-41f7-93db-3d424f6bbaa5",
        "colab": {
          "base_uri": "https://localhost:8080/",
          "height": 121
        }
      },
      "source": [
        "semantically_similar_words = {words: [item[0] for item in model.wv.most_similar([words], topn=5)]\n",
        "                  for words in ['বাংলা', 'মাতা', 'একুশে', 'ভাষা', 'আনন্দ', 'আকাশ']}\n",
        "\n",
        "for k,v in semantically_similar_words.items():\n",
        "    print(k+\":\"+str(v))"
      ],
      "execution_count": 28,
      "outputs": [
        {
          "output_type": "stream",
          "text": [
            "বাংলা:['বাঙলা', 'অসমীয়া', 'বাংলার', 'হিন্দী', 'সাঁওতালি']\n",
            "মাতা:['জন্মনাম', 'মাতার', 'পিতা', 'দাদী', 'মা']\n",
            "একুশে:['গ্রন্থমেলায়', 'গ্রন্থমেলা', 'মরণোত্তর', 'বইমেলায়', 'পদ্মভূষণ']\n",
            "ভাষা:['ভাষার', 'ভাষাটি', 'ভাষাকে', 'ভাষাও', 'উপভাষা']\n",
            "আনন্দ:['অনন্ত', 'সুখ', 'অমৃত', 'নির্মল', 'হৃদয়']\n",
            "আকাশ:['মেঘলা', 'স্বর্গ', 'সূর্য', 'আকাশের', 'মেঘ']\n"
          ],
          "name": "stdout"
        }
      ]
    },
    {
      "cell_type": "code",
      "metadata": {
        "id": "tZWWvpNdIPlK",
        "colab_type": "code",
        "outputId": "def910dc-f65d-49b0-ff4d-5c51d1392278",
        "colab": {
          "base_uri": "https://localhost:8080/",
          "height": 121
        }
      },
      "source": [
        "semantically_similar_words = {words: [item[0] for item in fasttext_model.wv.most_similar([words], topn=5)]\n",
        "                  for words in ['বাংলা', 'মাতা', 'একুশে', 'ভাষা', 'আনন্দ', 'আকাশ']}\n",
        "\n",
        "for k,v in semantically_similar_words.items():\n",
        "    print(k+\":\"+str(v))"
      ],
      "execution_count": 29,
      "outputs": [
        {
          "output_type": "stream",
          "text": [
            "বাংলা:['বাংলা৷', 'বাংলাঃ', 'বাংলালিংক', 'জোড়বাংলা', 'শেরেবাংলা']\n",
            "মাতা:['মাতাপিতা', 'মাতামহ', 'মাতামহী', 'মাতাও', 'পিতামাতা']\n",
            "একুশে:['একুশ', 'একুশতম', 'একুশের', '২১শে', '২৫শে']\n",
            "ভাষা:['ভাষা৷', 'ভাষাও', 'কথ্যভাষা', 'ভাষাই', 'উপভাষা']\n",
            "আনন্দ:['আনন্দঘন', 'আনন্দীবাঈ', 'আনন্দমঠ', 'আনন্দলোক', 'আনন্দী']\n",
            "আকাশ:['আকাশী', 'আকাশি', 'আকাশবাণী', 'আকাশপথ', 'আকাশপথে']\n"
          ],
          "name": "stdout"
        }
      ]
    },
    {
      "cell_type": "code",
      "metadata": {
        "id": "aiRl4C0tljHW",
        "colab_type": "code",
        "outputId": "db0dca76-2efd-44f4-dd3e-1fe9ecff801d",
        "colab": {
          "base_uri": "https://localhost:8080/",
          "height": 55
        }
      },
      "source": [
        "# আপনি বলুন কি হচ্ছে এখানে?\n",
        "from gensim.models.phrases import Phrases\n",
        "bigram = Phrases(tokenized_lines, min_count=3, threshold=10)\n",
        "print(bigram[tokenized_lines[0]])"
      ],
      "execution_count": 30,
      "outputs": [
        {
          "output_type": "stream",
          "text": [
            "['বাংলা_ভাষা', 'বাংলা_ভাষা', 'বাংলা_ভাষা', 'বাঙলা', 'বাঙ্গলা', 'তথা', 'বাঙ্গালা', 'নামগুলোতেও', 'পরিচিত', 'একটি', 'ইন্দো_আর্য', 'ভাষা', 'যা', 'দক্ষিণ_এশিয়ার', 'বাঙালি_জাতির', 'প্রধান', 'কথ্য', 'ও', 'লেখ্য_ভাষা']\n"
          ],
          "name": "stdout"
        }
      ]
    },
    {
      "cell_type": "code",
      "metadata": {
        "id": "0C7-x-x6I1PO",
        "colab_type": "code",
        "outputId": "d262a8a1-0d9f-4b5e-d3bd-30d9f3207e34",
        "colab": {
          "base_uri": "https://localhost:8080/",
          "height": 89
        }
      },
      "source": [
        "# একটা ছবি আঁকবো যেখানে কাছাকাছি শব্দগুলো কোথায় আছে দেখাবে\n",
        "\n",
        "from sklearn.decomposition import PCA\n",
        "\n",
        "all_similar_words = sum([[k] + v for k, v in semantically_similar_words.items()], [])\n",
        "\n",
        "print(all_similar_words)\n",
        "print(type(all_similar_words))\n",
        "print(len(all_similar_words))"
      ],
      "execution_count": 31,
      "outputs": [
        {
          "output_type": "stream",
          "text": [
            "['বাংলা', 'বাংলা৷', 'বাংলাঃ', 'বাংলালিংক', 'জোড়বাংলা', 'শেরেবাংলা', 'মাতা', 'মাতাপিতা', 'মাতামহ', 'মাতামহী', 'মাতাও', 'পিতামাতা', 'একুশে', 'একুশ', 'একুশতম', 'একুশের', '২১শে', '২৫শে', 'ভাষা', 'ভাষা৷', 'ভাষাও', 'কথ্যভাষা', 'ভাষাই', 'উপভাষা', 'আনন্দ', 'আনন্দঘন', 'আনন্দীবাঈ', 'আনন্দমঠ', 'আনন্দলোক', 'আনন্দী', 'আকাশ', 'আকাশী', 'আকাশি', 'আকাশবাণী', 'আকাশপথ', 'আকাশপথে']\n",
            "<class 'list'>\n",
            "36\n"
          ],
          "name": "stdout"
        }
      ]
    },
    {
      "cell_type": "code",
      "metadata": {
        "id": "5rygCrGZJJZr",
        "colab_type": "code",
        "outputId": "b9b17543-d98c-440b-8ed1-51a174861a1b",
        "colab": {
          "base_uri": "https://localhost:8080/",
          "height": 641
        }
      },
      "source": [
        "# প্রিন্সিপাল কম্পোনেন্ট অ্যানালাইসিস ব্যবহার করছি \n",
        "\n",
        "word_vectors = fasttext_model.wv[all_similar_words]\n",
        "pca = PCA(n_components=2)\n",
        "p_comps = pca.fit_transform(word_vectors)\n",
        "word_names = all_similar_words\n",
        "\n",
        "# আমরা শব্দগুলো একটু দেখি \n",
        "word_names"
      ],
      "execution_count": 32,
      "outputs": [
        {
          "output_type": "execute_result",
          "data": {
            "text/plain": [
              "['বাংলা',\n",
              " 'বাংলা৷',\n",
              " 'বাংলাঃ',\n",
              " 'বাংলালিংক',\n",
              " 'জোড়বাংলা',\n",
              " 'শেরেবাংলা',\n",
              " 'মাতা',\n",
              " 'মাতাপিতা',\n",
              " 'মাতামহ',\n",
              " 'মাতামহী',\n",
              " 'মাতাও',\n",
              " 'পিতামাতা',\n",
              " 'একুশে',\n",
              " 'একুশ',\n",
              " 'একুশতম',\n",
              " 'একুশের',\n",
              " '২১শে',\n",
              " '২৫শে',\n",
              " 'ভাষা',\n",
              " 'ভাষা৷',\n",
              " 'ভাষাও',\n",
              " 'কথ্যভাষা',\n",
              " 'ভাষাই',\n",
              " 'উপভাষা',\n",
              " 'আনন্দ',\n",
              " 'আনন্দঘন',\n",
              " 'আনন্দীবাঈ',\n",
              " 'আনন্দমঠ',\n",
              " 'আনন্দলোক',\n",
              " 'আনন্দী',\n",
              " 'আকাশ',\n",
              " 'আকাশী',\n",
              " 'আকাশি',\n",
              " 'আকাশবাণী',\n",
              " 'আকাশপথ',\n",
              " 'আকাশপথে']"
            ]
          },
          "metadata": {
            "tags": []
          },
          "execution_count": 32
        }
      ]
    },
    {
      "cell_type": "code",
      "metadata": {
        "id": "8O0DvN1CCLy1",
        "colab_type": "code",
        "outputId": "b7e60341-968a-4f6b-b2ea-aa9c1c730765",
        "colab": {
          "base_uri": "https://localhost:8080/",
          "height": 803
        }
      },
      "source": [
        "# ছবিটা কিছুটা টেন্সর-ফ্লো এর এমবেডিং প্রজেক্টরের মতো\n",
        "\n",
        "import matplotlib\n",
        "import matplotlib.pyplot as plt\n",
        "import matplotlib.font_manager as fm\n",
        "\n",
        "# সিয়াম রুপালি ফন্ট ব্যবহার করছি \n",
        "!wget https://www.omicronlab.com/download/fonts/Siyamrupali.ttf\n",
        "prop = fm.FontProperties(fname='Siyamrupali.ttf')\n",
        "\n",
        "plt.figure(figsize=(18, 10))\n",
        "plt.scatter(p_comps[:, 0], p_comps[:, 1], c='red')\n",
        "\n",
        "for word_name, x, y in zip(word_names, p_comps[:, 0], p_comps[:, 1]):\n",
        "    plt.annotate(word_name, xy=(x+0.06, y+0.03), xytext=(0, 0), textcoords='offset points', fontproperties=prop)"
      ],
      "execution_count": 51,
      "outputs": [
        {
          "output_type": "stream",
          "text": [
            "--2019-12-11 13:35:51--  https://www.omicronlab.com/download/fonts/Siyamrupali.ttf\n",
            "Resolving www.omicronlab.com (www.omicronlab.com)... 172.104.46.32\n",
            "Connecting to www.omicronlab.com (www.omicronlab.com)|172.104.46.32|:443... connected.\n",
            "HTTP request sent, awaiting response... 200 OK\n",
            "Length: 401040 (392K) [application/octet-stream]\n",
            "Saving to: ‘Siyamrupali.ttf.1’\n",
            "\n",
            "\rSiyamrupali.ttf.1     0%[                    ]       0  --.-KB/s               \rSiyamrupali.ttf.1   100%[===================>] 391.64K  --.-KB/s    in 0.02s   \n",
            "\n",
            "2019-12-11 13:35:52 (22.5 MB/s) - ‘Siyamrupali.ttf.1’ saved [401040/401040]\n",
            "\n"
          ],
          "name": "stdout"
        },
        {
          "output_type": "display_data",
          "data": {
            "image/png": "[encoded data removed]",
            "text/plain": [
              "<Figure size 1296x720 with 1 Axes>"
            ]
          },
          "metadata": {
            "tags": []
          }
        }
      ]
    },
    {
      "cell_type": "markdown",
      "metadata": {
        "id": "Gc6VATQEM5Xz",
        "colab_type": "text"
      },
      "source": [
        "সামনে কি করবো? বাংলায় সেন্টিমেন্ট অ্যানালাইসিস।"
      ]
    }
  ]
}