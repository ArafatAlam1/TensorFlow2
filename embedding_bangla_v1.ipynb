{
  "nbformat": 4,
  "nbformat_minor": 0,
  "metadata": {
    "anaconda-cloud": {},
    "kernelspec": {
      "display_name": "Python 3.6 (tensorflow)",
      "language": "python",
      "name": "rga"
    },
    "language_info": {
      "codemirror_mode": {
        "name": "ipython",
        "version": 3
      },
      "file_extension": ".py",
      "mimetype": "text/x-python",
      "name": "python",
      "nbconvert_exporter": "python",
      "pygments_lexer": "ipython3",
      "version": "3.6.9"
    },
    "colab": {
      "name": "embedding_bangla_v1.ipynb",
      "provenance": [],
      "include_colab_link": true
    },
    "accelerator": "GPU"
  },
  "cells": [
    {
      "cell_type": "markdown",
      "metadata": {
        "id": "view-in-github",
        "colab_type": "text"
      },
      "source": [
        "<a href=\"https://colab.research.google.com/github/raqueeb/TensorFlow2/blob/master/embedding_bangla_v1.ipynb\" target=\"_parent\"><img src=\"https://colab.research.google.com/assets/colab-badge.svg\" alt=\"Open In Colab\"/></a>"
      ]
    },
    {
      "cell_type": "markdown",
      "metadata": {
        "id": "Mi3C6LhrrjKx",
        "colab_type": "text"
      },
      "source": [
        "### একটা এমবেডিং ট্রেনিং করতে চাচ্ছি\n",
        "\n",
        "জেফ হিটনের নোটবুক থেকে।\n",
        "\n",
        "https://github.com/jeffheaton/t81_558_deep_learning/blob/master/t81_558_class_11_03_embedding.ipynb\n",
        "\n",
        "### বাংলায় বাক্যকে ভেক্টরাইজ করা (ওয়ার্ড২ভেক বা ফাস্টটেক্সট বাদ দিয়ে)\n",
        "টোকেনাইজ করানোটা দেখাতে চাই "
      ]
    },
    {
      "cell_type": "code",
      "metadata": {
        "id": "SaDQqrJg7p68",
        "colab_type": "code",
        "colab": {
          "base_uri": "https://localhost:8080/",
          "height": 35
        },
        "outputId": "744fd1b0-ef59-483b-8338-c79a6d96711d"
      },
      "source": [
        "try:\n",
        "  # শুধুমাত্র টেন্সর-ফ্লো ২.x ব্যবহার করবো \n",
        "  %tensorflow_version 2.x\n",
        "except Exception:\n",
        "  pass\n",
        "\n",
        "import tensorflow as tf\n",
        "keras = tf.keras"
      ],
      "execution_count": 1,
      "outputs": [
        {
          "output_type": "stream",
          "text": [
            "TensorFlow 2.x selected.\n"
          ],
          "name": "stdout"
        }
      ]
    },
    {
      "cell_type": "code",
      "metadata": {
        "id": "sITppxUN-Dqv",
        "colab_type": "code",
        "colab": {}
      },
      "source": [
        "text_non_english = 'আমি আর আসছি না এখানে!'\n",
        "# tne = unicode(text_non_english, encoding='utf-8')\n",
        "# print(tne[0])"
      ],
      "execution_count": 0,
      "outputs": []
    },
    {
      "cell_type": "code",
      "metadata": {
        "id": "4A6DEYdH_L_g",
        "colab_type": "code",
        "colab": {
          "base_uri": "https://localhost:8080/",
          "height": 35
        },
        "outputId": "af905de2-9614-4c01-b3e0-28a21eca5fa2"
      },
      "source": [
        "print(text_non_english[0])"
      ],
      "execution_count": 18,
      "outputs": [
        {
          "output_type": "stream",
          "text": [
            "আ\n"
          ],
          "name": "stdout"
        }
      ]
    },
    {
      "cell_type": "code",
      "metadata": {
        "id": "gKAl6UUlAwFO",
        "colab_type": "code",
        "colab": {
          "base_uri": "https://localhost:8080/",
          "height": 35
        },
        "outputId": "7eb4b1ec-1f08-4091-9aa9-00af268f61b3"
      },
      "source": [
        "# একটু টেস্ট করি সাইকিট লার্নে \n",
        "\n",
        "from sklearn.feature_extraction.text import TfidfVectorizer\n",
        "corpus = [\n",
        "     'আমি আর আসছি না এখানে!',\n",
        "     'অসাধারণ সার্ভিস!',\n",
        "     'এর থেকে ভালো হয়না',\n",
        "     'কথা শোনে না ওয়েটার',\n",
        "      ]\n",
        "      \n",
        "vectorizer = TfidfVectorizer()\n",
        "X = vectorizer.fit_transform(corpus)\n",
        "print(vectorizer.get_feature_names())"
      ],
      "execution_count": 20,
      "outputs": [
        {
          "output_type": "stream",
          "text": [
            "['অস', 'আম', 'আর', 'আসছ', 'এখ', 'এর', 'ওয়', 'কথ', 'রণ', 'হয়ন']\n"
          ],
          "name": "stdout"
        }
      ]
    },
    {
      "cell_type": "code",
      "metadata": {
        "id": "RXjgO1I8BIyO",
        "colab_type": "code",
        "colab": {
          "base_uri": "https://localhost:8080/",
          "height": 35
        },
        "outputId": "fdc6926f-bb55-4fbc-84de-8ce25d351e43"
      },
      "source": [
        "print(X.shape)"
      ],
      "execution_count": 21,
      "outputs": [
        {
          "output_type": "stream",
          "text": [
            "(4, 10)\n"
          ],
          "name": "stdout"
        }
      ]
    },
    {
      "cell_type": "code",
      "metadata": {
        "id": "MEOvo2pjrjKy",
        "colab_type": "code",
        "colab": {}
      },
      "source": [
        "from numpy import array\n",
        "from tensorflow.keras.preprocessing.text import one_hot\n",
        "from tensorflow.keras.preprocessing.sequence import pad_sequences\n",
        "from tensorflow.keras.models import Sequential\n",
        "from tensorflow.keras.layers import Flatten, Embedding, Dense"
      ],
      "execution_count": 0,
      "outputs": []
    },
    {
      "cell_type": "code",
      "metadata": {
        "id": "9Ecoq69LrjK0",
        "colab_type": "code",
        "colab": {}
      },
      "source": [
        "# Define 10 resturant reviews.\n",
        "reviews = [\n",
        "    'আমি আর আসছি না এখানে!',\n",
        "    'একদম বাজে সার্ভিস',\n",
        "    'কথা শোনে না ওয়েটার',\n",
        "    'একদম ঠান্ডা খাবার',\n",
        "    'বাজে খাবার!',\n",
        "    'অসাধারণ',\n",
        "    'অসাধারণ সার্ভিস!',\n",
        "    'খুব ভালো!',\n",
        "    'মোটামুটি',\n",
        "    'এর থেকে ভালো হয়না']\n",
        "\n",
        "# Define labels (1=negative, 0=positive)\n",
        "labels = array([1,1,1,1,1,0,0,0,0,0])"
      ],
      "execution_count": 0,
      "outputs": []
    },
    {
      "cell_type": "code",
      "metadata": {
        "id": "omIMb93CvtWy",
        "colab_type": "code",
        "colab": {}
      },
      "source": [
        "# একটু টেস্ট করি সাইকিট লার্নে \n",
        "\n",
        "from sklearn.feature_extraction.text import TfidfVectorizer\n",
        "\n",
        "vect = TfidfVectorizer(decode_error='ignore',\n",
        "                       max_features=4)\n",
        "\n",
        "X = vect.fit_transform(reviews)"
      ],
      "execution_count": 0,
      "outputs": []
    },
    {
      "cell_type": "code",
      "metadata": {
        "id": "MYLOnO5Uxmmr",
        "colab_type": "code",
        "colab": {}
      },
      "source": [
        "# অথবা টেন্সর-ফ্লো \n",
        "\n",
        "from tensorflow.keras.preprocessing.text import Tokenizer"
      ],
      "execution_count": 0,
      "outputs": []
    },
    {
      "cell_type": "code",
      "metadata": {
        "id": "8mezzU-TxprR",
        "colab_type": "code",
        "colab": {}
      },
      "source": [
        "tokenizer = Tokenizer(num_words=20)\n",
        "\n",
        "# docs = df['quote']\n",
        "tokenizer.fit_on_texts(reviews)\n",
        "sequences = tokenizer.texts_to_sequences(reviews)"
      ],
      "execution_count": 0,
      "outputs": []
    },
    {
      "cell_type": "code",
      "metadata": {
        "id": "MVVdIpcqxrxB",
        "colab_type": "code",
        "colab": {
          "base_uri": "https://localhost:8080/",
          "height": 35
        },
        "outputId": "7c6ab138-79be-4902-a18f-63965aa7fa7d"
      },
      "source": [
        "sequences[:5]"
      ],
      "execution_count": 7,
      "outputs": [
        {
          "output_type": "execute_result",
          "data": {
            "text/plain": [
              "[[8, 9, 10, 1, 11], [2, 3, 4], [12, 13, 1, 14], [2, 15, 5], [3, 5]]"
            ]
          },
          "metadata": {
            "tags": []
          },
          "execution_count": 7
        }
      ]
    },
    {
      "cell_type": "code",
      "metadata": {
        "id": "-CxmAlaErjK3",
        "colab_type": "code",
        "colab": {
          "base_uri": "https://localhost:8080/",
          "height": 35
        },
        "outputId": "da0f1f6d-2686-4688-c73c-b0962c863fc5"
      },
      "source": [
        "print(reviews[0])"
      ],
      "execution_count": 8,
      "outputs": [
        {
          "output_type": "stream",
          "text": [
            "আমি আর আসছি না এখানে!\n"
          ],
          "name": "stdout"
        }
      ]
    },
    {
      "cell_type": "code",
      "metadata": {
        "id": "JaZk5g6PrjK5",
        "colab_type": "code",
        "outputId": "638a81c3-3b32-414c-a9dc-261351abf154",
        "colab": {
          "base_uri": "https://localhost:8080/",
          "height": 35
        }
      },
      "source": [
        "# ফিরে আসি আগের উদাহরণে \n",
        "\n",
        "VOCAB_SIZE = 50\n",
        "encoded_reviews = [one_hot(d, VOCAB_SIZE) for d in reviews]\n",
        "print(f\"Encoded reviews: {encoded_reviews}\")"
      ],
      "execution_count": 9,
      "outputs": [
        {
          "output_type": "stream",
          "text": [
            "Encoded reviews: [[23, 6, 33, 17, 25], [6, 10, 45], [36, 43, 17, 13], [6, 28, 16], [10, 16], [29], [29, 45], [47, 1], [25], [9, 5, 1, 46]]\n"
          ],
          "name": "stdout"
        }
      ]
    },
    {
      "cell_type": "code",
      "metadata": {
        "id": "xFLBnh2erjK8",
        "colab_type": "code",
        "outputId": "b23882f2-bb7b-4b70-87fa-18266deb2988",
        "colab": {
          "base_uri": "https://localhost:8080/",
          "height": 199
        }
      },
      "source": [
        "MAX_LENGTH = 4\n",
        "\n",
        "padded_reviews = pad_sequences(encoded_reviews, maxlen=MAX_LENGTH, padding='post')\n",
        "print(padded_reviews)"
      ],
      "execution_count": 10,
      "outputs": [
        {
          "output_type": "stream",
          "text": [
            "[[ 6 33 17 25]\n",
            " [ 6 10 45  0]\n",
            " [36 43 17 13]\n",
            " [ 6 28 16  0]\n",
            " [10 16  0  0]\n",
            " [29  0  0  0]\n",
            " [29 45  0  0]\n",
            " [47  1  0  0]\n",
            " [25  0  0  0]\n",
            " [ 9  5  1 46]]\n"
          ],
          "name": "stdout"
        }
      ]
    },
    {
      "cell_type": "code",
      "metadata": {
        "id": "sBM4Eu7OrjLJ",
        "colab_type": "code",
        "outputId": "b5efd6d7-965b-4edf-bef5-502bab0121c7",
        "colab": {
          "base_uri": "https://localhost:8080/",
          "height": 290
        }
      },
      "source": [
        "model = Sequential()\n",
        "embedding_layer = Embedding(VOCAB_SIZE, 8, input_length=MAX_LENGTH)\n",
        "model.add(embedding_layer)\n",
        "model.add(Flatten())\n",
        "model.add(Dense(1, activation='sigmoid'))\n",
        "model.compile(optimizer='adam', loss='binary_crossentropy', metrics=['acc'])\n",
        "\n",
        "print(model.summary())"
      ],
      "execution_count": 11,
      "outputs": [
        {
          "output_type": "stream",
          "text": [
            "Model: \"sequential\"\n",
            "_________________________________________________________________\n",
            "Layer (type)                 Output Shape              Param #   \n",
            "=================================================================\n",
            "embedding (Embedding)        (None, 4, 8)              400       \n",
            "_________________________________________________________________\n",
            "flatten (Flatten)            (None, 32)                0         \n",
            "_________________________________________________________________\n",
            "dense (Dense)                (None, 1)                 33        \n",
            "=================================================================\n",
            "Total params: 433\n",
            "Trainable params: 433\n",
            "Non-trainable params: 0\n",
            "_________________________________________________________________\n",
            "None\n"
          ],
          "name": "stdout"
        }
      ]
    },
    {
      "cell_type": "code",
      "metadata": {
        "id": "MVDOD7q7rjLO",
        "colab_type": "code",
        "outputId": "8f22d6cf-36c3-4262-e9f9-d83d01934a09",
        "colab": {
          "base_uri": "https://localhost:8080/",
          "height": 35
        }
      },
      "source": [
        "# fit the model\n",
        "model.fit(padded_reviews, labels, epochs=100, verbose=0)"
      ],
      "execution_count": 12,
      "outputs": [
        {
          "output_type": "execute_result",
          "data": {
            "text/plain": [
              "<tensorflow.python.keras.callbacks.History at 0x7fab68933b70>"
            ]
          },
          "metadata": {
            "tags": []
          },
          "execution_count": 12
        }
      ]
    },
    {
      "cell_type": "code",
      "metadata": {
        "id": "hnaII1xnrjLS",
        "colab_type": "code",
        "outputId": "5b3559c0-78e5-4cbd-fd0d-ae64f639dc22",
        "colab": {
          "base_uri": "https://localhost:8080/",
          "height": 1000
        }
      },
      "source": [
        "print(embedding_layer.get_weights()[0].shape)\n",
        "print(embedding_layer.get_weights())"
      ],
      "execution_count": 13,
      "outputs": [
        {
          "output_type": "stream",
          "text": [
            "(50, 8)\n",
            "[array([[-3.12827975e-02,  4.86732945e-02,  8.46145451e-02,\n",
            "        -5.70723526e-02, -1.34908348e-01, -5.42748198e-02,\n",
            "         1.45759553e-01,  1.47508457e-01],\n",
            "       [-1.48706838e-01,  1.17172904e-01,  1.29112393e-01,\n",
            "        -1.00727588e-01,  9.15443078e-02, -9.17942896e-02,\n",
            "         6.99876472e-02,  1.34916037e-01],\n",
            "       [-3.20193172e-02,  2.68795751e-02, -3.82953882e-02,\n",
            "         3.66718657e-02, -7.72655010e-03, -8.14471394e-03,\n",
            "         2.41601206e-02,  1.09758005e-02],\n",
            "       [ 4.45945971e-02,  4.41175140e-02, -3.72553244e-02,\n",
            "         4.93328609e-02,  1.09423324e-03, -3.85251641e-02,\n",
            "        -2.79844403e-02, -4.79998589e-02],\n",
            "       [-3.53379846e-02, -2.19841134e-02,  3.79212387e-02,\n",
            "         4.84202765e-02,  2.16694586e-02, -1.90777425e-02,\n",
            "         1.50343031e-03,  1.26581267e-03],\n",
            "       [-1.20961986e-01,  1.07883282e-01,  1.25951886e-01,\n",
            "         1.08194232e-01,  1.12215348e-01,  8.30505267e-02,\n",
            "         1.06055588e-01,  7.65256658e-02],\n",
            "       [-9.78901833e-02, -8.30083489e-02,  1.54981136e-01,\n",
            "        -8.48533362e-02, -5.65595292e-02, -1.30571783e-01,\n",
            "         1.40502363e-01, -9.89027694e-02],\n",
            "       [-9.50986147e-03,  3.15503143e-02,  3.67205404e-02,\n",
            "        -4.64918725e-02, -2.80485991e-02, -1.07221827e-02,\n",
            "        -2.03371178e-02,  8.44855234e-03],\n",
            "       [-3.80005129e-02, -2.29729656e-02,  1.86263397e-03,\n",
            "        -2.47452743e-02,  3.85826342e-02, -1.43837929e-02,\n",
            "         2.23647989e-02,  3.44700702e-02],\n",
            "       [ 1.43978998e-01,  7.77649954e-02, -7.67953843e-02,\n",
            "         7.43022487e-02,  1.32804230e-01,  8.38480890e-02,\n",
            "        -1.10272393e-01,  1.38938293e-01],\n",
            "       [-8.63388032e-02, -7.35940710e-02, -8.41129795e-02,\n",
            "        -1.23037346e-01, -1.15046985e-01, -8.81355852e-02,\n",
            "         1.35665491e-01, -8.51980597e-02],\n",
            "       [ 2.91255824e-02, -4.31005247e-02,  2.75298990e-02,\n",
            "         1.02104992e-03,  1.14730746e-03,  1.14784241e-02,\n",
            "        -1.53874867e-02, -4.92824428e-02],\n",
            "       [-4.77080718e-02, -3.50533240e-02,  3.30642797e-02,\n",
            "        -2.97150500e-02,  2.02489607e-02,  4.98612262e-02,\n",
            "        -3.38231474e-02, -2.59610415e-02],\n",
            "       [-7.76748657e-02, -5.36021590e-02,  1.40253142e-01,\n",
            "        -2.57928576e-02,  6.59959838e-02,  9.07000303e-02,\n",
            "         4.41062376e-02, -1.42669469e-01],\n",
            "       [ 4.79746796e-02,  4.95952629e-02, -4.02512550e-02,\n",
            "        -1.35450438e-03, -3.20835710e-02, -3.87439951e-02,\n",
            "         1.43563785e-02, -1.85356364e-02],\n",
            "       [-3.67409810e-02,  1.81857683e-02, -3.08886524e-02,\n",
            "        -4.93101850e-02,  3.69660892e-02,  2.28514522e-03,\n",
            "         2.76108496e-02, -3.14195901e-02],\n",
            "       [ 1.63777307e-01, -1.02899902e-01, -1.41749725e-01,\n",
            "         8.28228369e-02, -1.28003418e-01,  6.03478067e-02,\n",
            "        -1.18106864e-01, -6.52204901e-02],\n",
            "       [-2.37972420e-02, -1.39089793e-01,  4.01246585e-02,\n",
            "         9.65172723e-02,  5.77870943e-02,  8.05139095e-02,\n",
            "        -5.94455786e-02, -1.11659020e-01],\n",
            "       [-1.65620446e-02,  3.19216736e-02,  3.70798260e-03,\n",
            "        -1.79175958e-02,  3.69175710e-02, -1.39384381e-02,\n",
            "         4.93459590e-02,  3.16854753e-02],\n",
            "       [ 4.15650867e-02, -3.40788588e-02, -2.62124464e-03,\n",
            "        -4.34845574e-02,  5.09727001e-03,  2.13312842e-02,\n",
            "         4.16586511e-02, -6.53807074e-03],\n",
            "       [-9.56041738e-03, -2.59694699e-02,  3.22527625e-02,\n",
            "         3.99740599e-02,  1.79673173e-02, -4.47652228e-02,\n",
            "        -8.57801363e-03,  2.78905146e-02],\n",
            "       [ 1.33128278e-02,  2.26833113e-02, -4.69481610e-02,\n",
            "        -4.21058424e-02, -4.32778262e-02,  2.35590376e-02,\n",
            "        -3.90113108e-02,  4.42229025e-02],\n",
            "       [-3.77410650e-02, -4.58985828e-02,  2.13272907e-02,\n",
            "         4.24480475e-02,  1.62667073e-02,  4.26698811e-02,\n",
            "        -4.86984514e-02,  3.99917997e-02],\n",
            "       [-3.94610278e-02, -3.20037454e-03, -4.67751995e-02,\n",
            "        -2.36420985e-02, -2.09311247e-02, -6.02340698e-03,\n",
            "         1.02162138e-02, -1.84900872e-02],\n",
            "       [ 4.22659405e-02,  4.49827202e-02, -2.96708234e-02,\n",
            "         4.10751440e-02,  1.37511156e-02, -1.27643831e-02,\n",
            "         4.17039283e-02,  2.42638588e-03],\n",
            "       [-1.31950513e-01,  8.52100700e-02,  6.01514429e-02,\n",
            "         1.46328717e-01,  1.47546038e-01,  1.28255948e-01,\n",
            "        -7.63836205e-02,  1.60672754e-01],\n",
            "       [-1.59944072e-02,  2.94095613e-02, -4.35983650e-02,\n",
            "         9.52556729e-06,  1.60083883e-02, -2.56452560e-02,\n",
            "        -1.42543539e-02, -1.59958117e-02],\n",
            "       [ 4.63161506e-02, -1.19306557e-02, -4.46849838e-02,\n",
            "         1.68263912e-03,  2.49470733e-02,  1.52162574e-02,\n",
            "        -9.37336683e-03,  5.93433529e-03],\n",
            "       [ 8.98637027e-02, -9.55684483e-02, -5.36873266e-02,\n",
            "        -1.43766373e-01, -1.48407176e-01, -8.86933953e-02,\n",
            "        -1.51109219e-01, -1.04635485e-01],\n",
            "       [ 1.12091467e-01,  1.24842808e-01, -1.45467177e-01,\n",
            "         1.47904903e-01,  5.22453822e-02,  1.41335443e-01,\n",
            "        -8.61590579e-02,  1.43122092e-01],\n",
            "       [ 1.84568018e-03, -3.72439846e-02, -4.52964380e-03,\n",
            "        -2.54258998e-02, -2.16805935e-03, -4.12435643e-02,\n",
            "        -3.11765671e-02, -4.04833779e-02],\n",
            "       [ 2.64458694e-02, -2.93187853e-02,  1.17771253e-02,\n",
            "         9.38232988e-03,  9.84104723e-03, -3.64797823e-02,\n",
            "         3.02903168e-02, -3.14683206e-02],\n",
            "       [ 3.72844003e-02,  4.45021056e-02,  4.30976190e-02,\n",
            "        -2.36887820e-02, -2.07202081e-02,  2.40571424e-03,\n",
            "        -4.30698171e-02, -1.91685315e-02],\n",
            "       [ 8.00724700e-02, -6.30359873e-02, -7.82158896e-02,\n",
            "        -1.47597238e-01, -1.35095820e-01, -1.61058292e-01,\n",
            "        -1.33117676e-01, -1.19129837e-01],\n",
            "       [-2.74040587e-02, -7.40329176e-03, -3.38975191e-02,\n",
            "         2.93814801e-02,  3.22967432e-02,  2.37963684e-02,\n",
            "        -3.41804996e-02, -6.20305538e-04],\n",
            "       [-3.23768482e-02,  4.27284129e-02,  3.89952324e-02,\n",
            "        -9.87530872e-03, -3.60295549e-02,  4.28140424e-02,\n",
            "        -3.57913747e-02,  4.84260172e-03],\n",
            "       [-1.37737691e-01, -1.33016035e-01,  8.52675140e-02,\n",
            "        -8.50796476e-02, -1.15624540e-01, -6.89688846e-02,\n",
            "         7.71770701e-02, -1.17766321e-01],\n",
            "       [ 4.07333709e-02,  2.05680244e-02,  1.40895359e-02,\n",
            "        -3.23412307e-02,  3.19074057e-02, -4.08536680e-02,\n",
            "        -3.81762385e-02,  4.65225428e-04],\n",
            "       [-3.08622364e-02, -3.90039906e-02, -1.73445940e-02,\n",
            "         4.61107492e-03,  1.65609233e-02,  4.39327620e-02,\n",
            "        -3.89082059e-02,  4.82879616e-02],\n",
            "       [-4.69980724e-02,  1.61854066e-02, -3.21857817e-02,\n",
            "         9.51193646e-03, -1.10671893e-02, -3.92886996e-02,\n",
            "        -4.97408956e-03,  1.65278949e-02],\n",
            "       [ 4.30606678e-03,  3.43972556e-02, -1.24862567e-02,\n",
            "         4.54606451e-02, -1.24514103e-04,  1.49134658e-02,\n",
            "         2.30993144e-02,  2.14537233e-03],\n",
            "       [ 2.04539187e-02, -6.21373579e-03, -5.07320091e-03,\n",
            "         1.36725977e-03,  2.24842168e-02,  4.56577875e-02,\n",
            "         4.65198271e-02, -3.66994515e-02],\n",
            "       [ 1.93170197e-02,  4.43146862e-02,  3.83126028e-02,\n",
            "        -9.15467739e-03,  2.57100798e-02,  4.06074524e-03,\n",
            "         3.04622911e-02, -4.34098728e-02],\n",
            "       [ 8.38258490e-02, -1.03696525e-01, -1.06046505e-01,\n",
            "        -8.21101069e-02, -1.11314654e-01, -1.29228905e-01,\n",
            "        -8.63557756e-02, -1.43551782e-01],\n",
            "       [-2.18651425e-02, -1.47690065e-02, -8.54279846e-03,\n",
            "        -9.05547291e-03, -9.01255757e-03,  1.26257278e-02,\n",
            "         3.90040018e-02, -1.25760958e-03],\n",
            "       [-1.22810960e-01, -1.59005195e-01,  8.84884596e-02,\n",
            "         9.17383954e-02,  6.50060400e-02,  1.23293690e-01,\n",
            "        -6.89242259e-02,  8.38046968e-02],\n",
            "       [ 1.32015422e-01,  5.46120256e-02, -1.12986706e-01,\n",
            "        -5.53525193e-03, -1.07937127e-01, -3.72328535e-02,\n",
            "        -1.07936136e-01,  1.10016771e-01],\n",
            "       [ 1.01942174e-01,  1.42384782e-01, -6.43068254e-02,\n",
            "         5.83766550e-02,  8.77915174e-02,  7.23352507e-02,\n",
            "        -9.87383053e-02,  6.84990510e-02],\n",
            "       [ 1.83918811e-02, -4.17179950e-02, -1.91044565e-02,\n",
            "         3.19568850e-02,  8.82472843e-03, -3.99077311e-02,\n",
            "        -3.76461037e-02,  2.83377208e-02],\n",
            "       [-2.98118126e-02, -2.25805119e-03, -2.99986489e-02,\n",
            "        -2.04653274e-02, -1.35057047e-03,  1.19385943e-02,\n",
            "        -4.86904383e-03, -4.85749505e-02]], dtype=float32)]\n"
          ],
          "name": "stdout"
        }
      ]
    },
    {
      "cell_type": "code",
      "metadata": {
        "id": "dPvlpHsNrjLU",
        "colab_type": "code",
        "outputId": "f9c5c22f-6588-4d65-e357-e5b67c7aab7c",
        "colab": {
          "base_uri": "https://localhost:8080/",
          "height": 35
        }
      },
      "source": [
        "loss, accuracy = model.evaluate(padded_reviews, labels, verbose=0)\n",
        "print(f'Accuracy: {accuracy}')"
      ],
      "execution_count": 14,
      "outputs": [
        {
          "output_type": "stream",
          "text": [
            "Accuracy: 1.0\n"
          ],
          "name": "stdout"
        }
      ]
    }
  ]
}