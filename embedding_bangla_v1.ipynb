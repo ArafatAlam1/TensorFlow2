{
  "nbformat": 4,
  "nbformat_minor": 0,
  "metadata": {
    "anaconda-cloud": {},
    "kernelspec": {
      "display_name": "Python 3.6 (tensorflow)",
      "language": "python",
      "name": "rga"
    },
    "language_info": {
      "codemirror_mode": {
        "name": "ipython",
        "version": 3
      },
      "file_extension": ".py",
      "mimetype": "text/x-python",
      "name": "python",
      "nbconvert_exporter": "python",
      "pygments_lexer": "ipython3",
      "version": "3.6.9"
    },
    "colab": {
      "name": "embedding_bangla_v1.ipynb",
      "provenance": [],
      "include_colab_link": true
    },
    "accelerator": "GPU"
  },
  "cells": [
    {
      "cell_type": "markdown",
      "metadata": {
        "id": "view-in-github",
        "colab_type": "text"
      },
      "source": [
        "<a href=\"https://colab.research.google.com/github/raqueeb/TensorFlow2/blob/master/embedding_bangla_v1.ipynb\" target=\"_parent\"><img src=\"https://colab.research.google.com/assets/colab-badge.svg\" alt=\"Open In Colab\"/></a>"
      ]
    },
    {
      "cell_type": "markdown",
      "metadata": {
        "id": "Mi3C6LhrrjKx",
        "colab_type": "text"
      },
      "source": [
        "### একটা এমবেডিং ট্রেনিং করতে চাচ্ছি\n",
        "\n",
        "জেফ হিটনের নোটবুক থেকে।\n"
      ]
    },
    {
      "cell_type": "code",
      "metadata": {
        "id": "MEOvo2pjrjKy",
        "colab_type": "code",
        "colab": {
          "base_uri": "https://localhost:8080/",
          "height": 65
        },
        "outputId": "492da363-1b4c-485d-cbea-16ef0b71a769"
      },
      "source": [
        "from numpy import array\n",
        "from tensorflow.keras.preprocessing.text import one_hot\n",
        "from tensorflow.keras.preprocessing.sequence import pad_sequences\n",
        "from tensorflow.keras.models import Sequential\n",
        "from tensorflow.keras.layers import Flatten, Embedding, Dense"
      ],
      "execution_count": 1,
      "outputs": [
        {
          "output_type": "display_data",
          "data": {
            "text/html": [
              "<p style=\"color: red;\">\n",
              "The default version of TensorFlow in Colab will soon switch to TensorFlow 2.x.<br>\n",
              "We recommend you <a href=\"https://www.tensorflow.org/guide/migrate\" target=\"_blank\">upgrade</a> now \n",
              "or ensure your notebook will continue to use TensorFlow 1.x via the <code>%tensorflow_version 1.x</code> magic:\n",
              "<a href=\"https://colab.research.google.com/notebooks/tensorflow_version.ipynb\" target=\"_blank\">more info</a>.</p>\n"
            ],
            "text/plain": [
              "<IPython.core.display.HTML object>"
            ]
          },
          "metadata": {
            "tags": []
          }
        }
      ]
    },
    {
      "cell_type": "code",
      "metadata": {
        "id": "9Ecoq69LrjK0",
        "colab_type": "code",
        "colab": {}
      },
      "source": [
        "# Define 10 resturant reviews.\n",
        "reviews = [\n",
        "    'আমি আর আসছি না এখানে!',\n",
        "    'একদম বাজে সার্ভিস',\n",
        "    'কথা শোনে না ওয়েটার',\n",
        "    'একদম ঠান্ডা খাবার',\n",
        "    'বাজে খাবার!',\n",
        "    'অসাধারণ',\n",
        "    'অসাধারণ সার্ভিস!',\n",
        "    'খুব ভালো!',\n",
        "    'মোটামুটি',\n",
        "    'এর থেকে ভালো হয়না']\n",
        "\n",
        "# Define labels (1=negative, 0=positive)\n",
        "labels = array([1,1,1,1,1,0,0,0,0,0])"
      ],
      "execution_count": 0,
      "outputs": []
    },
    {
      "cell_type": "code",
      "metadata": {
        "id": "omIMb93CvtWy",
        "colab_type": "code",
        "colab": {}
      },
      "source": [
        "from sklearn.feature_extraction.text import TfidfVectorizer\n",
        "\n",
        "vect = TfidfVectorizer(decode_error='ignore',\n",
        "                       max_features=4)\n",
        "\n",
        "X = vect.fit_transform(reviews)"
      ],
      "execution_count": 0,
      "outputs": []
    },
    {
      "cell_type": "code",
      "metadata": {
        "id": "5mYjNriFwCvO",
        "colab_type": "code",
        "colab": {}
      },
      "source": [
        ""
      ],
      "execution_count": 0,
      "outputs": []
    },
    {
      "cell_type": "code",
      "metadata": {
        "id": "MYLOnO5Uxmmr",
        "colab_type": "code",
        "colab": {}
      },
      "source": [
        "from tensorflow.keras.preprocessing.text import Tokenizer"
      ],
      "execution_count": 0,
      "outputs": []
    },
    {
      "cell_type": "code",
      "metadata": {
        "id": "8mezzU-TxprR",
        "colab_type": "code",
        "colab": {}
      },
      "source": [
        "tokenizer = Tokenizer(num_words=20)\n",
        "\n",
        "# docs = df['quote']\n",
        "tokenizer.fit_on_texts(reviews)\n",
        "sequences = tokenizer.texts_to_sequences(reviews)"
      ],
      "execution_count": 0,
      "outputs": []
    },
    {
      "cell_type": "code",
      "metadata": {
        "id": "MVVdIpcqxrxB",
        "colab_type": "code",
        "colab": {
          "base_uri": "https://localhost:8080/",
          "height": 35
        },
        "outputId": "8ab2a907-04e5-406e-9caf-bcf6e0df6cea"
      },
      "source": [
        "sequences[:5]"
      ],
      "execution_count": 17,
      "outputs": [
        {
          "output_type": "execute_result",
          "data": {
            "text/plain": [
              "[[8, 9, 10, 1, 11], [2, 3, 4], [12, 13, 1, 14], [2, 15, 5], [3, 5]]"
            ]
          },
          "metadata": {
            "tags": []
          },
          "execution_count": 17
        }
      ]
    },
    {
      "cell_type": "code",
      "metadata": {
        "id": "-CxmAlaErjK3",
        "colab_type": "code",
        "colab": {
          "base_uri": "https://localhost:8080/",
          "height": 35
        },
        "outputId": "d1929acc-d97b-4635-cad3-7d617de39e4a"
      },
      "source": [
        "print(reviews[0])"
      ],
      "execution_count": 18,
      "outputs": [
        {
          "output_type": "stream",
          "text": [
            "আমি আর আসছি না এখানে!\n"
          ],
          "name": "stdout"
        }
      ]
    },
    {
      "cell_type": "code",
      "metadata": {
        "id": "JaZk5g6PrjK5",
        "colab_type": "code",
        "outputId": "1d0784a9-9980-492b-b607-6990389fd6fc",
        "colab": {
          "base_uri": "https://localhost:8080/",
          "height": 35
        }
      },
      "source": [
        "VOCAB_SIZE = 50\n",
        "encoded_reviews = [one_hot(d, VOCAB_SIZE) for d in reviews]\n",
        "print(f\"Encoded reviews: {encoded_reviews}\")"
      ],
      "execution_count": 0,
      "outputs": [
        {
          "output_type": "stream",
          "text": [
            "Encoded reviews: [[19, 45, 8, 26, 27], [11, 32, 44], [17, 5, 26, 44], [11, 20, 48], [32, 48], [30], [30, 44], [12, 9], [18], [6, 44, 9, 48]]\n"
          ],
          "name": "stdout"
        }
      ]
    },
    {
      "cell_type": "code",
      "metadata": {
        "id": "xFLBnh2erjK8",
        "colab_type": "code",
        "outputId": "ef2c04ee-7800-4f9a-ec4e-f7565d85e1f4",
        "colab": {
          "base_uri": "https://localhost:8080/",
          "height": 199
        }
      },
      "source": [
        "MAX_LENGTH = 4\n",
        "\n",
        "padded_reviews = pad_sequences(encoded_reviews, maxlen=MAX_LENGTH, padding='post')\n",
        "print(padded_reviews)"
      ],
      "execution_count": 0,
      "outputs": [
        {
          "output_type": "stream",
          "text": [
            "[[45  8 26 27]\n",
            " [11 32 44  0]\n",
            " [17  5 26 44]\n",
            " [11 20 48  0]\n",
            " [32 48  0  0]\n",
            " [30  0  0  0]\n",
            " [30 44  0  0]\n",
            " [12  9  0  0]\n",
            " [18  0  0  0]\n",
            " [ 6 44  9 48]]\n"
          ],
          "name": "stdout"
        }
      ]
    },
    {
      "cell_type": "code",
      "metadata": {
        "id": "sBM4Eu7OrjLJ",
        "colab_type": "code",
        "outputId": "c1379757-8914-40c9-a984-97a8b1494872",
        "colab": {
          "base_uri": "https://localhost:8080/",
          "height": 474
        }
      },
      "source": [
        "model = Sequential()\n",
        "embedding_layer = Embedding(VOCAB_SIZE, 8, input_length=MAX_LENGTH)\n",
        "model.add(embedding_layer)\n",
        "model.add(Flatten())\n",
        "model.add(Dense(1, activation='sigmoid'))\n",
        "model.compile(optimizer='adam', loss='binary_crossentropy', metrics=['acc'])\n",
        "\n",
        "print(model.summary())"
      ],
      "execution_count": 0,
      "outputs": [
        {
          "output_type": "stream",
          "text": [
            "WARNING:tensorflow:From /usr/local/lib/python3.6/dist-packages/tensorflow_core/python/keras/initializers.py:119: calling RandomUniform.__init__ (from tensorflow.python.ops.init_ops) with dtype is deprecated and will be removed in a future version.\n",
            "Instructions for updating:\n",
            "Call initializer instance with the dtype argument instead of passing it to the constructor\n",
            "WARNING:tensorflow:From /usr/local/lib/python3.6/dist-packages/tensorflow_core/python/ops/resource_variable_ops.py:1630: calling BaseResourceVariable.__init__ (from tensorflow.python.ops.resource_variable_ops) with constraint is deprecated and will be removed in a future version.\n",
            "Instructions for updating:\n",
            "If using Keras pass *_constraint arguments to layers.\n",
            "WARNING:tensorflow:From /usr/local/lib/python3.6/dist-packages/tensorflow_core/python/ops/nn_impl.py:183: where (from tensorflow.python.ops.array_ops) is deprecated and will be removed in a future version.\n",
            "Instructions for updating:\n",
            "Use tf.where in 2.0, which has the same broadcast rule as np.where\n",
            "Model: \"sequential\"\n",
            "_________________________________________________________________\n",
            "Layer (type)                 Output Shape              Param #   \n",
            "=================================================================\n",
            "embedding (Embedding)        (None, 4, 8)              400       \n",
            "_________________________________________________________________\n",
            "flatten (Flatten)            (None, 32)                0         \n",
            "_________________________________________________________________\n",
            "dense (Dense)                (None, 1)                 33        \n",
            "=================================================================\n",
            "Total params: 433\n",
            "Trainable params: 433\n",
            "Non-trainable params: 0\n",
            "_________________________________________________________________\n",
            "None\n"
          ],
          "name": "stdout"
        }
      ]
    },
    {
      "cell_type": "code",
      "metadata": {
        "id": "MVDOD7q7rjLO",
        "colab_type": "code",
        "outputId": "8cc32033-089c-4cb0-9ff5-b2c8b4aab970",
        "colab": {
          "base_uri": "https://localhost:8080/",
          "height": 35
        }
      },
      "source": [
        "# fit the model\n",
        "model.fit(padded_reviews, labels, epochs=100, verbose=0)"
      ],
      "execution_count": 0,
      "outputs": [
        {
          "output_type": "execute_result",
          "data": {
            "text/plain": [
              "<tensorflow.python.keras.callbacks.History at 0x7f42ded29dd8>"
            ]
          },
          "metadata": {
            "tags": []
          },
          "execution_count": 7
        }
      ]
    },
    {
      "cell_type": "code",
      "metadata": {
        "id": "hnaII1xnrjLS",
        "colab_type": "code",
        "outputId": "8a1cbcd5-73d4-43cf-b097-012febfd3170",
        "colab": {
          "base_uri": "https://localhost:8080/",
          "height": 1000
        }
      },
      "source": [
        "print(embedding_layer.get_weights()[0].shape)\n",
        "print(embedding_layer.get_weights())"
      ],
      "execution_count": 0,
      "outputs": [
        {
          "output_type": "stream",
          "text": [
            "(50, 8)\n",
            "[array([[ 0.0531927 , -0.1335724 ,  0.09978101, -0.11504837, -0.14003828,\n",
            "         0.11393311,  0.12265231, -0.11320274],\n",
            "       [ 0.04134898,  0.04094077, -0.01528672, -0.01378284,  0.02807479,\n",
            "         0.0145526 ,  0.03425549, -0.01268482],\n",
            "       [ 0.0067782 , -0.0050568 , -0.02829794,  0.04341808,  0.00205258,\n",
            "         0.03645544,  0.02484741,  0.03088689],\n",
            "       [ 0.03101758,  0.03930685, -0.04244353, -0.04883758,  0.00656687,\n",
            "         0.01296997, -0.04324911, -0.01757413],\n",
            "       [-0.02182766, -0.00187176, -0.02171852, -0.04498038,  0.00705006,\n",
            "         0.01777476, -0.01512363,  0.04027455],\n",
            "       [-0.13242161, -0.08681805, -0.11331531,  0.0550344 ,  0.05213567,\n",
            "        -0.12271953, -0.11110894, -0.11625776],\n",
            "       [-0.10676523,  0.05187485, -0.08877622, -0.09133556, -0.08951628,\n",
            "         0.06400855,  0.10163167,  0.13527864],\n",
            "       [ 0.01605253, -0.03935649, -0.04734606, -0.0422982 , -0.01900793,\n",
            "         0.00696445,  0.04302504,  0.01819885],\n",
            "       [-0.14192007, -0.06629378, -0.0481285 ,  0.11361091,  0.05823817,\n",
            "        -0.09936845, -0.12765345, -0.04973258],\n",
            "       [ 0.13154182, -0.052414  ,  0.08499458, -0.140281  , -0.12172177,\n",
            "         0.08272858,  0.12183995, -0.09873999],\n",
            "       [-0.02961923,  0.03222359,  0.04472293,  0.00557349,  0.03853754,\n",
            "         0.01574918,  0.02811489, -0.03592066],\n",
            "       [ 0.06765024, -0.07405493,  0.07607389,  0.16795082,  0.1294156 ,\n",
            "        -0.14486651, -0.09409305, -0.06054157],\n",
            "       [-0.09994634,  0.09479856, -0.12053605, -0.12499847, -0.13322845,\n",
            "         0.1477879 ,  0.13395976,  0.13609484],\n",
            "       [-0.04755883,  0.04011974,  0.02853003, -0.00427477,  0.00396331,\n",
            "         0.02016007,  0.00522742, -0.00493451],\n",
            "       [-0.01447598, -0.03408171, -0.0305076 ,  0.03884793,  0.01845622,\n",
            "        -0.0121676 ,  0.00609051,  0.03546951],\n",
            "       [-0.03694423, -0.02206649,  0.04884711,  0.00742146, -0.03615383,\n",
            "        -0.00738118, -0.03117436,  0.04486103],\n",
            "       [ 0.00605113, -0.01241465, -0.04854344,  0.03516227,  0.04763457,\n",
            "        -0.00595869,  0.02657995,  0.01118847],\n",
            "       [ 0.07981399, -0.11269697,  0.13152851,  0.1669973 ,  0.13469917,\n",
            "        -0.09308247, -0.05182023, -0.08129244],\n",
            "       [-0.1040386 ,  0.14696136, -0.05183692, -0.08160582, -0.13322832,\n",
            "         0.12931171,  0.11429498,  0.06412213],\n",
            "       [-0.01584134, -0.01532718,  0.0046596 ,  0.00563008,  0.02227303,\n",
            "        -0.04637625,  0.04038939, -0.03685228],\n",
            "       [-0.10900386,  0.00926425, -0.13810462,  0.1485436 ,  0.0404164 ,\n",
            "        -0.06679522, -0.16126233, -0.0604599 ],\n",
            "       [ 0.02514216, -0.01193827, -0.02432771,  0.00388991, -0.03207131,\n",
            "        -0.0110728 ,  0.0191958 , -0.03125478],\n",
            "       [ 0.0144449 , -0.02293506,  0.03165114, -0.00393993, -0.04225904,\n",
            "        -0.04652901, -0.04171278,  0.03492415],\n",
            "       [-0.00175308, -0.02741334, -0.03865846,  0.02609417, -0.00933118,\n",
            "        -0.01748331, -0.02382643,  0.03185663],\n",
            "       [ 0.0241269 , -0.01617756, -0.03685368, -0.03575265,  0.03331855,\n",
            "        -0.02111608, -0.01345601, -0.01531887],\n",
            "       [ 0.00235587, -0.01457554, -0.00906503, -0.02513559, -0.04641682,\n",
            "        -0.02352694, -0.01680436, -0.00248589],\n",
            "       [-0.08378354,  0.12153269, -0.10620137, -0.09798087,  0.11295652,\n",
            "        -0.13750298, -0.06105485,  0.13204403],\n",
            "       [ 0.0899638 ,  0.09653496, -0.05412529, -0.06168092,  0.11868601,\n",
            "        -0.11626352, -0.05483519, -0.13006032],\n",
            "       [-0.00106034,  0.04753799,  0.00773919,  0.02569873, -0.02548921,\n",
            "        -0.01587769,  0.04647456, -0.01627282],\n",
            "       [ 0.04499699,  0.02363816,  0.00809816, -0.02143772,  0.01002984,\n",
            "        -0.04907417,  0.01965776,  0.02090988],\n",
            "       [-0.08426098,  0.1385444 , -0.12600556, -0.12448441, -0.12115026,\n",
            "         0.13614291,  0.12075651,  0.07075661],\n",
            "       [-0.03796254, -0.01502768,  0.00198538, -0.03728963, -0.00969093,\n",
            "         0.0261475 , -0.03334316,  0.04864586],\n",
            "       [-0.01023426, -0.09933883, -0.03289454,  0.08623914,  0.08576427,\n",
            "        -0.06009784, -0.11048544, -0.12544937],\n",
            "       [ 0.00688048,  0.0325117 ,  0.01787085,  0.04253762, -0.03265771,\n",
            "         0.0440223 ,  0.01246194,  0.03203236],\n",
            "       [ 0.00757718, -0.02799753, -0.03241687, -0.01850357,  0.00235294,\n",
            "        -0.04474701, -0.00255485, -0.0424042 ],\n",
            "       [-0.04377917, -0.0113157 ,  0.02076456,  0.04718724, -0.02265035,\n",
            "         0.01730129,  0.04620505,  0.02060758],\n",
            "       [ 0.04183438, -0.04072194,  0.00092194,  0.04187438,  0.04708943,\n",
            "         0.02698893, -0.02467882,  0.00475931],\n",
            "       [-0.00232772,  0.02611249,  0.02415966,  0.04133214, -0.00458743,\n",
            "        -0.00531119, -0.00250665, -0.03508627],\n",
            "       [ 0.0222688 , -0.04547652,  0.04577437, -0.0383603 , -0.01484542,\n",
            "        -0.00710559,  0.04866857,  0.03448725],\n",
            "       [-0.02595784, -0.02833214,  0.0042675 , -0.01893612, -0.01207198,\n",
            "        -0.02196211,  0.00686016, -0.03903282],\n",
            "       [ 0.04974189, -0.00961445,  0.03165717,  0.0031198 ,  0.03926286,\n",
            "         0.01651854, -0.03903652,  0.00847225],\n",
            "       [ 0.00463458,  0.03505686,  0.02612186, -0.03677388,  0.02347083,\n",
            "        -0.02242955,  0.04341299,  0.00748733],\n",
            "       [ 0.02497384,  0.04377944, -0.04878502,  0.03727481, -0.0400772 ,\n",
            "         0.01639528, -0.01171935,  0.04431467],\n",
            "       [ 0.01201544, -0.02951731,  0.01447487, -0.03371139, -0.02684964,\n",
            "        -0.03381582,  0.01935139, -0.01292318],\n",
            "       [ 0.12634349,  0.13473983,  0.049417  , -0.1187078 ,  0.04582977,\n",
            "         0.08018988, -0.053526  ,  0.05949232],\n",
            "       [ 0.04422311, -0.04813828,  0.10795558,  0.08719791,  0.1029709 ,\n",
            "        -0.1342381 , -0.09735533, -0.10068896],\n",
            "       [ 0.0407075 , -0.03264365,  0.04505365, -0.04802037, -0.00205134,\n",
            "        -0.00634284,  0.04999368,  0.02872962],\n",
            "       [ 0.04613706,  0.01075657,  0.02832707,  0.01304099,  0.01539511,\n",
            "        -0.01872656,  0.02236756,  0.0233874 ],\n",
            "       [-0.13608497, -0.15199439, -0.10609759,  0.08015832, -0.0810606 ,\n",
            "        -0.14343803, -0.15843917,  0.10247006],\n",
            "       [ 0.03160853, -0.01596727, -0.01854403, -0.04878196, -0.04461099,\n",
            "        -0.02949185, -0.02311869, -0.00997592]], dtype=float32)]\n"
          ],
          "name": "stdout"
        }
      ]
    },
    {
      "cell_type": "code",
      "metadata": {
        "id": "dPvlpHsNrjLU",
        "colab_type": "code",
        "outputId": "0b3dc901-5bac-4049-fd15-2992c27f8b02",
        "colab": {
          "base_uri": "https://localhost:8080/",
          "height": 35
        }
      },
      "source": [
        "loss, accuracy = model.evaluate(padded_reviews, labels, verbose=0)\n",
        "print(f'Accuracy: {accuracy}')"
      ],
      "execution_count": 0,
      "outputs": [
        {
          "output_type": "stream",
          "text": [
            "Accuracy: 1.0\n"
          ],
          "name": "stdout"
        }
      ]
    },
    {
      "cell_type": "code",
      "metadata": {
        "id": "g3VLT7BirjLX",
        "colab_type": "code",
        "colab": {}
      },
      "source": [
        ""
      ],
      "execution_count": 0,
      "outputs": []
    }
  ]
}