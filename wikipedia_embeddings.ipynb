{
  "nbformat": 4,
  "nbformat_minor": 0,
  "metadata": {
    "colab": {
      "name": "wikipedia_embeddings.ipynb",
      "provenance": [],
      "include_colab_link": true
    },
    "kernelspec": {
      "display_name": "Python 3",
      "language": "python",
      "name": "python3"
    },
    "language_info": {
      "codemirror_mode": {
        "name": "ipython",
        "version": 3
      },
      "file_extension": ".py",
      "mimetype": "text/x-python",
      "name": "python",
      "nbconvert_exporter": "python",
      "pygments_lexer": "ipython3",
      "version": "3.6.8"
    }
  },
  "cells": [
    {
      "cell_type": "markdown",
      "metadata": {
        "id": "view-in-github",
        "colab_type": "text"
      },
      "source": [
        "<a href=\"https://colab.research.google.com/github/raqueeb/TensorFlow2/blob/master/wikipedia_embeddings.ipynb\" target=\"_parent\"><img src=\"https://colab.research.google.com/assets/colab-badge.svg\" alt=\"Open In Colab\"/></a>"
      ]
    },
    {
      "cell_type": "code",
      "metadata": {
        "colab_type": "code",
        "id": "css35ZIlIesJ",
        "colab": {}
      },
      "source": [
        "import re\n",
        "import os\n",
        "import glob\n",
        "import string\n",
        "\n",
        "from gensim.models import Word2Vec\n",
        "from gensim.models import FastText"
      ],
      "execution_count": 0,
      "outputs": []
    },
    {
      "cell_type": "code",
      "metadata": {
        "id": "Auyxj-Wwxe4k",
        "colab_type": "code",
        "outputId": "7933d656-c464-4e56-bb0d-241fba76c058",
        "colab": {
          "base_uri": "https://localhost:8080/",
          "height": 326
        }
      },
      "source": [
        "!wget --no-check-certificate 'https://docs.google.com/uc?export=download&id=12bopgleOmGGgaiEXmfCpxkCUzO6XDCyd' -O bn.zip"
      ],
      "execution_count": 42,
      "outputs": [
        {
          "output_type": "stream",
          "text": [
            "--2019-11-01 14:30:35--  https://docs.google.com/uc?export=download&id=12bopgleOmGGgaiEXmfCpxkCUzO6XDCyd\n",
            "Resolving docs.google.com (docs.google.com)... 108.177.111.102, 108.177.111.113, 108.177.111.100, ...\n",
            "Connecting to docs.google.com (docs.google.com)|108.177.111.102|:443... connected.\n",
            "HTTP request sent, awaiting response... 302 Moved Temporarily\n",
            "Location: https://doc-0s-08-docs.googleusercontent.com/docs/securesc/ha0ro937gcuc7l7deffksulhg5h7mbp1/hn2nhtqfuoka7h0k3rgc1cta1b4ieclu/1572616800000/12171050669132932695/*/12bopgleOmGGgaiEXmfCpxkCUzO6XDCyd?e=download [following]\n",
            "Warning: wildcards not supported in HTTP.\n",
            "--2019-11-01 14:30:36--  https://doc-0s-08-docs.googleusercontent.com/docs/securesc/ha0ro937gcuc7l7deffksulhg5h7mbp1/hn2nhtqfuoka7h0k3rgc1cta1b4ieclu/1572616800000/12171050669132932695/*/12bopgleOmGGgaiEXmfCpxkCUzO6XDCyd?e=download\n",
            "Resolving doc-0s-08-docs.googleusercontent.com (doc-0s-08-docs.googleusercontent.com)... 172.217.212.132, 2607:f8b0:4001:c03::84\n",
            "Connecting to doc-0s-08-docs.googleusercontent.com (doc-0s-08-docs.googleusercontent.com)|172.217.212.132|:443... connected.\n",
            "HTTP request sent, awaiting response... 200 OK\n",
            "Length: unspecified [application/x-zip-compressed]\n",
            "Saving to: ‘bn.zip’\n",
            "\n",
            "bn.zip                  [      <=>           ]  54.92M  38.0MB/s    in 1.4s    \n",
            "\n",
            "2019-11-01 14:30:38 (38.0 MB/s) - ‘bn.zip’ saved [57586138]\n",
            "\n"
          ],
          "name": "stdout"
        }
      ]
    },
    {
      "cell_type": "code",
      "metadata": {
        "id": "eqj1LzMqygcn",
        "colab_type": "code",
        "outputId": "7677a324-6169-4b10-d897-3ec746240e42",
        "colab": {
          "base_uri": "https://localhost:8080/",
          "height": 85
        }
      },
      "source": [
        "!unzip bn.zip"
      ],
      "execution_count": 43,
      "outputs": [
        {
          "output_type": "stream",
          "text": [
            "Archive:  bn.zip\n",
            "replace word2vec/bnwiki-texts-preprocessed.txt? [y]es, [n]o, [A]ll, [N]one, [r]ename: y\n",
            "  inflating: word2vec/bnwiki-texts-preprocessed.txt  \n",
            "replace word2vec/wikipedia_embeddings.ipynb? [y]es, [n]o, [A]ll, [N]one, [r]ename: n\n"
          ],
          "name": "stdout"
        }
      ]
    },
    {
      "cell_type": "code",
      "metadata": {
        "id": "lw0wsKOtOJhC",
        "colab_type": "code",
        "colab": {}
      },
      "source": [
        "import warnings\n",
        "warnings.filterwarnings(\"ignore\")"
      ],
      "execution_count": 0,
      "outputs": []
    },
    {
      "cell_type": "code",
      "metadata": {
        "id": "kUES-_k9vAI2",
        "colab_type": "code",
        "colab": {}
      },
      "source": [
        "preprocessed_text_file_path = './word2vec/bnwiki-texts-preprocessed.txt'"
      ],
      "execution_count": 0,
      "outputs": []
    },
    {
      "cell_type": "markdown",
      "metadata": {
        "id": "iumiLavnvAI8",
        "colab_type": "text"
      },
      "source": [
        "আমাদের এই টেক্সট ফাইলটা দেখে নিতে পারেন। প্রতিটা লাইনে একটা করে বাংলা বাক্য আছে। বাংলা উইকিপিডিয়া থেকে নেয়া। প্রি-প্রসেসিং করে নিয়েছি আগেই।"
      ]
    },
    {
      "cell_type": "code",
      "metadata": {
        "id": "wpbNqMMjvAI-",
        "colab_type": "code",
        "colab": {}
      },
      "source": [
        "lines_from_file = []\n",
        "with open(preprocessed_text_file_path, encoding='utf8') as text_file:\n",
        "    for line in text_file:\n",
        "        lines_from_file.append(line)"
      ],
      "execution_count": 0,
      "outputs": []
    },
    {
      "cell_type": "markdown",
      "metadata": {
        "id": "0629wIhUeo4U",
        "colab_type": "text"
      },
      "source": [
        "কতগুলো লাইন আছে এই ফাইলে?"
      ]
    },
    {
      "cell_type": "code",
      "metadata": {
        "id": "0wD_U3zBaqnv",
        "colab_type": "code",
        "colab": {
          "base_uri": "https://localhost:8080/",
          "height": 34
        },
        "outputId": "0c7a336b-78bf-42c8-bbae-9adddac1d926"
      },
      "source": [
        "len(lines_from_file)"
      ],
      "execution_count": 64,
      "outputs": [
        {
          "output_type": "execute_result",
          "data": {
            "text/plain": [
              "1363435"
            ]
          },
          "metadata": {
            "tags": []
          },
          "execution_count": 64
        }
      ]
    },
    {
      "cell_type": "markdown",
      "metadata": {
        "id": "hH9Y4ylRvAJG",
        "colab_type": "text"
      },
      "source": [
        "আমাদের জেনসিম ওয়ার্ড২ভেক এবং ফাস্টটেক্সট শব্দের লিস্ট আশা করে একেকটা বাক্য/প্রতিটা লাইনে। যেমন, [[\"আমি\", \"এখন\", \"বইটি\", \"পরছি\"],[\"বইটি\", \"অনেক\", \"ভাল\"]]\n"
      ]
    },
    {
      "cell_type": "code",
      "metadata": {
        "id": "9GVytXpevAJI",
        "colab_type": "code",
        "colab": {}
      },
      "source": [
        "tokenized_lines = []\n",
        "for single_line in lines_from_file:\n",
        "    tokenized_lines.append(single_line.split())"
      ],
      "execution_count": 0,
      "outputs": []
    },
    {
      "cell_type": "code",
      "metadata": {
        "id": "Pyfc1xS6vAJN",
        "colab_type": "code",
        "outputId": "3320d90e-3b01-432d-f787-7d010a88a638",
        "colab": {
          "base_uri": "https://localhost:8080/",
          "height": 34
        }
      },
      "source": [
        "print(len(tokenized_lines))"
      ],
      "execution_count": 48,
      "outputs": [
        {
          "output_type": "stream",
          "text": [
            "1363435\n"
          ],
          "name": "stdout"
        }
      ]
    },
    {
      "cell_type": "code",
      "metadata": {
        "colab_type": "code",
        "id": "LOSqlC-5Ies-",
        "outputId": "e0c89d35-1e2d-4d04-bd63-75d82bbd4dd0",
        "colab": {
          "base_uri": "https://localhost:8080/",
          "height": 54
        }
      },
      "source": [
        "print(tokenized_lines[0])"
      ],
      "execution_count": 49,
      "outputs": [
        {
          "output_type": "stream",
          "text": [
            "['বাংলা', 'ভাষা', 'বাংলা', 'ভাষা', 'বাংলা', 'ভাষা', 'বাঙলা', 'বাঙ্গলা', 'তথা', 'বাঙ্গালা', 'নামগুলোতেও', 'পরিচিত', 'একটি', 'ইন্দো', 'আর্য', 'ভাষা', 'যা', 'দক্ষিণ', 'এশিয়ার', 'বাঙালি', 'জাতির', 'প্রধান', 'কথ্য', 'ও', 'লেখ্য', 'ভাষা']\n"
          ],
          "name": "stdout"
        }
      ]
    },
    {
      "cell_type": "code",
      "metadata": {
        "colab_type": "code",
        "id": "qK9XVTfWIetC",
        "colab": {}
      },
      "source": [
        "model = Word2Vec(tokenized_lines, size=200, window=5, min_count=10)"
      ],
      "execution_count": 0,
      "outputs": []
    },
    {
      "cell_type": "code",
      "metadata": {
        "id": "F6MgKNt6EOzo",
        "colab_type": "code",
        "colab": {}
      },
      "source": [
        "fasttext_model = FastText(tokenized_lines, size=200, window=5, min_count=10)"
      ],
      "execution_count": 0,
      "outputs": []
    },
    {
      "cell_type": "code",
      "metadata": {
        "colab_type": "code",
        "id": "7ICb0qLSIetF",
        "outputId": "193c40cc-90bb-444b-ee1b-b52cd92078b6",
        "colab": {
          "base_uri": "https://localhost:8080/",
          "height": 119
        }
      },
      "source": [
        "# শুরুতে ওয়ার্ড২ভেক ব্যবহার করছি, model এসেছে ওয়ার্ড২ভেক থেকে\n",
        "print(\"ছেলে শব্দটার সবচেয়ে কাছাকাছি শব্দ কি?\")\n",
        "model.wv.most_similar('ছেলে', topn=5)"
      ],
      "execution_count": 52,
      "outputs": [
        {
          "output_type": "stream",
          "text": [
            "ছেলে শব্দটার সবচেয়ে কাছাকাছি শব্দ কি?\n"
          ],
          "name": "stdout"
        },
        {
          "output_type": "execute_result",
          "data": {
            "text/plain": [
              "[('মেয়ে', 0.8677862882614136),\n",
              " ('বোন', 0.7884933948516846),\n",
              " ('ভাই', 0.7682802677154541),\n",
              " ('কন্যা', 0.7319516539573669),\n",
              " ('পুত্র', 0.7040947675704956)]"
            ]
          },
          "metadata": {
            "tags": []
          },
          "execution_count": 52
        }
      ]
    },
    {
      "cell_type": "markdown",
      "metadata": {
        "id": "TYxJekyefvgD",
        "colab_type": "text"
      },
      "source": [
        "আমার পছন্দ ফাস্টটেক্সট, দেখি তাদের রেজাল্ট। "
      ]
    },
    {
      "cell_type": "code",
      "metadata": {
        "id": "CwFmlgLAFXwr",
        "colab_type": "code",
        "outputId": "45fb162d-d24c-4f1d-fedd-f0fb9364eb6b",
        "colab": {
          "base_uri": "https://localhost:8080/",
          "height": 119
        }
      },
      "source": [
        "print(\"ফাস্টটেক্সট উদাহরণ: ছেলে শব্দটার সবচেয়ে কাছাকাছি শব্দ কি?\")\n",
        "fasttext_model.wv.most_similar('ছেলে', topn=5)"
      ],
      "execution_count": 53,
      "outputs": [
        {
          "output_type": "stream",
          "text": [
            "ফাস্টটেক্সট উদাহরণ: ছেলে শব্দটার সবচেয়ে কাছাকাছি শব্দ কি?\n"
          ],
          "name": "stdout"
        },
        {
          "output_type": "execute_result",
          "data": {
            "text/plain": [
              "[('ছেলেমেয়ে', 0.8510643243789673),\n",
              " ('ছেলেরাই', 0.7969586849212646),\n",
              " ('মেয়ে', 0.7832838892936707),\n",
              " ('ছেলেটা', 0.770179271697998),\n",
              " ('ছেলেবন্ধু', 0.7638169527053833)]"
            ]
          },
          "metadata": {
            "tags": []
          },
          "execution_count": 53
        }
      ]
    },
    {
      "cell_type": "code",
      "metadata": {
        "colab_type": "code",
        "id": "vlf8VWhEIetJ",
        "outputId": "10aefdf0-5461-4f51-b6c2-83232d64fa6b",
        "colab": {
          "base_uri": "https://localhost:8080/",
          "height": 119
        }
      },
      "source": [
        "print(\"What is Father + Girl - Boy =?\")\n",
        "model.wv.most_similar(positive=['বাবা', 'মেয়ে'], negative=['ছেলে'], topn=5)"
      ],
      "execution_count": 54,
      "outputs": [
        {
          "output_type": "stream",
          "text": [
            "What is Father + Girl - Boy =?\n"
          ],
          "name": "stdout"
        },
        {
          "output_type": "execute_result",
          "data": {
            "text/plain": [
              "[('মা', 0.7104865908622742),\n",
              " ('বান্ধবী', 0.6455312967300415),\n",
              " ('পিতা', 0.6444852948188782),\n",
              " ('দাদা', 0.6332948803901672),\n",
              " ('পিতামাতা', 0.6314936280250549)]"
            ]
          },
          "metadata": {
            "tags": []
          },
          "execution_count": 54
        }
      ]
    },
    {
      "cell_type": "code",
      "metadata": {
        "id": "K2eHIpTQG25f",
        "colab_type": "code",
        "outputId": "38a6f551-40a3-4c26-a5cf-6128c0cad5ba",
        "colab": {
          "base_uri": "https://localhost:8080/",
          "height": 595
        }
      },
      "source": [
        "print(model.wv['বাংলাদেশ'])"
      ],
      "execution_count": 55,
      "outputs": [
        {
          "output_type": "stream",
          "text": [
            "[ 2.117011    1.331259   -0.8962955   1.3649317  -1.3177195  -0.6331799\n",
            " -0.10108567 -2.027288   -2.351334    1.2617953  -1.0116632  -1.1210635\n",
            " -0.03364351  0.67071486  0.16640812 -0.39225233 -1.7968122  -0.02062607\n",
            " -0.5234769  -2.3210163   2.4582293  -2.6090088  -3.0195858   0.11311233\n",
            "  0.29813325  0.11876784  1.5325552   0.4930059   1.6276659  -0.24755377\n",
            "  2.1636717  -0.69168794 -1.5501733  -0.03304282  1.3652518  -0.053016\n",
            " -1.5093915  -0.85248196  1.1748161  -1.7442951   1.0604897  -1.7562968\n",
            " -0.04759532 -0.59045213  0.3207666  -2.3566225  -0.8805366  -0.10970893\n",
            " -2.6733856  -0.7954859  -0.25234517 -3.462682    1.9827665  -2.0488381\n",
            "  0.44675565  1.0839796  -0.3243911  -0.36120495 -1.7160774  -3.1907418\n",
            "  1.4881688   0.98800755 -0.3731921  -0.22424792  0.7766865  -0.64494497\n",
            "  3.3084538  -1.0232778  -2.2935338  -1.3153812  -2.7097259   1.8180741\n",
            "  1.0274235  -0.3251607   1.754525    1.7478805   0.38397858  0.9557248\n",
            " -0.30038238  2.2420473  -1.9626849  -2.966227    1.59797    -1.4042591\n",
            " -0.40682593  0.86140347  0.5424715  -3.1801324  -0.8664401   0.8129008\n",
            "  1.0536758   1.3199297  -0.64527345 -1.341121   -0.7709187  -0.6839985\n",
            "  2.4469285  -2.6943228   1.8742017  -0.5586302  -0.35761285  0.89556485\n",
            " -2.0672092   0.04838872 -1.1786927  -0.29302916 -0.3006106   3.677195\n",
            " -1.5315926  -0.69617033 -0.73428875 -0.66755426  0.21316421 -0.7670898\n",
            "  1.3598578  -0.6156485  -0.7893925   1.5704839   1.9175719   2.6883812\n",
            " -1.7453263   0.6457663  -0.00672379 -0.72602224  2.651404   -0.45007038\n",
            "  1.3174202   0.33027443  0.2198452   1.6440872   0.18845354 -0.22231008\n",
            "  1.2675849  -0.06836402 -0.6390977  -0.6602801   0.22970922 -1.4987816\n",
            " -1.1138825  -0.7725094  -0.86630315  0.38692132  0.9131729   0.36876237\n",
            " -0.97727776 -0.05856938  0.12173549  2.5577447  -0.14028443  0.2828072\n",
            " -0.17622702  2.2708344  -0.73910725  1.9570285   1.3908284  -0.8707696\n",
            " -0.83039045  1.2533666  -0.7357631   0.0547203  -2.353169    0.2558879\n",
            " -0.02364516  1.1308421  -1.3839754   2.1050427   3.7999837  -1.3749038\n",
            " -0.2982236  -1.063903    2.2832325   1.0333745  -0.9106481   1.5360441\n",
            " -0.21020523  0.3100032  -0.04734098 -0.6085666  -0.49682257  2.2884555\n",
            " -0.613679   -2.8970563   1.9735926   1.9815215   1.0690796   1.1843872\n",
            "  3.1539779   1.8207659  -0.7479481   0.22372235  0.64036936 -1.8388065\n",
            " -0.46961665 -1.0309373  -0.4210161   0.28831556  0.7331357  -0.6975026\n",
            "  0.82859117 -2.7484334 ]\n"
          ],
          "name": "stdout"
        }
      ]
    },
    {
      "cell_type": "code",
      "metadata": {
        "colab_type": "code",
        "id": "vJz_u8ZQIetL",
        "outputId": "dff4c565-dd4e-431c-cffb-e1c6c4874fd0",
        "colab": {
          "base_uri": "https://localhost:8080/",
          "height": 51
        }
      },
      "source": [
        "print('এখানে কোন শব্দটা যাচ্ছে না বাকিদের সাথে?')\n",
        "model.wv.doesnt_match(\"ঢাকা রাজশাহী রংপুর নজরুল\".split())"
      ],
      "execution_count": 56,
      "outputs": [
        {
          "output_type": "stream",
          "text": [
            "এখানে কোন শব্দটা যাচ্ছে না বাকিদের সাথে?\n"
          ],
          "name": "stdout"
        },
        {
          "output_type": "execute_result",
          "data": {
            "text/plain": [
              "'নজরুল'"
            ]
          },
          "metadata": {
            "tags": []
          },
          "execution_count": 56
        }
      ]
    },
    {
      "cell_type": "code",
      "metadata": {
        "id": "Es7_9BJ2Mudn",
        "colab_type": "code",
        "outputId": "e9de325f-b2ec-466c-81b0-0c5d9570822f",
        "colab": {
          "base_uri": "https://localhost:8080/",
          "height": 34
        }
      },
      "source": [
        "print(model.wv.similarity('শিক্ষা', 'শিক্ষিত'))"
      ],
      "execution_count": 57,
      "outputs": [
        {
          "output_type": "stream",
          "text": [
            "0.41219878\n"
          ],
          "name": "stdout"
        }
      ]
    },
    {
      "cell_type": "code",
      "metadata": {
        "id": "WDfvR_yUHZmY",
        "colab_type": "code",
        "outputId": "4d703e5c-a743-4509-dec8-a1dadbc6b548",
        "colab": {
          "base_uri": "https://localhost:8080/",
          "height": 119
        }
      },
      "source": [
        "semantically_similar_words = {words: [item[0] for item in model.wv.most_similar([words], topn=5)]\n",
        "                  for words in ['বাংলা', 'মাতা', 'একুশে', 'ভাষা', 'আনন্দ', 'আকাশ']}\n",
        "\n",
        "for k,v in semantically_similar_words.items():\n",
        "    print(k+\":\"+str(v))"
      ],
      "execution_count": 58,
      "outputs": [
        {
          "output_type": "stream",
          "text": [
            "বাংলা:['অসমীয়া', 'বাংলার', 'সাঁওতালি', 'বাঙলা', 'হিন্দী']\n",
            "মাতা:['পিতা', 'মা', 'জন্মনাম', 'দাদা', 'পিতামহ']\n",
            "একুশে:['গ্রন্থমেলায়', 'গ্রন্থমেলা', 'মরণোত্তর', 'বইমেলায়', 'পদ্মভূষণ']\n",
            "ভাষা:['ভাষার', 'ভাষাও', 'ভাষাকে', 'ভাষাটি', 'উপভাষা']\n",
            "আনন্দ:['সুখ', 'হৃদয়', 'আরতি', 'ভালোবাসা', 'প্রদীপ']\n",
            "আকাশ:['মেঘ', 'মেঘলা', 'পৃথিবী', 'সূর্য', 'আকাশের']\n"
          ],
          "name": "stdout"
        }
      ]
    },
    {
      "cell_type": "code",
      "metadata": {
        "id": "tZWWvpNdIPlK",
        "colab_type": "code",
        "outputId": "6b5cd6de-0de6-4cc7-f98c-527a63778675",
        "colab": {
          "base_uri": "https://localhost:8080/",
          "height": 119
        }
      },
      "source": [
        "semantically_similar_words = {words: [item[0] for item in fasttext_model.wv.most_similar([words], topn=5)]\n",
        "                  for words in ['বাংলা', 'মাতা', 'একুশে', 'ভাষা', 'আনন্দ', 'আকাশ']}\n",
        "\n",
        "for k,v in semantically_similar_words.items():\n",
        "    print(k+\":\"+str(v))"
      ],
      "execution_count": 59,
      "outputs": [
        {
          "output_type": "stream",
          "text": [
            "বাংলা:['বাংলা৷', 'বাংলাঃ', 'বাংলালিংক', 'জোড়বাংলা', 'শেরেবাংলা']\n",
            "মাতা:['মাতাপিতা', 'মাতামহ', 'মাতামহী', 'মাতাও', 'পিতামাতা']\n",
            "একুশে:['একুশ', 'একুশতম', 'অকাদেমী', 'একুশের', '২১শে']\n",
            "ভাষা:['ভাষা৷', 'ভাষাও', 'কথ্যভাষা', 'ভাষাই', 'ভাষাভাষি']\n",
            "আনন্দ:['আনন্দীবাঈ', 'আনন্দঘন', 'আনন্দমঠ', 'আনন্দলোক', 'আনন্দী']\n",
            "আকাশ:['আকাশী', 'আকাশি', 'আকাশপথ', 'আকাশবাণী', 'আকাশপথে']\n"
          ],
          "name": "stdout"
        }
      ]
    },
    {
      "cell_type": "code",
      "metadata": {
        "id": "0C7-x-x6I1PO",
        "colab_type": "code",
        "outputId": "ddbce4d2-3423-424a-c4d8-8388f538b46e",
        "colab": {
          "base_uri": "https://localhost:8080/",
          "height": 88
        }
      },
      "source": [
        "from sklearn.decomposition import PCA\n",
        "\n",
        "all_similar_words = sum([[k] + v for k, v in semantically_similar_words.items()], [])\n",
        "\n",
        "print(all_similar_words)\n",
        "print(type(all_similar_words))\n",
        "print(len(all_similar_words))"
      ],
      "execution_count": 60,
      "outputs": [
        {
          "output_type": "stream",
          "text": [
            "['বাংলা', 'বাংলা৷', 'বাংলাঃ', 'বাংলালিংক', 'জোড়বাংলা', 'শেরেবাংলা', 'মাতা', 'মাতাপিতা', 'মাতামহ', 'মাতামহী', 'মাতাও', 'পিতামাতা', 'একুশে', 'একুশ', 'একুশতম', 'অকাদেমী', 'একুশের', '২১শে', 'ভাষা', 'ভাষা৷', 'ভাষাও', 'কথ্যভাষা', 'ভাষাই', 'ভাষাভাষি', 'আনন্দ', 'আনন্দীবাঈ', 'আনন্দঘন', 'আনন্দমঠ', 'আনন্দলোক', 'আনন্দী', 'আকাশ', 'আকাশী', 'আকাশি', 'আকাশপথ', 'আকাশবাণী', 'আকাশপথে']\n",
            "<class 'list'>\n",
            "36\n"
          ],
          "name": "stdout"
        }
      ]
    },
    {
      "cell_type": "code",
      "metadata": {
        "id": "5rygCrGZJJZr",
        "colab_type": "code",
        "outputId": "369b7fd3-c1e6-4351-a265-f77b31d8510e",
        "colab": {
          "base_uri": "https://localhost:8080/",
          "height": 592
        }
      },
      "source": [
        "word_vectors = fasttext_model.wv[all_similar_words]\n",
        "\n",
        "pca = PCA(n_components=2)\n",
        "\n",
        "p_comps = pca.fit_transform(word_vectors)\n",
        "word_names = all_similar_words\n",
        "\n",
        "import matplotlib.pyplot as plt\n",
        "plt.figure(figsize=(18, 10))\n",
        "plt.scatter(p_comps[:, 0], p_comps[:, 1], c='red')\n",
        "\n",
        "for word_names, x, y in zip(word_names, p_comps[:, 0], p_comps[:, 1]):\n",
        "    plt.annotate(word_names, xy=(x+0.06, y+0.03), xytext=(0, 0), textcoords='offset points')"
      ],
      "execution_count": 61,
      "outputs": [
        {
          "output_type": "display_data",
          "data": {
            "image/png": "[encoded data removed]",
            "text/plain": [
              "<Figure size 1296x720 with 1 Axes>"
            ]
          },
          "metadata": {
            "tags": []
          }
        }
      ]
    }
  ]
}