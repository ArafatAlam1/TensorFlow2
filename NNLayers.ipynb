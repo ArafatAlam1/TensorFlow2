{
  "nbformat": 4,
  "nbformat_minor": 0,
  "metadata": {
    "colab": {
      "name": "NNLayers",
      "version": "0.3.2",
      "provenance": [],
      "include_colab_link": true
    },
    "kernelspec": {
      "name": "python3",
      "display_name": "Python 3"
    }
  },
  "cells": [
    {
      "cell_type": "markdown",
      "metadata": {
        "id": "view-in-github",
        "colab_type": "text"
      },
      "source": [
        "<a href=\"https://colab.research.google.com/github/raqueeb/TensorFlow2/blob/master/NNLayers.ipynb\" target=\"_parent\"><img src=\"https://colab.research.google.com/assets/colab-badge.svg\" alt=\"Open In Colab\"/></a>"
      ]
    },
    {
      "cell_type": "markdown",
      "metadata": {
        "id": "IRCc-MaY-eZY",
        "colab_type": "text"
      },
      "source": [
        "# ডিপ লার্নিং দিয়ে প্রথম নিউরাল নেটওয়ার্ক "
      ]
    },
    {
      "cell_type": "markdown",
      "metadata": {
        "id": "uFFpexkB3sKo",
        "colab_type": "text"
      },
      "source": [
        "শুরুতেই ইম্পোর্ট করছি বেশ কিছু লাইব্রেরি। টেনসর ফ্লো তো থাকছেই, সঙ্গে নামপাই। "
      ]
    },
    {
      "cell_type": "code",
      "metadata": {
        "id": "szbFLdZwPRhK",
        "colab_type": "code",
        "outputId": "1bf62e65-1a77-4da3-a543-a9ba200368a9",
        "colab": {
          "base_uri": "https://localhost:8080/",
          "height": 34
        }
      },
      "source": [
        "# টেনসর ফ্লো, কেরাস আর কিছু হেল্পার লাইব্রেরি \n",
        "# নামপাই তো থাকবেই \n",
        "\n",
        "import tensorflow as tf\n",
        "import numpy as np\n",
        "from tensorflow import keras\n",
        "\n",
        "print(tf.__version__)"
      ],
      "execution_count": 0,
      "outputs": [
        {
          "output_type": "stream",
          "text": [
            "1.13.1\n"
          ],
          "name": "stdout"
        }
      ]
    },
    {
      "cell_type": "markdown",
      "metadata": {
        "id": "w2fyLX5R_4bs",
        "colab_type": "text"
      },
      "source": [
        "## একটা লিনিয়ার রিগ্রেশন সমস্যা \n",
        "\n",
        "দুটো নামপাই অ্যারে ''ইনিশিয়ালাইজ'' করছি নিচের একুয়েশনের ভিত্তিতে। \n",
        "\n",
        "y = 2x + 30\n",
        "\n",
        "## তৈরি করি ট্রেনিং ডেটা \n",
        "\n",
        "এখানে প্রথম অ্যারে 'xs' ইনপুট ভ্যালুতে এ আমরা -১০, ০, ২, ৬, ১২, ১৫ দেয়ার পর y = 2x + 30 তার কর্রেসপন্ডিং 'ys' পেয়ে গিয়েছি আউটপুট ভ্যালু হিসেবে। প্রতিটা 'xs' এর কর্রেসপন্ডিং ভ্যালু দিয়ে দিয়েছি আমাদের একুয়েশন থেকে। \n",
        "\n",
        "এরপর একটা ''ফর লুপ'' চালালাম দুটো ভ্যালুকে পাশাপাশি দেখাতে। "
      ]
    },
    {
      "cell_type": "code",
      "metadata": {
        "id": "X1si3wsO29dB",
        "colab_type": "code",
        "colab": {}
      },
      "source": [
        "xs = np.array([-10, 0, 2, 6, 12, 15], dtype=float)\n",
        "ys = np.array([10, 30, 34, 42, 54, 60], dtype=float)\n",
        "\n",
        "for i,x in enumerate(xs):\n",
        "  print(\"X: {} Y: {}\".format(x, ys[i]))"
      ],
      "execution_count": 0,
      "outputs": []
    },
    {
      "cell_type": "markdown",
      "metadata": {
        "id": "VraeEQg4Ijfx",
        "colab_type": "text"
      },
      "source": [
        "## লিনিয়ার রিগ্রেশন একুয়েশনটা দেখি ভিজ্যুয়ালি \n",
        "\n",
        "আমাদের ম্যাটপ্লটলিব দিয়ে এই লিনিয়ার রিগ্রেশনটা 'y = 2x + 30' দেখি গ্রাফ আকারে "
      ]
    },
    {
      "cell_type": "code",
      "metadata": {
        "id": "3gS4N7zUJC5y",
        "colab_type": "code",
        "colab": {}
      },
      "source": [
        "import matplotlib.pyplot as plt\n",
        "\n",
        "x = np.linspace(-10,10,100)\n",
        "plt.title('Graph of y=2x+30')\n",
        "plt.plot(x, x*2+30);"
      ],
      "execution_count": 0,
      "outputs": []
    },
    {
      "cell_type": "markdown",
      "metadata": {
        "id": "8Phf0lcQ35VE",
        "colab_type": "text"
      },
      "source": [
        "## প্রথম নিউরাল নেটওয়ার্ক তৈরি \n",
        "\n",
        "চলুন তৈরি করে ফেলি আমাদের প্রথম নিউরাল নেটওয়ার্ক মডেল। পৃথিবীর সবচেয়ে সোজা মডেল হবে এটা, এটাকে আমরা বলছি ‘ডেন্স’ নেটওয়ার্ক মডেল। ‘ডেন্স’ মানে হচ্ছে একেকটার সাথে স্ট্যাক করে কানেক্টেড মডেল। নিউরাল নেটওয়ার্ক তৈরি করতে আমাদের এটার লেয়ারগুলোর কনফিগারেশন বলতে হবে। লেয়ার ঠিকমতো কনফিগার করা হলে আমরা মডেলকে কম্পাইল করব। \n",
        "\n",
        "## লেয়ারের কনফিগারেশন \n",
        "\n",
        "একটা নিউরাল নেটওয়ার্কের বেসিক বিল্ডিং ব্লক হচ্ছে লেয়ার। লেয়ারগুলোতে যে ডেটা ফিড করানো হয় সেখান থেকে সে ডেটার রিপ্রেজেন্টেশনগুলোকে ঠিকমতো এক্সট্রাক্ট করে নিয়ে নেয় একেকটা লেয়ারে। বেশিরভাগ ডিপ লার্নিং মডেলগুলোর লেয়ার একটার সাথে আরেকটার কানেকশন ডেটাগুলোকে ঠিকমতো বুঝতে সাহায্য করে। যেহেতু আমাদের সমস্যাটা খুবই সহজ সে কারণে কিন্তু আমাদের এই নেটওয়ার্কে একটা লেয়ার হলেই চলবে। এই একটা লেয়ারে আমরা একটা নিউরন চালাবো।\n",
        "\n",
        "এখানে একটা ইনপুট, একটা লেয়ার, একটা নিউরন, এবং একটা আউটপুট। ছবি দেখুন। ইনপুটে একটা ভ্যালু, input_shape=[1], এটা একটা ১ ডাইমেনশনের একটা সংখ্যা। \n",
        "\n",
        "<table>\n",
        "  <tr><td>\n",
        "    <img src=\"https://raw.githubusercontent.com/raqueeb/TensorFlow2/master/assets/nn1.png\"\n",
        "         alt=\"Fashion MNIST sprite\"  width=\"600\">\n",
        "  </td></tr>\n",
        "  <tr><td align=\"center\">\n",
        "    <b>চিত্র ১.০</b> <a href=\"https://github.com/zalandoresearch/fashion-mnist\">সবচেয়ে সোজা নিউরাল নেটওয়ার্ক</a> একটা নিউরন <br/>&nbsp;\n",
        "  </td></tr>\n",
        "</table>\n",
        "\n",
        "\n",
        "আমাদের নিউরাল নেটওয়ার্ক ডিফাইন করে নেই। যেহেতু আমরা কেরাস ব্যবহার করছি, সেহেতু সিকুয়েন্সিয়াল লেয়ার ব্যবহার করবো - যা লিনিয়ার লেয়ারগুলোর স্ট্যাক।  "
      ]
    },
    {
      "cell_type": "markdown",
      "metadata": {
        "id": "9U5dxy_6-BTy",
        "colab_type": "text"
      },
      "source": [
        "<table>\n",
        "  <tr><td>\n",
        "    <img src=\"https://raw.githubusercontent.com/raqueeb/TensorFlow2/master/assets/nn2.png\"\n",
        "         alt=\"Fashion MNIST sprite\"  width=\"600\">\n",
        "  </td></tr>\n",
        "  <tr><td align=\"center\">\n",
        "    <b>চিত্র ২.০</b> <a href=\"https://github.com/zalandoresearch/fashion-mnist\">সবচেয়ে সোজা নিউরাল নেটওয়ার্ক</a> একটা নিউরন <br/>&nbsp;\n",
        "  </td></tr>\n",
        "</table>\n"
      ]
    },
    {
      "cell_type": "code",
      "metadata": {
        "id": "ktSD38YW224P",
        "colab_type": "code",
        "colab": {}
      },
      "source": [
        "layer_0 = keras.layers.Dense(units=1, input_shape=[1])\n",
        "model = tf.keras.Sequential([layer_0])\n",
        "\n",
        "# এভাবেও লেখা যায় \n",
        "# model = tf.keras.Sequential([keras.layers.Dense(units=1, input_shape=[1])])\n"
      ],
      "execution_count": 0,
      "outputs": []
    },
    {
      "cell_type": "markdown",
      "metadata": {
        "id": "eKxumjtD4ZMt",
        "colab_type": "text"
      },
      "source": [
        "নিউরাল নেটওয়ার্ককে কম্পাইল করছি "
      ]
    },
    {
      "cell_type": "code",
      "metadata": {
        "id": "dqR9BnAS259L",
        "colab_type": "code",
        "colab": {}
      },
      "source": [
        "\n",
        "model.compile(optimizer='sgd', loss='mean_squared_error')\n",
        "\n"
      ],
      "execution_count": 0,
      "outputs": []
    },
    {
      "cell_type": "code",
      "metadata": {
        "id": "g1I9I8Jx3EnV",
        "colab_type": "code",
        "colab": {}
      },
      "source": [
        "\n",
        "model.fit(xs, ys, epochs=100)\n",
        "\n"
      ],
      "execution_count": 0,
      "outputs": []
    },
    {
      "cell_type": "code",
      "metadata": {
        "id": "5Ep554if3IlP",
        "colab_type": "code",
        "colab": {}
      },
      "source": [
        "print(model.predict([10.0]))\n",
        "\n",
        "print(\"We can view the layer variables: {}\".format(layer_0.get_weights()))\n"
      ],
      "execution_count": 0,
      "outputs": []
    }
  ]
}