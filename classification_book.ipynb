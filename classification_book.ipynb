{
  "nbformat": 4,
  "nbformat_minor": 0,
  "metadata": {
    "colab": {
      "name": "classification_book.ipynb",
      "provenance": [],
      "collapsed_sections": [],
      "include_colab_link": true
    },
    "kernelspec": {
      "name": "python3",
      "display_name": "Python 3"
    },
    "language_info": {
      "codemirror_mode": {
        "name": "ipython",
        "version": 3
      },
      "file_extension": ".py",
      "mimetype": "text/x-python",
      "name": "python",
      "nbconvert_exporter": "python",
      "pygments_lexer": "ipython3",
      "version": "3.6.3"
    },
    "accelerator": "GPU"
  },
  "cells": [
    {
      "cell_type": "markdown",
      "metadata": {
        "id": "view-in-github",
        "colab_type": "text"
      },
      "source": [
        "<a href=\"https://colab.research.google.com/github/raqueeb/TensorFlow2/blob/master/classification_book.ipynb\" target=\"_parent\"><img src=\"https://colab.research.google.com/assets/colab-badge.svg\" alt=\"Open In Colab\"/></a>"
      ]
    },
    {
      "cell_type": "markdown",
      "metadata": {
        "colab_type": "text",
        "id": "jYysdyb-CaWM"
      },
      "source": [
        "## লাইফস্টাইল প্রোডাক্টের ক্লাসিফিকেশন\n",
        "###  ফ্যাশন MNIST ডেটাসেট\n",
        "\n",
        "(ছবিগুলো আপডেট হবে বাংলায় - ধন্যবাদ উডাসিটি, কোর্সেরা, ডিপমাইন্ড, টেন্সর-ফ্লো সাইট)"
      ]
    },
    {
      "cell_type": "markdown",
      "metadata": {
        "colab_type": "text",
        "id": "FbVhjPpzn6BM"
      },
      "source": [
        "আমরা যে এক্সারসাইজটা করলাম ঝিঝিপোকার ডাক নিয়ে সেটা কিন্তু ডিপ লার্নিং এর কোন অংশ নয়, তবে সাধারণ একটা মেশিন লার্নিং সমস্যাকে ডিপ লার্নিং ফ্রেমওয়ার্কে সমাধান করার চেষ্টা করেছি মাত্র। ডিপ লার্নিং ফ্রেমওয়ার্কের কাজ আমরা দেখব অন্যান্য ক্ষেত্রে। এর আগের সমস্যাটা ছিল রিগ্রেশন, যেখানে আমরা কন্টিনিউয়াস ভেরিয়েবলের ইনপুট এর সাপেক্ষে আরেকটা কন্টিনিউয়াস আউটপুট পেয়েছি। ১৫ সেকেন্ড ডাকের সংখ্যার সাথে তাপমাত্রা। দুটোই কন্টিনিয়াস ভেরিয়েবল। এখন আমরা একটা ক্লাসিফিকেশন প্রবলেম দেখব। তবে সেটা সাধারণ ক্লাসিফিকেশন নয়, বরং ইমেজ সংক্রান্ত। ডিপ লার্নিং এর হ্যালো ওয়ার্ল্ড, মানে যে এক্সারসাইজটা দিয়ে সবাই শুরু করে সেটাকে আমরা বলি MNIST ডাটা সেট। হাতে লেখা ইংরেজি অক্ষরকে ঠিকমতো চেনার জন্য এই এক্সারসাইজটা শুরুর জন্য সবারই পছন্দের। কম্পিউটার ভিশনের সবচেয়ে প্রথম এক্সাইজ বলে সবাই চেনে তাকে। তবে, আমরা একই জিনিস করছি একটু নতুন কিছুটা কমপ্লেক্স ডেটাসেটে। \n",
        "\n",
        "আমাদের এই এক্সারসাইজটা ব্যবহার ব্যবহার করছে কেরাস [tf.keras](https://www.tensorflow.org/guide/keras), একটা হাই-লেভেল এপিআই যা টেন্সর-ফ্লোএর কমপ্লেক্সিটি লুকিয়ে রাখে। টেন্সর-ফ্লো এর শুরুতেই একটা হাই-লেভেল এপিআই দরকার ছিলো যাতে নতুন ব্যবহারকারীরা ভয় না পান। আসলেই তাই। আমাদের এই হাই-লেভেল এপিআই হিসেবে কেরাস এতো জনপ্রিয় যে টেন্সর-ফ্লো ২.০ থেকে এটা অফিসিয়াল হয়ে গেছে। সেকারণে এটা tf.keras, মানে টেন্সর-ফ্লো এর সাথে চলে এসেছে ইনস্টলেশনের সাথে সাথে। "
      ]
    },
    {
      "cell_type": "code",
      "metadata": {
        "colab_type": "code",
        "id": "jL3OqFKZ9dFg",
        "outputId": "231de97f-c830-48e6-9b28-8ee0a286e8f4",
        "colab": {
          "base_uri": "https://localhost:8080/",
          "height": 35
        }
      },
      "source": [
        "try:\n",
        "  # শুধুমাত্র কোলাব এবং জুপিটার নোটবুকে চেষ্টা করবো টেন্সর-ফ্লো ২.০ এর জন্য\n",
        "  %tensorflow_version 2.x\n",
        "except Exception:\n",
        "  pass"
      ],
      "execution_count": 1,
      "outputs": [
        {
          "output_type": "stream",
          "text": [
            "TensorFlow 2.x selected.\n"
          ],
          "name": "stdout"
        }
      ]
    },
    {
      "cell_type": "markdown",
      "metadata": {
        "id": "NjSdrl-XCB7O",
        "colab_type": "text"
      },
      "source": [
        "টেন্সর-ফ্লো ১.x এ জিনিসটা সেরকম পাইথনিক (মানে কাজের সঙ্গে সঙ্গে রেজাল্ট দেখা) ছিলো না। তবে এখন সেটা অনেক পাইথনিক, অর্থাৎ কমান্ডের সাথে সাথে রেজাল্ট দেখতে পারছি tf.executing_eagerly() এর জন্য। সেকারণে tf.executing_eagerly()কে ‘সত্যি’ বলে ধরে নিচ্ছি। "
      ]
    },
    {
      "cell_type": "code",
      "metadata": {
        "colab_type": "code",
        "id": "dzLKpmZICaWN",
        "outputId": "c714eca5-9784-4549-b7c1-4f61e4279a15",
        "colab": {
          "base_uri": "https://localhost:8080/",
          "height": 69
        }
      },
      "source": [
        "# টেন্সর-ফ্লো এবং কেরাসকে ইমপোর্ট করছি\n",
        "import tensorflow as tf\n",
        "from tensorflow import keras\n",
        "\n",
        "# কিছু হেলপার লাইব্রেরি\n",
        "import numpy as np\n",
        "import matplotlib.pyplot as plt\n",
        "\n",
        "# স্ট্যাটাস দেখি সিস্টেমের \n",
        "print(\"Version: \", tf.__version__)\n",
        "print(\"Eager mode: \", tf.executing_eagerly())\n",
        "# print(\"Hub version: \", hub.__version__)\n",
        "print(\"GPU is\", \"available\" if tf.config.list_physical_devices('GPU') else \"NOT AVAILABLE\")"
      ],
      "execution_count": 60,
      "outputs": [
        {
          "output_type": "stream",
          "text": [
            "Version:  2.1.0-rc1\n",
            "Eager mode:  True\n",
            "GPU is available\n"
          ],
          "name": "stdout"
        }
      ]
    },
    {
      "cell_type": "markdown",
      "metadata": {
        "colab_type": "text",
        "id": "yR0EdgrLCaWR"
      },
      "source": [
        "## ফ্যাশন MNIST ডেটাসেট ইমপোর্ট করছি"
      ]
    },
    {
      "cell_type": "markdown",
      "metadata": {
        "colab_type": "text",
        "id": "DLdCchMdCaWQ"
      },
      "source": [
        "এখন আমরা পুরোদস্তুর লাইফস্টাইল ব্যবসায়ী হয়ে গেছি। আমাদের কাছে হাজারো হাজারো কাপড়চোপড়, টিশার্ট, জুতা, স্নিকার্স, আরো বেশ কিছু জিনিস চলে এসেছে শোরুমে দেবার জন্য। কিন্তু আপনি নাছোড়বান্দা,বললেন ক্যাটালগিং ছাড়া এগুলো শোরুমে উঠানোটা ঠিক হবে না। আর এই ক্যাটালগিং আমরা হাতেকলমে করতে চাইনা। এক একটা জিনিস ধরবো ক্যামেরার সামনে, সে নিজে থেকেই ঠিকমতো ক্লাসিফাই করবে কোনটা কি জিনিস। মেশিনে ঠিকমতো আইডেন্টিফাই করতে পারলে আমাদের সমস্যা মিটে যাবে। আপনার দরকার একটা ডিপ লার্নিং মডেল। আপনার উর্দ্ধতন কর্মকর্তা বললেন, আমি ব্যাপারটা ঠিক বুঝি না, আমাকে কি একটা ডেমো দেখানো যাবে? অবশ্যই দেখানো যাবে। ৭০,০০০ গ্রে-স্কেল স্যাম্পল আছে আমাদের [Fashion MNIST](https://github.com/zalandoresearch/fashion-mnist) ডেটাসেটে। \n",
        "\n",
        "** ২৮ X ২৮ পিক্সেল = ৭৬৮ বাইট **\n",
        "\n",
        "** ১০টা ক্যাটেগরি **\n",
        "<table>\n",
        "  <tr><td>\n",
        "    <img src=\"https://tensorflow.org/images/fashion-mnist-sprite.png\"\n",
        "         alt=\"Fashion MNIST sprite\"  width=\"600\">\n",
        "  </td></tr>\n",
        "  <tr><td align=\"center\">\n",
        "    <b>Figure 1.</b> <a href=\"https://github.com/zalandoresearch/fashion-mnist\">Fashion-MNIST samples</a> (by Zalando, MIT License).<br/>&nbsp;\n",
        "  </td></tr>\n",
        "</table>\n",
        "আর সে কারণেই আমরা দ্বারস্থ হলাম ফ্যাশন MNIST ডাটাসেটের কাছে। ব্যাপারটা সাধারণ MNIST এর সকল কোড সাপোর্ট করে, তবে ফ্যাশন MNIST বেশকিছু কমপ্লেক্স। এখানে প্রায় ৭০ হাজার স্যাম্পল আছে, তার মধ্যে দশ হাজার ইমেজকে ব্যবহার করব টেস্টসেট হিসেবে, আমাদের নেটওয়ার্ক কতটুকু শিখেছে ইমেজকে ঠিকমতো ক্লাসিফাই করার জন্য। এই ইমেজগুলোর রেজুলেশন ২৮x২৮ পিক্সেল। ছবিতে দেখুন শুরুতেই টি-শার্ট টপ, মাঝখানে স্যান্ডেল, শেষের দিকে এঙ্কেল বুটস। নিচের ছবিতে দেখুন যে দশটা আইটেম আছে আমাদের এই ডাটাসেটে। এর পাশাপাশি আমরা সংখ্যায় লেবেল দিয়েছি ০ থেকে ৯ পর্যন্ত। আপনি বুঝে গেছেন যে আমাদের ডিপ লার্নিং নেটওয়ার্ককে ট্রেইন করার জন্য ইমেজ আছে ৬০০০০। \n",
        "\n",
        "যেহেতু প্রতিটা ইমেজ ২৮x২৮ গ্রেস্কেল ইমেজ, এর সাইজ হচ্ছে ৭৮৪ বাইট (দুটোকে গুন দিলে যা হয়)। তার মানে হচ্ছে এর পিক্সএল ইনটেনসিটি শূন্য থেকে ২৫৫ পর্যন্ত। ইনপুট হিসেবে থাকবে এই ২৮x২৮ পিক্সেলের ছবি, মাঝখানে থাকবে আমাদের ডিপ নিউরাল নেটওয়ার্ক। এখন আমাদের নিউরাল নেটওয়ার্ক ইনপুট হিসেবে ৭৮৪ বাইটকে নেবে, মাঝখানে সে জাদুর ছড়ি ঘুরিয়ে শেষে ক্লাসিফাই করে দেবে একেকটা ইমেজ - যা আসলে যেকোন দশটা আইটেমের একটা আইটেম হবে।"
      ]
    },
    {
      "cell_type": "markdown",
      "metadata": {
        "id": "0fKRao7xG8mT",
        "colab_type": "text"
      },
      "source": [
        "## ছবিতে কি কি আছে?\n",
        "\n",
        "ভালো করে নিচের ছবিটা দেখি। ছবিতে আলাদা করতে পারবেন এলিমেন্টগুলোকে?\n",
        "\n",
        "<img src=\"https://raw.githubusercontent.com/raqueeb/deep_learning_book/master/start-page/cat1.png\"\n",
        "         alt=\"Fashion MNIST sprite\"  width=\"600\">"
      ]
    },
    {
      "cell_type": "markdown",
      "metadata": {
        "colab_type": "text",
        "id": "OX78HVzGzsDv"
      },
      "source": [
        "## ডেটাসেট আছে tf.keras.datasets এ fashion_mnist হিসেবে "
      ]
    },
    {
      "cell_type": "markdown",
      "metadata": {
        "colab_type": "text",
        "id": "6Y3zaQEBzsDw"
      },
      "source": [
        "আমরা লোড ডাটাকে কল করলে নিয়ে আসবে দুই সেটের দুটো লিস্ট। ট্রেনিং এবং টেস্ট সেট। তার ভেতরে একটা কাপড় চোপড়ের ছবি, আরেকটা তার লেবেল মানে কোনটা কি?"
      ]
    },
    {
      "cell_type": "code",
      "metadata": {
        "colab_type": "code",
        "id": "7MqDQO0KCaWS",
        "colab": {}
      },
      "source": [
        "# কেরাসের দিয়ে স্যাম্পল ডেটাসেটে অ্যাক্সেস করছি, সাইকিট লার্নের মতো করে, ট্রেইন / টেস্ট স্প্লিট করে\n",
        "\n",
        "fashion_mnist = tf.keras.datasets.fashion_mnist\n",
        "(X_train, y_train), (X_test, y_test) = fashion_mnist.load_data()"
      ],
      "execution_count": 0,
      "outputs": []
    },
    {
      "cell_type": "markdown",
      "metadata": {
        "id": "UpirGcn3Ac61",
        "colab_type": "text"
      },
      "source": [
        "## কেরাস দিয়ে স্যাম্পল ডেটাসেটে অ্যাক্সেস\n",
        "\n",
        "আমি একটু সময় নেব টেন্সর-ফ্লো ডেটাসেট (TFDS) নিয়ে কাজ করতে। আমি চাইবো আপনারা যাতে এই ফরম্যাটের সাথে পরিচিতি পান, পাশাপাশি এটা নিয়ে একটা চ্যাপ্টার থাকবে। এই চ্যাপ্টারের নিচের দিকে কিছু প্র্যাকটিস করবো এই ডেটাসেটে।\n",
        "\n",
        "টেন্সর-ফ্লো অফিসিয়াল গাইডে এই ধারণাটা ভালো লেগেছে। X_trainকে আমরা বলছি train_images যেখানে আসলেই ট্রেনিং ইমেজ আছে। আসল ছবি। পাশাপাশি y_trainকে বলছি train_labels যা আসলে লেবেলের অ্যারে যার মধ্যে সংখ্যা আছে। মানে ওই জিনিসটা কোন প্রোডাক্ট। সে হিসেবে X_test এবং y_testকে আমরা test_images এবং test_labels হিসেবে বলছি যাতে ব্যাপারটা সহজে বোঝা যায়। আমি (X_train, y_train), (X_test, y_test) কনসেপ্টটা বাদ দেবো না, কারণ এটা এখনো ট্রেইন/টেস্ট স্প্লিটের ডিফ্যাক্টো স্ট্যান্ডার্ড।\n",
        "\n",
        "(train_images, train_labels), (test_images, test_labels) মানে - এই load_data() পাইথন দুটো ‘টুপল’ জেনারেট করছে, যা লিস্টের মতো তবে পরিবর্তনযোগ্য নয়। মনে আছে আমরা এই কাজটি সাইকিট লার্নে করেছিলাম প্রি-ডিফাইন্ড ডেটাসেট লোড করার জন্য।\n"
      ]
    },
    {
      "cell_type": "code",
      "metadata": {
        "id": "lbM3x7eVBXjL",
        "colab_type": "code",
        "colab": {}
      },
      "source": [
        "fashion_mnist = tf.keras.datasets.fashion_mnist\n",
        "# (X_train, y_train), (X_test, y_test) = fashion_mnist.load_data()\n",
        "\n",
        "(train_images, train_labels), (test_images, test_labels) = fashion_mnist.load_data()"
      ],
      "execution_count": 0,
      "outputs": []
    },
    {
      "cell_type": "markdown",
      "metadata": {
        "colab_type": "text",
        "id": "3uc7WwU5zsD3"
      },
      "source": [
        "## ডেটাসেট লোড করে কি পাবো?"
      ]
    },
    {
      "cell_type": "markdown",
      "metadata": {
        "colab_type": "text",
        "id": "t9FDsUlxCaWW"
      },
      "source": [
        "ডেটাসেট লোড করতে গিয়ে চারটা নামপাই অ্যারে পাচ্ছি। \n",
        "\n",
        "\n",
        "* এখানে `train_images` এবং `train_labels` অ্যারে দুটো আমাদের ট্রেনিং সেট — এগুলোকে আমরা ব্যবহার করবো মডেলকে ট্রেনিং করানোর জন্য। \n",
        "* মডেলকে টেস্ট করবো টেস্ট সেট দিয়ে। এই দুটো অ্যারে হিসেবে `test_images`, এবং `test_labels`।\n",
        "\n",
        "আমাদের ছবিগুলো ২৮x২৮ নামপাই অ্যারে যার পিক্সেল ভ্যালু ০ থেকে ২৫৫ এর মধ্যে। এখানে লেবেলগুলো ইন্টেজারের অ্যারে, ০ থেকে ৯ পর্যন্ত। তার করেসপন্ডিং ছবিগুলোর নাম দেখুন এখানে। \n",
        "\n",
        "<table>\n",
        "  <tr>\n",
        "    <th>Label</th>\n",
        "    <th>Class</th>\n",
        "  </tr>\n",
        "  <tr>\n",
        "    <td>0</td>\n",
        "    <td>T-shirt/top</td>\n",
        "  </tr>\n",
        "  <tr>\n",
        "    <td>1</td>\n",
        "    <td>Trouser</td>\n",
        "  </tr>\n",
        "    <tr>\n",
        "    <td>2</td>\n",
        "    <td>Pullover</td>\n",
        "  </tr>\n",
        "    <tr>\n",
        "    <td>3</td>\n",
        "    <td>Dress</td>\n",
        "  </tr>\n",
        "    <tr>\n",
        "    <td>4</td>\n",
        "    <td>Coat</td>\n",
        "  </tr>\n",
        "    <tr>\n",
        "    <td>5</td>\n",
        "    <td>Sandal</td>\n",
        "  </tr>\n",
        "    <tr>\n",
        "    <td>6</td>\n",
        "    <td>Shirt</td>\n",
        "  </tr>\n",
        "    <tr>\n",
        "    <td>7</td>\n",
        "    <td>Sneaker</td>\n",
        "  </tr>\n",
        "    <tr>\n",
        "    <td>8</td>\n",
        "    <td>Bag</td>\n",
        "  </tr>\n",
        "    <tr>\n",
        "    <td>9</td>\n",
        "    <td>Ankle boot</td>\n",
        "  </tr>\n",
        "</table>\n",
        "\n",
        "প্রতিটা ছবি কিন্তু ম্যাপিং করা আছে একেকটা লেবেলে। একটা ক্লাস নাম দিয়ে রাখি পরে ব্যবহার করতে। প্লটিং এবং টেন্সর-ফ্লো লাইটের সময়ে লাগবে। মনে থাকবে তো \"টেন্সর-ফ্লো লাইট\" এর জন্য? পরে আসবে।"
      ]
    },
    {
      "cell_type": "code",
      "metadata": {
        "colab_type": "code",
        "id": "IjnLH5S2CaWx",
        "colab": {}
      },
      "source": [
        "class_names = ['T-shirt/top', 'Trouser', 'Pullover', 'Dress', 'Coat',\n",
        "               'Sandal', 'Shirt', 'Sneaker', 'Bag', 'Ankle boot']"
      ],
      "execution_count": 0,
      "outputs": []
    },
    {
      "cell_type": "markdown",
      "metadata": {
        "colab_type": "text",
        "id": "Brm0b_KACaWX"
      },
      "source": [
        "## এক্সপ্লোরেটরি ডেটা অ্যানালাইসিস\n",
        "\n",
        "ডেটাগুলোকে একটু নেড়েচেড়ে দেখি। এটা একটা ভালো প্র্যাকটিস - ডেটাকে চিনতে। এখানে দেখছি ৬০,০০০ ছবি, ট্রেনিং সেটে। ২৮x২৮ পিক্সেল, ০ থেকে ৯ লেবেল। বাকি ১০,০০০ টেস্ট ছবি, পরীক্ষা করার জন্য। \n",
        "\n",
        "<img src=\"https://raw.githubusercontent.com/raqueeb/deep_learning_book/master/start-page/cat2.png\"\n",
        "         alt=\"Fashion MNIST sprite\"  width=\"600\">"
      ]
    },
    {
      "cell_type": "code",
      "metadata": {
        "id": "cupTUYW_DcFs",
        "colab_type": "code",
        "outputId": "573b6517-e8b4-4de3-c660-2ddcfe6a47ed",
        "colab": {
          "base_uri": "https://localhost:8080/",
          "height": 35
        }
      },
      "source": [
        "# অবজেক্টটা কি? \n",
        "# এটা ডাউনলোড হয়েছে টেন্সর-ফ্লো মডিউল TFModuleWrapper হিসেবে।\n",
        "\n",
        "type(fashion_mnist)"
      ],
      "execution_count": 6,
      "outputs": [
        {
          "output_type": "execute_result",
          "data": {
            "text/plain": [
              "module"
            ]
          },
          "metadata": {
            "tags": []
          },
          "execution_count": 6
        }
      ]
    },
    {
      "cell_type": "code",
      "metadata": {
        "colab_type": "code",
        "id": "zW5k_xz1CaWX",
        "outputId": "6d8b0d5f-cda1-4bfe-f8da-fc9221e1e4ba",
        "colab": {
          "base_uri": "https://localhost:8080/",
          "height": 35
        }
      },
      "source": [
        "train_images.shape"
      ],
      "execution_count": 7,
      "outputs": [
        {
          "output_type": "execute_result",
          "data": {
            "text/plain": [
              "(60000, 28, 28)"
            ]
          },
          "metadata": {
            "tags": []
          },
          "execution_count": 7
        }
      ]
    },
    {
      "cell_type": "markdown",
      "metadata": {
        "colab_type": "text",
        "id": "cIAcvQqMCaWf"
      },
      "source": [
        "৬০,০০০ লেবেলও আছে সঙ্গে।"
      ]
    },
    {
      "cell_type": "code",
      "metadata": {
        "colab_type": "code",
        "id": "TRFYHB2mCaWb",
        "outputId": "2e881f40-ba43-4693-fe20-275ff54ef3e6",
        "colab": {
          "base_uri": "https://localhost:8080/",
          "height": 35
        }
      },
      "source": [
        "len(train_labels)"
      ],
      "execution_count": 8,
      "outputs": [
        {
          "output_type": "execute_result",
          "data": {
            "text/plain": [
              "60000"
            ]
          },
          "metadata": {
            "tags": []
          },
          "execution_count": 8
        }
      ]
    },
    {
      "cell_type": "markdown",
      "metadata": {
        "colab_type": "text",
        "id": "YSlYxFuRCaWk"
      },
      "source": [
        "০ থেকে ৯ লেবেল সব ইন্টেজার ভ্যালু। "
      ]
    },
    {
      "cell_type": "code",
      "metadata": {
        "colab_type": "code",
        "id": "XKnCTHz4CaWg",
        "outputId": "fb38aafb-c2a3-46b3-9dff-892a5480687f",
        "colab": {
          "base_uri": "https://localhost:8080/",
          "height": 35
        }
      },
      "source": [
        "train_labels"
      ],
      "execution_count": 9,
      "outputs": [
        {
          "output_type": "execute_result",
          "data": {
            "text/plain": [
              "array([9, 0, 0, ..., 3, 0, 5], dtype=uint8)"
            ]
          },
          "metadata": {
            "tags": []
          },
          "execution_count": 9
        }
      ]
    },
    {
      "cell_type": "markdown",
      "metadata": {
        "colab_type": "text",
        "id": "TMPI88iZpO2T"
      },
      "source": [
        "১০,০০০ টেস্ট ছবি। ২৮x২৮ পিক্সেল আছে এখানেও। "
      ]
    },
    {
      "cell_type": "code",
      "metadata": {
        "colab_type": "code",
        "id": "2KFnYlcwCaWl",
        "outputId": "6b797007-b9f5-44b6-8da1-baf6dac1e8c2",
        "colab": {
          "base_uri": "https://localhost:8080/",
          "height": 35
        }
      },
      "source": [
        "test_images.shape"
      ],
      "execution_count": 10,
      "outputs": [
        {
          "output_type": "execute_result",
          "data": {
            "text/plain": [
              "(10000, 28, 28)"
            ]
          },
          "metadata": {
            "tags": []
          },
          "execution_count": 10
        }
      ]
    },
    {
      "cell_type": "markdown",
      "metadata": {
        "colab_type": "text",
        "id": "rd0A0Iu0CaWq"
      },
      "source": [
        "আছে ১০,০০০ লেবেলও। "
      ]
    },
    {
      "cell_type": "code",
      "metadata": {
        "colab_type": "code",
        "id": "iJmPr5-ACaWn",
        "outputId": "c586ca5d-840f-4bb9-b72b-6f84e1e14806",
        "colab": {
          "base_uri": "https://localhost:8080/",
          "height": 35
        }
      },
      "source": [
        "len(test_labels)"
      ],
      "execution_count": 11,
      "outputs": [
        {
          "output_type": "execute_result",
          "data": {
            "text/plain": [
              "10000"
            ]
          },
          "metadata": {
            "tags": []
          },
          "execution_count": 11
        }
      ]
    },
    {
      "cell_type": "markdown",
      "metadata": {
        "id": "BCZSrr0YzsER",
        "colab_type": "text"
      },
      "source": [
        "## ট্রেনিং ছবি এবং তার লেবেল\n",
        "\n",
        "আচ্ছা, এর ভেতরের ডেটাগুলো কেমন দেখতে? আমরা একটা ট্রেনিং ছবি দেখি।  তার সাথে তার লেবেল। "
      ]
    },
    {
      "cell_type": "code",
      "metadata": {
        "colab_type": "code",
        "id": "Sfs4yNNxzsEV",
        "outputId": "aff77584-d601-4dd2-caec-e9c503f3931f",
        "colab": {
          "base_uri": "https://localhost:8080/",
          "height": 1000
        }
      },
      "source": [
        "print('Training Lebel:')\n",
        "print(train_labels[0])\n",
        "print('Training Image:')\n",
        "print(train_images[0])"
      ],
      "execution_count": 12,
      "outputs": [
        {
          "output_type": "stream",
          "text": [
            "Training Lebel:\n",
            "9\n",
            "Training Image:\n",
            "[[  0   0   0   0   0   0   0   0   0   0   0   0   0   0   0   0   0   0\n",
            "    0   0   0   0   0   0   0   0   0   0]\n",
            " [  0   0   0   0   0   0   0   0   0   0   0   0   0   0   0   0   0   0\n",
            "    0   0   0   0   0   0   0   0   0   0]\n",
            " [  0   0   0   0   0   0   0   0   0   0   0   0   0   0   0   0   0   0\n",
            "    0   0   0   0   0   0   0   0   0   0]\n",
            " [  0   0   0   0   0   0   0   0   0   0   0   0   1   0   0  13  73   0\n",
            "    0   1   4   0   0   0   0   1   1   0]\n",
            " [  0   0   0   0   0   0   0   0   0   0   0   0   3   0  36 136 127  62\n",
            "   54   0   0   0   1   3   4   0   0   3]\n",
            " [  0   0   0   0   0   0   0   0   0   0   0   0   6   0 102 204 176 134\n",
            "  144 123  23   0   0   0   0  12  10   0]\n",
            " [  0   0   0   0   0   0   0   0   0   0   0   0   0   0 155 236 207 178\n",
            "  107 156 161 109  64  23  77 130  72  15]\n",
            " [  0   0   0   0   0   0   0   0   0   0   0   1   0  69 207 223 218 216\n",
            "  216 163 127 121 122 146 141  88 172  66]\n",
            " [  0   0   0   0   0   0   0   0   0   1   1   1   0 200 232 232 233 229\n",
            "  223 223 215 213 164 127 123 196 229   0]\n",
            " [  0   0   0   0   0   0   0   0   0   0   0   0   0 183 225 216 223 228\n",
            "  235 227 224 222 224 221 223 245 173   0]\n",
            " [  0   0   0   0   0   0   0   0   0   0   0   0   0 193 228 218 213 198\n",
            "  180 212 210 211 213 223 220 243 202   0]\n",
            " [  0   0   0   0   0   0   0   0   0   1   3   0  12 219 220 212 218 192\n",
            "  169 227 208 218 224 212 226 197 209  52]\n",
            " [  0   0   0   0   0   0   0   0   0   0   6   0  99 244 222 220 218 203\n",
            "  198 221 215 213 222 220 245 119 167  56]\n",
            " [  0   0   0   0   0   0   0   0   0   4   0   0  55 236 228 230 228 240\n",
            "  232 213 218 223 234 217 217 209  92   0]\n",
            " [  0   0   1   4   6   7   2   0   0   0   0   0 237 226 217 223 222 219\n",
            "  222 221 216 223 229 215 218 255  77   0]\n",
            " [  0   3   0   0   0   0   0   0   0  62 145 204 228 207 213 221 218 208\n",
            "  211 218 224 223 219 215 224 244 159   0]\n",
            " [  0   0   0   0  18  44  82 107 189 228 220 222 217 226 200 205 211 230\n",
            "  224 234 176 188 250 248 233 238 215   0]\n",
            " [  0  57 187 208 224 221 224 208 204 214 208 209 200 159 245 193 206 223\n",
            "  255 255 221 234 221 211 220 232 246   0]\n",
            " [  3 202 228 224 221 211 211 214 205 205 205 220 240  80 150 255 229 221\n",
            "  188 154 191 210 204 209 222 228 225   0]\n",
            " [ 98 233 198 210 222 229 229 234 249 220 194 215 217 241  65  73 106 117\n",
            "  168 219 221 215 217 223 223 224 229  29]\n",
            " [ 75 204 212 204 193 205 211 225 216 185 197 206 198 213 240 195 227 245\n",
            "  239 223 218 212 209 222 220 221 230  67]\n",
            " [ 48 203 183 194 213 197 185 190 194 192 202 214 219 221 220 236 225 216\n",
            "  199 206 186 181 177 172 181 205 206 115]\n",
            " [  0 122 219 193 179 171 183 196 204 210 213 207 211 210 200 196 194 191\n",
            "  195 191 198 192 176 156 167 177 210  92]\n",
            " [  0   0  74 189 212 191 175 172 175 181 185 188 189 188 193 198 204 209\n",
            "  210 210 211 188 188 194 192 216 170   0]\n",
            " [  2   0   0   0  66 200 222 237 239 242 246 243 244 221 220 193 191 179\n",
            "  182 182 181 176 166 168  99  58   0   0]\n",
            " [  0   0   0   0   0   0   0  40  61  44  72  41  35   0   0   0   0   0\n",
            "    0   0   0   0   0   0   0   0   0   0]\n",
            " [  0   0   0   0   0   0   0   0   0   0   0   0   0   0   0   0   0   0\n",
            "    0   0   0   0   0   0   0   0   0   0]\n",
            " [  0   0   0   0   0   0   0   0   0   0   0   0   0   0   0   0   0   0\n",
            "    0   0   0   0   0   0   0   0   0   0]]\n"
          ],
          "name": "stdout"
        }
      ]
    },
    {
      "cell_type": "code",
      "metadata": {
        "id": "D6sa4ffzDocj",
        "colab_type": "code",
        "outputId": "4d2ccad1-ce8d-48ac-f1aa-bbcd09664720",
        "colab": {
          "base_uri": "https://localhost:8080/",
          "height": 35
        }
      },
      "source": [
        "np.max(train_images)"
      ],
      "execution_count": 13,
      "outputs": [
        {
          "output_type": "execute_result",
          "data": {
            "text/plain": [
              "255"
            ]
          },
          "metadata": {
            "tags": []
          },
          "execution_count": 13
        }
      ]
    },
    {
      "cell_type": "markdown",
      "metadata": {
        "colab_type": "text",
        "id": "ES6uQoLKCaWr"
      },
      "source": [
        "## ডেটার প্রি-প্রসেসিং \n",
        "\n",
        "মনে আছে ডেটা নরমালাইজ করার কথা? যখন ডেটা বেশি ডিস্ট্রিবিউটেড থাকে তখন সেটা কাজ করানো সমস্যা হয়। আমরা যদি প্রথম ছবিটা দেখি, তাহলে বুঝবো সেটার পিক্সেল রেঞ্জ ০ থেকে ২৫৫ পর্যন্ত। \n",
        "\n",
        "ছবিটা দেখি কালারবার সহ। "
      ]
    },
    {
      "cell_type": "code",
      "metadata": {
        "colab_type": "code",
        "id": "m4VEw8Ud9Quh",
        "outputId": "731b5713-0a8d-4d75-f2d2-83a6b5745388",
        "colab": {
          "base_uri": "https://localhost:8080/",
          "height": 265
        }
      },
      "source": [
        "plt.figure()\n",
        "plt.imshow(train_images[0])\n",
        "plt.colorbar()\n",
        "plt.grid(False)\n",
        "plt.show()"
      ],
      "execution_count": 14,
      "outputs": [
        {
          "output_type": "display_data",
          "data": {
            "image/png": "[encoded data removed]",
            "text/plain": [
              "<Figure size 432x288 with 2 Axes>"
            ]
          },
          "metadata": {
            "tags": []
          }
        }
      ]
    },
    {
      "cell_type": "code",
      "metadata": {
        "id": "RsLdjHLlD3Wb",
        "colab_type": "code",
        "outputId": "6e47133f-fda2-436b-86fe-df7f28423741",
        "colab": {
          "base_uri": "https://localhost:8080/",
          "height": 265
        }
      },
      "source": [
        "plt.figure()\n",
        "plt.imshow(train_images[1])\n",
        "plt.colorbar()\n",
        "plt.grid(False)"
      ],
      "execution_count": 15,
      "outputs": [
        {
          "output_type": "display_data",
          "data": {
            "image/png": "[encoded data removed]",
            "text/plain": [
              "<Figure size 432x288 with 2 Axes>"
            ]
          },
          "metadata": {
            "tags": []
          }
        }
      ]
    },
    {
      "cell_type": "markdown",
      "metadata": {
        "colab_type": "text",
        "id": "Wz7l27Lz9S1P"
      },
      "source": [
        "আমাদের ডাটাগুলোকে এমনভাবে প্রি-প্রসেস করতে হবে যাতে সেটা ঠিকমতো কাজ করতে পারে। যেহেতু আমাদের ইনপুট ভ্যারিয়েবলব্গুলো গ্রেস্কেল মানে ০ থেকে ২৫৫ পর্যন্ত রেঞ্জ, সে কারণে আমরা সেটাকে ০ থেকে ১ এর মধ্যে নিয়ে আসব। আমাদের ট্রেনিং এবং টেস্ট সেট দুটোকেই এই নরমালাইজেশন এর মধ্যে নিয়ে আসতে হবে। এটা করার জন্য আমাদেরকে প্রতিটা ইমেজকে ২৫৫ দিয়ে ভাগ করতে হবে। তাহলে সেটা ০ থেকে ১ এর মধ্যে চলে আসবে।\n",
        "\n",
        "পাইথনে সুবিধা হচ্ছে একটা লিস্টকে নর্মালাইজ করতে লুপিং করতে হবে না। "
      ]
    },
    {
      "cell_type": "code",
      "metadata": {
        "colab_type": "code",
        "id": "bW5WzIPlCaWv",
        "colab": {}
      },
      "source": [
        "train_images = train_images / 255.0\n",
        "\n",
        "test_images = test_images / 255.0"
      ],
      "execution_count": 0,
      "outputs": []
    },
    {
      "cell_type": "markdown",
      "metadata": {
        "id": "NFq6YGW0AVGb",
        "colab_type": "text"
      },
      "source": [
        "ভালো করে লক্ষ্য করুন এবার কালার-বারে, ০ থেকে  ২৫৫ হয়ে গেছে ০ থেকে ১ এর মধ্যে। এই নর্মালাইজ ডিপ লার্নিং মডেলকে ভালোভাবে কাজ করতে দেয়।"
      ]
    },
    {
      "cell_type": "code",
      "metadata": {
        "id": "O9_va8FI8l2I",
        "colab_type": "code",
        "outputId": "440868a2-54cd-4f8e-ae28-c33473e9c2dc",
        "colab": {
          "base_uri": "https://localhost:8080/",
          "height": 287
        }
      },
      "source": [
        "plt.figure()\n",
        "plt.imshow(train_images[1])\n",
        "plt.colorbar()"
      ],
      "execution_count": 17,
      "outputs": [
        {
          "output_type": "execute_result",
          "data": {
            "text/plain": [
              "<matplotlib.colorbar.Colorbar at 0x7f8f55f42be0>"
            ]
          },
          "metadata": {
            "tags": []
          },
          "execution_count": 17
        },
        {
          "output_type": "display_data",
          "data": {
            "image/png": "[encoded data removed]",
            "text/plain": [
              "<Figure size 432x288 with 2 Axes>"
            ]
          },
          "metadata": {
            "tags": []
          }
        }
      ]
    },
    {
      "cell_type": "code",
      "metadata": {
        "colab_type": "code",
        "id": "1Yu7t_jpzsEh",
        "colab": {}
      },
      "source": [
        "# আমরা এভাবেও করতে পারি, একটা ফাংশন ডিক্লেয়ার করে, তবে সেটা এখন নয়\n",
        "\n",
        "# def normalize(images, labels):\n",
        "#  images = tf.cast(images, tf.float32)\n",
        "#  images /= 255\n",
        "#  return images, labels"
      ],
      "execution_count": 0,
      "outputs": []
    },
    {
      "cell_type": "markdown",
      "metadata": {
        "colab_type": "text",
        "id": "Ee638AlnCaWz"
      },
      "source": [
        "আমরা দেখতে চাচ্ছি ডেটাগুলো ঠিকমতো ফরম্যাটে আছে কিনা? যেহেতু আমরা এই ডাটাগুলোকে ট্রেনিংয়ে ব্যবহার করবো, সেকারণে প্রথম ২৫টা ছবিকে ডিসপ্লে করি। যেহেতু আমরা আগেই ক্লাস ডিক্লেয়ার করেছিলাম সেকারণে নিচে সেটার নাম দেখা যাবে। "
      ]
    },
    {
      "cell_type": "code",
      "metadata": {
        "colab_type": "code",
        "id": "oZTImqg_CaW1",
        "outputId": "aaa9590d-440c-4a68-c859-600729a17254",
        "colab": {
          "base_uri": "https://localhost:8080/",
          "height": 589
        }
      },
      "source": [
        "plt.figure(figsize=(10,10))\n",
        "for i in range(25):\n",
        "    plt.subplot(5,5,i+1)\n",
        "    plt.xticks([])\n",
        "    plt.yticks([])\n",
        "    plt.grid(False)\n",
        "    plt.imshow(train_images[i], cmap=plt.cm.binary)\n",
        "    plt.xlabel(class_names[train_labels[i]])\n",
        "plt.show()"
      ],
      "execution_count": 19,
      "outputs": [
        {
          "output_type": "display_data",
          "data": {
            "image/png": "[encoded data removed]",
            "text/plain": [
              "<Figure size 720x720 with 25 Axes>"
            ]
          },
          "metadata": {
            "tags": []
          }
        }
      ]
    },
    {
      "cell_type": "markdown",
      "metadata": {
        "colab_type": "text",
        "id": "59veuiEZCaW4"
      },
      "source": [
        "## মডেলকে বিল্ড করি \n",
        "\n",
        "আগেও দেখেছি একটা নিউরাল নেটওয়ার্ক তৈরি করতে প্রথমে মডেলের লেয়ার বানাতে হবে। এরপর আসবে কম্পাইলিং। মডেলের কাজ হচ্ছে ইনপুট থেকে ২৮ x ২৮ পিক্সেল মানে ৭৮৪ পিক্সেল থেকে এই নিউরাল নেটওয়ার্কের লেয়ারগুলো শার্ট/ব্যাগ এর মতো আইটেমগুলোকে ক্লাসিফাই করবো। \n",
        "\n",
        "<img src=\"https://raw.githubusercontent.com/raqueeb/deep_learning_book/master/start-page/cat3.png\"\n",
        "         alt=\"Fashion MNIST sprite\"  width=\"600\">"
      ]
    },
    {
      "cell_type": "markdown",
      "metadata": {
        "colab_type": "text",
        "id": "Gxg1XGm0eOBy"
      },
      "source": [
        "### লেয়ারগুলোকে সেট করি\n",
        "\n",
        "একটা নিউরাল নেটওয়ার্কের বেসিক বিল্ডিং ব্লক হচ্ছে তার লেয়ার। এই লেয়ারগুলো বিভিন্ন ফিচার এক্সট্রাক্ট করে রিপ্রেজেন্টেশন এর মাধ্যমে। ইনপুট ডাটা থেকে। যেহেতু একেকটার লেয়ার আরেকটা লেয়ারের সাথে সিকুয়েন্সিয়াল, সে কারণেই ডেন্স `tf.keras.layers.Dense` ব্যবহার করছি। এর ভেতরের ইন্টারনাল প্যারামিটারগুলো নিজে থেকেই এডজাস্ট হয় মানে শেখে এই ট্রেনিং এর সময়। "
      ]
    },
    {
      "cell_type": "code",
      "metadata": {
        "colab_type": "code",
        "id": "9ODch-OFCaW4",
        "colab": {}
      },
      "source": [
        "model = keras.Sequential([\n",
        "    keras.layers.Flatten(input_shape=(28, 28)),\n",
        "    keras.layers.Dense(128, activation='relu'),\n",
        "    keras.layers.Dense(10, activation='softmax')\n",
        "])"
      ],
      "execution_count": 0,
      "outputs": []
    },
    {
      "cell_type": "markdown",
      "metadata": {
        "colab_type": "text",
        "id": "gut8A_7rCaW6"
      },
      "source": [
        "আমাদের এই নেটওয়ার্কটা তিনটা লেয়ারের, ছবি দেখুন। \n",
        "\n",
        "<img src=\"https://raw.githubusercontent.com/raqueeb/deep_learning_book/master/start-page/cat5.1.png\"\n",
        "         alt=\"Fashion MNIST sprite\"  width=\"600\"> ছবি: সবগুলো ক্লাসের প্রোবাবিলিটি যোগ করলে সেটা ১ হবে মানে ১০০%\n",
        "\n",
        "* **ইনপুট লেয়ার** - প্রথম লেয়ারটার কাজ বেশ মজার। এর কাজ হচ্ছে ইনপুটকে ফ্ল্যাট করে দেয়া - `tf.keras.layers.Flatten`। আমাদের ইনপুট হিসেবে যে ইমেজ আছে সেটা কিন্তু একটা ২ ডাইমেনশনের অ্যারে মানে ২৮ x ২৮ পিক্সেল। বেসিক মডেলগুলোতে ডাইমেনশনের অ্যারের লাইনগুলোকে একসাথে প্রসেস করা কঠিন, তাই সেগুলোকে আমরা পাশাপাশি খুলে এক লাইনে দাঁড় করাবো। এই ২৮ x ২৮ পিক্সেলকে এক লাইনে দাঁড় করালে ৭৮৪ পিক্সেল হয়। এই লেয়ারের কোন লার্নিং প্যারামিটার নেই, তার কাজ হচ্ছে এটাকে রিফর্মেট মানে নতুন ফরম্যাটে ট্রান্সফরম করে দেয়।\n",
        "\n",
        "* **\"হিডেন লেয়ার\"** — এটা 'ডেন্স' লেয়ার, একটার সাথে আরেকটা 'ডেন্সলি কানেক্টেড' মানে `tf.keras.layers.Dense`। ইনপুট লেয়ারের পর থেকে আমরা হিডেন লেয়ার বলতে পারি। এই লেয়ারটাকে আমরা কনফিগার করেছি ১২৮টা নিউরন দিয়ে। আরো কম বেশি করতে পারতাম। প্রতিটা নিউরন যাকে আমরা নোড বলছি সেটা কিন্তু ৭৮৪টা নোডকে কানেক্ট করছে আগের লেয়ার থেকে নতুন লেয়ারে। ইনপুট এর ওয়েট এর উপর ভিত্তি করে এই হিডেন প্যারামিটারগুলো শেখে ট্রেনিং এর সময়। তবে তাদের আউটপুটের যে সিঙ্গেল ভ্যালু সেটাকে সে পাঠায় পরবর্তী লেয়ারে। এখানে আমরা ইচ্ছা করলে আরো কয়েকটা লেয়ার দিতে পারতাম, তবে শেখার জন্য আমরা এটাকে একটু সিম্প্লিস্টিক রাখছি। আমাদের অ্যাক্টিভেশন ফাংশন হিসেবে এখানে ব্যবহার করেছি রেলু, যা আসলে নন লিনিয়ার ফাংশনকে ভালোভাবে সামনে এগিয়ে দিতে পারে।\n",
        "\n",
        "* আমাদের এখানে activation='relu' এর কাজ হচ্ছে \"যদি X>0 তাহলে রিটার্ন X, নাহলে রিটার্ন 0\"। এর মানে হচ্ছে এই অ্যাক্টিভেশন ফাংশন লেয়ারে X শূন্য এর বড়ো হলে সামনের লেয়ারে X এর ভ্যালু পাঠাবে। \n",
        "\n",
        "* **আউটপুট লেয়ার** `tf.keras.layers.Dense` — এর কনফিগারেশন আগের মতো। ডেন্স। আউটপুট লেয়ারে আপনাদের অবশ্যই মনে আছে আমাদেরকে ক্লাসিফাই করতে হবে দশটা অবজেক্ট। ১০ ধরনের কাপড়, চোপড়, জুতা এগুলোকে যখন ক্লাসিফাই করব তখন অ্যাক্টিভেশন লেয়ার হিসাবে ব্যবহার করব 'সফটম্যাক্স'। 'সফটম্যাক্স' এর কাজ হচ্ছে তাকে যদি দশটা ভ্যালু দেয়া হয় সে সবার ম্যাক্সিমাম ভ্যালু, সবচেয়ে বড় ভ্যালুটা পিক করবে পরের লেয়ারে পাঠাতে। এই ফাংশন আমাদের অনেক কোডিং বাঁচায়। \n",
        "\n",
        "<img src=\"https://raw.githubusercontent.com/raqueeb/deep_learning_book/master/start-page/cat6.png\"\n",
        "         alt=\"Fashion MNIST sprite\"  width=\"600\">\n",
        "* প্রথম লেয়ারে ইনপুট ছিল ৭৮৪ বাইট, এরপরের লেয়ার থেকে শেষ লেয়ারে আমাদের ইনপুট হবে ১২৮ নোড থেকে। প্রতিটা নোডের ওয়েট ইনপুট এর সাথে যুক্ত হয়ে সেটা একটা শেখানো প্যারামিটার হিসেবে দাঁড়াবে। আমাদের আউটপুট ভ্যালু কিন্তু ০ থেকে ১ এর মধ্যে, আমরা যেটাকে বলি প্রবাবিলিটি ডিস্ট্রিবিউশন যেটা আমাদেরকে ওই ছবিটা কে কোন ক্লাসে পড়বে সেটা দেখাবে। এর মধ্যে সবচেয়ে বড়োটা পিক করবে সফটম্যাক্স। ছবি দেখুন, এই দশটা নোটের সবগুলোর ভ্যালু যোগ করলে এক হবে।"
      ]
    },
    {
      "cell_type": "markdown",
      "metadata": {
        "colab_type": "text",
        "id": "JamJ00chzsE0"
      },
      "source": [
        "### মডেলকে কম্পাইল করা\n",
        "\n",
        "ট্রেনিং করানোর আগে আমাদেরকে কিছু সেটিং বুঝতে হবে। এগুলোকে আমরা যোগ করবো মডেল কম্পাইলিং স্টেজে। \n",
        "\n",
        "* *লস ফাংশন* — আগেও আলাপ করেছিলাম, তবে মডেলকে ঠিক জায়গায় মানে ঠিক অ্যাক্যুরেসিতে পৌঁছাতে হলে এই ফাংশন দরকার। আমাদের এখানে আউটপুট ১০ টা ক্যাটেগরীতে একটা আরেকটার সাথে মিউচুয়ালি এক্সক্লুসিভ (যেখানে একেকটা স্যাম্পল একদম একটা ক্লাসেই থাকবে), সেকারণে ব্যবহার করছি 'sparse_categorical_crossentropy' ব্যবহার করছি লস হিসেবে। \n",
        "\n",
        "* *অপটিমাইজার* — লস ক্যালকুলেট করে সেটার কারেকশন/আপডেট পাঠানোই এর কাজ। \n",
        "\n",
        "* *মেট্রিকস* — আমরা যখন ট্রেনিং এবং টেস্ট একসাথে মনিটর করবো, তখন অ্যাক্যুরেসির দরকার পড়বে। আমাদের এখানে যখন কিছু ছবি ঠিকমতো ক্লাসিফাই হয়েছে, তখন অ্যাক্যুরেসিটা কার্যকরী। "
      ]
    },
    {
      "cell_type": "code",
      "metadata": {
        "colab_type": "code",
        "id": "Lhan11blCaW7",
        "colab": {}
      },
      "source": [
        "model.compile(optimizer='adam',\n",
        "              loss='sparse_categorical_crossentropy',\n",
        "              metrics=['accuracy'])"
      ],
      "execution_count": 0,
      "outputs": []
    },
    {
      "cell_type": "markdown",
      "metadata": {
        "colab_type": "text",
        "id": "qKF6uW-BCaW-"
      },
      "source": [
        "## মডেলকে ট্রেনিং করাই\n",
        "\n",
        "শুরুতেই একটা ছবি। কখন কোনটা ব্যবহার করবেন? কখন শুধুমাত্র `model.fit` অথবা কলব্যাক, অথবা অনেকগুলো ডেটা একসাথে ব্যাচে। তবে, নতুন ব্যবহারকারী হিসেবে শুরুতেই শুধুমাত্র `model.fit` দিয়ে আজকে কাজ করি। এরপরে আমরা আজকেই কলব্যাক এবং পরে ব্যাচে ট্রেনিং করাবো।\n",
        "\n",
        "<img src=\"https://raw.githubusercontent.com/raqueeb/TensorFlow2/master/assets/training-test2.jpg\"> চিত্রঃ কখন কোন `model.fit` ব্যবহার হবে?\n",
        "\n",
        "আজকে আমাদের এই নিউরাল নেটওয়ার্ককে ট্রেনিং করাতে সামনের কয়েকটা স্টেপ দরকার পড়বে;\n",
        "\n",
        "১. শুরতেই ডেটাকে ফিড করতে হবে মডেলকে। আমাদের এখানে ট্রেনিং ডেটা আছে `train_images` এবং `train_labels` অ্যারেগুলোতে।\n",
        "২. মডেল শেখে তার ছবি আর লেবেলের মধ্যে সম্পর্ক থেকে। \n",
        "৩. এখন আমাদের মডেল টেস্ট করার পালা। `train_images` থেকে প্রেডিকশন করাবো? ভুলেও না। তাহলে পরীক্ষায় প্রশ্ন ফাঁস হয়ে যাবে। বরং আমরা ব্যবহার করবো আনকোরা টেস্ট সেট থেকে যাদের আলাদা করে রেখেছিলাম। আমরা ব্যবহার করবো `test_images` অ্যারে। আমাদেরকে ভেরিফাই করতে হবে `test_images` অ্যারে ম্যাচ করে কিনা `test_labels`কে। \n",
        "৪. `epochs=10` মানে পুরো ট্রেনিংসেটের ওপর ১০ বার পুরো আইটারেশন চালাবে, মানে সর্বমোট  ১০ * ৬০০০০ = ৬০০০০০ এক্সাম্পল।\n",
        "\n",
        "ট্রেনিং শুরুতেই কল করবো `model.fit` মেথডকে — এর কাজ হচ্ছে train_images এবং  train_labels এর ভেতরের সম্পর্ককে শেখা। "
      ]
    },
    {
      "cell_type": "code",
      "metadata": {
        "colab_type": "code",
        "id": "xvwvpA64CaW_",
        "outputId": "41b25fff-d17b-4fbc-df7a-d24c22a224aa",
        "colab": {
          "base_uri": "https://localhost:8080/",
          "height": 399
        }
      },
      "source": [
        "model.fit(train_images, train_labels, epochs=10)"
      ],
      "execution_count": 22,
      "outputs": [
        {
          "output_type": "stream",
          "text": [
            "Train on 60000 samples\n",
            "Epoch 1/10\n",
            "60000/60000 [==============================] - 6s 102us/sample - loss: 0.4979 - accuracy: 0.8252\n",
            "Epoch 2/10\n",
            "60000/60000 [==============================] - 5s 91us/sample - loss: 0.3753 - accuracy: 0.8650\n",
            "Epoch 3/10\n",
            "60000/60000 [==============================] - 5s 87us/sample - loss: 0.3376 - accuracy: 0.8766\n",
            "Epoch 4/10\n",
            "60000/60000 [==============================] - 5s 89us/sample - loss: 0.3132 - accuracy: 0.8844\n",
            "Epoch 5/10\n",
            "60000/60000 [==============================] - 5s 91us/sample - loss: 0.2945 - accuracy: 0.8912\n",
            "Epoch 6/10\n",
            "60000/60000 [==============================] - 5s 91us/sample - loss: 0.2793 - accuracy: 0.8965\n",
            "Epoch 7/10\n",
            "60000/60000 [==============================] - 5s 91us/sample - loss: 0.2666 - accuracy: 0.9009\n",
            "Epoch 8/10\n",
            "60000/60000 [==============================] - 5s 90us/sample - loss: 0.2578 - accuracy: 0.9038\n",
            "Epoch 9/10\n",
            "60000/60000 [==============================] - 5s 89us/sample - loss: 0.2484 - accuracy: 0.9069\n",
            "Epoch 10/10\n",
            "60000/60000 [==============================] - 5s 90us/sample - loss: 0.2392 - accuracy: 0.9119\n"
          ],
          "name": "stdout"
        },
        {
          "output_type": "execute_result",
          "data": {
            "text/plain": [
              "<tensorflow.python.keras.callbacks.History at 0x7f8f54088198>"
            ]
          },
          "metadata": {
            "tags": []
          },
          "execution_count": 22
        }
      ]
    },
    {
      "cell_type": "markdown",
      "metadata": {
        "colab_type": "text",
        "id": "W3ZVOhugCaXA"
      },
      "source": [
        "এই প্রসেসটা ভালো করে লক্ষ্য করুন। মডেল ট্রেনিং এর পাশাপাশি তার লস এবং অ্যাক্যুরেসির দিকে নজর রাখুন। লস কমার সাথে সাথে অ্যাক্যুরেসি বাড়ছে। এই মডেলের অ্যাক্যুরেসি বেড়ে চলে এসেছে ০.৮৮ মানে ৮৮% ট্রেনিং ডেটার ওপর। "
      ]
    },
    {
      "cell_type": "markdown",
      "metadata": {
        "colab_type": "text",
        "id": "oEw4bZgGCaXB"
      },
      "source": [
        "## অ্যাক্যুরেসিকে টেস্ট ডেটা দিয়ে ইভাল্যুয়েট করানো\n",
        "\n",
        "ট্রেনিং দেখলাম, এখন দেখতে হবে কেমন কাজ করে টেস্ট ডেটার ওপর?"
      ]
    },
    {
      "cell_type": "code",
      "metadata": {
        "colab_type": "code",
        "id": "VflXLEeECaXC",
        "outputId": "7d7e8a4a-6c6b-4d6c-a598-d6ce76365098",
        "colab": {
          "base_uri": "https://localhost:8080/",
          "height": 69
        }
      },
      "source": [
        "# model.evaluate(test_images, test_labels)\n",
        "\n",
        "test_loss, test_acc = model.evaluate(test_images, test_labels)\n",
        "\n",
        "print('\\nTest accuracy:', test_acc)"
      ],
      "execution_count": 23,
      "outputs": [
        {
          "output_type": "stream",
          "text": [
            "10000/10000 [==============================] - 1s 87us/sample - loss: 0.3467 - accuracy: 0.8805\n",
            "\n",
            "Test accuracy: 0.8805\n"
          ],
          "name": "stdout"
        }
      ]
    },
    {
      "cell_type": "markdown",
      "metadata": {
        "colab_type": "text",
        "id": "yWfgsmVXCaXG"
      },
      "source": [
        "টেস্ট ডাটাসেটের ওপর আমরা যখন অ্যাক্যুরেসি টেস্ট করলাম, তখন দেখা গেল এখানে তারা কিছুটা খারাপ করেছে। মানে ট্রেনিং ডাটাসেট থেকে টেস্টডাটা সেটের অ্যাক্যুরেসি কিছুটা খারাপ। এই ট্রেনিং অ্যাক্যুরেসি এবং টেস্টসেটের মধ্যে যে গ্যাপ সেটাকে আমরা বলি 'ওভার ফিটিং'। 'ওভার ফিটিং' হচ্ছে এমন একটা স্ট্যাটাস, যখন মেশিন লার্নিং মডেল নতুন ডাটা, যে ডাটা আগে দেখেনি - সেই ডাটাতে ট্রেনিং ডাটার অ্যাক্যুরেসি থেকে খারাপ করে। \n",
        "\n",
        "তবে এই অ্যাক্যুরেসি বাড়ানোর উপায় নিয়ে আলাপ করবো সামনে। "
      ]
    },
    {
      "cell_type": "markdown",
      "metadata": {
        "id": "lPe1awm3Fd4S",
        "colab_type": "text"
      },
      "source": [
        "## সাইকিট লার্নে কি করতাম?"
      ]
    },
    {
      "cell_type": "code",
      "metadata": {
        "id": "49i1KIqUFSWm",
        "colab_type": "code",
        "outputId": "74372077-3d17-4084-8961-d8862d305ca8",
        "colab": {
          "base_uri": "https://localhost:8080/",
          "height": 35
        }
      },
      "source": [
        "from sklearn.metrics import accuracy_score\n",
        "pred_lebel = model.predict_classes(test_images)\n",
        "accuracy_score(test_labels, pred_lebel)"
      ],
      "execution_count": 24,
      "outputs": [
        {
          "output_type": "execute_result",
          "data": {
            "text/plain": [
              "0.8805"
            ]
          },
          "metadata": {
            "tags": []
          },
          "execution_count": 24
        }
      ]
    },
    {
      "cell_type": "markdown",
      "metadata": {
        "colab_type": "text",
        "id": "xsoS7CPDCaXH"
      },
      "source": [
        "## এখন প্রেডিকশনের পালা \n",
        "\n",
        "যিহেতু আমাদের মডেলের ট্রেনিং হয়ে গেছে, এখন কিছু পরীক্ষা নিরীক্ষার পালা। কিছু ছবি প্রেডিকশন করি এখন। প্রেডিক্ট করি টেস্ট ছবি নিয়ে। "
      ]
    },
    {
      "cell_type": "code",
      "metadata": {
        "colab_type": "code",
        "id": "Gl91RPhdCaXI",
        "colab": {}
      },
      "source": [
        "predictions = model.predict(test_images)"
      ],
      "execution_count": 0,
      "outputs": []
    },
    {
      "cell_type": "markdown",
      "metadata": {
        "colab_type": "text",
        "id": "x9Kk1voUCaXJ"
      },
      "source": [
        "প্রেডিকশন শেষ। আমাদের মডেল প্রতিটা ছবিকে ঠিকমতো লেবেল করেছে কিনা, সেটা দেখা দরকার। শুরুতেই প্রথম প্রেডিকশনটা দেখি।"
      ]
    },
    {
      "cell_type": "code",
      "metadata": {
        "colab_type": "code",
        "id": "3DmJEUinCaXK",
        "outputId": "49acd837-8d10-4bad-9164-933fde34d5c8",
        "colab": {
          "base_uri": "https://localhost:8080/",
          "height": 69
        }
      },
      "source": [
        "predictions[0]"
      ],
      "execution_count": 26,
      "outputs": [
        {
          "output_type": "execute_result",
          "data": {
            "text/plain": [
              "array([7.5772544e-10, 2.4105393e-11, 8.0843354e-10, 1.0038004e-12,\n",
              "       1.5201566e-08, 1.2795480e-03, 3.8289167e-09, 5.9792902e-02,\n",
              "       3.4744371e-10, 9.3892759e-01], dtype=float32)"
            ]
          },
          "metadata": {
            "tags": []
          },
          "execution_count": 26
        }
      ]
    },
    {
      "cell_type": "markdown",
      "metadata": {
        "colab_type": "text",
        "id": "-hw1hgeSCaXN"
      },
      "source": [
        "ভালো করে লক্ষ্য করুন। আমাদের আউটপুট লেয়ারে যে ১০টা প্রোবাবিলিটি ডিস্ট্রিবিউশন দিচ্ছে, সেখানে সবচেয়ে বেশি সংখ্যাটাই হচ্ছে তার লেবেলের কনফিডেন্স। সবচেয়ে বেশি সংখ্যাটা কি হতে পারে? এখানে একটা ছবি দেখতে পারেন বোঝার সুবিধার জন্য। "
      ]
    },
    {
      "cell_type": "code",
      "metadata": {
        "colab_type": "code",
        "id": "qsqenuPnCaXO",
        "outputId": "cafdfeaa-ac1a-49f9-c1a4-bf749d15fa4e",
        "colab": {
          "base_uri": "https://localhost:8080/",
          "height": 35
        }
      },
      "source": [
        "np.argmax(predictions[0])"
      ],
      "execution_count": 27,
      "outputs": [
        {
          "output_type": "execute_result",
          "data": {
            "text/plain": [
              "9"
            ]
          },
          "metadata": {
            "tags": []
          },
          "execution_count": 27
        }
      ]
    },
    {
      "cell_type": "markdown",
      "metadata": {
        "colab_type": "text",
        "id": "E51yS7iCCaXO"
      },
      "source": [
        "আমাদের মডেল সবচেয়ে বেশি কনফিডেন্ট অ্যাঙ্কেল বুট হিসেবে যার ক্লাস নাম হচ্ছে `class_names[9]`. আমরা যখন চেক করলাম, তখন বোঝা গেল আমাদের ক্লাসিফিকেশন ঠিক আছে।"
      ]
    },
    {
      "cell_type": "code",
      "metadata": {
        "colab_type": "code",
        "id": "Sd7Pgsu6CaXP",
        "outputId": "6c79bb37-e1f2-4d19-e019-9170d8a33a4e",
        "colab": {
          "base_uri": "https://localhost:8080/",
          "height": 35
        }
      },
      "source": [
        "test_labels[0]"
      ],
      "execution_count": 28,
      "outputs": [
        {
          "output_type": "execute_result",
          "data": {
            "text/plain": [
              "9"
            ]
          },
          "metadata": {
            "tags": []
          },
          "execution_count": 28
        }
      ]
    },
    {
      "cell_type": "markdown",
      "metadata": {
        "colab_type": "text",
        "id": "ygh2yYC972ne"
      },
      "source": [
        "এই কোড দেখে ভয় পাবেন না। এই মুহূর্তে আপনার এটা জানতে হবে না। দশটা স্যাম্পলকে আমরা গ্রাফে দেখতে চাচ্ছি ১০টা আলাদা আলাদা ক্লাস প্রেডিকশনে। ডিপ লার্নিং শিখতে এই মুহুর্তে এই কোড জানতে হবে না। আস্তে আস্তে আমরা বুঝতে পারবো।"
      ]
    },
    {
      "cell_type": "code",
      "metadata": {
        "colab_type": "code",
        "id": "DvYmmrpIy6Y1",
        "colab": {}
      },
      "source": [
        "def plot_image(i, predictions_array, true_label, img):\n",
        "  predictions_array, true_label, img = predictions_array, true_label[i], img[i]\n",
        "  plt.grid(False)\n",
        "  plt.xticks([])\n",
        "  plt.yticks([])\n",
        "\n",
        "  plt.imshow(img, cmap=plt.cm.binary)\n",
        "\n",
        "  predicted_label = np.argmax(predictions_array)\n",
        "  if predicted_label == true_label:\n",
        "    color = 'blue'\n",
        "  else:\n",
        "    color = 'red'\n",
        "\n",
        "  plt.xlabel(\"{} {:2.0f}% ({})\".format(class_names[predicted_label],\n",
        "                                100*np.max(predictions_array),\n",
        "                                class_names[true_label]),\n",
        "                                color=color)\n",
        "\n",
        "def plot_value_array(i, predictions_array, true_label):\n",
        "  predictions_array, true_label = predictions_array, true_label[i]\n",
        "  plt.grid(False)\n",
        "  plt.xticks(range(10))\n",
        "  plt.yticks([])\n",
        "  thisplot = plt.bar(range(10), predictions_array, color=\"#777777\")\n",
        "  plt.ylim([0, 1])\n",
        "  predicted_label = np.argmax(predictions_array)\n",
        "\n",
        "  thisplot[predicted_label].set_color('red')\n",
        "  thisplot[true_label].set_color('blue')"
      ],
      "execution_count": 0,
      "outputs": []
    },
    {
      "cell_type": "markdown",
      "metadata": {
        "colab_type": "text",
        "id": "d4Ov9OFDMmOD"
      },
      "source": [
        "ভালো করে লক্ষ্য করুন, ০তম ছবিটা, তার প্রেডিকশনএবং তার প্রেডিকশন অ্যারে। ঠিক প্রেডিকশন লেবেলগুলো নীল (মানে হালকা কালো) আর যেগুলো ঠিক প্রেডিকশন নয়, সেগুলোর লেবেল লাল (হালকা গ্রে)। শেষে ১০০ এর মধ্যে শতাংশ আকারে প্রেডিক্টেড লেবেলের ভ্যালু।"
      ]
    },
    {
      "cell_type": "code",
      "metadata": {
        "colab_type": "code",
        "id": "HV5jw-5HwSmO",
        "outputId": "990542ea-a862-4022-e559-e8ee09dbc3c5",
        "colab": {
          "base_uri": "https://localhost:8080/",
          "height": 211
        }
      },
      "source": [
        "i = 0\n",
        "plt.figure(figsize=(6,3))\n",
        "plt.subplot(1,2,1)\n",
        "plot_image(i, predictions[i], test_labels, test_images)\n",
        "plt.subplot(1,2,2)\n",
        "plot_value_array(i, predictions[i],  test_labels)\n",
        "plt.show()"
      ],
      "execution_count": 30,
      "outputs": [
        {
          "output_type": "display_data",
          "data": {
            "image/png": "[encoded data removed]",
            "text/plain": [
              "<Figure size 432x216 with 2 Axes>"
            ]
          },
          "metadata": {
            "tags": []
          }
        }
      ]
    },
    {
      "cell_type": "code",
      "metadata": {
        "colab_type": "code",
        "id": "Ko-uzOufSCSe",
        "outputId": "c7ac6391-33f4-421a-9fb4-67cf9a4483fe",
        "colab": {
          "base_uri": "https://localhost:8080/",
          "height": 211
        }
      },
      "source": [
        "i = 12\n",
        "plt.figure(figsize=(6,3))\n",
        "plt.subplot(1,2,1)\n",
        "plot_image(i, predictions[i], test_labels, test_images)\n",
        "plt.subplot(1,2,2)\n",
        "plot_value_array(i, predictions[i],  test_labels)\n",
        "plt.show()"
      ],
      "execution_count": 31,
      "outputs": [
        {
          "output_type": "display_data",
          "data": {
            "image/png": "[encoded data removed]",
            "text/plain": [
              "<Figure size 432x216 with 2 Axes>"
            ]
          },
          "metadata": {
            "tags": []
          }
        }
      ]
    },
    {
      "cell_type": "markdown",
      "metadata": {
        "colab_type": "text",
        "id": "kgdvGD52CaXR"
      },
      "source": [
        "কয়েকটা ছবির পাশাপাশি তার কয়েকটা প্রেডিকশন প্লট করে দেখি। অনেক সময় দেখা যায় - মডেল মাঝে মাঝে ভুল করে যদিও তারা এই ব্যাপারে বেশ 'কনফিডেন্ট' থাকে। প্রথমে প্লট করছি টেস্ট ছবিগুলোকে, তারপর প্রেডিকটেড লেবেল, তারপর আসল, ট্রু লেবেল। রংয়ে হালকা গ্রে ঠিক প্রেডিকশন, কালোটা ভুল প্রেডিকশন। "
      ]
    },
    {
      "cell_type": "code",
      "metadata": {
        "colab_type": "code",
        "id": "hQlnbqaw2Qu_",
        "outputId": "e59537b5-a42d-4cc2-ae13-3128bf8c541d",
        "colab": {
          "base_uri": "https://localhost:8080/",
          "height": 749
        }
      },
      "source": [
        "num_rows = 5\n",
        "num_cols = 3\n",
        "num_images = num_rows*num_cols\n",
        "plt.figure(figsize=(2*2*num_cols, 2*num_rows))\n",
        "for i in range(num_images):\n",
        "  plt.subplot(num_rows, 2*num_cols, 2*i+1)\n",
        "  plot_image(i, predictions[i], test_labels, test_images)\n",
        "  plt.subplot(num_rows, 2*num_cols, 2*i+2)\n",
        "  plot_value_array(i, predictions[i], test_labels)\n",
        "plt.tight_layout()\n",
        "plt.show()"
      ],
      "execution_count": 32,
      "outputs": [
        {
          "output_type": "display_data",
          "data": {
            "image/png": "[encoded data removed]",
            "text/plain": [
              "<Figure size 864x720 with 30 Axes>"
            ]
          },
          "metadata": {
            "tags": []
          }
        }
      ]
    },
    {
      "cell_type": "markdown",
      "metadata": {
        "colab_type": "text",
        "id": "R32zteKHCaXT"
      },
      "source": [
        "সবশেষে আমাদের এই ট্রেইনড মডেলকে দিয়ে একটা ছবি প্রেডিক্ট করাই। টেস্ট ডেটাসেট থেকে অবশ্যই। "
      ]
    },
    {
      "cell_type": "code",
      "metadata": {
        "colab_type": "code",
        "id": "yRJ7JU7JCaXT",
        "outputId": "671b6503-4335-4b0a-a06c-6ff0ec329f4d",
        "colab": {
          "base_uri": "https://localhost:8080/",
          "height": 35
        }
      },
      "source": [
        "img = test_images[1]\n",
        "\n",
        "print(img.shape)"
      ],
      "execution_count": 33,
      "outputs": [
        {
          "output_type": "stream",
          "text": [
            "(28, 28)\n"
          ],
          "name": "stdout"
        }
      ]
    },
    {
      "cell_type": "markdown",
      "metadata": {
        "colab_type": "text",
        "id": "vz3bVp21CaXV"
      },
      "source": [
        "`tf.keras` মডেল ব্যাচে প্রেডিকশন করার জন্য অপ্টিমাইজ। মানে একটা একটা করে না। এইজন্য ব্যাচে প্রেডিকশন সবসময় সময় বাঁচায়। এখন আমরা যদি একটা ছবিকে ব্যবহার করি সেটাকেও একটা লিস্টে ফেলতে হবে। "
      ]
    },
    {
      "cell_type": "code",
      "metadata": {
        "colab_type": "code",
        "id": "lDFh5yF_CaXW",
        "outputId": "54a49231-bbc1-456b-af2c-3ce2cc4de4e7",
        "colab": {
          "base_uri": "https://localhost:8080/",
          "height": 35
        }
      },
      "source": [
        "img = (np.expand_dims(img,0))\n",
        "\n",
        "print(img.shape)"
      ],
      "execution_count": 34,
      "outputs": [
        {
          "output_type": "stream",
          "text": [
            "(1, 28, 28)\n"
          ],
          "name": "stdout"
        }
      ]
    },
    {
      "cell_type": "markdown",
      "metadata": {
        "colab_type": "text",
        "id": "EQ5wLTkcCaXY"
      },
      "source": [
        "সঠিক লেবেলের জন্য প্রেডিক্ট করি -"
      ]
    },
    {
      "cell_type": "code",
      "metadata": {
        "colab_type": "code",
        "id": "o_rzNSdrCaXY",
        "outputId": "75319800-d236-4904-8627-113ae0803fa6",
        "colab": {
          "base_uri": "https://localhost:8080/",
          "height": 52
        }
      },
      "source": [
        "predictions_single = model.predict(img)\n",
        "\n",
        "print(predictions_single)"
      ],
      "execution_count": 35,
      "outputs": [
        {
          "output_type": "stream",
          "text": [
            "[[4.0305869e-05 3.3975964e-12 9.9847370e-01 7.6855168e-11 9.3581108e-04\n",
            "  2.2720197e-08 5.5011554e-04 6.2563029e-16 2.3616828e-09 3.7662083e-12]]\n"
          ],
          "name": "stdout"
        }
      ]
    },
    {
      "cell_type": "code",
      "metadata": {
        "colab_type": "code",
        "id": "6Ai-cpLjO-3A",
        "outputId": "0455c34e-235b-408c-c8ee-27a8346407e9",
        "colab": {
          "base_uri": "https://localhost:8080/",
          "height": 300
        }
      },
      "source": [
        "plot_value_array(1, predictions_single[0], test_labels)\n",
        "_ = plt.xticks(range(10), class_names, rotation=45)"
      ],
      "execution_count": 36,
      "outputs": [
        {
          "output_type": "display_data",
          "data": {
            "image/png": "[encoded data removed]",
            "text/plain": [
              "<Figure size 432x288 with 1 Axes>"
            ]
          },
          "metadata": {
            "tags": []
          }
        }
      ]
    },
    {
      "cell_type": "markdown",
      "metadata": {
        "colab_type": "text",
        "id": "cU1Y2OAMCaXb"
      },
      "source": [
        "`model.predict` আমাদেরকে একটা লিস্টের লিস্ট দেয়, যেখানে প্রতিটা ছবি ওই ব্যাচে আছে। এখন ওই ব্যাচের একটা ছবির জন্য প্রেডিকশন দেখি। "
      ]
    },
    {
      "cell_type": "code",
      "metadata": {
        "colab_type": "code",
        "id": "2tRmdq_8CaXb",
        "outputId": "22e4cae2-8e82-4f78-d76e-f5b1e896c150",
        "colab": {
          "base_uri": "https://localhost:8080/",
          "height": 35
        }
      },
      "source": [
        "np.argmax(predictions_single[0])"
      ],
      "execution_count": 37,
      "outputs": [
        {
          "output_type": "execute_result",
          "data": {
            "text/plain": [
              "2"
            ]
          },
          "metadata": {
            "tags": []
          },
          "execution_count": 37
        }
      ]
    },
    {
      "cell_type": "markdown",
      "metadata": {
        "colab_type": "text",
        "id": "YFc2HbEVCaXd"
      },
      "source": [
        "কি বোঝা গেলো? মডেল ঠিকমতো প্রেডিক্ট করতে পেরেছে বলতে হবে। "
      ]
    },
    {
      "cell_type": "markdown",
      "metadata": {
        "colab_type": "text",
        "id": "9v7D7O_4zsGB"
      },
      "source": [
        "## কেন কলব্যাক? \n",
        "\n",
        "মডেলকে ট্রেইন করতে সময় লাগে। বিশেষ করে আমরা যখন বিভিন্ন ইপক সংখ্যা নিয়ে কাজ করি। একেকটা ইপক চালাতে যেরকম কম্পিউটিং রিসোর্স ব্যবহার হয়, সেখানে আমাদেরকে পয়সা গুনতে হয় ক্লাউডএর জন্য। এমন যদি হতো আমরা একটা ট্রেনিং বন্ধ করতে পারতাম যখন আমরা একটা দরকারি অ্যাক্যুরেসি পয়েন্টে পৌঁছে গেছি। এই মুহূর্তে আমাদের প্রতিবারই একটা ইপক সংখ্যা পর্যন্ত যেতে হচ্ছে। ভালো খবর হচ্ছে, আমাদের একটা কলব্যাক ফাংশন আছে যেটা এই ট্রেনিং লুপকে দরকারি অ্যাক্যুরেসি এলেই আপনা আপনি বন্ধ করতে পারে। আমরা আসলে ওই পর্যন্ত পৌঁছাতে চাই ওই লেভেলের অ্যাক্যুরেসি পৌঁছে গেলে ট্রেনিং বন্ধ করে দিতে পারি।\n",
        "\n",
        "এখন ফ্যাশন MNIST এর মধ্যে কলব্যাক ফিচারটা চালাই। আমাদের 'মডেল.ফিট' ফাংশনটা যখন ট্রেনিং লুপের উপর কাজ করে তখন আমরা লক্ষ্য রাখি সেটার আউটপুটে। পাইথনে কাজটা করা বেশ সোজা। যদিও জিনিসটা ইমপ্লিমেন্ট করা হচ্ছে একটা আলাদা ক্লাস হিসেবে তবে সেটা ইনলাইনে থাকছে আমাদের সেই একই কোডে। ধরা যাক, আমরা চাইছি যখন লস ০.২ এর নিচে থাকতে হবে, তাহলে সেই ট্রেনিংটা এমনিতেই ক্যান্সেল হয়ে যাবে।\n",
        "\n",
        "দেখি কখন আমাদের ট্রেনিং লুপ থামে!"
      ]
    },
    {
      "cell_type": "code",
      "metadata": {
        "colab_type": "code",
        "id": "pa1Zw-lczsGC",
        "outputId": "ceaa0cd6-9b05-48cc-d07e-46e80c2e1f8d",
        "colab": {
          "base_uri": "https://localhost:8080/",
          "height": 295
        }
      },
      "source": [
        "import tensorflow as tf\n",
        "\n",
        "class myCallback(tf.keras.callbacks.Callback):\n",
        "  def on_epoch_end(self, epoch, logs={}):\n",
        "    if(logs.get('accuracy')>0.9):\n",
        "      print(\"\\nReached 90% accuracy so cancelling training!\")\n",
        "      self.model.stop_training = True\n",
        "\n",
        "# আগের সব কোড এক জায়গায় \n",
        "fashion_mnist = tf.keras.datasets.fashion_mnist\n",
        "\n",
        "(x_train, y_train),(x_test, y_test) = fashion_mnist.load_data()\n",
        "x_train, x_test = x_train / 255.0, x_test / 255.0\n",
        "\n",
        "# শুধুমাত্র এটা নতুন অংশ\n",
        "callbacks = myCallback()\n",
        "\n",
        "# আগের লেয়ার\n",
        "model = tf.keras.models.Sequential([\n",
        "  tf.keras.layers.Flatten(input_shape=(28, 28)),\n",
        "  tf.keras.layers.Dense(512, activation=tf.nn.relu),\n",
        "  tf.keras.layers.Dense(10, activation=tf.nn.softmax)\n",
        "])\n",
        "\n",
        "# আগের মডেল কম্পাইলেশন\n",
        "model.compile(optimizer='adam',\n",
        "              loss='sparse_categorical_crossentropy',\n",
        "              metrics=['accuracy'])\n",
        "\n",
        "# আগের মডেল ফিট\n",
        "model.fit(x_train, y_train, epochs=10, callbacks=[callbacks])"
      ],
      "execution_count": 38,
      "outputs": [
        {
          "output_type": "stream",
          "text": [
            "Train on 60000 samples\n",
            "Epoch 1/10\n",
            "60000/60000 [==============================] - 6s 96us/sample - loss: 0.4750 - accuracy: 0.8282\n",
            "Epoch 2/10\n",
            "60000/60000 [==============================] - 6s 93us/sample - loss: 0.3607 - accuracy: 0.8691\n",
            "Epoch 3/10\n",
            "60000/60000 [==============================] - 6s 92us/sample - loss: 0.3252 - accuracy: 0.8797\n",
            "Epoch 4/10\n",
            "60000/60000 [==============================] - 6s 92us/sample - loss: 0.3000 - accuracy: 0.8893\n",
            "Epoch 5/10\n",
            "60000/60000 [==============================] - 6s 93us/sample - loss: 0.2812 - accuracy: 0.8954\n",
            "Epoch 6/10\n",
            "59456/60000 [============================>.] - ETA: 0s - loss: 0.2665 - accuracy: 0.9006\n",
            "Reached 90% accuracy so cancelling training!\n",
            "60000/60000 [==============================] - 5s 91us/sample - loss: 0.2663 - accuracy: 0.9007\n"
          ],
          "name": "stdout"
        },
        {
          "output_type": "execute_result",
          "data": {
            "text/plain": [
              "<tensorflow.python.keras.callbacks.History at 0x7f8f214b6438>"
            ]
          },
          "metadata": {
            "tags": []
          },
          "execution_count": 38
        }
      ]
    },
    {
      "cell_type": "markdown",
      "metadata": {
        "id": "-_bgZl_QfD2_",
        "colab_type": "text"
      },
      "source": [
        "## মডেলের একটা সামারি\n",
        "\n",
        "কি মনে হচ্ছে? এখানে ৩ লেয়ারের একটা ছোট্ট সামারি টেবিল দিয়েছে টাইপ, শেপ এবং প্যারামিটার দিয়ে। ট্রেনিং এর জন্য প্যারামিটার সংখ্যা ৪০৭০৫০, মানে ৪ লক্ষ। একটা ছোট ডেটাসেট অথচ অনেক প্যারামিটার।\n",
        "\n",
        "এই সামারি দিয়ে মডেলের প্রতিটা লেয়ারে কি হচ্ছে সেটা জানা যায়। সেটার সাথে লেয়ারগুলোর নাম যদি না মডেল নিজে থেকে দেয়। অনেক সময় সেগুলোর নাম আমরা দিয়ে দিতে পারি। আউটপুট শেপ None কেন? সামনে দেখবেন ডিপ লার্নিং মডেলগুলো ট্রেনিং করানোর সময় ডেটাসেটগুলোকে ব্যাচে করাবো। এখানে এর মানে হচ্ছে ব্যাচ সাইজ যে কোন কিছু হতে পারে। সামনে আমরা দেখবো নন-ট্রেইনেবল প্যারামিটার নিয়ে কিভাবে কাজ করা যায়।"
      ]
    },
    {
      "cell_type": "code",
      "metadata": {
        "id": "Se_338WFG8oY",
        "colab_type": "code",
        "outputId": "562666e2-5a04-423c-d106-7bc9396cbad6",
        "colab": {
          "base_uri": "https://localhost:8080/",
          "height": 260
        }
      },
      "source": [
        "model.summary()"
      ],
      "execution_count": 39,
      "outputs": [
        {
          "output_type": "stream",
          "text": [
            "Model: \"sequential_1\"\n",
            "_________________________________________________________________\n",
            "Layer (type)                 Output Shape              Param #   \n",
            "=================================================================\n",
            "flatten_1 (Flatten)          (None, 784)               0         \n",
            "_________________________________________________________________\n",
            "dense_2 (Dense)              (None, 512)               401920    \n",
            "_________________________________________________________________\n",
            "dense_3 (Dense)              (None, 10)                5130      \n",
            "=================================================================\n",
            "Total params: 407,050\n",
            "Trainable params: 407,050\n",
            "Non-trainable params: 0\n",
            "_________________________________________________________________\n"
          ],
          "name": "stdout"
        }
      ]
    },
    {
      "cell_type": "markdown",
      "metadata": {
        "id": "dUHA6MK3O4Wx",
        "colab_type": "text"
      },
      "source": [
        "আমরা দেখছি ডেন্স লেয়ারে অনেক প্যারামিটার। এখানে প্রথম হিডেন লেয়ারে ৭৮৪ x ৫১২ কানেকশন ওয়েট সঙ্গে ৫১২ বায়াস নিলে ৮০২,৮১৬ প্যারামিটার হয়ে যায়। ভালো কথা, এই মডেলটাকে কি ছবি হিসেবে জেনারেট করা যায়?"
      ]
    },
    {
      "cell_type": "code",
      "metadata": {
        "id": "QRYWZnr9WUYM",
        "colab_type": "code",
        "colab": {
          "base_uri": "https://localhost:8080/",
          "height": 422
        },
        "outputId": "e3eb15ac-0510-4e10-f9c2-9a5718e05576"
      },
      "source": [
        "keras.utils.plot_model(model, \"mnist_model.png\", show_shapes=True)"
      ],
      "execution_count": 40,
      "outputs": [
        {
          "output_type": "execute_result",
          "data": {
            "image/png": "[encoded data removed]",
            "text/plain": [
              "<IPython.core.display.Image object>"
            ]
          },
          "metadata": {
            "tags": []
          },
          "execution_count": 40
        }
      ]
    },
    {
      "cell_type": "markdown",
      "metadata": {
        "id": "P7mt0CwtV51h",
        "colab_type": "text"
      },
      "source": [
        "## মডেলের লেয়ারগুলোর নাম ইনডেক্স ধরে"
      ]
    },
    {
      "cell_type": "code",
      "metadata": {
        "id": "b3vCIgEqQcex",
        "colab_type": "code",
        "colab": {
          "base_uri": "https://localhost:8080/",
          "height": 69
        },
        "outputId": "88ab1438-7be9-419b-f37c-81b6833639d7"
      },
      "source": [
        "model.layers"
      ],
      "execution_count": 41,
      "outputs": [
        {
          "output_type": "execute_result",
          "data": {
            "text/plain": [
              "[<tensorflow.python.keras.layers.core.Flatten at 0x7f8f55c272b0>,\n",
              " <tensorflow.python.keras.layers.core.Dense at 0x7f8f55c27710>,\n",
              " <tensorflow.python.keras.layers.core.Dense at 0x7f8f55c27978>]"
            ]
          },
          "metadata": {
            "tags": []
          },
          "execution_count": 41
        }
      ]
    },
    {
      "cell_type": "code",
      "metadata": {
        "id": "FD9iv6eRRmt-",
        "colab_type": "code",
        "colab": {
          "base_uri": "https://localhost:8080/",
          "height": 35
        },
        "outputId": "0bb7d697-3fdd-433d-fb1c-eb0716011b67"
      },
      "source": [
        "hidden1 = model.layers[1]\n",
        "hidden1.name"
      ],
      "execution_count": 42,
      "outputs": [
        {
          "output_type": "execute_result",
          "data": {
            "text/plain": [
              "'dense_2'"
            ]
          },
          "metadata": {
            "tags": []
          },
          "execution_count": 42
        }
      ]
    },
    {
      "cell_type": "code",
      "metadata": {
        "id": "1-KHz-SSR8zN",
        "colab_type": "code",
        "colab": {
          "base_uri": "https://localhost:8080/",
          "height": 35
        },
        "outputId": "9bf9f6c5-2878-4a93-b732-8ea5c183d74b"
      },
      "source": [
        "model.get_layer(hidden1.name) is hidden1"
      ],
      "execution_count": 43,
      "outputs": [
        {
          "output_type": "execute_result",
          "data": {
            "text/plain": [
              "True"
            ]
          },
          "metadata": {
            "tags": []
          },
          "execution_count": 43
        }
      ]
    },
    {
      "cell_type": "markdown",
      "metadata": {
        "id": "ffhCGYMDTnk9",
        "colab_type": "text"
      },
      "source": [
        "একটা লেয়ারের প্রতিটা প্যারামিটার এক্সেস করা যায় সেটার get_weights() এবং set_weights() মেথড দিয়ে। একটা ডেন্স লেয়ারের জন্য সেটা তার প্রতিটা কানেকশন এর ওয়েট এবং বায়াসের জন্য সেটা প্রযোজ্য।"
      ]
    },
    {
      "cell_type": "code",
      "metadata": {
        "id": "S8Mjdq7sTMm8",
        "colab_type": "code",
        "colab": {}
      },
      "source": [
        "weights, biases = hidden1.get_weights()"
      ],
      "execution_count": 0,
      "outputs": []
    },
    {
      "cell_type": "code",
      "metadata": {
        "id": "L5EJLMtNTPmu",
        "colab_type": "code",
        "colab": {
          "base_uri": "https://localhost:8080/",
          "height": 243
        },
        "outputId": "dcce7747-6245-4a4e-ad6a-aeaed7241950"
      },
      "source": [
        "weights"
      ],
      "execution_count": 45,
      "outputs": [
        {
          "output_type": "execute_result",
          "data": {
            "text/plain": [
              "array([[-0.03092452, -0.07504503, -0.13763687, ...,  0.1057985 ,\n",
              "         0.07987928,  0.06646112],\n",
              "       [-0.03415161, -0.01011258,  0.06298686, ..., -0.00679969,\n",
              "        -0.00428082, -0.01032218],\n",
              "       [-0.00104201, -0.00733904, -0.3240066 , ..., -0.13431765,\n",
              "         0.01226498,  0.03361627],\n",
              "       ...,\n",
              "       [ 0.18274958, -0.0153599 , -0.32968813, ..., -0.16499789,\n",
              "        -0.23007339, -0.00274525],\n",
              "       [ 0.06125874, -0.2426279 , -0.31404632, ...,  0.01373851,\n",
              "        -0.10446495,  0.03723101],\n",
              "       [ 0.01087047, -0.01767496, -0.21919104, ...,  0.16324499,\n",
              "        -0.013962  , -0.04339984]], dtype=float32)"
            ]
          },
          "metadata": {
            "tags": []
          },
          "execution_count": 45
        }
      ]
    },
    {
      "cell_type": "code",
      "metadata": {
        "id": "blTR21enTSPh",
        "colab_type": "code",
        "colab": {
          "base_uri": "https://localhost:8080/",
          "height": 35
        },
        "outputId": "6eb3b950-350c-49c2-f6ef-b1136735f874"
      },
      "source": [
        "weights.shape"
      ],
      "execution_count": 46,
      "outputs": [
        {
          "output_type": "execute_result",
          "data": {
            "text/plain": [
              "(784, 512)"
            ]
          },
          "metadata": {
            "tags": []
          },
          "execution_count": 46
        }
      ]
    },
    {
      "cell_type": "code",
      "metadata": {
        "id": "UWD3ZwCdTVgU",
        "colab_type": "code",
        "colab": {
          "base_uri": "https://localhost:8080/",
          "height": 1000
        },
        "outputId": "45bec170-3bab-4d7e-b8e3-3a10724907c2"
      },
      "source": [
        "biases"
      ],
      "execution_count": 47,
      "outputs": [
        {
          "output_type": "execute_result",
          "data": {
            "text/plain": [
              "array([-1.25886723e-01,  2.13907227e-01, -9.80531052e-02,  1.18458144e-01,\n",
              "       -2.11972281e-01, -1.80441719e-02,  3.71187717e-01,  1.98542148e-01,\n",
              "        1.18108280e-01,  2.16348737e-01,  2.83454090e-01,  3.79868224e-02,\n",
              "        2.80779153e-01,  4.59733494e-02,  1.25797391e-01,  2.33179599e-01,\n",
              "        2.40252092e-01,  1.08046696e-01,  2.73400456e-01,  2.60755062e-01,\n",
              "        2.42609903e-01,  1.64256692e-01,  2.14972168e-01, -4.73761745e-02,\n",
              "        1.51032165e-01,  3.03067893e-01,  3.62261713e-01,  4.22253698e-01,\n",
              "       -6.03409037e-02,  1.91008464e-01,  1.99588552e-01,  1.18786216e-01,\n",
              "        9.83842313e-02,  5.58407344e-02,  1.43366516e-01,  5.07925935e-02,\n",
              "        1.58827409e-01,  1.09077156e-01,  1.13929652e-01, -3.25769454e-01,\n",
              "       -2.82146316e-02,  1.20326295e-01,  2.59599686e-01,  3.15617591e-01,\n",
              "        2.14895129e-01,  1.80912912e-01, -9.26189646e-02, -2.98572071e-02,\n",
              "       -8.94159451e-03, -9.15721525e-03,  3.75347227e-01, -2.32045591e-01,\n",
              "       -2.53463387e-02,  7.21785054e-03, -2.77692109e-01, -9.90898907e-02,\n",
              "        8.81810784e-02, -1.10327750e-02, -8.22040662e-02, -1.05065763e-01,\n",
              "        1.12036698e-01,  2.88687408e-01, -5.00892522e-03, -8.95195268e-03,\n",
              "        1.40814558e-01, -4.82428260e-02,  8.68727192e-02, -8.39016680e-03,\n",
              "       -3.12986150e-02, -2.93279201e-01,  2.52183259e-01, -5.35922721e-02,\n",
              "        6.28331974e-02,  2.96453029e-01,  3.27713192e-01,  2.59188056e-01,\n",
              "        5.05853258e-02,  2.19842121e-01,  2.51833528e-01, -9.75737162e-03,\n",
              "       -3.54820513e-03,  3.18930507e-01,  1.01525463e-01,  5.89164905e-02,\n",
              "        4.38640922e-01,  2.23438293e-01,  1.30564094e-01,  4.76228744e-01,\n",
              "        3.73356551e-01, -1.30673066e-01,  2.84261167e-01,  4.43581678e-02,\n",
              "       -6.10574111e-02, -3.55487019e-02, -6.84999824e-02, -4.92695868e-02,\n",
              "       -1.92908607e-02,  6.83786348e-02,  2.36618906e-01,  2.84296095e-01,\n",
              "       -4.02765013e-02,  9.28878710e-02,  1.91573963e-01,  3.99491876e-01,\n",
              "        2.28353605e-01,  1.07774287e-01,  2.68926099e-02,  7.61952996e-02,\n",
              "        1.58211440e-02,  8.15742239e-02, -1.86223742e-02,  1.25605380e-02,\n",
              "       -1.73789524e-02, -1.07492857e-01, -3.08612199e-03,  1.06519172e-02,\n",
              "        6.23488091e-02, -3.28006037e-02,  5.34423590e-02,  1.11911789e-01,\n",
              "       -1.93542615e-02,  1.88335165e-01, -2.09009349e-01,  2.39734471e-01,\n",
              "        2.99377024e-01,  4.75190021e-02,  2.21432373e-01,  3.98434289e-02,\n",
              "        2.70836294e-01,  2.23631337e-01,  1.02158196e-01,  3.54893237e-01,\n",
              "       -2.35657487e-02,  3.12954485e-01,  1.26610640e-02,  2.59558618e-01,\n",
              "        1.41475841e-01, -2.27317829e-02,  3.59335452e-01,  1.84565857e-01,\n",
              "        6.77047074e-02,  2.18576729e-01, -1.55849397e-01,  5.08943573e-02,\n",
              "        2.56839901e-01,  2.63117105e-01,  4.75446507e-02, -1.96384303e-02,\n",
              "        9.76224914e-02, -1.87391147e-01,  1.01191923e-01, -4.37028781e-02,\n",
              "       -1.43302724e-01,  5.35215139e-02,  3.26957628e-02,  1.01038538e-01,\n",
              "       -8.15147161e-03,  1.92770615e-01,  6.07930347e-02,  3.26805785e-02,\n",
              "        1.07654743e-01, -2.59618647e-02, -1.39367133e-02,  1.89742520e-01,\n",
              "        4.95366216e-01, -4.67346124e-02,  1.48721904e-01,  2.15321541e-01,\n",
              "       -1.08233728e-02, -1.50751621e-02,  1.77065596e-01,  1.64003864e-01,\n",
              "       -2.10356545e-02,  1.23086713e-01, -2.61788756e-01,  3.04727197e-01,\n",
              "        8.95419866e-02,  1.11793198e-01,  1.81979060e-01,  2.77219921e-01,\n",
              "        2.81064302e-01,  1.49175584e-01,  1.39427662e-01,  1.62479490e-01,\n",
              "        3.01655859e-01,  4.97099161e-02, -3.61545570e-02,  4.20112163e-02,\n",
              "        1.60445645e-02, -3.74554545e-02, -1.25938505e-01, -1.63213890e-02,\n",
              "       -2.30975952e-02, -4.46033577e-04,  9.32052955e-02,  3.51893216e-01,\n",
              "       -3.73982601e-02,  4.02994603e-02,  1.76703185e-01,  3.34332347e-01,\n",
              "        1.49438053e-01,  3.50425661e-01, -7.86138922e-02, -2.80360401e-01,\n",
              "       -1.10039739e-02,  1.71338901e-01,  2.86721379e-01,  2.57998198e-01,\n",
              "        2.34010637e-01,  4.54076588e-01, -2.16229632e-01,  2.04289839e-01,\n",
              "        2.30417639e-01,  2.93096185e-01,  1.26535267e-01,  1.70833647e-01,\n",
              "        2.08981022e-01,  4.24034238e-01,  1.39519960e-01,  5.39441220e-03,\n",
              "        2.74643064e-01, -1.48211457e-02, -1.01324581e-01,  2.27378532e-02,\n",
              "        1.20825820e-01,  3.80249888e-01, -2.16826927e-02,  2.23529741e-01,\n",
              "       -1.90211356e-01,  4.36370730e-01,  1.71342775e-01, -2.24140733e-02,\n",
              "        1.43658787e-01,  1.56217039e-01,  3.77161503e-01, -8.48915707e-03,\n",
              "       -5.34788668e-02, -1.20929964e-02,  5.72207756e-02, -1.40726687e-02,\n",
              "        4.28708404e-01,  2.06134930e-01,  6.72007501e-02, -1.46676013e-02,\n",
              "       -7.54063204e-03, -1.09363347e-01,  8.20806902e-03,  2.60380030e-01,\n",
              "       -1.06208632e-02,  1.05041087e-01,  2.04135150e-01,  3.19657981e-01,\n",
              "       -1.99197158e-01,  8.36214349e-02, -1.34593606e-01,  5.36810696e-01,\n",
              "       -1.86585225e-02,  1.73311770e-01,  2.12134153e-01, -9.61540174e-03,\n",
              "        5.23845479e-03,  2.07612216e-01,  1.87863454e-01,  3.13629895e-01,\n",
              "        3.92977923e-01, -3.49369422e-02, -1.28193926e-02,  3.64920199e-02,\n",
              "        1.35867789e-01, -1.24274604e-02, -8.25007483e-02,  4.10072282e-02,\n",
              "        2.71850824e-01,  1.13948576e-01, -1.78395752e-02,  3.50857317e-01,\n",
              "        3.33951227e-02,  1.19140618e-01, -2.62760576e-02,  2.83869565e-01,\n",
              "        2.70071086e-02,  5.22712953e-02,  6.09205067e-01, -3.10263969e-02,\n",
              "       -1.89843342e-01, -1.03999469e-02,  1.48822561e-01,  3.22858274e-01,\n",
              "        9.60339755e-02, -3.38310897e-01,  1.63255170e-01, -1.31636374e-02,\n",
              "       -1.24331333e-01,  2.78957486e-02,  5.81052341e-03,  1.62719592e-01,\n",
              "        1.91903144e-01, -9.33009200e-03,  1.09740488e-01,  7.10190982e-02,\n",
              "       -4.27278206e-02,  4.30741638e-01, -2.59810418e-01,  3.91409397e-02,\n",
              "        5.81655502e-02,  1.84298918e-01, -1.00494092e-02, -4.30638380e-02,\n",
              "        1.55372545e-01, -5.53914197e-02,  1.99669808e-01,  4.53635566e-02,\n",
              "        1.85020730e-01, -9.97748878e-03,  2.90572122e-02,  3.12883556e-01,\n",
              "       -7.04385862e-02,  1.75260589e-01, -1.11011406e-02, -9.50886589e-03,\n",
              "        3.04866970e-01,  4.11549071e-03, -1.36713292e-02,  6.50038719e-02,\n",
              "        2.61938304e-01,  1.08043261e-01, -8.35261308e-03,  4.63615268e-01,\n",
              "       -2.91984938e-02,  1.07116558e-01,  2.33722553e-02,  1.18434548e-01,\n",
              "       -6.83209896e-02,  4.93263751e-01, -1.44451559e-01,  3.43986005e-01,\n",
              "        8.67046863e-02,  2.46367991e-01,  2.66130537e-01,  1.34123400e-01,\n",
              "        1.77106187e-01, -1.52987558e-02,  2.39472866e-01, -9.27915890e-03,\n",
              "       -7.72879869e-02, -4.01731402e-01,  1.73934564e-01,  2.00967297e-01,\n",
              "       -3.03038619e-02, -7.61678501e-04,  2.14086786e-01,  3.58685017e-01,\n",
              "       -1.33300856e-01, -4.59887348e-02,  2.12977365e-01,  1.34568987e-03,\n",
              "        7.18460009e-02, -4.01217565e-02, -1.04163177e-02,  2.88994074e-01,\n",
              "       -9.20293182e-02,  7.23323151e-02, -2.74981260e-02,  9.46915150e-02,\n",
              "       -1.50201740e-02,  3.61653626e-01,  2.52445638e-01, -2.43416671e-02,\n",
              "        3.56824547e-01,  2.07259804e-01,  3.24565768e-01, -1.05647422e-01,\n",
              "       -3.88597518e-01,  2.38225460e-01,  3.33366424e-01,  1.75654322e-01,\n",
              "        4.57855463e-02, -1.06345512e-01, -1.14005255e-02, -4.74197753e-02,\n",
              "        2.64198393e-01, -1.59744285e-02, -1.29160568e-01, -6.96748942e-02,\n",
              "       -2.47806564e-01,  4.00302708e-01,  1.44770574e-02,  3.31702788e-04,\n",
              "       -1.10766459e-02, -3.88029441e-02, -1.11600928e-01,  3.01511168e-01,\n",
              "        2.43792862e-01,  4.51289386e-01,  1.99337155e-01,  6.36204481e-02,\n",
              "       -2.49218456e-02,  1.00864343e-01,  1.27281815e-01,  2.37246841e-01,\n",
              "        2.78149039e-01,  2.24866092e-01, -8.71316344e-03,  1.83543965e-01,\n",
              "        1.68926448e-01,  3.08455408e-01, -9.60134268e-02,  3.63421738e-01,\n",
              "       -1.13639280e-01,  1.52598307e-01, -2.89007314e-02, -9.96809360e-03,\n",
              "        4.35572982e-01,  1.08859546e-01,  2.98261140e-02, -1.07701989e-02,\n",
              "        2.38084137e-01,  6.95741475e-02, -2.31942266e-01,  9.35596675e-02,\n",
              "       -1.01982644e-02, -1.22091444e-02,  2.18806013e-01,  9.30256993e-02,\n",
              "        2.60790288e-01,  2.47776702e-01,  2.69381940e-01,  1.13121264e-01,\n",
              "       -2.09944677e-02,  2.26818487e-01,  2.34444886e-01,  1.74053296e-01,\n",
              "        1.54679373e-01,  2.07526743e-01,  1.82029277e-01,  3.24247312e-03,\n",
              "        4.46787700e-02,  1.62087884e-02,  3.75479236e-02,  1.78914562e-01,\n",
              "        4.18981224e-01, -6.09360784e-02,  2.95475841e-01,  9.82703548e-03,\n",
              "        4.64513414e-02,  6.73660785e-02, -1.28521234e-01,  9.62261483e-02,\n",
              "       -5.08104153e-02,  1.54364318e-01,  1.68301929e-02,  2.48791613e-02,\n",
              "        1.24096759e-02,  1.24827951e-01,  3.85377169e-01,  2.34378904e-01,\n",
              "        3.94466631e-02,  2.30291814e-01,  4.04159039e-01, -8.27096589e-03,\n",
              "        2.30164200e-01,  1.74776107e-01, -9.08801053e-03,  2.51532942e-01,\n",
              "        3.43557686e-01, -7.12217577e-03,  3.17612290e-01,  4.45640236e-01,\n",
              "        4.76848483e-02, -1.13833006e-02, -1.23706860e-02,  1.30011275e-01,\n",
              "        2.62798280e-01,  3.32627982e-01,  1.78902850e-01, -3.96689884e-02,\n",
              "        1.22285731e-01,  4.86666888e-01,  4.47556466e-01,  5.89868240e-02,\n",
              "        7.82715678e-02, -4.59612161e-03,  4.72350210e-01, -5.00269718e-02,\n",
              "        8.04118514e-02,  3.51777017e-01,  6.30071536e-02, -1.58591364e-02,\n",
              "       -4.05127481e-02, -4.14409162e-03,  4.35575098e-02, -2.78798580e-01,\n",
              "        2.24586770e-01,  3.70146451e-03,  2.22373009e-01,  2.21236907e-02,\n",
              "       -2.35944036e-02,  2.78141081e-01,  6.57311678e-02, -1.48257427e-02,\n",
              "        2.84432650e-01,  8.26860815e-02,  3.43976647e-01,  4.44761544e-01,\n",
              "        4.43316460e-01,  1.61185693e-02,  1.23792239e-01,  2.70007670e-01,\n",
              "       -1.00653777e-02,  3.53714198e-01, -2.44197948e-03,  1.39813170e-01],\n",
              "      dtype=float32)"
            ]
          },
          "metadata": {
            "tags": []
          },
          "execution_count": 47
        }
      ]
    },
    {
      "cell_type": "code",
      "metadata": {
        "id": "Fy3XM5fHTWdw",
        "colab_type": "code",
        "colab": {
          "base_uri": "https://localhost:8080/",
          "height": 35
        },
        "outputId": "2811828f-160c-4f0e-ecf8-b7367dda274f"
      },
      "source": [
        "biases.shape"
      ],
      "execution_count": 48,
      "outputs": [
        {
          "output_type": "execute_result",
          "data": {
            "text/plain": [
              "(512,)"
            ]
          },
          "metadata": {
            "tags": []
          },
          "execution_count": 48
        }
      ]
    },
    {
      "cell_type": "markdown",
      "metadata": {
        "id": "8XJp0iKf3ZgK",
        "colab_type": "text"
      },
      "source": [
        "## মডেলের টেন্সর-ফ্লো লাইট ভার্সন \n",
        "\n",
        "(১২ তম চ্যাপ্টারে আলাপ হয়েছে)\n",
        "\n",
        "আচ্ছা, কেমন হয় আমরা যদি এই মডেলকে আমাদের মোবাইলে অথবা রাস্পবেরি পাইয়ের ওপর চালাতে চাই? অথবা আমাদের যেকোন অ্যাপে? অন্য কোন এমবেডিং ডিভাইসে?"
      ]
    },
    {
      "cell_type": "code",
      "metadata": {
        "id": "Yz10p6fZ32H0",
        "colab_type": "code",
        "outputId": "0283cb70-d251-4d93-ffbb-8928e496acda",
        "colab": {
          "base_uri": "https://localhost:8080/",
          "height": 107
        }
      },
      "source": [
        "export_dir = 'saved_model/1'\n",
        "tf.saved_model.save(model, export_dir)"
      ],
      "execution_count": 49,
      "outputs": [
        {
          "output_type": "stream",
          "text": [
            "WARNING:tensorflow:From /tensorflow-2.1.0/python3.6/tensorflow_core/python/ops/resource_variable_ops.py:1786: calling BaseResourceVariable.__init__ (from tensorflow.python.ops.resource_variable_ops) with constraint is deprecated and will be removed in a future version.\n",
            "Instructions for updating:\n",
            "If using Keras pass *_constraint arguments to layers.\n",
            "INFO:tensorflow:Assets written to: saved_model/1/assets\n"
          ],
          "name": "stdout"
        }
      ]
    },
    {
      "cell_type": "markdown",
      "metadata": {
        "id": "4EwpGAVV44L3",
        "colab_type": "text"
      },
      "source": [
        "## মডেলকে কনভার্ট করি "
      ]
    },
    {
      "cell_type": "code",
      "metadata": {
        "id": "CYUXcrXW49Uw",
        "colab_type": "code",
        "colab": {}
      },
      "source": [
        "# Convert the model.\n",
        "converter = tf.lite.TFLiteConverter.from_saved_model(export_dir)\n",
        "tflite_model = converter.convert()"
      ],
      "execution_count": 0,
      "outputs": []
    },
    {
      "cell_type": "code",
      "metadata": {
        "id": "g_hStTIy5yM3",
        "colab_type": "code",
        "colab": {}
      },
      "source": [
        "tflite_model_file = 'model.tflite'\n",
        "\n",
        "with open(tflite_model_file, \"wb\") as f:\n",
        "  f.write(tflite_model)"
      ],
      "execution_count": 0,
      "outputs": []
    },
    {
      "cell_type": "markdown",
      "metadata": {
        "id": "NAW1ApRSxA-0",
        "colab_type": "text"
      },
      "source": [
        "মনে আছে আমাদের ক্লাসের কথা? পেছনে দেখুন। তৈরি করি দরকারি labels.txt ফাইল।"
      ]
    },
    {
      "cell_type": "code",
      "metadata": {
        "id": "fRs2bN5vxuhn",
        "colab_type": "code",
        "colab": {}
      },
      "source": [
        "with open('labels.txt', 'w') as f:\n",
        "  f.write('\\n'.join(class_names))"
      ],
      "execution_count": 0,
      "outputs": []
    },
    {
      "cell_type": "markdown",
      "metadata": {
        "id": "nWHUnQAU6WSb",
        "colab_type": "text"
      },
      "source": [
        "## মডেলকে ডাউনলোড করে রাখি\n",
        "\n",
        "আমাদের দরকার দুটো ফাইল। tflite_model_file এবং labels.txt। "
      ]
    },
    {
      "cell_type": "code",
      "metadata": {
        "id": "0mFUwJME6FVx",
        "colab_type": "code",
        "colab": {}
      },
      "source": [
        "try:\n",
        "  from google.colab import files\n",
        "\n",
        "  files.download(tflite_model_file)\n",
        "  files.download('labels.txt')\n",
        "except:\n",
        "  pass"
      ],
      "execution_count": 0,
      "outputs": []
    },
    {
      "cell_type": "markdown",
      "metadata": {
        "id": "WEM5sDSXznyR",
        "colab_type": "text"
      },
      "source": [
        "এদুটো ফাইল লাগবে সামনে মোবাইল অ্যাপ তৈরি করতে।"
      ]
    },
    {
      "cell_type": "markdown",
      "metadata": {
        "id": "MIv5RyKyK6ld",
        "colab_type": "text"
      },
      "source": [
        "## টেন্সর-ফ্লো এর ডেটাসেট এপিআই\n",
        "\n",
        "টেন্সর-ফ্লো ২ থেকে আমরা চেষ্টা করবো tf.data এপিআই ব্যবহার করতে tf.keras এর সাথে। সাইকিট লার্নের মতো আগে থেকে দেয়া ডেটাসেটের সাথে এই tf.data.Dataset ব্যবহার করলে ম্যাপ কল দিয়ে ইমেজ অগমেন্টেশন (এই বইয়ের বাইরে) থেকে শুরু করে অনেককিছুই একবারে করা সম্ভব।\n",
        "\n",
        "আমাদের tfds.load সঙ্গে সঙ্গে ডেটা ডাউনলোড করে ট্রেইন এবং টেস্ট ভাগ করে দেবে আগের উদাহরণের কেরাসের মতো। তবে এখানে ডেটাটাইপটা একটু ভিন্ন। ডেটাসেট বিল্ডার হিসেবে tfds.load অনেক অপারেশন সহজ করে দেবে দরকার মতো।"
      ]
    },
    {
      "cell_type": "code",
      "metadata": {
        "colab_type": "code",
        "id": "KHk65KPszsD0",
        "colab": {}
      },
      "source": [
        "# আমরা আমরা এভাবেও চেষ্টা করতে পারি, টেন্সর-ফ্লো এর ডেটাসেট এপিআই দিয়ে\n",
        "# সামনে আমরা এটা নিয়ে বড় আলাপ করবো, তবে এখানে একটু পরীক্ষা করতে ক্ষতি কি? \n",
        "# tfds হচ্ছে টেন্সর ফ্লোতে প্র্যাকটিস করার জন্য তৈরি করা ডেটাসেট, সাইকিট লার্নে যেভাবে দেখেছিলাম\n",
        "\n",
        "import tensorflow_datasets as tfds\n",
        "train, test = tfds.load(\"fashion_mnist\", as_supervised=True)"
      ],
      "execution_count": 0,
      "outputs": []
    },
    {
      "cell_type": "markdown",
      "metadata": {
        "id": "LF9vWscp3eTz",
        "colab_type": "text"
      },
      "source": [
        "টেন্সর-ফ্লো ডেটাসেট নিয়ে কাজ করলে স্প্লিটিং এ সুবিধা অনেক। এ ব্যাপারগুলোকে tfds.Split অবজেক্ট ব্যবহার করে ডিফাইন করা যায়। ডিফল্ট হিসেবে ৬০০০০ ট্রেইন অবজেক্ট এবং ১০০০০ টেস্ট অবজেক্ট স্প্লিট এর জন্য tfds.Split.TRAIN এবং tfds.Split.TEST অবজেক্ট ব্যবহার করা যায়। পাশাপাশি অনেকে ভ্যালিডেশন অবজেক্টের জন্য tfds.Split.VALID ব্যবহার করেন।"
      ]
    },
    {
      "cell_type": "code",
      "metadata": {
        "id": "GSQQJbxNFY4V",
        "colab_type": "code",
        "colab": {}
      },
      "source": [
        "# শুধুমাত্র টেস্ট করার জন্য\n",
        "\n",
        "# train_half_1, train_half_2 = tfds.Split.TRAIN.subsplit(2)\n",
        "# test1, test2, test3, test4 = tfds.Split.TEST.subsplit(4)\n",
        "\n",
        "# train_first_half = tfds.load(\"fashion-mnist\", split=train_half_1)\n",
        "# test_second_quarter = tfds.load(\"fashion-mnist\", split=test2)\n",
        "\n",
        "# আচ্ছা শতাংশ হিসেবে কি স্প্লিট করা যায়?\n",
        "# first_10_percent = tfds.Split.TRAIN.subsplit(tfds.percent[:10])\n",
        "\n",
        "# আচ্ছা, দুটো স্প্লিটকে যোগ করা যায়?\n",
        "# train_and_test = tfds.Split.TRAIN + tfds.Split.TEST"
      ],
      "execution_count": 0,
      "outputs": []
    },
    {
      "cell_type": "markdown",
      "metadata": {
        "id": "ap4onKAhFiLA",
        "colab_type": "text"
      },
      "source": [
        "আরেকটা জিনিস দেখা যায়। tfds.builder দিয়ে।"
      ]
    },
    {
      "cell_type": "code",
      "metadata": {
        "id": "VDB8zhQsFoIP",
        "colab_type": "code",
        "outputId": "9cdfec82-dccf-4b97-c3ca-c969438e8c9d",
        "colab": {
          "base_uri": "https://localhost:8080/",
          "height": 661
        }
      },
      "source": [
        "mnist_builder = tfds.builder(\"fashion_mnist\")\n",
        "mnist_builder.download_and_prepare()\n",
        "mnist_data = mnist_builder.as_dataset(split = tfds.Split.TRAIN)\n",
        "info = mnist_builder.info\n",
        "\n",
        "# নামপাই অ্যারে দিয়ে\n",
        "np_mnist_data = tfds.as_numpy(mnist_data)\n",
        "\n",
        "print(mnist_data)\n",
        "\n",
        "print(np_mnist_data)\n",
        "\n",
        "print(info)"
      ],
      "execution_count": 56,
      "outputs": [
        {
          "output_type": "stream",
          "text": [
            "<_OptionsDataset shapes: {image: (28, 28, 1), label: ()}, types: {image: tf.uint8, label: tf.int64}>\n",
            "<generator object _eager_dataset_iterator at 0x7f8f202314c0>\n",
            "tfds.core.DatasetInfo(\n",
            "    name='fashion_mnist',\n",
            "    version=1.0.0,\n",
            "    description='Fashion-MNIST is a dataset of Zalando's article images consisting of a training set of 60,000 examples and a test set of 10,000 examples. Each example is a 28x28 grayscale image, associated with a label from 10 classes.',\n",
            "    homepage='https://github.com/zalandoresearch/fashion-mnist',\n",
            "    features=FeaturesDict({\n",
            "        'image': Image(shape=(28, 28, 1), dtype=tf.uint8),\n",
            "        'label': ClassLabel(shape=(), dtype=tf.int64, num_classes=10),\n",
            "    }),\n",
            "    total_num_examples=70000,\n",
            "    splits={\n",
            "        'test': 10000,\n",
            "        'train': 60000,\n",
            "    },\n",
            "    supervised_keys=('image', 'label'),\n",
            "    citation=\"\"\"@article{DBLP:journals/corr/abs-1708-07747,\n",
            "      author    = {Han Xiao and\n",
            "                   Kashif Rasul and\n",
            "                   Roland Vollgraf},\n",
            "      title     = {Fashion-MNIST: a Novel Image Dataset for Benchmarking Machine Learning\n",
            "                   Algorithms},\n",
            "      journal   = {CoRR},\n",
            "      volume    = {abs/1708.07747},\n",
            "      year      = {2017},\n",
            "      url       = {http://arxiv.org/abs/1708.07747},\n",
            "      archivePrefix = {arXiv},\n",
            "      eprint    = {1708.07747},\n",
            "      timestamp = {Mon, 13 Aug 2018 16:47:27 +0200},\n",
            "      biburl    = {https://dblp.org/rec/bib/journals/corr/abs-1708-07747},\n",
            "      bibsource = {dblp computer science bibliography, https://dblp.org}\n",
            "    }\"\"\",\n",
            "    redistribution_info=,\n",
            ")\n",
            "\n"
          ],
          "name": "stdout"
        }
      ]
    },
    {
      "cell_type": "markdown",
      "metadata": {
        "id": "zk0lZNEM_fqP",
        "colab_type": "text"
      },
      "source": [
        "## ডেটাসেটে কি আছে?"
      ]
    },
    {
      "cell_type": "code",
      "metadata": {
        "id": "QRCpuGxXFyfM",
        "colab_type": "code",
        "colab": {}
      },
      "source": [
        "# ফিচার ডিকশনারি দেখার জন্য\n",
        "for features in mnist_data.take(1):\n",
        "    image, label = features[\"image\"], features[\"label\"]"
      ],
      "execution_count": 0,
      "outputs": []
    },
    {
      "cell_type": "code",
      "metadata": {
        "id": "H2KJYTRVHQD-",
        "colab_type": "code",
        "colab": {}
      },
      "source": [
        "# অথবা numpy দিয়ে\n",
        "for features in tfds.as_numpy(mnist_data):\n",
        "    image, label = features[\"image\"], features[\"label\"]"
      ],
      "execution_count": 0,
      "outputs": []
    },
    {
      "cell_type": "code",
      "metadata": {
        "id": "2nR3huz8HWlP",
        "colab_type": "code",
        "outputId": "b1b5aad4-1de0-4f78-db35-7fffc44c3602",
        "colab": {
          "base_uri": "https://localhost:8080/",
          "height": 283
        }
      },
      "source": [
        "plt.imshow(image[:, :, 0].astype(np.float32), \n",
        "           cmap = plt.get_cmap(\"gray\"))\n",
        "print(\"Label: %d\" % label)"
      ],
      "execution_count": 59,
      "outputs": [
        {
          "output_type": "stream",
          "text": [
            "Label: 9\n"
          ],
          "name": "stdout"
        },
        {
          "output_type": "display_data",
          "data": {
            "image/png": "[encoded data removed]",
            "text/plain": [
              "<Figure size 432x288 with 1 Axes>"
            ]
          },
          "metadata": {
            "tags": []
          }
        }
      ]
    }
  ]
}