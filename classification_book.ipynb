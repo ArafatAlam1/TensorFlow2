{
  "nbformat": 4,
  "nbformat_minor": 0,
  "metadata": {
    "colab": {
      "name": "classification_book.ipynb",
      "provenance": [],
      "collapsed_sections": [],
      "include_colab_link": true
    },
    "kernelspec": {
      "name": "python3",
      "display_name": "Python 3"
    },
    "language_info": {
      "codemirror_mode": {
        "name": "ipython",
        "version": 3
      },
      "file_extension": ".py",
      "mimetype": "text/x-python",
      "name": "python",
      "nbconvert_exporter": "python",
      "pygments_lexer": "ipython3",
      "version": "3.6.3"
    },
    "accelerator": "GPU"
  },
  "cells": [
    {
      "cell_type": "markdown",
      "metadata": {
        "id": "view-in-github",
        "colab_type": "text"
      },
      "source": [
        "<a href=\"https://colab.research.google.com/github/raqueeb/TensorFlow2/blob/master/classification_book.ipynb\" target=\"_parent\"><img src=\"https://colab.research.google.com/assets/colab-badge.svg\" alt=\"Open In Colab\"/></a>"
      ]
    },
    {
      "cell_type": "markdown",
      "metadata": {
        "colab_type": "text",
        "id": "jYysdyb-CaWM"
      },
      "source": [
        "## লাইফস্টাইল প্রোডাক্টের ক্লাসিফিকেশন\n",
        "###  ফ্যাশন MNIST ডেটাসেট\n",
        "\n",
        "(ছবিগুলো আপডেট হবে বাংলায় - ধন্যবাদ উডাসিটি, কোর্সেরা, ডিপমাইন্ড, টেন্সর-ফ্লো সাইট)"
      ]
    },
    {
      "cell_type": "markdown",
      "metadata": {
        "colab_type": "text",
        "id": "FbVhjPpzn6BM"
      },
      "source": [
        "আমরা যে এক্সারসাইজটা করলাম ঝিঝিপোকার ডাক নিয়ে সেটা কিন্তু ডিপ লার্নিং এর কোন অংশ নয়, তবে সাধারণ একটা মেশিন লার্নিং সমস্যাকে ডিপ লার্নিং ফ্রেমওয়ার্কে সমাধান করার চেষ্টা করেছি মাত্র। ডিপ লার্নিং ফ্রেমওয়ার্কের কাজ আমরা দেখব অন্যান্য ক্ষেত্রে। এর আগের সমস্যাটা ছিল রিগ্রেশন, যেখানে আমরা কন্টিনিউয়াস ভেরিয়েবলের ইনপুট এর সাপেক্ষে আরেকটা কন্টিনিউয়াস আউটপুট পেয়েছি। ১৫ সেকেন্ড ডাকের সংখ্যার সাথে তাপমাত্রা। দুটোই কন্টিনিয়াস ভেরিয়েবল। এখন আমরা একটা ক্লাসিফিকেশন প্রবলেম দেখব। তবে সেটা সাধারণ ক্লাসিফিকেশন নয়, বরং ইমেজ সংক্রান্ত। ডিপ লার্নিং এর হ্যালো ওয়ার্ল্ড, মানে যে এক্সারসাইজটা দিয়ে সবাই শুরু করে সেটাকে আমরা বলি MNIST ডাটা সেট। হাতে লেখা ইংরেজি অক্ষরকে ঠিকমতো চেনার জন্য এই এক্সারসাইজটা শুরুর জন্য সবারই পছন্দের। কম্পিউটার ভিশনের সবচেয়ে প্রথম এক্সাইজ বলে সবাই চেনে তাকে। তবে, আমরা একই জিনিস করছি একটু নতুন কিছুটা কমপ্লেক্স ডেটাসেটে। \n",
        "\n",
        "আমাদের এই এক্সারসাইজটা ব্যবহার ব্যবহার করছে কেরাস [tf.keras](https://www.tensorflow.org/guide/keras), একটা হাই-লেভেল এপিআই যা টেন্সর-ফ্লোএর কমপ্লেক্সিটি লুকিয়ে রাখে। টেন্সর-ফ্লো এর শুরুতেই একটা হাই-লেভেল এপিআই দরকার ছিলো যাতে নতুন ব্যবহারকারীরা ভয় না পান। আসলেই তাই। আমাদের এই হাই-লেভেল এপিআই হিসেবে কেরাস এতো জনপ্রিয় যে টেন্সর-ফ্লো ২.০ থেকে এটা অফিসিয়াল হয়ে গেছে। সেকারণে এটা tf.keras, মানে টেন্সর-ফ্লো এর সাথে চলে এসেছে ইনস্টলেশনের সাথে সাথে। "
      ]
    },
    {
      "cell_type": "code",
      "metadata": {
        "colab_type": "code",
        "id": "jL3OqFKZ9dFg",
        "outputId": "9d248fad-7cd1-4c0d-cc91-033f535658f6",
        "colab": {
          "base_uri": "https://localhost:8080/",
          "height": 35
        }
      },
      "source": [
        "try:\n",
        "  # শুধুমাত্র কোলাব এবং জুপিটার নোটবুকে চেষ্টা করবো টেন্সর-ফ্লো ২.০ এর জন্য\n",
        "  %tensorflow_version 2.x\n",
        "except Exception:\n",
        "  pass"
      ],
      "execution_count": 1,
      "outputs": [
        {
          "output_type": "stream",
          "text": [
            "TensorFlow 2.x selected.\n"
          ],
          "name": "stdout"
        }
      ]
    },
    {
      "cell_type": "markdown",
      "metadata": {
        "id": "NjSdrl-XCB7O",
        "colab_type": "text"
      },
      "source": [
        "টেন্সর-ফ্লো ১.x এ জিনিসটা সেরকম পাইথনিক (মানে কাজের সঙ্গে সঙ্গে রেজাল্ট দেখা) ছিলো না। তবে এখন সেটা অনেক পাইথনিক, অর্থাৎ কমান্ডের সাথে সাথে রেজাল্ট দেখতে পারছি tf.executing_eagerly() এর জন্য। সেকারণে tf.executing_eagerly()কে ‘সত্যি’ বলে ধরে নিচ্ছি। "
      ]
    },
    {
      "cell_type": "code",
      "metadata": {
        "colab_type": "code",
        "id": "dzLKpmZICaWN",
        "outputId": "5f76c172-92a7-4aaa-a3e2-2d620b1e1599",
        "colab": {
          "base_uri": "https://localhost:8080/",
          "height": 141
        }
      },
      "source": [
        "# টেন্সর-ফ্লো এবং কেরাসকে ইমপোর্ট করছি\n",
        "import tensorflow as tf\n",
        "from tensorflow import keras\n",
        "\n",
        "# কিছু হেলপার লাইব্রেরি\n",
        "import numpy as np\n",
        "import matplotlib.pyplot as plt\n",
        "\n",
        "# স্ট্যাটাস দেখি সিস্টেমের \n",
        "print(\"Version: \", tf.__version__)\n",
        "print(\"Eager mode: \", tf.executing_eagerly())\n",
        "# print(\"Hub version: \", hub.__version__)\n",
        "print(\"GPU is\", \"available\" if tf.test.is_gpu_available() else \"NOT AVAILABLE\")"
      ],
      "execution_count": 2,
      "outputs": [
        {
          "output_type": "stream",
          "text": [
            "Version:  2.1.0-rc1\n",
            "Eager mode:  True\n",
            "WARNING:tensorflow:From <ipython-input-2-285824d66924>:12: is_gpu_available (from tensorflow.python.framework.test_util) is deprecated and will be removed in a future version.\n",
            "Instructions for updating:\n",
            "Use `tf.config.list_physical_devices('GPU')` instead.\n",
            "GPU is available\n"
          ],
          "name": "stdout"
        }
      ]
    },
    {
      "cell_type": "markdown",
      "metadata": {
        "colab_type": "text",
        "id": "yR0EdgrLCaWR"
      },
      "source": [
        "## ফ্যাশন MNIST ডেটাসেট ইমপোর্ট করছি"
      ]
    },
    {
      "cell_type": "markdown",
      "metadata": {
        "colab_type": "text",
        "id": "DLdCchMdCaWQ"
      },
      "source": [
        "এখন আমরা পুরোদস্তুর লাইফস্টাইল ব্যবসায়ী হয়ে গেছি। আমাদের কাছে হাজারো হাজারো কাপড়চোপড়, টিশার্ট, জুতা, স্নিকার্স, আরো বেশ কিছু জিনিস চলে এসেছে শোরুমে দেবার জন্য। কিন্তু আপনি নাছোড়বান্দা,বললেন ক্যাটালগিং ছাড়া এগুলো শোরুমে উঠানোটা ঠিক হবে না। আর এই ক্যাটালগিং আমরা হাতেকলমে করতে চাইনা। এক একটা জিনিস ধরবো ক্যামেরার সামনে, সে নিজে থেকেই ঠিকমতো ক্লাসিফাই করবে কোনটা কি জিনিস। মেশিনে ঠিকমতো আইডেন্টিফাই করতে পারলে আমাদের সমস্যা মিটে যাবে। আপনার দরকার একটা ডিপ লার্নিং মডেল। আপনার উর্দ্ধতন কর্মকর্তা বললেন, আমি ব্যাপারটা ঠিক বুঝি না, আমাকে কি একটা ডেমো দেখানো যাবে? অবশ্যই দেখানো যাবে। ৭০,০০০ গ্রে-স্কেল স্যাম্পল আছে আমাদের [Fashion MNIST](https://github.com/zalandoresearch/fashion-mnist) ডেটাসেটে। \n",
        "\n",
        "** ২৮ X ২৮ পিক্সেল = ৭৬৮ বাইট **\n",
        "\n",
        "** ১০টা ক্যাটেগরি **\n",
        "<table>\n",
        "  <tr><td>\n",
        "    <img src=\"https://tensorflow.org/images/fashion-mnist-sprite.png\"\n",
        "         alt=\"Fashion MNIST sprite\"  width=\"600\">\n",
        "  </td></tr>\n",
        "  <tr><td align=\"center\">\n",
        "    <b>Figure 1.</b> <a href=\"https://github.com/zalandoresearch/fashion-mnist\">Fashion-MNIST samples</a> (by Zalando, MIT License).<br/>&nbsp;\n",
        "  </td></tr>\n",
        "</table>\n",
        "আর সে কারণেই আমরা দ্বারস্থ হলাম ফ্যাশন MNIST ডাটাসেটের কাছে। ব্যাপারটা সাধারণ MNIST এর সকল কোড সাপোর্ট করে, তবে ফ্যাশন MNIST বেশকিছু কমপ্লেক্স। এখানে প্রায় ৭০ হাজার স্যাম্পল আছে, তার মধ্যে দশ হাজার ইমেজকে ব্যবহার করব টেস্টসেট হিসেবে, আমাদের নেটওয়ার্ক কতটুকু শিখেছে ইমেজকে ঠিকমতো ক্লাসিফাই করার জন্য। এই ইমেজগুলোর রেজুলেশন ২৮x২৮ পিক্সেল। ছবিতে দেখুন শুরুতেই টি-শার্ট টপ, মাঝখানে স্যান্ডেল, শেষের দিকে এঙ্কেল বুটস। নিচের ছবিতে দেখুন যে দশটা আইটেম আছে আমাদের এই ডাটাসেটে। এর পাশাপাশি আমরা সংখ্যায় লেবেল দিয়েছি ০ থেকে ৯ পর্যন্ত। আপনি বুঝে গেছেন যে আমাদের ডিপ লার্নিং নেটওয়ার্ককে ট্রেইন করার জন্য ইমেজ আছে ৬০০০০। \n",
        "\n",
        "যেহেতু প্রতিটা ইমেজ ২৮x২৮ গ্রেস্কেল ইমেজ, এর সাইজ হচ্ছে ৭৮৪ বাইট (দুটোকে গুন দিলে যা হয়)। তার মানে হচ্ছে এর পিক্সএল ইনটেনসিটি শূন্য থেকে ২৫৫ পর্যন্ত। ইনপুট হিসেবে থাকবে এই ২৮x২৮ পিক্সেলের ছবি, মাঝখানে থাকবে আমাদের ডিপ নিউরাল নেটওয়ার্ক। এখন আমাদের নিউরাল নেটওয়ার্ক ইনপুট হিসেবে ৭৮৪ বাইটকে নেবে, মাঝখানে সে জাদুর ছড়ি ঘুরিয়ে শেষে ক্লাসিফাই করে দেবে একেকটা ইমেজ - যা আসলে যেকোন দশটা আইটেমের একটা আইটেম হবে।"
      ]
    },
    {
      "cell_type": "markdown",
      "metadata": {
        "id": "0fKRao7xG8mT",
        "colab_type": "text"
      },
      "source": [
        "## ছবিতে কি কি আছে?\n",
        "\n",
        "ভালো করে নিচের ছবিটা দেখি। ছবিতে আলাদা করতে পারবেন এলিমেন্টগুলোকে?\n",
        "\n",
        "<img src=\"https://raw.githubusercontent.com/raqueeb/deep_learning_book/master/start-page/cat1.png\"\n",
        "         alt=\"Fashion MNIST sprite\"  width=\"600\">"
      ]
    },
    {
      "cell_type": "markdown",
      "metadata": {
        "colab_type": "text",
        "id": "OX78HVzGzsDv"
      },
      "source": [
        "## ডেটাসেট আছে tf.keras.datasets এ fashion_mnist হিসেবে "
      ]
    },
    {
      "cell_type": "markdown",
      "metadata": {
        "colab_type": "text",
        "id": "6Y3zaQEBzsDw"
      },
      "source": [
        "আমরা লোড ডাটাকে কল করলে নিয়ে আসবে দুই সেটের দুটো লিস্ট। ট্রেনিং এবং টেস্ট সেট। তার ভেতরে একটা কাপড় চোপড়ের ছবি, আরেকটা তার লেবেল মানে কোনটা কি?"
      ]
    },
    {
      "cell_type": "code",
      "metadata": {
        "colab_type": "code",
        "id": "7MqDQO0KCaWS",
        "colab": {}
      },
      "source": [
        "# কেরাসের দিয়ে স্যাম্পল ডেটাসেটে অ্যাক্সেস করছি, সাইকিট লার্নের মতো করে, ট্রেইন / টেস্ট স্প্লিট করে\n",
        "\n",
        "fashion_mnist = tf.keras.datasets.fashion_mnist\n",
        "(X_train, y_train), (X_test, y_test) = fashion_mnist.load_data()"
      ],
      "execution_count": 0,
      "outputs": []
    },
    {
      "cell_type": "markdown",
      "metadata": {
        "id": "UpirGcn3Ac61",
        "colab_type": "text"
      },
      "source": [
        "## কেরাস দিয়ে স্যাম্পল ডেটাসেটে অ্যাক্সেস\n",
        "\n",
        "আমি একটু সময় নেব টেন্সর-ফ্লো ডেটাসেট (TFDS) নিয়ে কাজ করতে। আমি চাইবো আপনারা যাতে এই ফরম্যাটের সাথে পরিচিতি পান, পাশাপাশি এটা নিয়ে একটা চ্যাপ্টার থাকবে। এই চ্যাপ্টারের নিচের দিকে কিছু প্র্যাকটিস করবো এই ডেটাসেটে।\n",
        "\n",
        "টেন্সর-ফ্লো অফিসিয়াল গাইডে এই ধারণাটা ভালো লেগেছে। X_trainকে আমরা বলছি train_images যেখানে আসলেই ট্রেনিং ইমেজ আছে। আসল ছবি। পাশাপাশি y_trainকে বলছি train_labels যা আসলে লেবেলের অ্যারে যার মধ্যে সংখ্যা আছে। মানে ওই জিনিসটা কোন প্রোডাক্ট। সে হিসেবে X_test এবং y_testকে আমরা test_images এবং test_labels হিসেবে বলছি যাতে ব্যাপারটা সহজে বোঝা যায়। আমি (X_train, y_train), (X_test, y_test) কনসেপ্টটা বাদ দেবো না, কারণ এটা এখনো ট্রেইন/টেস্ট স্প্লিটের ডিফ্যাক্টো স্ট্যান্ডার্ড।\n",
        "\n",
        "(train_images, train_labels), (test_images, test_labels) মানে - এই load_data() পাইথন দুটো ‘টুপল’ জেনারেট করছে, যা লিস্টের মতো তবে পরিবর্তনযোগ্য নয়। মনে আছে আমরা এই কাজটি সাইকিট লার্নে করেছিলাম প্রি-ডিফাইন্ড ডেটাসেট লোড করার জন্য।\n"
      ]
    },
    {
      "cell_type": "code",
      "metadata": {
        "id": "lbM3x7eVBXjL",
        "colab_type": "code",
        "colab": {}
      },
      "source": [
        "fashion_mnist = tf.keras.datasets.fashion_mnist\n",
        "# (X_train, y_train), (X_test, y_test) = fashion_mnist.load_data()\n",
        "\n",
        "(train_images, train_labels), (test_images, test_labels) = fashion_mnist.load_data()"
      ],
      "execution_count": 0,
      "outputs": []
    },
    {
      "cell_type": "markdown",
      "metadata": {
        "colab_type": "text",
        "id": "3uc7WwU5zsD3"
      },
      "source": [
        "## ডেটাসেট লোড করে কি পাবো?"
      ]
    },
    {
      "cell_type": "markdown",
      "metadata": {
        "colab_type": "text",
        "id": "t9FDsUlxCaWW"
      },
      "source": [
        "ডেটাসেট লোড করতে গিয়ে চারটা নামপাই অ্যারে পাচ্ছি। \n",
        "\n",
        "\n",
        "* এখানে `train_images` এবং `train_labels` অ্যারে দুটো আমাদের ট্রেনিং সেট — এগুলোকে আমরা ব্যবহার করবো মডেলকে ট্রেনিং করানোর জন্য। \n",
        "* মডেলকে টেস্ট করবো টেস্ট সেট দিয়ে। এই দুটো অ্যারে হিসেবে `test_images`, এবং `test_labels`।\n",
        "\n",
        "আমাদের ছবিগুলো ২৮x২৮ নামপাই অ্যারে যার পিক্সেল ভ্যালু ০ থেকে ২৫৫ এর মধ্যে। এখানে লেবেলগুলো ইন্টেজারের অ্যারে, ০ থেকে ৯ পর্যন্ত। তার করেসপন্ডিং ছবিগুলোর নাম দেখুন এখানে। \n",
        "\n",
        "<table>\n",
        "  <tr>\n",
        "    <th>Label</th>\n",
        "    <th>Class</th>\n",
        "  </tr>\n",
        "  <tr>\n",
        "    <td>0</td>\n",
        "    <td>T-shirt/top</td>\n",
        "  </tr>\n",
        "  <tr>\n",
        "    <td>1</td>\n",
        "    <td>Trouser</td>\n",
        "  </tr>\n",
        "    <tr>\n",
        "    <td>2</td>\n",
        "    <td>Pullover</td>\n",
        "  </tr>\n",
        "    <tr>\n",
        "    <td>3</td>\n",
        "    <td>Dress</td>\n",
        "  </tr>\n",
        "    <tr>\n",
        "    <td>4</td>\n",
        "    <td>Coat</td>\n",
        "  </tr>\n",
        "    <tr>\n",
        "    <td>5</td>\n",
        "    <td>Sandal</td>\n",
        "  </tr>\n",
        "    <tr>\n",
        "    <td>6</td>\n",
        "    <td>Shirt</td>\n",
        "  </tr>\n",
        "    <tr>\n",
        "    <td>7</td>\n",
        "    <td>Sneaker</td>\n",
        "  </tr>\n",
        "    <tr>\n",
        "    <td>8</td>\n",
        "    <td>Bag</td>\n",
        "  </tr>\n",
        "    <tr>\n",
        "    <td>9</td>\n",
        "    <td>Ankle boot</td>\n",
        "  </tr>\n",
        "</table>\n",
        "\n",
        "প্রতিটা ছবি কিন্তু ম্যাপিং করা আছে একেকটা লেবেলে। একটা ক্লাস নাম দিয়ে রাখি পরে ব্যবহার করতে। প্লটিং এবং টেন্সর-ফ্লো লাইটের সময়ে লাগবে। মনে থাকবে তো \"টেন্সর-ফ্লো লাইট\" এর জন্য? পরে আসবে।"
      ]
    },
    {
      "cell_type": "code",
      "metadata": {
        "colab_type": "code",
        "id": "IjnLH5S2CaWx",
        "colab": {}
      },
      "source": [
        "class_names = ['T-shirt/top', 'Trouser', 'Pullover', 'Dress', 'Coat',\n",
        "               'Sandal', 'Shirt', 'Sneaker', 'Bag', 'Ankle boot']"
      ],
      "execution_count": 0,
      "outputs": []
    },
    {
      "cell_type": "markdown",
      "metadata": {
        "colab_type": "text",
        "id": "Brm0b_KACaWX"
      },
      "source": [
        "## এক্সপ্লোরেটরি ডেটা অ্যানালাইসিস\n",
        "\n",
        "ডেটাগুলোকে একটু নেড়েচেড়ে দেখি। এটা একটা ভালো প্র্যাকটিস - ডেটাকে চিনতে। এখানে দেখছি ৬০,০০০ ছবি, ট্রেনিং সেটে। ২৮x২৮ পিক্সেল, ০ থেকে ৯ লেবেল। বাকি ১০,০০০ টেস্ট ছবি, পরীক্ষা করার জন্য। \n",
        "\n",
        "<img src=\"https://raw.githubusercontent.com/raqueeb/deep_learning_book/master/start-page/cat2.png\"\n",
        "         alt=\"Fashion MNIST sprite\"  width=\"600\">"
      ]
    },
    {
      "cell_type": "code",
      "metadata": {
        "id": "cupTUYW_DcFs",
        "colab_type": "code",
        "outputId": "94a108ec-0a73-4b77-ea41-e770c6d7d93a",
        "colab": {
          "base_uri": "https://localhost:8080/",
          "height": 35
        }
      },
      "source": [
        "# অবজেক্টটা কি? \n",
        "# এটা ডাউনলোড হয়েছে টেন্সর-ফ্লো মডিউল TFModuleWrapper হিসেবে।\n",
        "\n",
        "type(fashion_mnist)"
      ],
      "execution_count": 6,
      "outputs": [
        {
          "output_type": "execute_result",
          "data": {
            "text/plain": [
              "module"
            ]
          },
          "metadata": {
            "tags": []
          },
          "execution_count": 6
        }
      ]
    },
    {
      "cell_type": "code",
      "metadata": {
        "colab_type": "code",
        "id": "zW5k_xz1CaWX",
        "outputId": "11a66677-ff88-4ac5-810a-acfad02de0e2",
        "colab": {
          "base_uri": "https://localhost:8080/",
          "height": 35
        }
      },
      "source": [
        "train_images.shape"
      ],
      "execution_count": 7,
      "outputs": [
        {
          "output_type": "execute_result",
          "data": {
            "text/plain": [
              "(60000, 28, 28)"
            ]
          },
          "metadata": {
            "tags": []
          },
          "execution_count": 7
        }
      ]
    },
    {
      "cell_type": "markdown",
      "metadata": {
        "colab_type": "text",
        "id": "cIAcvQqMCaWf"
      },
      "source": [
        "৬০,০০০ লেবেলও আছে সঙ্গে।"
      ]
    },
    {
      "cell_type": "code",
      "metadata": {
        "colab_type": "code",
        "id": "TRFYHB2mCaWb",
        "outputId": "3f29fbd1-2d41-45a6-f915-fbd9a7ceec26",
        "colab": {
          "base_uri": "https://localhost:8080/",
          "height": 35
        }
      },
      "source": [
        "len(train_labels)"
      ],
      "execution_count": 8,
      "outputs": [
        {
          "output_type": "execute_result",
          "data": {
            "text/plain": [
              "60000"
            ]
          },
          "metadata": {
            "tags": []
          },
          "execution_count": 8
        }
      ]
    },
    {
      "cell_type": "markdown",
      "metadata": {
        "colab_type": "text",
        "id": "YSlYxFuRCaWk"
      },
      "source": [
        "০ থেকে ৯ লেবেল সব ইন্টেজার ভ্যালু। "
      ]
    },
    {
      "cell_type": "code",
      "metadata": {
        "colab_type": "code",
        "id": "XKnCTHz4CaWg",
        "outputId": "8467602d-bfde-4470-9964-0d73b293ee70",
        "colab": {
          "base_uri": "https://localhost:8080/",
          "height": 35
        }
      },
      "source": [
        "train_labels"
      ],
      "execution_count": 9,
      "outputs": [
        {
          "output_type": "execute_result",
          "data": {
            "text/plain": [
              "array([9, 0, 0, ..., 3, 0, 5], dtype=uint8)"
            ]
          },
          "metadata": {
            "tags": []
          },
          "execution_count": 9
        }
      ]
    },
    {
      "cell_type": "markdown",
      "metadata": {
        "colab_type": "text",
        "id": "TMPI88iZpO2T"
      },
      "source": [
        "১০,০০০ টেস্ট ছবি। ২৮x২৮ পিক্সেল আছে এখানেও। "
      ]
    },
    {
      "cell_type": "code",
      "metadata": {
        "colab_type": "code",
        "id": "2KFnYlcwCaWl",
        "outputId": "1c51d9e3-dbd2-4820-df38-1a33e928df28",
        "colab": {
          "base_uri": "https://localhost:8080/",
          "height": 35
        }
      },
      "source": [
        "test_images.shape"
      ],
      "execution_count": 10,
      "outputs": [
        {
          "output_type": "execute_result",
          "data": {
            "text/plain": [
              "(10000, 28, 28)"
            ]
          },
          "metadata": {
            "tags": []
          },
          "execution_count": 10
        }
      ]
    },
    {
      "cell_type": "markdown",
      "metadata": {
        "colab_type": "text",
        "id": "rd0A0Iu0CaWq"
      },
      "source": [
        "আছে ১০,০০০ লেবেলও। "
      ]
    },
    {
      "cell_type": "code",
      "metadata": {
        "colab_type": "code",
        "id": "iJmPr5-ACaWn",
        "outputId": "4b111a7b-04fa-43e9-8f9b-3937557ad554",
        "colab": {
          "base_uri": "https://localhost:8080/",
          "height": 35
        }
      },
      "source": [
        "len(test_labels)"
      ],
      "execution_count": 11,
      "outputs": [
        {
          "output_type": "execute_result",
          "data": {
            "text/plain": [
              "10000"
            ]
          },
          "metadata": {
            "tags": []
          },
          "execution_count": 11
        }
      ]
    },
    {
      "cell_type": "markdown",
      "metadata": {
        "id": "BCZSrr0YzsER",
        "colab_type": "text"
      },
      "source": [
        "## ট্রেনিং ছবি এবং তার লেবেল\n",
        "\n",
        "আচ্ছা, এর ভেতরের ডেটাগুলো কেমন দেখতে? আমরা একটা ট্রেনিং ছবি দেখি।  তার সাথে তার লেবেল। "
      ]
    },
    {
      "cell_type": "code",
      "metadata": {
        "colab_type": "code",
        "id": "Sfs4yNNxzsEV",
        "outputId": "7fe7a00f-f7e6-49ec-fd83-c2e312455d5c",
        "colab": {
          "base_uri": "https://localhost:8080/",
          "height": 1000
        }
      },
      "source": [
        "print('Training Lebel:')\n",
        "print(train_labels[0])\n",
        "print('Training Image:')\n",
        "print(train_images[0])"
      ],
      "execution_count": 12,
      "outputs": [
        {
          "output_type": "stream",
          "text": [
            "Training Lebel:\n",
            "9\n",
            "Training Image:\n",
            "[[  0   0   0   0   0   0   0   0   0   0   0   0   0   0   0   0   0   0\n",
            "    0   0   0   0   0   0   0   0   0   0]\n",
            " [  0   0   0   0   0   0   0   0   0   0   0   0   0   0   0   0   0   0\n",
            "    0   0   0   0   0   0   0   0   0   0]\n",
            " [  0   0   0   0   0   0   0   0   0   0   0   0   0   0   0   0   0   0\n",
            "    0   0   0   0   0   0   0   0   0   0]\n",
            " [  0   0   0   0   0   0   0   0   0   0   0   0   1   0   0  13  73   0\n",
            "    0   1   4   0   0   0   0   1   1   0]\n",
            " [  0   0   0   0   0   0   0   0   0   0   0   0   3   0  36 136 127  62\n",
            "   54   0   0   0   1   3   4   0   0   3]\n",
            " [  0   0   0   0   0   0   0   0   0   0   0   0   6   0 102 204 176 134\n",
            "  144 123  23   0   0   0   0  12  10   0]\n",
            " [  0   0   0   0   0   0   0   0   0   0   0   0   0   0 155 236 207 178\n",
            "  107 156 161 109  64  23  77 130  72  15]\n",
            " [  0   0   0   0   0   0   0   0   0   0   0   1   0  69 207 223 218 216\n",
            "  216 163 127 121 122 146 141  88 172  66]\n",
            " [  0   0   0   0   0   0   0   0   0   1   1   1   0 200 232 232 233 229\n",
            "  223 223 215 213 164 127 123 196 229   0]\n",
            " [  0   0   0   0   0   0   0   0   0   0   0   0   0 183 225 216 223 228\n",
            "  235 227 224 222 224 221 223 245 173   0]\n",
            " [  0   0   0   0   0   0   0   0   0   0   0   0   0 193 228 218 213 198\n",
            "  180 212 210 211 213 223 220 243 202   0]\n",
            " [  0   0   0   0   0   0   0   0   0   1   3   0  12 219 220 212 218 192\n",
            "  169 227 208 218 224 212 226 197 209  52]\n",
            " [  0   0   0   0   0   0   0   0   0   0   6   0  99 244 222 220 218 203\n",
            "  198 221 215 213 222 220 245 119 167  56]\n",
            " [  0   0   0   0   0   0   0   0   0   4   0   0  55 236 228 230 228 240\n",
            "  232 213 218 223 234 217 217 209  92   0]\n",
            " [  0   0   1   4   6   7   2   0   0   0   0   0 237 226 217 223 222 219\n",
            "  222 221 216 223 229 215 218 255  77   0]\n",
            " [  0   3   0   0   0   0   0   0   0  62 145 204 228 207 213 221 218 208\n",
            "  211 218 224 223 219 215 224 244 159   0]\n",
            " [  0   0   0   0  18  44  82 107 189 228 220 222 217 226 200 205 211 230\n",
            "  224 234 176 188 250 248 233 238 215   0]\n",
            " [  0  57 187 208 224 221 224 208 204 214 208 209 200 159 245 193 206 223\n",
            "  255 255 221 234 221 211 220 232 246   0]\n",
            " [  3 202 228 224 221 211 211 214 205 205 205 220 240  80 150 255 229 221\n",
            "  188 154 191 210 204 209 222 228 225   0]\n",
            " [ 98 233 198 210 222 229 229 234 249 220 194 215 217 241  65  73 106 117\n",
            "  168 219 221 215 217 223 223 224 229  29]\n",
            " [ 75 204 212 204 193 205 211 225 216 185 197 206 198 213 240 195 227 245\n",
            "  239 223 218 212 209 222 220 221 230  67]\n",
            " [ 48 203 183 194 213 197 185 190 194 192 202 214 219 221 220 236 225 216\n",
            "  199 206 186 181 177 172 181 205 206 115]\n",
            " [  0 122 219 193 179 171 183 196 204 210 213 207 211 210 200 196 194 191\n",
            "  195 191 198 192 176 156 167 177 210  92]\n",
            " [  0   0  74 189 212 191 175 172 175 181 185 188 189 188 193 198 204 209\n",
            "  210 210 211 188 188 194 192 216 170   0]\n",
            " [  2   0   0   0  66 200 222 237 239 242 246 243 244 221 220 193 191 179\n",
            "  182 182 181 176 166 168  99  58   0   0]\n",
            " [  0   0   0   0   0   0   0  40  61  44  72  41  35   0   0   0   0   0\n",
            "    0   0   0   0   0   0   0   0   0   0]\n",
            " [  0   0   0   0   0   0   0   0   0   0   0   0   0   0   0   0   0   0\n",
            "    0   0   0   0   0   0   0   0   0   0]\n",
            " [  0   0   0   0   0   0   0   0   0   0   0   0   0   0   0   0   0   0\n",
            "    0   0   0   0   0   0   0   0   0   0]]\n"
          ],
          "name": "stdout"
        }
      ]
    },
    {
      "cell_type": "code",
      "metadata": {
        "id": "D6sa4ffzDocj",
        "colab_type": "code",
        "outputId": "def995c5-dda9-4d46-b30d-663964c9a249",
        "colab": {
          "base_uri": "https://localhost:8080/",
          "height": 35
        }
      },
      "source": [
        "np.max(train_images)"
      ],
      "execution_count": 13,
      "outputs": [
        {
          "output_type": "execute_result",
          "data": {
            "text/plain": [
              "255"
            ]
          },
          "metadata": {
            "tags": []
          },
          "execution_count": 13
        }
      ]
    },
    {
      "cell_type": "markdown",
      "metadata": {
        "colab_type": "text",
        "id": "ES6uQoLKCaWr"
      },
      "source": [
        "## ডেটার প্রি-প্রসেসিং \n",
        "\n",
        "মনে আছে ডেটা নরমালাইজ করার কথা? যখন ডেটা বেশি ডিস্ট্রিবিউটেড থাকে তখন সেটা কাজ করানো সমস্যা হয়। আমরা যদি প্রথম ছবিটা দেখি, তাহলে বুঝবো সেটার পিক্সেল রেঞ্জ ০ থেকে ২৫৫ পর্যন্ত। \n",
        "\n",
        "ছবিটা দেখি কালারবার সহ। "
      ]
    },
    {
      "cell_type": "code",
      "metadata": {
        "colab_type": "code",
        "id": "m4VEw8Ud9Quh",
        "outputId": "b595afc2-a4cd-4208-fc3e-728f08a96a55",
        "colab": {
          "base_uri": "https://localhost:8080/",
          "height": 265
        }
      },
      "source": [
        "plt.figure()\n",
        "plt.imshow(train_images[0])\n",
        "plt.colorbar()\n",
        "plt.grid(False)\n",
        "plt.show()"
      ],
      "execution_count": 14,
      "outputs": [
        {
          "output_type": "display_data",
          "data": {
            "image/png": "[encoded data removed]",
            "text/plain": [
              "<Figure size 432x288 with 2 Axes>"
            ]
          },
          "metadata": {
            "tags": []
          }
        }
      ]
    },
    {
      "cell_type": "code",
      "metadata": {
        "id": "RsLdjHLlD3Wb",
        "colab_type": "code",
        "outputId": "1149b424-8754-4d3b-e385-35ce25075b61",
        "colab": {
          "base_uri": "https://localhost:8080/",
          "height": 265
        }
      },
      "source": [
        "plt.figure()\n",
        "plt.imshow(train_images[1])\n",
        "plt.colorbar()\n",
        "plt.grid(False)"
      ],
      "execution_count": 15,
      "outputs": [
        {
          "output_type": "display_data",
          "data": {
            "image/png": "[encoded data removed]",
            "text/plain": [
              "<Figure size 432x288 with 2 Axes>"
            ]
          },
          "metadata": {
            "tags": []
          }
        }
      ]
    },
    {
      "cell_type": "markdown",
      "metadata": {
        "colab_type": "text",
        "id": "Wz7l27Lz9S1P"
      },
      "source": [
        "আমাদের ডাটাগুলোকে এমনভাবে প্রি-প্রসেস করতে হবে যাতে সেটা ঠিকমতো কাজ করতে পারে। যেহেতু আমাদের ইনপুট ভ্যারিয়েবলব্গুলো গ্রেস্কেল মানে ০ থেকে ২৫৫ পর্যন্ত রেঞ্জ, সে কারণে আমরা সেটাকে ০ থেকে ১ এর মধ্যে নিয়ে আসব। আমাদের ট্রেনিং এবং টেস্ট সেট দুটোকেই এই নরমালাইজেশন এর মধ্যে নিয়ে আসতে হবে। এটা করার জন্য আমাদেরকে প্রতিটা ইমেজকে ২৫৫ দিয়ে ভাগ করতে হবে। তাহলে সেটা ০ থেকে ১ এর মধ্যে চলে আসবে।\n",
        "\n",
        "পাইথনে সুবিধা হচ্ছে একটা লিস্টকে নর্মালাইজ করতে লুপিং করতে হবে না। "
      ]
    },
    {
      "cell_type": "code",
      "metadata": {
        "colab_type": "code",
        "id": "bW5WzIPlCaWv",
        "colab": {}
      },
      "source": [
        "train_images = train_images / 255.0\n",
        "\n",
        "test_images = test_images / 255.0"
      ],
      "execution_count": 0,
      "outputs": []
    },
    {
      "cell_type": "markdown",
      "metadata": {
        "id": "NFq6YGW0AVGb",
        "colab_type": "text"
      },
      "source": [
        "ভালো করে লক্ষ্য করুন এবার কালার-বারে, ০ থেকে  ২৫৫ হয়ে গেছে ০ থেকে ১ এর মধ্যে। এই নর্মালাইজ ডিপ লার্নিং মডেলকে ভালোভাবে কাজ করতে দেয়।"
      ]
    },
    {
      "cell_type": "code",
      "metadata": {
        "id": "O9_va8FI8l2I",
        "colab_type": "code",
        "outputId": "58948be2-9049-41ea-8344-acb98aaa7e5e",
        "colab": {
          "base_uri": "https://localhost:8080/",
          "height": 287
        }
      },
      "source": [
        "plt.figure()\n",
        "plt.imshow(train_images[1])\n",
        "plt.colorbar()"
      ],
      "execution_count": 17,
      "outputs": [
        {
          "output_type": "execute_result",
          "data": {
            "text/plain": [
              "<matplotlib.colorbar.Colorbar at 0x7ff354060ba8>"
            ]
          },
          "metadata": {
            "tags": []
          },
          "execution_count": 17
        },
        {
          "output_type": "display_data",
          "data": {
            "image/png": "[encoded data removed]",
            "text/plain": [
              "<Figure size 432x288 with 2 Axes>"
            ]
          },
          "metadata": {
            "tags": []
          }
        }
      ]
    },
    {
      "cell_type": "code",
      "metadata": {
        "colab_type": "code",
        "id": "1Yu7t_jpzsEh",
        "colab": {}
      },
      "source": [
        "# আমরা এভাবেও করতে পারি, একটা ফাংশন ডিক্লেয়ার করে, তবে সেটা এখন নয়\n",
        "\n",
        "# def normalize(images, labels):\n",
        "#  images = tf.cast(images, tf.float32)\n",
        "#  images /= 255\n",
        "#  return images, labels"
      ],
      "execution_count": 0,
      "outputs": []
    },
    {
      "cell_type": "markdown",
      "metadata": {
        "colab_type": "text",
        "id": "Ee638AlnCaWz"
      },
      "source": [
        "আমরা দেখতে চাচ্ছি ডেটাগুলো ঠিকমতো ফরম্যাটে আছে কিনা? যেহেতু আমরা এই ডাটাগুলোকে ট্রেনিংয়ে ব্যবহার করবো, সেকারণে প্রথম ২৫টা ছবিকে ডিসপ্লে করি। যেহেতু আমরা আগেই ক্লাস ডিক্লেয়ার করেছিলাম সেকারণে নিচে সেটার নাম দেখা যাবে। "
      ]
    },
    {
      "cell_type": "code",
      "metadata": {
        "colab_type": "code",
        "id": "oZTImqg_CaW1",
        "outputId": "0ae8651a-d8dd-4cfb-c5b3-148ea7810a7e",
        "colab": {
          "base_uri": "https://localhost:8080/",
          "height": 589
        }
      },
      "source": [
        "plt.figure(figsize=(10,10))\n",
        "for i in range(25):\n",
        "    plt.subplot(5,5,i+1)\n",
        "    plt.xticks([])\n",
        "    plt.yticks([])\n",
        "    plt.grid(False)\n",
        "    plt.imshow(train_images[i], cmap=plt.cm.binary)\n",
        "    plt.xlabel(class_names[train_labels[i]])\n",
        "plt.show()"
      ],
      "execution_count": 19,
      "outputs": [
        {
          "output_type": "display_data",
          "data": {
            "image/png": "[encoded data removed]",
            "text/plain": [
              "<Figure size 720x720 with 25 Axes>"
            ]
          },
          "metadata": {
            "tags": []
          }
        }
      ]
    },
    {
      "cell_type": "markdown",
      "metadata": {
        "colab_type": "text",
        "id": "59veuiEZCaW4"
      },
      "source": [
        "## মডেলকে বিল্ড করি \n",
        "\n",
        "আগেও দেখেছি একটা নিউরাল নেটওয়ার্ক তৈরি করতে প্রথমে মডেলের লেয়ার বানাতে হবে। এরপর আসবে কম্পাইলিং। মডেলের কাজ হচ্ছে ইনপুট থেকে ২৮ x ২৮ পিক্সেল মানে ৭৮৪ পিক্সেল থেকে এই নিউরাল নেটওয়ার্কের লেয়ারগুলো শার্ট/ব্যাগ এর মতো আইটেমগুলোকে ক্লাসিফাই করবো। \n",
        "\n",
        "<img src=\"https://raw.githubusercontent.com/raqueeb/deep_learning_book/master/start-page/cat3.png\"\n",
        "         alt=\"Fashion MNIST sprite\"  width=\"600\">"
      ]
    },
    {
      "cell_type": "markdown",
      "metadata": {
        "colab_type": "text",
        "id": "Gxg1XGm0eOBy"
      },
      "source": [
        "### লেয়ারগুলোকে সেট করি\n",
        "\n",
        "একটা নিউরাল নেটওয়ার্কের বেসিক বিল্ডিং ব্লক হচ্ছে তার লেয়ার। এই লেয়ারগুলো বিভিন্ন ফিচার এক্সট্রাক্ট করে রিপ্রেজেন্টেশন এর মাধ্যমে। ইনপুট ডাটা থেকে। যেহেতু একেকটার লেয়ার আরেকটা লেয়ারের সাথে সিকুয়েন্সিয়াল, সে কারণেই ডেন্স `tf.keras.layers.Dense` ব্যবহার করছি। এর ভেতরের ইন্টারনাল প্যারামিটারগুলো নিজে থেকেই এডজাস্ট হয় মানে শেখে এই ট্রেনিং এর সময়। "
      ]
    },
    {
      "cell_type": "code",
      "metadata": {
        "colab_type": "code",
        "id": "9ODch-OFCaW4",
        "colab": {}
      },
      "source": [
        "model = keras.Sequential([\n",
        "    keras.layers.Flatten(input_shape=(28, 28)),\n",
        "    keras.layers.Dense(128, activation='relu'),\n",
        "    keras.layers.Dense(10, activation='softmax')\n",
        "])"
      ],
      "execution_count": 0,
      "outputs": []
    },
    {
      "cell_type": "markdown",
      "metadata": {
        "colab_type": "text",
        "id": "gut8A_7rCaW6"
      },
      "source": [
        "আমাদের এই নেটওয়ার্কটা তিনটা লেয়ারের, ছবি দেখুন। \n",
        "\n",
        "<img src=\"https://raw.githubusercontent.com/raqueeb/deep_learning_book/master/start-page/cat5.1.png\"\n",
        "         alt=\"Fashion MNIST sprite\"  width=\"600\"> ছবি: সবগুলো ক্লাসের প্রোবাবিলিটি যোগ করলে সেটা ১ হবে মানে ১০০%\n",
        "\n",
        "* **ইনপুট লেয়ার** - প্রথম লেয়ারটার কাজ বেশ মজার। এর কাজ হচ্ছে ইনপুটকে ফ্ল্যাট করে দেয়া - `tf.keras.layers.Flatten`। আমাদের ইনপুট হিসেবে যে ইমেজ আছে সেটা কিন্তু একটা ২ ডাইমেনশনের অ্যারে মানে ২৮ x ২৮ পিক্সেল। বেসিক মডেলগুলোতে ডাইমেনশনের অ্যারের লাইনগুলোকে একসাথে প্রসেস করা কঠিন, তাই সেগুলোকে আমরা পাশাপাশি খুলে এক লাইনে দাঁড় করাবো। এই ২৮ x ২৮ পিক্সেলকে এক লাইনে দাঁড় করালে ৭৮৪ পিক্সেল হয়। এই লেয়ারের কোন লার্নিং প্যারামিটার নেই, তার কাজ হচ্ছে এটাকে রিফর্মেট মানে নতুন ফরম্যাটে ট্রান্সফরম করে দেয়।\n",
        "\n",
        "* **\"হিডেন লেয়ার\"** — এটা 'ডেন্স' লেয়ার, একটার সাথে আরেকটা 'ডেন্সলি কানেক্টেড' মানে `tf.keras.layers.Dense`। ইনপুট লেয়ারের পর থেকে আমরা হিডেন লেয়ার বলতে পারি। এই লেয়ারটাকে আমরা কনফিগার করেছি ১২৮টা নিউরন দিয়ে। আরো কম বেশি করতে পারতাম। প্রতিটা নিউরন যাকে আমরা নোড বলছি সেটা কিন্তু ৭৮৪টা নোডকে কানেক্ট করছে আগের লেয়ার থেকে নতুন লেয়ারে। ইনপুট এর ওয়েট এর উপর ভিত্তি করে এই হিডেন প্যারামিটারগুলো শেখে ট্রেনিং এর সময়। তবে তাদের আউটপুটের যে সিঙ্গেল ভ্যালু সেটাকে সে পাঠায় পরবর্তী লেয়ারে। এখানে আমরা ইচ্ছা করলে আরো কয়েকটা লেয়ার দিতে পারতাম, তবে শেখার জন্য আমরা এটাকে একটু সিম্প্লিস্টিক রাখছি। আমাদের অ্যাক্টিভেশন ফাংশন হিসেবে এখানে ব্যবহার করেছি রেলু, যা আসলে নন লিনিয়ার ফাংশনকে ভালোভাবে সামনে এগিয়ে দিতে পারে।\n",
        "\n",
        "* আমাদের এখানে activation='relu' এর কাজ হচ্ছে \"যদি X>0 তাহলে রিটার্ন X, নাহলে রিটার্ন 0\"। এর মানে হচ্ছে এই অ্যাক্টিভেশন ফাংশন লেয়ারে X শূন্য এর বড়ো হলে সামনের লেয়ারে X এর ভ্যালু পাঠাবে। \n",
        "\n",
        "* **আউটপুট লেয়ার** `tf.keras.layers.Dense` — এর কনফিগারেশন আগের মতো। ডেন্স। আউটপুট লেয়ারে আপনাদের অবশ্যই মনে আছে আমাদেরকে ক্লাসিফাই করতে হবে দশটা অবজেক্ট। ১০ ধরনের কাপড়, চোপড়, জুতা এগুলোকে যখন ক্লাসিফাই করব তখন অ্যাক্টিভেশন লেয়ার হিসাবে ব্যবহার করব 'সফটম্যাক্স'। 'সফটম্যাক্স' এর কাজ হচ্ছে তাকে যদি দশটা ভ্যালু দেয়া হয় সে সবার ম্যাক্সিমাম ভ্যালু, সবচেয়ে বড় ভ্যালুটা পিক করবে পরের লেয়ারে পাঠাতে। এই ফাংশন আমাদের অনেক কোডিং বাঁচায়। \n",
        "\n",
        "<img src=\"https://raw.githubusercontent.com/raqueeb/deep_learning_book/master/start-page/cat6.png\"\n",
        "         alt=\"Fashion MNIST sprite\"  width=\"600\">\n",
        "* প্রথম লেয়ারে ইনপুট ছিল ৭৮৪ বাইট, এরপরের লেয়ার থেকে শেষ লেয়ারে আমাদের ইনপুট হবে ১২৮ নোড থেকে। প্রতিটা নোডের ওয়েট ইনপুট এর সাথে যুক্ত হয়ে সেটা একটা শেখানো প্যারামিটার হিসেবে দাঁড়াবে। আমাদের আউটপুট ভ্যালু কিন্তু ০ থেকে ১ এর মধ্যে, আমরা যেটাকে বলি প্রবাবিলিটি ডিস্ট্রিবিউশন যেটা আমাদেরকে ওই ছবিটা কে কোন ক্লাসে পড়বে সেটা দেখাবে। এর মধ্যে সবচেয়ে বড়োটা পিক করবে সফটম্যাক্স। ছবি দেখুন, এই দশটা নোটের সবগুলোর ভ্যালু যোগ করলে এক হবে।"
      ]
    },
    {
      "cell_type": "markdown",
      "metadata": {
        "colab_type": "text",
        "id": "JamJ00chzsE0"
      },
      "source": [
        "### মডেলকে কম্পাইল করা\n",
        "\n",
        "ট্রেনিং করানোর আগে আমাদেরকে কিছু সেটিং বুঝতে হবে। এগুলোকে আমরা যোগ করবো মডেল কম্পাইলিং স্টেজে। \n",
        "\n",
        "* *লস ফাংশন* — আগেও আলাপ করেছিলাম, তবে মডেলকে ঠিক জায়গায় মানে ঠিক অ্যাক্যুরেসিতে পৌঁছাতে হলে এই ফাংশন দরকার। আমাদের এখানে আউটপুট ১০ টা ক্যাটেগরীতে একটা আরেকটার সাথে মিউচুয়ালি এক্সক্লুসিভ (যেখানে একেকটা স্যাম্পল একদম একটা ক্লাসেই থাকবে), সেকারণে ব্যবহার করছি 'sparse_categorical_crossentropy' ব্যবহার করছি লস হিসেবে। \n",
        "\n",
        "* *অপটিমাইজার* — লস ক্যালকুলেট করে সেটার কারেকশন/আপডেট পাঠানোই এর কাজ। \n",
        "\n",
        "* *মেট্রিকস* — আমরা যখন ট্রেনিং এবং টেস্ট একসাথে মনিটর করবো, তখন অ্যাক্যুরেসির দরকার পড়বে। আমাদের এখানে যখন কিছু ছবি ঠিকমতো ক্লাসিফাই হয়েছে, তখন অ্যাক্যুরেসিটা কার্যকরী। "
      ]
    },
    {
      "cell_type": "code",
      "metadata": {
        "colab_type": "code",
        "id": "Lhan11blCaW7",
        "colab": {}
      },
      "source": [
        "model.compile(optimizer='adam',\n",
        "              loss='sparse_categorical_crossentropy',\n",
        "              metrics=['accuracy'])"
      ],
      "execution_count": 0,
      "outputs": []
    },
    {
      "cell_type": "markdown",
      "metadata": {
        "colab_type": "text",
        "id": "qKF6uW-BCaW-"
      },
      "source": [
        "## মডেলকে ট্রেনিং করাই\n",
        "\n",
        "শুরুতেই একটা ছবি। কখন কোনটা ব্যবহার করবেন? কখন শুধুমাত্র `model.fit` অথবা কলব্যাক, অথবা অনেকগুলো ডেটা একসাথে ব্যাচে। তবে, নতুন ব্যবহারকারী হিসেবে শুরুতেই শুধুমাত্র `model.fit` দিয়ে আজকে কাজ করি। এরপরে আমরা আজকেই কলব্যাক এবং পরে ব্যাচে ট্রেনিং করাবো।\n",
        "\n",
        "<img src=\"https://raw.githubusercontent.com/raqueeb/TensorFlow2/master/assets/training-test2.jpg\"> চিত্রঃ কখন কোন `model.fit` ব্যবহার হবে?\n",
        "\n",
        "আজকে আমাদের এই নিউরাল নেটওয়ার্ককে ট্রেনিং করাতে সামনের কয়েকটা স্টেপ দরকার পড়বে;\n",
        "\n",
        "১. শুরতেই ডেটাকে ফিড করতে হবে মডেলকে। আমাদের এখানে ট্রেনিং ডেটা আছে `train_images` এবং `train_labels` অ্যারেগুলোতে।\n",
        "২. মডেল শেখে তার ছবি আর লেবেলের মধ্যে সম্পর্ক থেকে। \n",
        "৩. এখন আমাদের মডেল টেস্ট করার পালা। `train_images` থেকে প্রেডিকশন করাবো? ভুলেও না। তাহলে পরীক্ষায় প্রশ্ন ফাঁস হয়ে যাবে। বরং আমরা ব্যবহার করবো আনকোরা টেস্ট সেট থেকে যাদের আলাদা করে রেখেছিলাম। আমরা ব্যবহার করবো `test_images` অ্যারে। আমাদেরকে ভেরিফাই করতে হবে `test_images` অ্যারে ম্যাচ করে কিনা `test_labels`কে। \n",
        "৪. `epochs=10` মানে পুরো ট্রেনিংসেটের ওপর ১০ বার পুরো আইটারেশন চালাবে, মানে সর্বমোট  ১০ * ৬০০০০ = ৬০০০০০ এক্সাম্পল।\n",
        "\n",
        "ট্রেনিং শুরুতেই কল করবো `model.fit` মেথডকে — এর কাজ হচ্ছে train_images এবং  train_labels এর ভেতরের সম্পর্ককে শেখা। "
      ]
    },
    {
      "cell_type": "code",
      "metadata": {
        "colab_type": "code",
        "id": "xvwvpA64CaW_",
        "outputId": "3e5a42ce-cf56-45a8-f148-46e2f10c07d5",
        "colab": {
          "base_uri": "https://localhost:8080/",
          "height": 399
        }
      },
      "source": [
        "model.fit(train_images, train_labels, epochs=10)"
      ],
      "execution_count": 22,
      "outputs": [
        {
          "output_type": "stream",
          "text": [
            "Train on 60000 samples\n",
            "Epoch 1/10\n",
            "60000/60000 [==============================] - 6s 99us/sample - loss: 0.5015 - accuracy: 0.8237\n",
            "Epoch 2/10\n",
            "60000/60000 [==============================] - 5s 86us/sample - loss: 0.3759 - accuracy: 0.8646\n",
            "Epoch 3/10\n",
            "60000/60000 [==============================] - 5s 85us/sample - loss: 0.3351 - accuracy: 0.8781\n",
            "Epoch 4/10\n",
            "60000/60000 [==============================] - 5s 91us/sample - loss: 0.3136 - accuracy: 0.8857\n",
            "Epoch 5/10\n",
            "60000/60000 [==============================] - 5s 85us/sample - loss: 0.2958 - accuracy: 0.8902\n",
            "Epoch 6/10\n",
            "60000/60000 [==============================] - 5s 87us/sample - loss: 0.2808 - accuracy: 0.8963\n",
            "Epoch 7/10\n",
            "60000/60000 [==============================] - 5s 85us/sample - loss: 0.2689 - accuracy: 0.9000\n",
            "Epoch 8/10\n",
            "60000/60000 [==============================] - 5s 86us/sample - loss: 0.2567 - accuracy: 0.9057\n",
            "Epoch 9/10\n",
            "60000/60000 [==============================] - 5s 88us/sample - loss: 0.2473 - accuracy: 0.9076\n",
            "Epoch 10/10\n",
            "60000/60000 [==============================] - 6s 92us/sample - loss: 0.2391 - accuracy: 0.9113\n"
          ],
          "name": "stdout"
        },
        {
          "output_type": "execute_result",
          "data": {
            "text/plain": [
              "<tensorflow.python.keras.callbacks.History at 0x7ff3501765f8>"
            ]
          },
          "metadata": {
            "tags": []
          },
          "execution_count": 22
        }
      ]
    },
    {
      "cell_type": "markdown",
      "metadata": {
        "colab_type": "text",
        "id": "W3ZVOhugCaXA"
      },
      "source": [
        "এই প্রসেসটা ভালো করে লক্ষ্য করুন। মডেল ট্রেনিং এর পাশাপাশি তার লস এবং অ্যাক্যুরেসির দিকে নজর রাখুন। লস কমার সাথে সাথে অ্যাক্যুরেসি বাড়ছে। এই মডেলের অ্যাক্যুরেসি বেড়ে চলে এসেছে ০.৮৮ মানে ৮৮% ট্রেনিং ডেটার ওপর। "
      ]
    },
    {
      "cell_type": "markdown",
      "metadata": {
        "colab_type": "text",
        "id": "oEw4bZgGCaXB"
      },
      "source": [
        "## অ্যাক্যুরেসিকে টেস্ট ডেটা দিয়ে ইভাল্যুয়েট করানো\n",
        "\n",
        "ট্রেনিং দেখলাম, এখন দেখতে হবে কেমন কাজ করে টেস্ট ডেটার ওপর?"
      ]
    },
    {
      "cell_type": "code",
      "metadata": {
        "colab_type": "code",
        "id": "VflXLEeECaXC",
        "outputId": "8066e438-12b2-4989-d517-5745c53a3b11",
        "colab": {
          "base_uri": "https://localhost:8080/",
          "height": 69
        }
      },
      "source": [
        "# model.evaluate(test_images, test_labels)\n",
        "\n",
        "test_loss, test_acc = model.evaluate(test_images, test_labels)\n",
        "\n",
        "print('\\nTest accuracy:', test_acc)"
      ],
      "execution_count": 23,
      "outputs": [
        {
          "output_type": "stream",
          "text": [
            "10000/10000 [==============================] - 1s 86us/sample - loss: 0.3416 - accuracy: 0.8828\n",
            "\n",
            "Test accuracy: 0.8828\n"
          ],
          "name": "stdout"
        }
      ]
    },
    {
      "cell_type": "markdown",
      "metadata": {
        "colab_type": "text",
        "id": "yWfgsmVXCaXG"
      },
      "source": [
        "টেস্ট ডাটাসেটের ওপর আমরা যখন অ্যাক্যুরেসি টেস্ট করলাম, তখন দেখা গেল এখানে তারা কিছুটা খারাপ করেছে। মানে ট্রেনিং ডাটাসেট থেকে টেস্টডাটা সেটের অ্যাক্যুরেসি কিছুটা খারাপ। এই ট্রেনিং অ্যাক্যুরেসি এবং টেস্টসেটের মধ্যে যে গ্যাপ সেটাকে আমরা বলি 'ওভার ফিটিং'। 'ওভার ফিটিং' হচ্ছে এমন একটা স্ট্যাটাস, যখন মেশিন লার্নিং মডেল নতুন ডাটা, যে ডাটা আগে দেখেনি - সেই ডাটাতে ট্রেনিং ডাটার অ্যাক্যুরেসি থেকে খারাপ করে। \n",
        "\n",
        "তবে এই অ্যাক্যুরেসি বাড়ানোর উপায় নিয়ে আলাপ করবো সামনে। "
      ]
    },
    {
      "cell_type": "markdown",
      "metadata": {
        "id": "lPe1awm3Fd4S",
        "colab_type": "text"
      },
      "source": [
        "## সাইকিট লার্নে কি করতাম?"
      ]
    },
    {
      "cell_type": "code",
      "metadata": {
        "id": "49i1KIqUFSWm",
        "colab_type": "code",
        "outputId": "7860f177-623b-4e0e-dc14-ac4948217ae6",
        "colab": {
          "base_uri": "https://localhost:8080/",
          "height": 35
        }
      },
      "source": [
        "from sklearn.metrics import accuracy_score\n",
        "pred_lebel = model.predict_classes(test_images)\n",
        "accuracy_score(test_labels, pred_lebel)"
      ],
      "execution_count": 24,
      "outputs": [
        {
          "output_type": "execute_result",
          "data": {
            "text/plain": [
              "0.8828"
            ]
          },
          "metadata": {
            "tags": []
          },
          "execution_count": 24
        }
      ]
    },
    {
      "cell_type": "markdown",
      "metadata": {
        "colab_type": "text",
        "id": "xsoS7CPDCaXH"
      },
      "source": [
        "## এখন প্রেডিকশনের পালা \n",
        "\n",
        "যিহেতু আমাদের মডেলের ট্রেনিং হয়ে গেছে, এখন কিছু পরীক্ষা নিরীক্ষার পালা। কিছু ছবি প্রেডিকশন করি এখন। প্রেডিক্ট করি টেস্ট ছবি নিয়ে। "
      ]
    },
    {
      "cell_type": "code",
      "metadata": {
        "colab_type": "code",
        "id": "Gl91RPhdCaXI",
        "colab": {}
      },
      "source": [
        "predictions = model.predict(test_images)"
      ],
      "execution_count": 0,
      "outputs": []
    },
    {
      "cell_type": "markdown",
      "metadata": {
        "colab_type": "text",
        "id": "x9Kk1voUCaXJ"
      },
      "source": [
        "প্রেডিকশন শেষ। আমাদের মডেল প্রতিটা ছবিকে ঠিকমতো লেবেল করেছে কিনা, সেটা দেখা দরকার। শুরুতেই প্রথম প্রেডিকশনটা দেখি।"
      ]
    },
    {
      "cell_type": "code",
      "metadata": {
        "colab_type": "code",
        "id": "3DmJEUinCaXK",
        "outputId": "ef5c2d33-1456-46d6-e8e9-fd83708e95a5",
        "colab": {
          "base_uri": "https://localhost:8080/",
          "height": 69
        }
      },
      "source": [
        "predictions[0]"
      ],
      "execution_count": 26,
      "outputs": [
        {
          "output_type": "execute_result",
          "data": {
            "text/plain": [
              "array([8.2977527e-07, 1.6123948e-08, 1.2840069e-07, 2.2079823e-10,\n",
              "       3.1062034e-06, 8.5494318e-04, 4.5258679e-05, 2.4806026e-02,\n",
              "       6.0987535e-05, 9.7422874e-01], dtype=float32)"
            ]
          },
          "metadata": {
            "tags": []
          },
          "execution_count": 26
        }
      ]
    },
    {
      "cell_type": "markdown",
      "metadata": {
        "colab_type": "text",
        "id": "-hw1hgeSCaXN"
      },
      "source": [
        "ভালো করে লক্ষ্য করুন। আমাদের আউটপুট লেয়ারে যে ১০টা প্রোবাবিলিটি ডিস্ট্রিবিউশন দিচ্ছে, সেখানে সবচেয়ে বেশি সংখ্যাটাই হচ্ছে তার লেবেলের কনফিডেন্স। সবচেয়ে বেশি সংখ্যাটা কি হতে পারে? এখানে একটা ছবি দেখতে পারেন বোঝার সুবিধার জন্য। "
      ]
    },
    {
      "cell_type": "code",
      "metadata": {
        "colab_type": "code",
        "id": "qsqenuPnCaXO",
        "outputId": "ad38d418-c768-4492-d9da-1f3392e40e57",
        "colab": {
          "base_uri": "https://localhost:8080/",
          "height": 35
        }
      },
      "source": [
        "np.argmax(predictions[0])"
      ],
      "execution_count": 27,
      "outputs": [
        {
          "output_type": "execute_result",
          "data": {
            "text/plain": [
              "9"
            ]
          },
          "metadata": {
            "tags": []
          },
          "execution_count": 27
        }
      ]
    },
    {
      "cell_type": "markdown",
      "metadata": {
        "colab_type": "text",
        "id": "E51yS7iCCaXO"
      },
      "source": [
        "আমাদের মডেল সবচেয়ে বেশি কনফিডেন্ট অ্যাঙ্কেল বুট হিসেবে যার ক্লাস নাম হচ্ছে `class_names[9]`. আমরা যখন চেক করলাম, তখন বোঝা গেল আমাদের ক্লাসিফিকেশন ঠিক আছে।"
      ]
    },
    {
      "cell_type": "code",
      "metadata": {
        "colab_type": "code",
        "id": "Sd7Pgsu6CaXP",
        "outputId": "82b214eb-7dff-4194-ab20-784e9d8dde32",
        "colab": {
          "base_uri": "https://localhost:8080/",
          "height": 35
        }
      },
      "source": [
        "test_labels[0]"
      ],
      "execution_count": 28,
      "outputs": [
        {
          "output_type": "execute_result",
          "data": {
            "text/plain": [
              "9"
            ]
          },
          "metadata": {
            "tags": []
          },
          "execution_count": 28
        }
      ]
    },
    {
      "cell_type": "markdown",
      "metadata": {
        "colab_type": "text",
        "id": "ygh2yYC972ne"
      },
      "source": [
        "এই কোড দেখে ভয় পাবেন না। এই মুহূর্তে আপনার এটা জানতে হবে না। দশটা স্যাম্পলকে আমরা গ্রাফে দেখতে চাচ্ছি ১০টা আলাদা আলাদা ক্লাস প্রেডিকশনে। ডিপ লার্নিং শিখতে এই মুহুর্তে এই কোড জানতে হবে না। আস্তে আস্তে আমরা বুঝতে পারবো।"
      ]
    },
    {
      "cell_type": "code",
      "metadata": {
        "colab_type": "code",
        "id": "DvYmmrpIy6Y1",
        "colab": {}
      },
      "source": [
        "def plot_image(i, predictions_array, true_label, img):\n",
        "  predictions_array, true_label, img = predictions_array, true_label[i], img[i]\n",
        "  plt.grid(False)\n",
        "  plt.xticks([])\n",
        "  plt.yticks([])\n",
        "\n",
        "  plt.imshow(img, cmap=plt.cm.binary)\n",
        "\n",
        "  predicted_label = np.argmax(predictions_array)\n",
        "  if predicted_label == true_label:\n",
        "    color = 'blue'\n",
        "  else:\n",
        "    color = 'red'\n",
        "\n",
        "  plt.xlabel(\"{} {:2.0f}% ({})\".format(class_names[predicted_label],\n",
        "                                100*np.max(predictions_array),\n",
        "                                class_names[true_label]),\n",
        "                                color=color)\n",
        "\n",
        "def plot_value_array(i, predictions_array, true_label):\n",
        "  predictions_array, true_label = predictions_array, true_label[i]\n",
        "  plt.grid(False)\n",
        "  plt.xticks(range(10))\n",
        "  plt.yticks([])\n",
        "  thisplot = plt.bar(range(10), predictions_array, color=\"#777777\")\n",
        "  plt.ylim([0, 1])\n",
        "  predicted_label = np.argmax(predictions_array)\n",
        "\n",
        "  thisplot[predicted_label].set_color('red')\n",
        "  thisplot[true_label].set_color('blue')"
      ],
      "execution_count": 0,
      "outputs": []
    },
    {
      "cell_type": "markdown",
      "metadata": {
        "colab_type": "text",
        "id": "d4Ov9OFDMmOD"
      },
      "source": [
        "ভালো করে লক্ষ্য করুন, ০তম ছবিটা, তার প্রেডিকশনএবং তার প্রেডিকশন অ্যারে। ঠিক প্রেডিকশন লেবেলগুলো নীল (মানে হালকা কালো) আর যেগুলো ঠিক প্রেডিকশন নয়, সেগুলোর লেবেল লাল (হালকা গ্রে)। শেষে ১০০ এর মধ্যে শতাংশ আকারে প্রেডিক্টেড লেবেলের ভ্যালু।"
      ]
    },
    {
      "cell_type": "code",
      "metadata": {
        "colab_type": "code",
        "id": "HV5jw-5HwSmO",
        "outputId": "f1c24ccc-127e-4702-ebc7-46cbe4998d5a",
        "colab": {
          "base_uri": "https://localhost:8080/",
          "height": 211
        }
      },
      "source": [
        "i = 0\n",
        "plt.figure(figsize=(6,3))\n",
        "plt.subplot(1,2,1)\n",
        "plot_image(i, predictions[i], test_labels, test_images)\n",
        "plt.subplot(1,2,2)\n",
        "plot_value_array(i, predictions[i],  test_labels)\n",
        "plt.show()"
      ],
      "execution_count": 30,
      "outputs": [
        {
          "output_type": "display_data",
          "data": {
            "image/png": "[encoded data removed]",
            "text/plain": [
              "<Figure size 432x216 with 2 Axes>"
            ]
          },
          "metadata": {
            "tags": []
          }
        }
      ]
    },
    {
      "cell_type": "code",
      "metadata": {
        "colab_type": "code",
        "id": "Ko-uzOufSCSe",
        "outputId": "ae2f669e-4659-4d4e-c963-f1882bc3fe5c",
        "colab": {
          "base_uri": "https://localhost:8080/",
          "height": 211
        }
      },
      "source": [
        "i = 12\n",
        "plt.figure(figsize=(6,3))\n",
        "plt.subplot(1,2,1)\n",
        "plot_image(i, predictions[i], test_labels, test_images)\n",
        "plt.subplot(1,2,2)\n",
        "plot_value_array(i, predictions[i],  test_labels)\n",
        "plt.show()"
      ],
      "execution_count": 31,
      "outputs": [
        {
          "output_type": "display_data",
          "data": {
            "image/png": "[encoded data removed]",
            "text/plain": [
              "<Figure size 432x216 with 2 Axes>"
            ]
          },
          "metadata": {
            "tags": []
          }
        }
      ]
    },
    {
      "cell_type": "markdown",
      "metadata": {
        "colab_type": "text",
        "id": "kgdvGD52CaXR"
      },
      "source": [
        "কয়েকটা ছবির পাশাপাশি তার কয়েকটা প্রেডিকশন প্লট করে দেখি। অনেক সময় দেখা যায় - মডেল মাঝে মাঝে ভুল করে যদিও তারা এই ব্যাপারে বেশ 'কনফিডেন্ট' থাকে। প্রথমে প্লট করছি টেস্ট ছবিগুলোকে, তারপর প্রেডিকটেড লেবেল, তারপর আসল, ট্রু লেবেল। রংয়ে হালকা গ্রে ঠিক প্রেডিকশন, কালোটা ভুল প্রেডিকশন। "
      ]
    },
    {
      "cell_type": "code",
      "metadata": {
        "colab_type": "code",
        "id": "hQlnbqaw2Qu_",
        "outputId": "331b0ca4-034b-4a64-ba99-5baf18249e77",
        "colab": {
          "base_uri": "https://localhost:8080/",
          "height": 749
        }
      },
      "source": [
        "num_rows = 5\n",
        "num_cols = 3\n",
        "num_images = num_rows*num_cols\n",
        "plt.figure(figsize=(2*2*num_cols, 2*num_rows))\n",
        "for i in range(num_images):\n",
        "  plt.subplot(num_rows, 2*num_cols, 2*i+1)\n",
        "  plot_image(i, predictions[i], test_labels, test_images)\n",
        "  plt.subplot(num_rows, 2*num_cols, 2*i+2)\n",
        "  plot_value_array(i, predictions[i], test_labels)\n",
        "plt.tight_layout()\n",
        "plt.show()"
      ],
      "execution_count": 32,
      "outputs": [
        {
          "output_type": "display_data",
          "data": {
            "image/png": "[encoded data removed]",
            "text/plain": [
              "<Figure size 864x720 with 30 Axes>"
            ]
          },
          "metadata": {
            "tags": []
          }
        }
      ]
    },
    {
      "cell_type": "markdown",
      "metadata": {
        "colab_type": "text",
        "id": "R32zteKHCaXT"
      },
      "source": [
        "সবশেষে আমাদের এই ট্রেইনড মডেলকে দিয়ে একটা ছবি প্রেডিক্ট করাই। টেস্ট ডেটাসেট থেকে অবশ্যই। "
      ]
    },
    {
      "cell_type": "code",
      "metadata": {
        "colab_type": "code",
        "id": "yRJ7JU7JCaXT",
        "outputId": "96fff39e-24c6-4ed7-8708-8a90340996d4",
        "colab": {
          "base_uri": "https://localhost:8080/",
          "height": 35
        }
      },
      "source": [
        "img = test_images[1]\n",
        "\n",
        "print(img.shape)"
      ],
      "execution_count": 33,
      "outputs": [
        {
          "output_type": "stream",
          "text": [
            "(28, 28)\n"
          ],
          "name": "stdout"
        }
      ]
    },
    {
      "cell_type": "markdown",
      "metadata": {
        "colab_type": "text",
        "id": "vz3bVp21CaXV"
      },
      "source": [
        "`tf.keras` মডেল ব্যাচে প্রেডিকশন করার জন্য অপ্টিমাইজ। মানে একটা একটা করে না। এইজন্য ব্যাচে প্রেডিকশন সবসময় সময় বাঁচায়। এখন আমরা যদি একটা ছবিকে ব্যবহার করি সেটাকেও একটা লিস্টে ফেলতে হবে। "
      ]
    },
    {
      "cell_type": "code",
      "metadata": {
        "colab_type": "code",
        "id": "lDFh5yF_CaXW",
        "outputId": "ddc768c2-a8ee-4327-b959-b180f435ae4b",
        "colab": {
          "base_uri": "https://localhost:8080/",
          "height": 35
        }
      },
      "source": [
        "img = (np.expand_dims(img,0))\n",
        "\n",
        "print(img.shape)"
      ],
      "execution_count": 34,
      "outputs": [
        {
          "output_type": "stream",
          "text": [
            "(1, 28, 28)\n"
          ],
          "name": "stdout"
        }
      ]
    },
    {
      "cell_type": "markdown",
      "metadata": {
        "colab_type": "text",
        "id": "EQ5wLTkcCaXY"
      },
      "source": [
        "সঠিক লেবেলের জন্য প্রেডিক্ট করি -"
      ]
    },
    {
      "cell_type": "code",
      "metadata": {
        "colab_type": "code",
        "id": "o_rzNSdrCaXY",
        "outputId": "fcb25c50-22ed-4631-d477-5cc7ee9a6d74",
        "colab": {
          "base_uri": "https://localhost:8080/",
          "height": 52
        }
      },
      "source": [
        "predictions_single = model.predict(img)\n",
        "\n",
        "print(predictions_single)"
      ],
      "execution_count": 35,
      "outputs": [
        {
          "output_type": "stream",
          "text": [
            "[[1.9527724e-05 5.5121968e-18 9.9989533e-01 1.2050993e-11 2.3682260e-05\n",
            "  3.2209754e-10 6.1453837e-05 1.8953429e-13 1.2355023e-11 1.1612487e-16]]\n"
          ],
          "name": "stdout"
        }
      ]
    },
    {
      "cell_type": "code",
      "metadata": {
        "colab_type": "code",
        "id": "6Ai-cpLjO-3A",
        "outputId": "bdd9ddae-adbe-4f37-a82d-81b609074f69",
        "colab": {
          "base_uri": "https://localhost:8080/",
          "height": 300
        }
      },
      "source": [
        "plot_value_array(1, predictions_single[0], test_labels)\n",
        "_ = plt.xticks(range(10), class_names, rotation=45)"
      ],
      "execution_count": 36,
      "outputs": [
        {
          "output_type": "display_data",
          "data": {
            "image/png": "[encoded data removed]",
            "text/plain": [
              "<Figure size 432x288 with 1 Axes>"
            ]
          },
          "metadata": {
            "tags": []
          }
        }
      ]
    },
    {
      "cell_type": "markdown",
      "metadata": {
        "colab_type": "text",
        "id": "cU1Y2OAMCaXb"
      },
      "source": [
        "`model.predict` আমাদেরকে একটা লিস্টের লিস্ট দেয়, যেখানে প্রতিটা ছবি ওই ব্যাচে আছে। এখন ওই ব্যাচের একটা ছবির জন্য প্রেডিকশন দেখি। "
      ]
    },
    {
      "cell_type": "code",
      "metadata": {
        "colab_type": "code",
        "id": "2tRmdq_8CaXb",
        "outputId": "cbfc1660-31cd-42c7-9331-faf3ab669ce3",
        "colab": {
          "base_uri": "https://localhost:8080/",
          "height": 35
        }
      },
      "source": [
        "np.argmax(predictions_single[0])"
      ],
      "execution_count": 37,
      "outputs": [
        {
          "output_type": "execute_result",
          "data": {
            "text/plain": [
              "2"
            ]
          },
          "metadata": {
            "tags": []
          },
          "execution_count": 37
        }
      ]
    },
    {
      "cell_type": "markdown",
      "metadata": {
        "colab_type": "text",
        "id": "YFc2HbEVCaXd"
      },
      "source": [
        "কি বোঝা গেলো? মডেল ঠিকমতো প্রেডিক্ট করতে পেরেছে বলতে হবে। "
      ]
    },
    {
      "cell_type": "markdown",
      "metadata": {
        "colab_type": "text",
        "id": "9v7D7O_4zsGB"
      },
      "source": [
        "## কেন কলব্যাক? \n",
        "\n",
        "মডেলকে ট্রেইন করতে সময় লাগে। বিশেষ করে আমরা যখন বিভিন্ন ইপক সংখ্যা নিয়ে কাজ করি। একেকটা ইপক চালাতে যেরকম কম্পিউটিং রিসোর্স ব্যবহার হয়, সেখানে আমাদেরকে পয়সা গুনতে হয় ক্লাউডএর জন্য। এমন যদি হতো আমরা একটা ট্রেনিং বন্ধ করতে পারতাম যখন আমরা একটা দরকারি অ্যাক্যুরেসি পয়েন্টে পৌঁছে গেছি। এই মুহূর্তে আমাদের প্রতিবারই একটা ইপক সংখ্যা পর্যন্ত যেতে হচ্ছে। ভালো খবর হচ্ছে, আমাদের একটা কলব্যাক ফাংশন আছে যেটা এই ট্রেনিং লুপকে দরকারি অ্যাক্যুরেসি এলেই আপনা আপনি বন্ধ করতে পারে। আমরা আসলে ওই পর্যন্ত পৌঁছাতে চাই ওই লেভেলের অ্যাক্যুরেসি পৌঁছে গেলে ট্রেনিং বন্ধ করে দিতে পারি।\n",
        "\n",
        "এখন ফ্যাশন MNIST এর মধ্যে কলব্যাক ফিচারটা চালাই। আমাদের 'মডেল.ফিট' ফাংশনটা যখন ট্রেনিং লুপের উপর কাজ করে তখন আমরা লক্ষ্য রাখি সেটার আউটপুটে। পাইথনে কাজটা করা বেশ সোজা। যদিও জিনিসটা ইমপ্লিমেন্ট করা হচ্ছে একটা আলাদা ক্লাস হিসেবে তবে সেটা ইনলাইনে থাকছে আমাদের সেই একই কোডে। ধরা যাক, আমরা চাইছি যখন লস ০.২ এর নিচে থাকতে হবে, তাহলে সেই ট্রেনিংটা এমনিতেই ক্যান্সেল হয়ে যাবে।\n",
        "\n",
        "দেখি কখন আমাদের ট্রেনিং লুপ থামে!"
      ]
    },
    {
      "cell_type": "code",
      "metadata": {
        "colab_type": "code",
        "id": "pa1Zw-lczsGC",
        "outputId": "31f33f2f-015c-401c-e1aa-197886c650b9",
        "colab": {
          "base_uri": "https://localhost:8080/",
          "height": 295
        }
      },
      "source": [
        "import tensorflow as tf\n",
        "\n",
        "class myCallback(tf.keras.callbacks.Callback):\n",
        "  def on_epoch_end(self, epoch, logs={}):\n",
        "    if(logs.get('accuracy')>0.9):\n",
        "      print(\"\\nReached 90% accuracy so cancelling training!\")\n",
        "      self.model.stop_training = True\n",
        "\n",
        "# আগের সব কোড এক জায়গায় \n",
        "fashion_mnist = tf.keras.datasets.fashion_mnist\n",
        "\n",
        "(x_train, y_train),(x_test, y_test) = fashion_mnist.load_data()\n",
        "x_train, x_test = x_train / 255.0, x_test / 255.0\n",
        "\n",
        "# শুধুমাত্র এটা নতুন অংশ\n",
        "callbacks = myCallback()\n",
        "\n",
        "# আগের লেয়ার\n",
        "model = tf.keras.models.Sequential([\n",
        "  tf.keras.layers.Flatten(input_shape=(28, 28)),\n",
        "  tf.keras.layers.Dense(512, activation=tf.nn.relu),\n",
        "  tf.keras.layers.Dense(10, activation=tf.nn.softmax)\n",
        "])\n",
        "\n",
        "# আগের মডেল কম্পাইলেশন\n",
        "model.compile(optimizer='adam',\n",
        "              loss='sparse_categorical_crossentropy',\n",
        "              metrics=['accuracy'])\n",
        "\n",
        "# আগের মডেল ফিট\n",
        "model.fit(x_train, y_train, epochs=10, callbacks=[callbacks])"
      ],
      "execution_count": 38,
      "outputs": [
        {
          "output_type": "stream",
          "text": [
            "Train on 60000 samples\n",
            "Epoch 1/10\n",
            "60000/60000 [==============================] - 5s 92us/sample - loss: 0.4742 - accuracy: 0.8309\n",
            "Epoch 2/10\n",
            "60000/60000 [==============================] - 5s 87us/sample - loss: 0.3592 - accuracy: 0.8697\n",
            "Epoch 3/10\n",
            "60000/60000 [==============================] - 5s 89us/sample - loss: 0.3225 - accuracy: 0.8797\n",
            "Epoch 4/10\n",
            "60000/60000 [==============================] - 5s 88us/sample - loss: 0.2983 - accuracy: 0.8894\n",
            "Epoch 5/10\n",
            "60000/60000 [==============================] - 5s 86us/sample - loss: 0.2800 - accuracy: 0.8960\n",
            "Epoch 6/10\n",
            "59392/60000 [============================>.] - ETA: 0s - loss: 0.2647 - accuracy: 0.9015\n",
            "Reached 90% accuracy so cancelling training!\n",
            "60000/60000 [==============================] - 5s 84us/sample - loss: 0.2648 - accuracy: 0.9016\n"
          ],
          "name": "stdout"
        },
        {
          "output_type": "execute_result",
          "data": {
            "text/plain": [
              "<tensorflow.python.keras.callbacks.History at 0x7ff31952d6a0>"
            ]
          },
          "metadata": {
            "tags": []
          },
          "execution_count": 38
        }
      ]
    },
    {
      "cell_type": "markdown",
      "metadata": {
        "id": "-_bgZl_QfD2_",
        "colab_type": "text"
      },
      "source": [
        "## মডেলের একটা সামারি\n",
        "\n",
        "কি মনে হচ্ছে? এখানে ৩ লেয়ারের একটা ছোট্ট সামারি টেবিল দিয়েছে টাইপ, শেপ এবং প্যারামিটার দিয়ে। ট্রেনিং এর জন্য প্যারামিটার সংখ্যা ৪০৭০৫০, মানে ৪ লক্ষ। একটা ছোট ডেটাসেট অথচ অনেক প্যারামিটার।\n",
        "\n",
        "এই সামারি দিয়ে মডেলের প্রতিটা লেয়ারে কি হচ্ছে সেটা জানা যায়। সেটার সাথে লেয়ারগুলোর নাম যদি না মডেল নিজে থেকে দেয়। অনেক সময় সেগুলোর নাম আমরা দিয়ে দিতে পারি। আউটপুট শেপ None কেন? সামনে দেখবেন ডিপ লার্নিং মডেলগুলো ট্রেনিং করানোর সময় ডেটাসেটগুলোকে ব্যাচে করাবো। এখানে এর মানে হচ্ছে ব্যাচ সাইজ যে কোন কিছু হতে পারে। সামনে আমরা দেখবো নন-ট্রেইনেবল প্যারামিটার নিয়ে কিভাবে কাজ করা যায়।"
      ]
    },
    {
      "cell_type": "code",
      "metadata": {
        "id": "Se_338WFG8oY",
        "colab_type": "code",
        "outputId": "a102d126-3e00-4f70-b93d-d5ed078ea231",
        "colab": {
          "base_uri": "https://localhost:8080/",
          "height": 260
        }
      },
      "source": [
        "model.summary()"
      ],
      "execution_count": 39,
      "outputs": [
        {
          "output_type": "stream",
          "text": [
            "Model: \"sequential_1\"\n",
            "_________________________________________________________________\n",
            "Layer (type)                 Output Shape              Param #   \n",
            "=================================================================\n",
            "flatten_1 (Flatten)          (None, 784)               0         \n",
            "_________________________________________________________________\n",
            "dense_2 (Dense)              (None, 512)               401920    \n",
            "_________________________________________________________________\n",
            "dense_3 (Dense)              (None, 10)                5130      \n",
            "=================================================================\n",
            "Total params: 407,050\n",
            "Trainable params: 407,050\n",
            "Non-trainable params: 0\n",
            "_________________________________________________________________\n"
          ],
          "name": "stdout"
        }
      ]
    },
    {
      "cell_type": "markdown",
      "metadata": {
        "id": "dUHA6MK3O4Wx",
        "colab_type": "text"
      },
      "source": [
        "আমরা দেখছি ডেন্স লেয়ারে অনেক প্যারামিটার। এখানে প্রথম হিডেন লেয়ারে ৭৮৪ x ৫১২ কানেকশন ওয়েট সঙ্গে ৫১২ বায়াস নিলে ৮০২,৮১৬ প্যারামিটার হয়ে যায়।\n",
        "\n",
        "## মডেলের লেয়ারগুলোর নাম ইনডেক্স ধরে"
      ]
    },
    {
      "cell_type": "code",
      "metadata": {
        "id": "b3vCIgEqQcex",
        "colab_type": "code",
        "colab": {
          "base_uri": "https://localhost:8080/",
          "height": 69
        },
        "outputId": "e03a8db6-3828-4437-8ecf-ac9473e23bca"
      },
      "source": [
        "model.layers"
      ],
      "execution_count": 40,
      "outputs": [
        {
          "output_type": "execute_result",
          "data": {
            "text/plain": [
              "[<tensorflow.python.keras.layers.core.Flatten at 0x7ff351f4ccc0>,\n",
              " <tensorflow.python.keras.layers.core.Dense at 0x7ff351f43048>,\n",
              " <tensorflow.python.keras.layers.core.Dense at 0x7ff351f437f0>]"
            ]
          },
          "metadata": {
            "tags": []
          },
          "execution_count": 40
        }
      ]
    },
    {
      "cell_type": "code",
      "metadata": {
        "id": "FD9iv6eRRmt-",
        "colab_type": "code",
        "colab": {
          "base_uri": "https://localhost:8080/",
          "height": 35
        },
        "outputId": "2eae2973-9a8a-46d4-aee9-5ac1d8d58b1a"
      },
      "source": [
        "hidden1 = model.layers[1]\n",
        "hidden1.name"
      ],
      "execution_count": 42,
      "outputs": [
        {
          "output_type": "execute_result",
          "data": {
            "text/plain": [
              "'dense_2'"
            ]
          },
          "metadata": {
            "tags": []
          },
          "execution_count": 42
        }
      ]
    },
    {
      "cell_type": "code",
      "metadata": {
        "id": "1-KHz-SSR8zN",
        "colab_type": "code",
        "colab": {
          "base_uri": "https://localhost:8080/",
          "height": 35
        },
        "outputId": "0e9eed2b-e82d-4f5f-b0e5-37e8f51e6f3f"
      },
      "source": [
        "model.get_layer(hidden1.name) is hidden1"
      ],
      "execution_count": 43,
      "outputs": [
        {
          "output_type": "execute_result",
          "data": {
            "text/plain": [
              "True"
            ]
          },
          "metadata": {
            "tags": []
          },
          "execution_count": 43
        }
      ]
    },
    {
      "cell_type": "markdown",
      "metadata": {
        "id": "ffhCGYMDTnk9",
        "colab_type": "text"
      },
      "source": [
        "একটা লেয়ারের প্রতিটা প্যারামিটার এক্সেস করা যায় সেটার get_weights() এবং set_weights() মেথড দিয়ে। একটা ডেন্স লেয়ারের জন্য সেটা তার প্রতিটা কানেকশন এর ওয়েট এবং বায়াসের জন্য সেটা প্রযোজ্য।"
      ]
    },
    {
      "cell_type": "code",
      "metadata": {
        "id": "S8Mjdq7sTMm8",
        "colab_type": "code",
        "colab": {}
      },
      "source": [
        "weights, biases = hidden1.get_weights()"
      ],
      "execution_count": 0,
      "outputs": []
    },
    {
      "cell_type": "code",
      "metadata": {
        "id": "L5EJLMtNTPmu",
        "colab_type": "code",
        "colab": {
          "base_uri": "https://localhost:8080/",
          "height": 243
        },
        "outputId": "91265fc9-fb25-4c7c-b60d-5cabd2a97e58"
      },
      "source": [
        "weights"
      ],
      "execution_count": 45,
      "outputs": [
        {
          "output_type": "execute_result",
          "data": {
            "text/plain": [
              "array([[ 0.02693638, -0.02293057, -0.1261283 , ..., -0.04781977,\n",
              "        -0.03738597,  0.04699679],\n",
              "       [-0.03545097, -0.05164531, -0.10027511, ..., -0.03543947,\n",
              "         0.11097684, -0.01304462],\n",
              "       [ 0.05678385, -0.06589313, -0.2797418 , ..., -0.00031874,\n",
              "         0.18765359, -0.02076763],\n",
              "       ...,\n",
              "       [ 0.04490577,  0.03445978,  0.11946779, ..., -0.03069762,\n",
              "         0.3097016 , -0.01980158],\n",
              "       [-0.04933548, -0.0365958 , -0.15024932, ...,  0.04251074,\n",
              "         0.01841461,  0.08371335],\n",
              "       [-0.06216392, -0.04729711,  0.06911559, ...,  0.05941245,\n",
              "        -0.05792272, -0.05791547]], dtype=float32)"
            ]
          },
          "metadata": {
            "tags": []
          },
          "execution_count": 45
        }
      ]
    },
    {
      "cell_type": "code",
      "metadata": {
        "id": "blTR21enTSPh",
        "colab_type": "code",
        "colab": {
          "base_uri": "https://localhost:8080/",
          "height": 35
        },
        "outputId": "f5eb08d3-1dbc-48d0-874d-896950d09012"
      },
      "source": [
        "weights.shape"
      ],
      "execution_count": 46,
      "outputs": [
        {
          "output_type": "execute_result",
          "data": {
            "text/plain": [
              "(784, 512)"
            ]
          },
          "metadata": {
            "tags": []
          },
          "execution_count": 46
        }
      ]
    },
    {
      "cell_type": "code",
      "metadata": {
        "id": "UWD3ZwCdTVgU",
        "colab_type": "code",
        "colab": {
          "base_uri": "https://localhost:8080/",
          "height": 1000
        },
        "outputId": "903cbae9-e9b3-4d57-f946-a921dacedf19"
      },
      "source": [
        "biases"
      ],
      "execution_count": 47,
      "outputs": [
        {
          "output_type": "execute_result",
          "data": {
            "text/plain": [
              "array([-1.60294492e-02, -1.39518222e-02,  3.50381345e-01,  7.98909739e-02,\n",
              "       -1.53993182e-02, -1.39023573e-03,  4.15963858e-01,  2.92466730e-01,\n",
              "       -2.07719989e-02,  2.76768655e-01,  2.82485560e-02,  2.63705522e-01,\n",
              "        4.45961744e-01,  4.34718207e-02, -5.30017093e-02,  1.18494540e-01,\n",
              "       -1.89261213e-01,  5.50803021e-02,  1.64337382e-01, -1.52072515e-02,\n",
              "       -1.77364890e-02, -1.73939243e-02,  2.64273942e-01,  4.41223264e-01,\n",
              "       -7.77089074e-02,  1.41183808e-01, -5.75358719e-02,  1.31393120e-01,\n",
              "       -2.83233017e-01,  3.11849236e-01,  6.70388713e-02,  3.33108038e-01,\n",
              "        2.73683608e-01,  1.71141196e-02, -4.31426853e-01,  3.67709577e-01,\n",
              "        1.35440633e-01,  1.86837334e-02,  3.42200518e-01, -1.91516995e-01,\n",
              "        2.52934522e-03, -8.75962712e-03, -2.38766596e-01,  3.16341877e-01,\n",
              "       -6.94166310e-03, -1.60229295e-01,  3.65893692e-02,  1.32311121e-01,\n",
              "        2.89510757e-01,  2.34761536e-01,  2.61435390e-01,  1.40811410e-03,\n",
              "        7.65088350e-02,  2.19183952e-01,  1.50881618e-01,  3.44795547e-02,\n",
              "        1.26576424e-01, -2.11587191e-01,  4.21740472e-01, -1.95148364e-02,\n",
              "        1.00972071e-01,  9.63275656e-02, -7.25802220e-03,  3.04996401e-01,\n",
              "       -6.76137907e-03,  9.19604227e-02,  5.51401526e-02,  7.43604824e-02,\n",
              "       -5.85103892e-02,  1.98862091e-01,  1.90593317e-01,  1.53476164e-01,\n",
              "       -5.15682064e-02, -1.09716818e-01,  2.57593617e-02,  2.56862283e-01,\n",
              "        6.69525862e-02,  7.58583099e-02, -1.32591436e-02, -1.04908058e-02,\n",
              "       -1.99056700e-01,  7.01066619e-03, -3.32607739e-02, -1.51376175e-02,\n",
              "        6.48449510e-02,  1.42431974e-01,  3.09023887e-01, -1.90340243e-02,\n",
              "        1.10618569e-01,  3.48205477e-01,  1.69229344e-01,  2.74981588e-01,\n",
              "        1.52005747e-01, -1.42188534e-01,  9.53455344e-02,  2.99407065e-01,\n",
              "        1.94593251e-01,  3.47265303e-01,  1.47337809e-01, -5.50337769e-02,\n",
              "        4.59524453e-01,  3.91933084e-01,  1.57439522e-02, -1.63061656e-02,\n",
              "       -1.66131720e-01,  2.47930154e-01,  3.78468931e-02,  1.37417927e-01,\n",
              "        2.27288857e-01,  3.89103651e-01, -2.12558620e-02,  3.59800935e-01,\n",
              "        5.40773213e-01,  2.73304254e-01, -2.64734980e-02,  1.50937632e-01,\n",
              "       -1.52851809e-02,  1.11506954e-01,  1.58997402e-01,  3.01023871e-01,\n",
              "       -1.04000315e-01,  1.62529677e-01,  3.74603927e-01, -4.25965004e-02,\n",
              "       -9.78934020e-03, -1.29297972e-01, -2.86076695e-01,  1.16656013e-01,\n",
              "        2.46409997e-02, -2.35704347e-01, -3.35654378e-01,  5.74177839e-02,\n",
              "        1.93535745e-01,  2.15288192e-01,  1.40407428e-01, -8.34346116e-02,\n",
              "        7.26100802e-02,  1.16552569e-01, -2.21828297e-02, -3.03145424e-02,\n",
              "        2.32099354e-01,  1.06977681e-02,  2.56600052e-01,  2.70909816e-01,\n",
              "        2.30210498e-01, -1.30790204e-01, -5.90678118e-02, -6.03546971e-04,\n",
              "       -8.74803364e-02, -1.27791483e-02,  2.79433936e-01,  1.17368214e-01,\n",
              "       -1.86006464e-02,  4.04821694e-01,  7.16348141e-02, -1.22621749e-02,\n",
              "        2.29806244e-01,  1.86436296e-01, -5.28417621e-03,  5.95942028e-02,\n",
              "        9.34065133e-03,  3.01203271e-03, -1.20577095e-02,  1.50480047e-01,\n",
              "        1.23947300e-01, -4.02729912e-03,  2.59704888e-01,  3.71371917e-02,\n",
              "        1.79855913e-01,  1.42185837e-01, -7.89119452e-02,  2.97313809e-01,\n",
              "        3.64731073e-01,  8.39499198e-03,  1.81770101e-01,  3.40117127e-01,\n",
              "        1.68489516e-01,  2.10611373e-01, -2.85291020e-02, -2.66893227e-02,\n",
              "        2.95815200e-01, -2.40616743e-02, -2.12548241e-01,  3.82930398e-01,\n",
              "       -8.08993820e-03, -6.79292828e-02, -1.73755828e-02,  1.11664250e-01,\n",
              "        1.70166939e-01,  1.12978898e-01, -1.61137089e-01,  1.36117578e-01,\n",
              "       -3.16932239e-02,  4.23930258e-01,  2.85428520e-02,  1.26250871e-02,\n",
              "        2.40030646e-01, -2.04208978e-02,  1.47203296e-01,  3.75069320e-01,\n",
              "        2.47168928e-01,  1.74918354e-01,  4.21184152e-01, -1.69116631e-01,\n",
              "        1.80099994e-01, -7.56290229e-03, -3.80637683e-02,  3.73435244e-02,\n",
              "       -5.20855375e-02,  2.07000121e-01,  3.82727981e-02, -9.32834744e-02,\n",
              "        7.35743195e-02,  2.08728641e-01,  1.42305627e-01, -1.23366360e-02,\n",
              "        1.21292949e-01, -1.88752428e-01,  1.35772347e-01,  1.29445657e-01,\n",
              "        1.14494167e-01,  2.18801260e-01,  3.74639928e-02,  1.78776801e-01,\n",
              "       -3.80427003e-01,  3.15464884e-02,  2.20992081e-02,  8.74600485e-02,\n",
              "        2.36106589e-01, -3.24717104e-01,  2.09263608e-01,  9.64514390e-02,\n",
              "        1.51889250e-01,  2.42865123e-02,  4.03494313e-02,  7.13386834e-02,\n",
              "        1.83116987e-01,  8.21382552e-02,  2.01188892e-01,  2.26995513e-01,\n",
              "        2.47268796e-01,  7.48979449e-02,  2.15603814e-01, -2.59983074e-02,\n",
              "       -1.37224108e-01, -1.13786809e-01,  8.88754502e-02,  1.47592336e-01,\n",
              "        1.07006659e-03,  1.33780152e-01,  4.25908342e-02, -1.71256348e-01,\n",
              "        1.77438602e-01,  5.52542433e-02, -6.25104224e-03,  2.45260626e-01,\n",
              "        2.79462546e-01,  4.00616229e-01,  4.48725790e-01,  2.78675497e-01,\n",
              "        1.79355606e-01,  1.94766119e-01,  2.47777343e-01,  2.03524202e-01,\n",
              "        1.91309854e-01,  1.28968835e-01,  7.62607306e-02,  1.52562350e-01,\n",
              "       -3.70271020e-02,  2.74303705e-01,  4.48675364e-01, -5.96529208e-02,\n",
              "        1.36139885e-01,  1.55253619e-01,  2.20697731e-01,  3.98986489e-02,\n",
              "        1.03628390e-01, -1.09279053e-02,  3.33973587e-01,  2.38055542e-01,\n",
              "        2.59019047e-01, -2.15994678e-02,  2.35184669e-01, -2.27484763e-01,\n",
              "        2.05458984e-01,  3.59956622e-01,  7.25924447e-02,  2.63917837e-02,\n",
              "        4.19447839e-01, -7.61993835e-03, -1.54669154e-02,  1.59289800e-02,\n",
              "        5.35109965e-03, -3.17793675e-02, -2.37330049e-02,  2.14344449e-02,\n",
              "        6.95303530e-02,  1.49913758e-01,  1.13023743e-01,  3.22306573e-01,\n",
              "        2.17183143e-01,  1.15898542e-01,  2.76640058e-01,  1.98039368e-01,\n",
              "        1.80117980e-01,  2.02145666e-01,  2.57228345e-01,  1.36355788e-01,\n",
              "        1.52536780e-01,  3.96026760e-01, -5.54917986e-03,  3.80497009e-01,\n",
              "        6.60702735e-02,  7.91154951e-02,  3.81020039e-01, -2.71085620e-01,\n",
              "        6.34708405e-02,  1.49374768e-01,  1.81850448e-01,  1.67773932e-01,\n",
              "        4.51843083e-01,  3.27733696e-01,  4.67259362e-02,  9.76403132e-02,\n",
              "       -3.55446488e-02,  1.37398303e-01, -1.55666508e-02, -9.14015807e-03,\n",
              "       -3.91429439e-02,  1.24561742e-01,  3.40129077e-01,  2.03645289e-01,\n",
              "        4.44105029e-01, -1.38721419e-02,  2.96865344e-01, -1.28017766e-02,\n",
              "        2.44113788e-01, -1.47136480e-01,  1.28181621e-01, -1.43413737e-01,\n",
              "       -4.79972400e-02,  1.38431013e-01, -2.45808847e-02,  1.54321399e-02,\n",
              "       -2.01473758e-02,  2.22481668e-01, -2.74173394e-02,  3.47878151e-02,\n",
              "       -8.47543776e-03, -1.09924208e-02, -1.09954001e-02,  2.56139070e-01,\n",
              "        9.11612436e-02, -1.57789975e-01, -1.04741426e-02,  2.35360526e-02,\n",
              "        7.63633708e-03, -4.22594510e-02,  2.02921212e-01,  2.93693632e-01,\n",
              "       -3.23649943e-02,  3.18894297e-01, -2.37039197e-02,  1.03740450e-02,\n",
              "       -1.96054727e-01,  9.78905559e-02,  3.27201635e-01,  1.81440040e-01,\n",
              "       -3.30269895e-02, -1.10012628e-02,  3.34066868e-01,  1.65195644e-01,\n",
              "       -1.56271607e-02,  3.73743147e-01, -4.97083878e-03,  3.49958912e-02,\n",
              "       -8.11316818e-02, -1.65852830e-02, -1.39742531e-02,  2.94491500e-01,\n",
              "        2.17955261e-02,  7.02337325e-02, -2.12073959e-02,  1.95495158e-01,\n",
              "        2.93273926e-01,  9.15463492e-02,  2.69611776e-01,  1.82126202e-02,\n",
              "        8.12172219e-02, -7.30743408e-02,  1.02603965e-01, -2.03132689e-01,\n",
              "        7.47612342e-02,  5.05958021e-01,  2.94046849e-01,  4.46836025e-01,\n",
              "        2.63939917e-01,  1.19016089e-01,  2.63857245e-01,  6.50803819e-02,\n",
              "        1.37561530e-01, -1.45648075e-02,  2.93920875e-01,  3.34743768e-01,\n",
              "        9.03255567e-02,  4.51736927e-01,  5.21184094e-02, -1.79380774e-02,\n",
              "        2.32620776e-01, -9.38884765e-02, -9.07881930e-03,  4.92406487e-02,\n",
              "        1.34074777e-01,  3.98545414e-01, -2.96284072e-02,  1.76333979e-01,\n",
              "        7.96410888e-02,  2.33136509e-02,  1.27993777e-01,  9.10202041e-02,\n",
              "        2.78599024e-01,  1.01363651e-01, -2.14414582e-01, -1.70040559e-02,\n",
              "       -1.09658256e-01,  8.83608684e-02,  3.20182681e-01,  4.04849611e-02,\n",
              "        1.96699142e-01,  1.90764770e-01, -2.95269564e-02,  1.86068252e-01,\n",
              "       -2.70737290e-01, -8.29996988e-02,  7.04359636e-02,  8.74901116e-02,\n",
              "        6.57870919e-02, -2.98089776e-02,  9.77504030e-02,  8.31790045e-02,\n",
              "        1.28341287e-01, -1.30970646e-02,  2.55093306e-01,  8.98323953e-02,\n",
              "       -1.02515472e-02,  2.13660337e-02, -1.27725862e-02,  6.17656633e-02,\n",
              "       -7.88422694e-05, -1.83004394e-01,  2.20957603e-02,  1.01330049e-01,\n",
              "       -1.78797171e-01,  1.47159547e-01,  2.82898366e-01,  2.08927512e-01,\n",
              "       -2.09593818e-01,  2.70357072e-01,  3.66172910e-01,  5.80924414e-02,\n",
              "        2.39860669e-01,  5.15821762e-02, -8.13792832e-03, -3.43302898e-02,\n",
              "       -2.06108112e-03, -6.02160394e-02, -6.17153943e-03,  1.59553774e-02,\n",
              "        1.44281626e-01,  2.51333416e-01,  1.31071761e-01,  2.24810302e-01,\n",
              "        4.44441363e-02, -3.59204337e-02,  1.52600706e-01,  2.46835917e-01,\n",
              "       -1.73711758e-02,  1.61015823e-01, -8.30637664e-02,  3.92196536e-01,\n",
              "        3.89932424e-01, -1.35419101e-01,  2.88380474e-01, -1.76985458e-01,\n",
              "        6.87226728e-02,  4.43030328e-01,  2.27508485e-01, -1.24041252e-01,\n",
              "        8.96052793e-02,  2.52262987e-02,  2.61828639e-02,  1.26495510e-01,\n",
              "       -2.16273572e-02, -1.87589917e-02,  1.14160225e-01,  1.23071097e-01,\n",
              "        2.73146063e-01,  3.51753049e-02,  1.44702122e-01,  2.32143357e-01,\n",
              "       -1.29237264e-01, -1.53666973e-01,  8.37281495e-02,  1.52312890e-01,\n",
              "       -2.72026081e-02,  1.54973969e-01,  1.86143935e-01,  5.87512851e-02,\n",
              "       -4.16865088e-02, -7.87185952e-02,  2.04430714e-01, -1.34503379e-01],\n",
              "      dtype=float32)"
            ]
          },
          "metadata": {
            "tags": []
          },
          "execution_count": 47
        }
      ]
    },
    {
      "cell_type": "code",
      "metadata": {
        "id": "Fy3XM5fHTWdw",
        "colab_type": "code",
        "colab": {
          "base_uri": "https://localhost:8080/",
          "height": 35
        },
        "outputId": "3ecc4a0f-06cd-457f-c1c3-5670b87da3a0"
      },
      "source": [
        "biases.shape"
      ],
      "execution_count": 48,
      "outputs": [
        {
          "output_type": "execute_result",
          "data": {
            "text/plain": [
              "(512,)"
            ]
          },
          "metadata": {
            "tags": []
          },
          "execution_count": 48
        }
      ]
    },
    {
      "cell_type": "markdown",
      "metadata": {
        "id": "8XJp0iKf3ZgK",
        "colab_type": "text"
      },
      "source": [
        "## মডেলের টেন্সর-ফ্লো লাইট ভার্সন \n",
        "\n",
        "(১২ তম চ্যাপ্টারে আলাপ হয়েছে)\n",
        "\n",
        "আচ্ছা, কেমন হয় আমরা যদি এই মডেলকে আমাদের মোবাইলে অথবা রাস্পবেরি পাইয়ের ওপর চালাতে চাই? অথবা আমাদের যেকোন অ্যাপে? অন্য কোন এমবেডিং ডিভাইসে?"
      ]
    },
    {
      "cell_type": "code",
      "metadata": {
        "id": "Yz10p6fZ32H0",
        "colab_type": "code",
        "outputId": "5ee0934b-1fef-443e-8edf-3ff7dfb11142",
        "colab": {
          "base_uri": "https://localhost:8080/",
          "height": 107
        }
      },
      "source": [
        "export_dir = 'saved_model/1'\n",
        "tf.saved_model.save(model, export_dir)"
      ],
      "execution_count": 49,
      "outputs": [
        {
          "output_type": "stream",
          "text": [
            "WARNING:tensorflow:From /tensorflow-2.1.0/python3.6/tensorflow_core/python/ops/resource_variable_ops.py:1786: calling BaseResourceVariable.__init__ (from tensorflow.python.ops.resource_variable_ops) with constraint is deprecated and will be removed in a future version.\n",
            "Instructions for updating:\n",
            "If using Keras pass *_constraint arguments to layers.\n",
            "INFO:tensorflow:Assets written to: saved_model/1/assets\n"
          ],
          "name": "stdout"
        }
      ]
    },
    {
      "cell_type": "markdown",
      "metadata": {
        "id": "4EwpGAVV44L3",
        "colab_type": "text"
      },
      "source": [
        "## মডেলকে কনভার্ট করি "
      ]
    },
    {
      "cell_type": "code",
      "metadata": {
        "id": "CYUXcrXW49Uw",
        "colab_type": "code",
        "colab": {}
      },
      "source": [
        "# Convert the model.\n",
        "converter = tf.lite.TFLiteConverter.from_saved_model(export_dir)\n",
        "tflite_model = converter.convert()"
      ],
      "execution_count": 0,
      "outputs": []
    },
    {
      "cell_type": "code",
      "metadata": {
        "id": "g_hStTIy5yM3",
        "colab_type": "code",
        "colab": {}
      },
      "source": [
        "tflite_model_file = 'model.tflite'\n",
        "\n",
        "with open(tflite_model_file, \"wb\") as f:\n",
        "  f.write(tflite_model)"
      ],
      "execution_count": 0,
      "outputs": []
    },
    {
      "cell_type": "markdown",
      "metadata": {
        "id": "NAW1ApRSxA-0",
        "colab_type": "text"
      },
      "source": [
        "মনে আছে আমাদের ক্লাসের কথা? পেছনে দেখুন। তৈরি করি দরকারি labels.txt ফাইল।"
      ]
    },
    {
      "cell_type": "code",
      "metadata": {
        "id": "fRs2bN5vxuhn",
        "colab_type": "code",
        "colab": {}
      },
      "source": [
        "with open('labels.txt', 'w') as f:\n",
        "  f.write('\\n'.join(class_names))"
      ],
      "execution_count": 0,
      "outputs": []
    },
    {
      "cell_type": "markdown",
      "metadata": {
        "id": "nWHUnQAU6WSb",
        "colab_type": "text"
      },
      "source": [
        "## মডেলকে ডাউনলোড করে রাখি\n",
        "\n",
        "আমাদের দরকার দুটো ফাইল। tflite_model_file এবং labels.txt। "
      ]
    },
    {
      "cell_type": "code",
      "metadata": {
        "id": "0mFUwJME6FVx",
        "colab_type": "code",
        "colab": {}
      },
      "source": [
        "try:\n",
        "  from google.colab import files\n",
        "\n",
        "  files.download(tflite_model_file)\n",
        "  files.download('labels.txt')\n",
        "except:\n",
        "  pass"
      ],
      "execution_count": 0,
      "outputs": []
    },
    {
      "cell_type": "markdown",
      "metadata": {
        "id": "WEM5sDSXznyR",
        "colab_type": "text"
      },
      "source": [
        "এদুটো ফাইল লাগবে সামনে মোবাইল অ্যাপ তৈরি করতে।"
      ]
    },
    {
      "cell_type": "markdown",
      "metadata": {
        "id": "MIv5RyKyK6ld",
        "colab_type": "text"
      },
      "source": [
        "## টেন্সর-ফ্লো এর ডেটাসেট এপিআই\n",
        "\n",
        "টেন্সর-ফ্লো ২ থেকে আমরা চেষ্টা করবো tf.data এপিআই ব্যবহার করতে tf.keras এর সাথে। সাইকিট লার্নের মতো আগে থেকে দেয়া ডেটাসেটের সাথে এই tf.data.Dataset ব্যবহার করলে ম্যাপ কল দিয়ে ইমেজ অগমেন্টেশন (এই বইয়ের বাইরে) থেকে শুরু করে অনেককিছুই একবারে করা সম্ভব।\n",
        "\n",
        "আমাদের tfds.load সঙ্গে সঙ্গে ডেটা ডাউনলোড করে ট্রেইন এবং টেস্ট ভাগ করে দেবে আগের উদাহরণের কেরাসের মতো। তবে এখানে ডেটাটাইপটা একটু ভিন্ন। ডেটাসেট বিল্ডার হিসেবে tfds.load অনেক অপারেশন সহজ করে দেবে দরকার মতো।"
      ]
    },
    {
      "cell_type": "code",
      "metadata": {
        "colab_type": "code",
        "id": "KHk65KPszsD0",
        "colab": {}
      },
      "source": [
        "# আমরা আমরা এভাবেও চেষ্টা করতে পারি, টেন্সর-ফ্লো এর ডেটাসেট এপিআই দিয়ে\n",
        "# সামনে আমরা এটা নিয়ে বড় আলাপ করবো, তবে এখানে একটু পরীক্ষা করতে ক্ষতি কি? \n",
        "# tfds হচ্ছে টেন্সর ফ্লোতে প্র্যাকটিস করার জন্য তৈরি করা ডেটাসেট, সাইকিট লার্নে যেভাবে দেখেছিলাম\n",
        "\n",
        "import tensorflow_datasets as tfds\n",
        "train, test = tfds.load(\"fashion_mnist\", as_supervised=True)"
      ],
      "execution_count": 0,
      "outputs": []
    },
    {
      "cell_type": "markdown",
      "metadata": {
        "id": "LF9vWscp3eTz",
        "colab_type": "text"
      },
      "source": [
        "টেন্সর-ফ্লো ডেটাসেট নিয়ে কাজ করলে স্প্লিটিং এ সুবিধা অনেক। এ ব্যাপারগুলোকে tfds.Split অবজেক্ট ব্যবহার করে ডিফাইন করা যায়। ডিফল্ট হিসেবে ৬০০০০ ট্রেইন অবজেক্ট এবং ১০০০০ টেস্ট অবজেক্ট স্প্লিট এর জন্য tfds.Split.TRAIN এবং tfds.Split.TEST অবজেক্ট ব্যবহার করা যায়। পাশাপাশি অনেকে ভ্যালিডেশন অবজেক্টের জন্য tfds.Split.VALID ব্যবহার করেন।"
      ]
    },
    {
      "cell_type": "code",
      "metadata": {
        "id": "GSQQJbxNFY4V",
        "colab_type": "code",
        "colab": {}
      },
      "source": [
        "# শুধুমাত্র টেস্ট করার জন্য\n",
        "\n",
        "# train_half_1, train_half_2 = tfds.Split.TRAIN.subsplit(2)\n",
        "# test1, test2, test3, test4 = tfds.Split.TEST.subsplit(4)\n",
        "\n",
        "# train_first_half = tfds.load(\"fashion-mnist\", split=train_half_1)\n",
        "# test_second_quarter = tfds.load(\"fashion-mnist\", split=test2)\n",
        "\n",
        "# আচ্ছা শতাংশ হিসেবে কি স্প্লিট করা যায়?\n",
        "# first_10_percent = tfds.Split.TRAIN.subsplit(tfds.percent[:10])\n",
        "\n",
        "# আচ্ছা, দুটো স্প্লিটকে যোগ করা যায়?\n",
        "# train_and_test = tfds.Split.TRAIN + tfds.Split.TEST"
      ],
      "execution_count": 0,
      "outputs": []
    },
    {
      "cell_type": "markdown",
      "metadata": {
        "id": "ap4onKAhFiLA",
        "colab_type": "text"
      },
      "source": [
        "আরেকটা জিনিস দেখা যায়। tfds.builder দিয়ে।"
      ]
    },
    {
      "cell_type": "code",
      "metadata": {
        "id": "VDB8zhQsFoIP",
        "colab_type": "code",
        "outputId": "ba1125bc-7920-488e-a849-baed7ba2fd96",
        "colab": {
          "base_uri": "https://localhost:8080/",
          "height": 661
        }
      },
      "source": [
        "mnist_builder = tfds.builder(\"fashion_mnist\")\n",
        "mnist_builder.download_and_prepare()\n",
        "mnist_data = mnist_builder.as_dataset(split = tfds.Split.TRAIN)\n",
        "info = mnist_builder.info\n",
        "\n",
        "# নামপাই অ্যারে দিয়ে\n",
        "np_mnist_data = tfds.as_numpy(mnist_data)\n",
        "\n",
        "print(mnist_data)\n",
        "\n",
        "print(np_mnist_data)\n",
        "\n",
        "print(info)"
      ],
      "execution_count": 56,
      "outputs": [
        {
          "output_type": "stream",
          "text": [
            "<_OptionsDataset shapes: {image: (28, 28, 1), label: ()}, types: {image: tf.uint8, label: tf.int64}>\n",
            "<generator object _eager_dataset_iterator at 0x7ff319e54728>\n",
            "tfds.core.DatasetInfo(\n",
            "    name='fashion_mnist',\n",
            "    version=1.0.0,\n",
            "    description='Fashion-MNIST is a dataset of Zalando's article images consisting of a training set of 60,000 examples and a test set of 10,000 examples. Each example is a 28x28 grayscale image, associated with a label from 10 classes.',\n",
            "    homepage='https://github.com/zalandoresearch/fashion-mnist',\n",
            "    features=FeaturesDict({\n",
            "        'image': Image(shape=(28, 28, 1), dtype=tf.uint8),\n",
            "        'label': ClassLabel(shape=(), dtype=tf.int64, num_classes=10),\n",
            "    }),\n",
            "    total_num_examples=70000,\n",
            "    splits={\n",
            "        'test': 10000,\n",
            "        'train': 60000,\n",
            "    },\n",
            "    supervised_keys=('image', 'label'),\n",
            "    citation=\"\"\"@article{DBLP:journals/corr/abs-1708-07747,\n",
            "      author    = {Han Xiao and\n",
            "                   Kashif Rasul and\n",
            "                   Roland Vollgraf},\n",
            "      title     = {Fashion-MNIST: a Novel Image Dataset for Benchmarking Machine Learning\n",
            "                   Algorithms},\n",
            "      journal   = {CoRR},\n",
            "      volume    = {abs/1708.07747},\n",
            "      year      = {2017},\n",
            "      url       = {http://arxiv.org/abs/1708.07747},\n",
            "      archivePrefix = {arXiv},\n",
            "      eprint    = {1708.07747},\n",
            "      timestamp = {Mon, 13 Aug 2018 16:47:27 +0200},\n",
            "      biburl    = {https://dblp.org/rec/bib/journals/corr/abs-1708-07747},\n",
            "      bibsource = {dblp computer science bibliography, https://dblp.org}\n",
            "    }\"\"\",\n",
            "    redistribution_info=,\n",
            ")\n",
            "\n"
          ],
          "name": "stdout"
        }
      ]
    },
    {
      "cell_type": "markdown",
      "metadata": {
        "id": "zk0lZNEM_fqP",
        "colab_type": "text"
      },
      "source": [
        "## ডেটাসেটে কি আছে?"
      ]
    },
    {
      "cell_type": "code",
      "metadata": {
        "id": "QRCpuGxXFyfM",
        "colab_type": "code",
        "colab": {}
      },
      "source": [
        "# ফিচার ডিকশনারি দেখার জন্য\n",
        "for features in mnist_data.take(1):\n",
        "    image, label = features[\"image\"], features[\"label\"]"
      ],
      "execution_count": 0,
      "outputs": []
    },
    {
      "cell_type": "code",
      "metadata": {
        "id": "H2KJYTRVHQD-",
        "colab_type": "code",
        "colab": {}
      },
      "source": [
        "# অথবা numpy দিয়ে\n",
        "for features in tfds.as_numpy(mnist_data):\n",
        "    image, label = features[\"image\"], features[\"label\"]"
      ],
      "execution_count": 0,
      "outputs": []
    },
    {
      "cell_type": "code",
      "metadata": {
        "id": "2nR3huz8HWlP",
        "colab_type": "code",
        "outputId": "ba2db1f7-f51c-4bcb-b192-e70cf1a89b52",
        "colab": {
          "base_uri": "https://localhost:8080/",
          "height": 283
        }
      },
      "source": [
        "plt.imshow(image[:, :, 0].astype(np.float32), \n",
        "           cmap = plt.get_cmap(\"gray\"))\n",
        "print(\"Label: %d\" % label)"
      ],
      "execution_count": 59,
      "outputs": [
        {
          "output_type": "stream",
          "text": [
            "Label: 9\n"
          ],
          "name": "stdout"
        },
        {
          "output_type": "display_data",
          "data": {
            "image/png": "[encoded data removed]",
            "text/plain": [
              "<Figure size 432x288 with 1 Axes>"
            ]
          },
          "metadata": {
            "tags": []
          }
        }
      ]
    }
  ]
}